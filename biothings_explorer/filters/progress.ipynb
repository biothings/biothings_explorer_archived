{
 "cells": [
  {
   "cell_type": "code",
   "execution_count": 1,
   "metadata": {},
   "outputs": [],
   "source": [
    "from biothings_explorer.user_query_dispatcher import SingleEdgeQueryDispatcher\n",
    "import numpy as np\n",
    "import pandas as pd\n",
    "import networkx as nx"
   ]
  },
  {
   "cell_type": "code",
   "execution_count": 2,
   "metadata": {},
   "outputs": [],
   "source": [
    "seqd = SingleEdgeQueryDispatcher(input_cls='Gene',\n",
    "                                 output_cls='ChemicalSubstance',\n",
    "                                 input_id='NCBIGene',\n",
    "                                 values='1017')"
   ]
  },
  {
   "cell_type": "code",
   "execution_count": 3,
   "metadata": {
    "scrolled": true
   },
   "outputs": [
    {
     "name": "stdout",
     "output_type": "stream",
     "text": [
      "==== Step #1: Query path planning ====\n",
      "\n",
      "Because NCBIGene:1017 is of type 'Gene', BTE will query our meta-KG for APIs that can take 'Gene' as input and 'ChemicalSubstance' as output\n",
      "\n",
      "BTE found 10 apis:\n",
      "\n",
      "API 1. pharos(1 API call)\n",
      "API 2. hmdb(1 API call)\n",
      "API 3. opentarget(1 API call)\n",
      "API 4. mychem(3 API calls)\n",
      "API 5. cord_gene(1 API call)\n",
      "API 6. chembio(1 API call)\n",
      "API 7. scigraph(1 API call)\n",
      "API 8. dgidb(1 API call)\n",
      "API 9. semmed_gene(10 API calls)\n",
      "API 10. scibite(1 API call)\n",
      "\n",
      "\n",
      "==== Step #2: Query path execution ====\n",
      "NOTE: API requests are dispatched in parallel, so the list of APIs below is ordered by query time.\n",
      "\n",
      "API 2.1: https://platform-api.opentargets.io/v3/platform/public/evidence/filter?target=ENSG00000123374&datasource=chembl&size=100&fields=drug\n",
      "API 9.1: https://biothings.ncats.io/semmedgene/query?fields=negatively_regulates (POST -d q=C0108855,C1332733&scopes=umls)\n",
      "API 9.2: https://biothings.ncats.io/semmedgene/query?fields=physically_interacts_with (POST -d q=C0108855,C1332733&scopes=umls)\n",
      "API 3.1: https://biothings.ncats.io/cord_gene/query?fields=associated_with (POST -d q=1771&scopes=hgnc)\n",
      "API 5.1: https://mychem.info/v1/query?fields=drugbank.id&size=250 (POST -d q=CDK2&scopes=drugbank.targets.gene_name)\n",
      "API 9.7: https://biothings.ncats.io/semmedgene/query?fields=negatively_regulated_by (POST -d q=C0108855,C1332733&scopes=umls)\n",
      "API 9.4: https://biothings.ncats.io/semmedgene/query?fields=affected_by (POST -d q=C0108855,C1332733&scopes=umls)\n",
      "API 9.3: https://biothings.ncats.io/semmedgene/query?fields=affects (POST -d q=C0108855,C1332733&scopes=umls)\n",
      "API 5.2: https://mychem.info/v1/query?fields=drugbank.id&size=250 (POST -d q=CDK2&scopes=drugbank.enzymes.gene_name)\n",
      "API 9.8: https://biothings.ncats.io/semmedgene/query?fields=disrupts (POST -d q=C0108855,C1332733&scopes=umls)\n",
      "API 9.9: https://biothings.ncats.io/semmedgene/query?fields=disrupted_by (POST -d q=C0108855,C1332733&scopes=umls)\n",
      "API 9.6: https://biothings.ncats.io/semmedgene/query?fields=positively_regulated_by (POST -d q=C0108855,C1332733&scopes=umls)\n",
      "API 9.10: https://biothings.ncats.io/semmedgene/query?fields=positively_regulates (POST -d q=C0108855,C1332733&scopes=umls)\n",
      "API 9.5: https://biothings.ncats.io/semmedgene/query?fields=related_to (POST -d q=C0108855,C1332733&scopes=umls)\n",
      "API 5.3: https://mychem.info/v1/query?fields=chembl.molecule_chembl_id&size=250 (POST -d q=CDK2&scopes=drugcentral.bioactivity.uniprot.gene_symbol)\n",
      "API 10.1: https://automat.renci.org/cord19_scibite_v2/gene/chemical_substance/NCBIGene:1017\n",
      "API 8.1: https://automat.renci.org/hmdb/gene/chemical_substance/NCBIGene:1017\n",
      "API 6.1: https://automat.renci.org/cord19_scigraph_v2/gene/chemical_substance/NCBIGene:1017\n",
      "API 4.1: https://automat.renci.org/chembio/gene/chemical_substance/NCBIGene:1017\n",
      "API 1.1: https://automat.renci.org/pharos/gene/chemical_substance/NCBIGene:1017\n",
      "API 7.1: http://dgidb.genome.wustl.edu/api/v2/interactions.json?genes=CDK2\n",
      "\n",
      "\n",
      "==== Step #3: Output normalization ====\n",
      "\n",
      "API 2.1 opentarget: 100 hits\n",
      "API 10.1 scibite: 3 hits\n",
      "API 9.1 semmed_gene: 14 hits\n",
      "API 9.2 semmed_gene: 112 hits\n",
      "API 9.3 semmed_gene: No hits\n",
      "API 9.4 semmed_gene: No hits\n",
      "API 6.1 scigraph: 7 hits\n",
      "API 9.5 semmed_gene: No hits\n",
      "API 7.1 dgidb: 142 hits\n",
      "API 9.6 semmed_gene: 75 hits\n",
      "API 5.1 mychem: 136 hits\n",
      "API 3.1 cord_gene: 13 hits\n",
      "API 9.7 semmed_gene: 186 hits\n",
      "API 1.1 pharos: 390 hits\n",
      "API 9.8 semmed_gene: No hits\n",
      "API 4.1 chembio: 17 hits\n",
      "API 5.2 mychem: No hits\n",
      "API 9.9 semmed_gene: No hits\n",
      "API 8.1 hmdb: 1 hits\n",
      "API 5.3 mychem: 6 hits\n",
      "API 9.10 semmed_gene: 13 hits\n",
      "\n",
      "After id-to-object translation, BTE retrieved 858 unique objects.\n"
     ]
    }
   ],
   "source": [
    "seqd.query(verbose=True)"
   ]
  },
  {
   "cell_type": "code",
   "execution_count": 11,
   "metadata": {},
   "outputs": [
    {
     "data": {
      "text/plain": [
       "'Gene'"
      ]
     },
     "execution_count": 11,
     "metadata": {},
     "output_type": "execute_result"
    }
   ],
   "source": [
    "seqd.input_cls"
   ]
  },
  {
   "cell_type": "code",
   "execution_count": 12,
   "metadata": {},
   "outputs": [
    {
     "name": "stdout",
     "output_type": "stream",
     "text": [
      "1215\n"
     ]
    }
   ],
   "source": [
    "print(seqd.G.number_of_edges())"
   ]
  },
  {
   "cell_type": "code",
   "execution_count": 46,
   "metadata": {},
   "outputs": [
    {
     "name": "stdout",
     "output_type": "stream",
     "text": [
      "NCBIGene:1017 1215 0\n",
      "CHEMBL1197513 1 1\n",
      "CHEBI:52214 1 1\n",
      "CHEBI:36080 1 1\n",
      "CHEBI:33252 1 1\n",
      "CHEBI:35222 2 2\n",
      "CHEMBL2163995 1 1\n",
      "CHEMBL1964246 1 1\n",
      "CHEMBL213713 1 1\n",
      "CHEMBL272833 1 1\n",
      "CHEMBL259838 1 1\n",
      "CHEMBL257831 1 1\n",
      "CHEMBL3354187 1 1\n",
      "CHEMBL1964244 1 1\n",
      "CHEMBL455195 1 1\n",
      "CHEMBL405145 1 1\n",
      "CHEMBL1964259 1 1\n",
      "CHEMBL1761791 1 1\n",
      "CHEMBL3642647 1 1\n",
      "CHEMBL411426 1 1\n",
      "CHEMBL3655765 1 1\n",
      "CHEMBL3298984 1 1\n",
      "CHEMBL79498 1 1\n",
      "CHEMBL255463 1 1\n",
      "CHEMBL485618 1 1\n",
      "CHEMBL181114 1 1\n",
      "CHEMBL424696 1 1\n",
      "CHEMBL186288 1 1\n",
      "CHEMBL488085 1 1\n",
      "CHEMBL265903 1 1\n",
      "CHEMBL415471 1 1\n",
      "CHEMBL215086 1 1\n",
      "CHEMBL496785 1 1\n",
      "CHEMBL1171949 1 1\n",
      "CHEMBL2158843 1 1\n",
      "CHEMBL1964242 1 1\n",
      "CHEMBL103285 1 1\n",
      "CHEMBL295484 1 1\n",
      "CHEMBL3357950 1 1\n",
      "CHEMBL291324 1 1\n",
      "CHEMBL79356 1 1\n",
      "CHEMBL515001 1 1\n",
      "CHEMBL260163 1 1\n",
      "CHEMBL268507 1 1\n",
      "CHEMBL255263 1 1\n",
      "CHEMBL485619 1 1\n",
      "CHEMBL3648117 1 1\n",
      "CHEMBL520187 1 1\n",
      "CHEMBL361833 1 1\n",
      "CHEMBL476993 1 1\n",
      "CHEMBL3644022 1 1\n",
      "CHEMBL1964260 1 1\n",
      "CHEMBL3648114 1 1\n",
      "CHEMBL603097 1 1\n",
      "CHEMBL509012 1 1\n",
      "CHEMBL3648123 1 1\n",
      "CHEMBL187750 1 1\n",
      "CHEMBL260103 1 1\n",
      "CHEMBL178179 1 1\n",
      "CHEMBL216126 1 1\n",
      "CHEMBL497564 1 1\n",
      "CHEMBL103355 1 1\n",
      "CHEMBL496567 1 1\n",
      "CHEMBL3648121 1 1\n",
      "CHEMBL3648073 1 1\n",
      "CHEMBL3648096 1 1\n",
      "CHEMBL2064555 1 1\n",
      "CHEMBL1276446 1 1\n",
      "CHEMBL271953 1 1\n",
      "CHEMBL484738 1 1\n",
      "CHEMBL3298678 1 1\n",
      "CHEMBL3648102 1 1\n",
      "CHEMBL453629 1 1\n",
      "CHEMBL3648093 1 1\n",
      "CHEMBL3099763 1 1\n",
      "CHEMBL3648107 1 1\n",
      "CHEMBL3648128 1 1\n",
      "CHEMBL79364 1 1\n",
      "CHEMBL455467 1 1\n",
      "CHEMBL2035044 1 1\n",
      "CHEMBL362560 1 1\n",
      "CHEMBL2158858 1 1\n",
      "CHEMBL3644024 1 1\n",
      "CHEMBL490480 1 1\n",
      "CHEMBL254979 1 1\n",
      "CHEMBL454645 1 1\n",
      "CHEMBL3648084 1 1\n",
      "CHEMBL3648110 1 1\n",
      "CHEMBL3648120 1 1\n",
      "CHEMBL3099753 1 1\n",
      "CHEMBL1241849 1 1\n",
      "CHEMBL434337 1 1\n",
      "CHEMBL360573 1 1\n",
      "CHEMBL255932 1 1\n",
      "CHEMBL180814 1 1\n",
      "CHEMBL3648119 1 1\n",
      "CHEMBL3648104 1 1\n",
      "CHEMBL3648106 1 1\n",
      "CHEMBL445945 1 1\n",
      "CHEMBL189455 1 1\n",
      "CHEMBL83775 1 1\n",
      "CHEMBL215803 2 2\n",
      "CHEMBL269882 1 1\n",
      "CHEMBL273060 1 1\n",
      "CHEMBL3357951 1 1\n",
      "CHEMBL1171950 1 1\n",
      "CHEMBL1964258 1 1\n",
      "CHEMBL409731 1 1\n",
      "CHEMBL3642649 1 1\n",
      "CHEMBL1964247 1 1\n",
      "CHEMBL3648112 1 1\n",
      "CHEMBL1080893 1 1\n",
      "CHEMBL514913 1 1\n",
      "CHEMBL1171948 1 1\n",
      "CHEMBL3644026 1 1\n",
      "CHEMBL432491 1 1\n",
      "CHEMBL3298309 1 1\n",
      "CHEMBL385733 1 1\n",
      "CHEMBL402759 1 1\n",
      "CHEMBL3655764 1 1\n",
      "CHEMBL72548 1 1\n",
      "CHEMBL254170 1 1\n",
      "CHEMBL1964251 1 1\n",
      "CHEMBL3648113 1 1\n",
      "CHEMBL73243 1 1\n",
      "CHEMBL1964256 1 1\n",
      "CHEMBL311464 1 1\n",
      "CHEMBL462385 1 1\n",
      "CHEMBL186680 1 1\n",
      "CHEMBL188938 1 1\n",
      "CHEMBL311992 1 1\n",
      "CHEMBL520353 1 1\n",
      "CHEMBL3644032 1 1\n",
      "CHEMBL401303 1 1\n",
      "CHEMBL409868 1 1\n",
      "CHEMBL429142 1 1\n",
      "CHEMBL515839 1 1\n",
      "CHEMBL3298985 1 1\n",
      "CHEMBL186708 1 1\n",
      "CHEMBL404504 1 1\n",
      "CHEMBL1964245 1 1\n",
      "CHEMBL456963 1 1\n",
      "CHEMBL560817 1 1\n",
      "CHEMBL319103 1 1\n",
      "CHEMBL508739 1 1\n",
      "CHEMBL364370 1 1\n",
      "CHEMBL272380 1 1\n",
      "CHEMBL3648082 1 1\n",
      "CHEMBL359554 1 1\n",
      "CHEMBL3298414 1 1\n",
      "CHEMBL3648074 1 1\n",
      "CHEMBL487067 1 1\n",
      "CHEMBL271160 1 1\n",
      "CHEMBL453895 1 1\n",
      "CHEMBL178785 1 1\n",
      "CHEMBL403605 1 1\n",
      "CHEMBL1081628 1 1\n",
      "CHEMBL3648111 1 1\n",
      "CHEMBL309573 1 1\n",
      "CHEMBL3648125 1 1\n",
      "CHEMBL526110 1 1\n",
      "CHEMBL460087 1 1\n",
      "CHEMBL485240 1 1\n",
      "CHEMBL556881 1 1\n",
      "CHEMBL1964253 1 1\n",
      "CHEMBL272667 1 1\n",
      "CHEMBL3648126 1 1\n",
      "CHEMBL514197 1 1\n",
      "CHEMBL510578 1 1\n",
      "CHEMBL1964250 1 1\n",
      "CHEMBL317703 1 1\n",
      "CHEMBL407709 1 1\n",
      "CHEMBL272389 1 1\n",
      "CHEMBL58224 1 1\n",
      "CHEMBL186890 1 1\n",
      "CHEMBL509406 1 1\n",
      "CHEMBL3298418 1 1\n",
      "CHEMBL3648095 1 1\n",
      "CHEMBL478407 1 1\n",
      "CHEMBL3644027 1 1\n",
      "CHEMBL481562 1 1\n",
      "CHEMBL102926 1 1\n",
      "CHEMBL3644033 1 1\n",
      "CHEMBL457177 1 1\n",
      "CHEMBL3298310 1 1\n",
      "CHEMBL421578 1 1\n",
      "CHEMBL518826 1 1\n",
      "CHEMBL3648089 1 1\n",
      "CHEMBL2163997 1 1\n",
      "CHEMBL2158845 1 1\n",
      "CHEMBL293068 1 1\n",
      "CHEMBL3648108 1 1\n",
      "CHEMBL489477 1 1\n",
      "CHEMBL487066 1 1\n",
      "CHEMBL484571 1 1\n",
      "CHEMBL3648105 1 1\n",
      "CHEMBL478828 1 1\n",
      "CHEMBL297570 1 1\n",
      "CHEMBL294884 1 1\n",
      "CHEMBL515854 1 1\n",
      "CHEMBL271182 1 1\n",
      "CHEMBL83369 1 1\n",
      "CHEMBL559845 1 1\n",
      "CHEMBL188665 1 1\n",
      "CHEMBL495557 1 1\n",
      "CHEMBL3648115 1 1\n",
      "CHEMBL402157 1 1\n",
      "CHEMBL411425 1 1\n",
      "CHEMBL476518 1 1\n",
      "CHEMBL453862 1 1\n",
      "CHEMBL473631 1 1\n",
      "CHEMBL1800464 1 1\n",
      "CHEMBL409690 1 1\n",
      "CHEMBL408210 1 1\n",
      "CHEMBL270132 1 1\n",
      "CHEMBL2426395 1 1\n",
      "CHEMBL452601 1 1\n",
      "CHEMBL442186 1 1\n",
      "CHEMBL565459 1 1\n",
      "CHEMBL3648071 1 1\n",
      "CHEMBL310529 1 1\n",
      "CHEMBL3644034 1 1\n",
      "CHEMBL411887 1 1\n",
      "CHEMBL260417 1 1\n",
      "CHEMBL409104 1 1\n",
      "CHEMBL565137 1 1\n",
      "CHEMBL2158855 1 1\n",
      "CHEMBL402370 1 1\n",
      "CHEMBL2112297 1 1\n",
      "CHEMBL192042 1 1\n",
      "CHEMBL260416 1 1\n",
      "CHEMBL3648127 1 1\n",
      "CHEMBL412097 1 1\n",
      "CHEMBL3642650 1 1\n",
      "CHEMBL367150 1 1\n",
      "CHEMBL3648109 1 1\n",
      "CHEMBL312726 1 1\n",
      "CHEMBL410883 1 1\n",
      "CHEMBL562104 1 1\n",
      "CHEMBL360206 1 1\n",
      "CHEMBL3648072 1 1\n",
      "CHEMBL500804 1 1\n",
      "CHEMBL454648 1 1\n",
      "CHEMBL460103 1 1\n",
      "CHEMBL451462 1 1\n",
      "CHEMBL314397 1 1\n",
      "CHEMBL3648124 1 1\n",
      "CHEMBL192602 1 1\n",
      "CHEMBL186163 1 1\n",
      "CHEMBL1080913 1 1\n",
      "CHEMBL3648078 1 1\n",
      "CHEMBL488257 1 1\n",
      "CHEMBL70824 1 1\n",
      "CHEMBL3644019 1 1\n",
      "CHEMBL1081263 1 1\n",
      "CHEMBL1794054 1 1\n",
      "CHEMBL271952 1 1\n",
      "CHEMBL255262 1 1\n",
      "CHEMBL2158857 1 1\n",
      "CHEMBL559513 1 1\n",
      "CHEMBL1081295 1 1\n",
      "CHEMBL3644021 1 1\n",
      "CHEMBL365229 1 1\n",
      "CHEMBL185971 1 1\n",
      "CHEMBL1207227 1 1\n",
      "CHEMBL515311 1 1\n",
      "CHEMBL186101 1 1\n",
      "CHEMBL462192 1 1\n",
      "CHEMBL485431 1 1\n",
      "CHEMBL194721 1 1\n",
      "CHEMBL271136 1 1\n",
      "CHEMBL427909 1 1\n",
      "CHEMBL272684 1 1\n",
      "CHEMBL256558 1 1\n",
      "CHEMBL452602 1 1\n",
      "CHEMBL255718 1 1\n",
      "CHEMBL411490 1 1\n",
      "CHEMBL1800449 1 1\n",
      "CHEMBL3648103 1 1\n",
      "CHEMBL319903 1 1\n",
      "CHEMBL490481 1 1\n",
      "CHEMBL359794 1 1\n",
      "CHEMBL184510 1 1\n",
      "CHEMBL254367 1 1\n",
      "CHEMBL2426394 1 1\n",
      "CHEMBL3354186 1 1\n",
      "CHEMBL3642648 1 1\n",
      "CHEMBL309767 1 1\n",
      "CHEMBL103382 1 1\n",
      "CHEMBL1964249 1 1\n",
      "CHEMBL411886 1 1\n",
      "CHEMBL3642646 1 1\n",
      "CHEMBL415789 1 1\n",
      "CHEMBL3648092 1 1\n",
      "CHEMBL272668 1 1\n",
      "CHEMBL477785 1 1\n",
      "CHEMBL508129 1 1\n",
      "CHEMBL412091 1 1\n",
      "CHEMBL563641 1 1\n",
      "CHEMBL3823659 1 1\n",
      "CHEMBL488084 1 1\n",
      "CHEMBL3648087 1 1\n",
      "CHEMBL411865 1 1\n",
      "CHEMBL3648118 1 1\n",
      "CHEMBL391229 1 1\n",
      "CHEMBL321517 1 1\n",
      "CHEMBL318999 1 1\n",
      "CHEMBL3648076 1 1\n",
      "CHEMBL3644023 1 1\n",
      "CHEMBL1241567 1 1\n",
      "CHEMBL455194 1 1\n",
      "CHEMBL560818 1 1\n",
      "CHEMBL191834 1 1\n",
      "CHEMBL523735 1 1\n",
      "CHEMBL307808 1 1\n",
      "CHEMBL178769 1 1\n",
      "CHEMBL476577 1 1\n",
      "CHEMBL3298982 1 1\n",
      "CHEMBL3648085 1 1\n",
      "CHEMBL453655 1 1\n",
      "CHEMBL402158 1 1\n",
      "CHEMBL514690 1 1\n",
      "CHEMBL457979 1 1\n",
      "CHEMBL478241 1 1\n",
      "CHEMBL510436 1 1\n",
      "CHEMBL319685 1 1\n",
      "CHEMBL1080911 1 1\n",
      "CHEMBL3648083 1 1\n",
      "CHEMBL3644028 1 1\n",
      "CHEMBL3639469 1 1\n",
      "CHEMBL190446 1 1\n",
      "CHEMBL3298199 1 1\n",
      "CHEMBL114917 1 1\n",
      "CHEMBL3421973 1 1\n",
      "CHEMBL3648116 1 1\n",
      "CHEMBL60541 1 1\n",
      "CHEMBL2163996 1 1\n",
      "CHEMBL411224 1 1\n",
      "CHEMBL1964257 1 1\n",
      "CHEMBL2158844 1 1\n",
      "CHEMBL1964255 1 1\n",
      "CHEMBL3648122 1 1\n",
      "CHEMBL272217 1 1\n",
      "CHEMBL495558 1 1\n",
      "CHEMBL72509 1 1\n",
      "CHEMBL3648094 1 1\n",
      "CHEMBL491447 1 1\n",
      "CHEBI:24360 1 1\n",
      "CHEBI:5921 1 1\n",
      "C1328819 3 3\n",
      "C0034760 1 1\n",
      "C0220806 1 1\n",
      "C0304497 1 1\n",
      "C0444626 2 2\n",
      "C0567415 1 1\n",
      "C0599473 1 1\n",
      "C0678518 1 1\n",
      "C0001128 1 1\n",
      "C0086860 1 1\n",
      "C0280038 2 2\n",
      "C0597667 1 1\n",
      "C0699857 1 1\n",
      "C1171350 2 2\n",
      "C1513403 1 1\n",
      "C0060549 1 1\n",
      "C0115471 1 1\n",
      "C1443775 1 1\n",
      "C1507317 1 1\n",
      "C1519315 1 1\n",
      "C0178525 2 2\n",
      "C0596431 1 1\n",
      "C0682957 1 1\n",
      "C0702172 1 1\n",
      "C0939261 1 1\n",
      "C0243077 2 2\n",
      "C0450442 1 1\n",
      "C0243071 1 1\n",
      "C0303231 1 1\n",
      "C1441025 2 2\n",
      "C1513344 1 1\n",
      "CHEMBL1802728 1 1\n",
      "CHEMBL1082552 1 1\n",
      "CHEMBL173682 1 1\n",
      "CHEBI:35224 1 1\n",
      "DINACICLIB 11 11\n",
      "ALVOCIDIB 38 38\n",
      "RONICICLIB 7 7\n",
      "UCN-01 30 30\n",
      "MILCICLIB 5 5\n",
      "AT-7519 7 7\n",
      "SELICICLIB 9 9\n",
      "AG-24322 2 2\n",
      "BMS-387032 5 5\n",
      "AZD-5438 2 2\n",
      "RGB-286638 2 2\n",
      "ZOTIRACICLIB 2 2\n",
      "LACTACYSTIN 1 1\n",
      "LYCORINE 1 1\n",
      "THYMIDINE 1 1\n",
      "PROPIDIUM 1 1\n",
      "NOCODAZOLE 1 1\n",
      "2-METHYL-5-(4-METHYLANILINO)-1,3-BENZOTHIAZOLE-4,7-DIONE 1 1\n",
      "2-[[6-(3-CHLOROANILINO)-9-PROPAN-2-YL-2-PURINYL]AMINO]-3-METHYL-1-BUTANOL 1 1\n",
      "N5-(6-AMINOHEXYL)-N7-(PHENYLMETHYL)-3-PROPAN-2-YLPYRAZOLO[1,5-A]PYRIMIDINE-5,7-DIAMINE 1 1\n",
      "4-[2-(2-CHLORO-4-FLUOROANILINO)-5-METHYL-4-PYRIMIDINYL]-N-[(1S)-1-(3-CHLOROPHENYL)-2-HYDROXYETHYL]-1H-PYRROLE-2-CARBOXAMIDE 1 1\n",
      "PURVALANOL 3 3\n",
      "1,4-DIMETHOXY-10H-ACRIDINE-9-THIONE 1 1\n",
      "N-[3-[[5-BROMO-4-[2-(1H-IMIDAZOL-5-YL)ETHYLAMINO]-2-PYRIMIDINYL]AMINO]PHENYL]-1-PYRROLIDINECARBOXAMIDE 1 1\n",
      "N-[3-[[5-IODO-4-[3-[[OXO(THIOPHEN-2-YL)METHYL]AMINO]PROPYLAMINO]-2-PYRIMIDINYL]AMINO]PHENYL]-1-PYRROLIDINECARBOXAMIDE 1 1\n",
      "4-[[5-AMINO-1-[(2,6-DIFLUOROPHENYL)-OXOMETHYL]-1,2,4-TRIAZOL-3-YL]AMINO]BENZENESULFONAMIDE 1 1\n",
      "ALSTERPAULLONE 1 1\n",
      "OLOMOUCINE 12 12\n",
      "6-BROMO-3-(1-METHYL-4-PYRAZOLYL)-5-(3-PIPERIDINYL)-7-PYRAZOLO[1,5-A]PYRIMIDINAMINE 1 1\n",
      "2-{4-[4-({4-[2-METHYL-1-(1-METHYLETHYL)-1H-IMIDAZOL-5-YL]PYRIMIDIN-2-YL}AMINO)PHENYL]PIPERAZIN-1-YL}-2-OXOETHANOL 3 3\n",
      "GW416981X 1 1\n",
      "GW778894X 1 1\n",
      "GW805758X 1 1\n",
      "[4-(2-AMINO-4-METHYL-THIAZOL-5-YL)-PYRIMIDIN-2-YL]-(3-NITRO-PHENYL)-AMINE 3 3\n",
      "3-{[(2,2-DIOXIDO-1,3-DIHYDRO-2-BENZOTHIEN-5-YL)AMINO]METHYLENE}-5-(1,3-OXAZOL-5-YL)-1,3-DIHYDRO-2H-INDOL-2-ONE 3 3\n",
      "4-[(4-IMIDAZO[1,2-A]PYRIDIN-3-YLPYRIMIDIN-2-YL)AMINO]BENZENESULFONAMIDE 3 3\n",
      "GW290597X 1 1\n",
      "PYRAZOLOPYRIDAZINE 1 1 1\n",
      "GW396574X 1 1\n",
      "O6-CYCLOHEXYLMETHOXY-2-(4'-SULPHAMOYLANILINO) PURINE 3 3\n",
      "3-BROMO-5-PHENYL-N-(PYRIDIN-4-YLMETHYL)PYRAZOLO[1,5-A]PYRIMIDIN-7-AMINE 3 3\n",
      "GW779439X 1 1\n",
      "4-AMINO-N-(PYRIMIDIN-2-YL)BENZENESULFONAMIDE 3 3\n",
      "5-[(2-AMINOETHYL)AMINO]-6-FLUORO-3-(1H-PYRROL-2-YL)BENZO[CD]INDOL-2(1H)-ONE 3 3\n",
      "R-547 3 3\n",
      "GW297361X 1 1\n",
      "N-METHYL-{4-[2-(7-OXO-6,7-DIHYDRO-8H-[1,3]THIAZOLO[5,4-E]INDOL-8-YLIDENE)HYDRAZINO]PHENYL}METHANESULFONAMIDE 3 3\n",
      "GW589933X 1 1\n",
      "GW276655X 1 1\n",
      "{[(2,6-DIFLUOROPHENYL)CARBONYL]AMINO}-N-(4-FLUOROPHENYL)-1H-PYRAZOLE-3-CARBOXAMIDE 3 3\n",
      "TRILACICLIB 1 1\n",
      "GW831091X 1 1\n",
      "GW300657X 1 1\n",
      "AZD-5597 1 1\n",
      "GW831090X 1 1\n",
      "GW300660X 1 1\n",
      "CYC-065 1 1\n",
      "GW806290X 1 1\n",
      "GW301784X 1 1\n",
      "GW801372X 1 1\n",
      "GW305178X 1 1\n",
      "N-(4-{[(3S)-3-(DIMETHYLAMINO)PYRROLIDIN-1-YL]CARBONYL}PHENYL)-5-FLUORO-4-[2-METHYL-1-(1-METHYLETHYL)-1H-IMIDAZOL-5-YL]PYRIMIDIN-2-AMINE 3 3\n",
      "SU-9516 3 3\n",
      "LUTEOLIN 7-O-(6-O-MALONYL-BETA-D-GLUCOSIDE) 1 1\n",
      "4-(2-OXO-1-PYRROLIDINYL)BENZOIC ACID [2-(2-FURANYLMETHYLAMINO)-2-OXOETHYL] ESTER 1 1\n",
      "CINNABARINIC ACID 1 1\n",
      "MACLURAXANTHONE 1 1\n",
      "ILEXOLIDE A 1 1\n",
      "INDICINE 1 1\n",
      "HOMALINE 1 1\n",
      "N-[(5S,6S,9S)-8-(CYCLOPROPYLMETHYL)-5-METHOXY-3,6,9-TRIMETHYL-2-OXO-11-OXA-3,8-DIAZABICYCLO[10.4.0]HEXADECA-1(12),13,15-TRIEN-14-YL]-3-FLUOROBENZAMIDE 1 1\n",
      "ERIOBOFURAN 1 1\n",
      "DIHYDROANHYDROPODORHIZOL 1 1\n",
      "PSI-RHODOMYRTOXIN 1 1\n",
      "FENOXYPROPAZINE 1 1\n",
      "LEONTIFORMINE 1 1\n",
      "PHENYLHYDRAZINE 1 1\n",
      "(+)-ISOPIPERITENONE 1 1\n",
      "ANDROGENS 4 4\n",
      "BERBERINE 3 3\n",
      "CALCIUM 2 2\n",
      "3-METHYLADENINE DNA 3 3\n",
      "FLAVONES 1 1\n",
      "IMIDAZOLE 1 1\n",
      "MESSENGER RNA 2 2\n",
      "CICAPROST 2 2\n",
      "PAEONOL 1 1\n",
      "PECTENOTOXIN 2 1 1\n",
      "ROSCOVITINE 8 8\n",
      "TNP 470 3 3\n",
      "INTERFERING RNA, SMALL 4 4\n",
      "ALCOHOL 2 2\n",
      "AMINES 1 1\n",
      "CISPLATIN 3 3\n",
      "ELEMENTS 2 2\n",
      "ESTRADIOL 4 4\n",
      "FLUOROURACIL 1 1\n",
      "IONS 1 1\n",
      "LOVASTATIN 3 3\n",
      "MELANIN 1 1\n",
      "OXIMES 1 1\n",
      "PROGESTERONE 1 1\n",
      "REPLICON 1 1\n",
      "TAMOXIFEN 1 1\n",
      "THEOBROMINE 1 1\n",
      "ARTESUNATE 2 2\n",
      "BUFALIN 2 2\n",
      "INDOLE-3-CARBINOL 2 2\n",
      "SIMVASTATIN 3 3\n",
      "STAUROSPORINE 7 7\n",
      "ANTISENSE OLIGONUCLEOTIDES 2 2\n",
      "SODIUM SELENITE 1 1\n",
      "THIOPHOSPHATE 1 1\n",
      "(5R)-5-(4-{[(2R)-6-HYDROXY-2,5,7,8-TETRAMETHYL-3,4-DIHYDRO-2H-CHROMEN-2-YL]METHOXY}BENZYL)-1,3-THIAZOLIDINE-2,4-DIONE 2 2\n",
      "DNA SYNTHESIS INHIBITORS 2 2\n",
      "ONE-STEP DENTIN BONDING SYSTEM 1 1\n",
      "N-PROPYL-4-PHENYL-1,2,3,6-TETRAHYDROPYRIDINE 1 1\n",
      "4,5-DIBROMO-2-PYRROLIC ACID 1 1\n",
      "FASCAPLYSIN 1 1\n",
      "DIHYDRONITIDINE 1 1\n",
      "PYRAZOLOPYRIDINE 2 2\n",
      "DIHYDROXY-VITAMIN D3 1 1\n",
      "MICRORNA 4 4\n",
      "OLOMOUCINE II 1 1\n",
      "NU 6027 3 3\n",
      "AMPHETAMINE 2 2\n",
      "BINDING SITE 3 3\n",
      "CYCLOHEXIMIDE 1 1\n",
      "CYTOSTATIC AGENTS 2 2\n",
      "PHARMACEUTICAL PREPARATIONS 4 4\n",
      "ESTROGEN 3 3\n",
      "GROWTH INHIBITORS 3 3\n",
      "SEPHAROSE 1 1\n",
      "WATER 1 1\n",
      "ORYZALIN 1 1\n",
      "CIS-RESVERATROL 3 3\n",
      "APHIDICOLIN 1 1\n",
      "SECALONIC ACID D 3 3\n",
      "7-EPI-TAXOL 2 2\n",
      "OXYGEN SPECIES, REACTIVE 2 2\n",
      "ANGIOGENESIS INHIBITORS 1 1\n",
      "FLAVONOIDS 2 2\n",
      "1,2-DI-(4-SULFAMIDOPHENYL)-4-BUTYLPYRAZOLIDINE-3,5-DIONE 1 1\n",
      "KENPAULLONE 1 1\n",
      "UCN 01 4 4\n",
      "CYC 202 2 2\n",
      "SNS 032 3 3\n",
      "R ROSCOVITINE 1 1\n",
      "ADENOSINE CYCLIC PHOSPHATE 2 2\n",
      "ANTIMYCIN A 1 1\n",
      "CHEMOTACTIC FACTORS, MACROPHAGE 2 2\n",
      "AREQUIN 1 1\n",
      "CHOLESTEROL 1 1\n",
      "DEOXYCHOLIC ACID 1 1\n",
      "DIOSGENIN 1 1\n",
      "DOXORUBICIN 1 1\n",
      "C10-30 CHOLESTEROL/LANOSTEROL ESTERS 1 1\n",
      "GLUCOCORTICOID 1 1\n",
      "IONOMYCIN 1 1\n",
      "METHOTREXATE 1 1\n",
      "NITRIC OXIDE 1 1\n",
      "PHOSPHATIDYLSERINE 1 1\n",
      "PLASMID 1 1\n",
      "FACTOR, PLATELET ACTIVATING 1 1\n",
      "ALOE VERA LEAF POLYSACCHARIDES 1 1\n",
      "PROGESTIN 2 2\n",
      "SELENIUM 1 1\n",
      "NITROPRUSSIDE 1 1\n",
      "SUCRALFATE 1 1\n",
      "DIETHYL SULFATE 1 1\n",
      "FARNESYL PYROPHOSPHATE 2 2\n",
      "ALOESIN 1 1\n",
      "BUTYRATE, SODIUM 2 2\n",
      "EBROTIDINE 1 1\n",
      "AGONISTS 1 1\n",
      "10-METHYL DOCETAXEL 1 1\n",
      "ALITRETINOIN 1 1\n",
      "TYRPHOSTINS 1 1\n",
      "1,4-DIOXIN 2 2\n",
      "AG 494 1 1\n",
      "U 0126 2 2\n",
      "E 7070 2 2\n",
      "CPG-ODN 1 1\n",
      "AGM 1470 1 1\n",
      "ANTIGEN 1 1\n",
      "ARSENIC 1 1\n",
      "BETA CARBOLINES 1 1\n",
      "BEZAFIBRATE 2 2\n",
      "CAFFEINE 1 1\n",
      "CAPSAICIN 1 1\n",
      "CERAMIDES 1 1\n",
      "AGENTS, CHELATING 1 1\n",
      "CURCUMIN 3 3\n",
      "ANTAGONISTS, ESTROGEN 2 2\n",
      "FLUSPIRILENE 1 1\n",
      ".BETA.-D-GLUCOPYRANOSE 2 2\n",
      "GLYCOGEN 1 1\n",
      "GOLD 1 1\n",
      "HYDRAZONES 1 1\n",
      "INDOMETHACIN 1 1\n",
      "MIFEPRISTONE 1 1\n",
      "MONENSIN 1 1\n",
      "PLATINUM 1 1\n",
      "PRODIGIOSIN 1 1\n",
      "PURINES 2 2\n",
      "PYRIMIDINE 2 2\n",
      "PYRIMIDINES 1 1\n",
      "ROXITHROMYCIN 1 1\n",
      "SOLANINE 1 1\n",
      "ACETATE, TETRADECANOYLPHORBOL 1 1\n",
      "TRETINOIN 1 1\n",
      "PROMOTERS, TUMOR 1 1\n",
      "4-METHOXYAMPHETAMINE 3 3\n",
      "ARTEMISININ 2 2\n",
      "2-(TRIFLUOROMETHOXY)BENZENESULFONAMIDE 1 1\n",
      "CALYCULIN A 1 1\n",
      "CHOLINE PLASMALOGEN 1 1\n",
      "COMPACTIN 1 1\n",
      "CORDYCEPIN 1 1\n",
      "DAIDZEIN 1 1\n",
      "DEHYDROEPIANDROSTERONE SULFATE 1 1\n",
      "EPIGALLOCATECHIN GALLATE 3 3\n",
      "ESCULETIN 1 1\n",
      "FANGCHINOLINE 1 1\n",
      "GNIDIMACRIN 1 1\n",
      "HONOKIOL 2 2\n",
      "KAEMPFEROL 1 1\n",
      "LUTEOLIN 1 1\n",
      "MORIN 1 1\n",
      "9,10-DEEPITHIO-9,10-DIDEHYDROACANTHIFOLICIN 1 1\n",
      "PROSTAGLANDIN A2 1 1\n",
      "PYRIDAZINE 1 1\n",
      "SIROLIMUS 2 2\n",
      "SODIUM BISULFIDE 1 1\n",
      "LIGUSTRAZINE 1 1\n",
      "THAPSIGARGIN 1 1\n",
      "CARBOPLATIN 2 2\n",
      "EVODIAMINE 1 1\n",
      "MEISOINDIGO 1 1\n",
      "ADAPALENE 1 1\n",
      "EUPATILIN 1 1\n",
      "ANANDAMIDE 2 2\n",
      "WOGONIN 1 1\n",
      "LY-294002 2 2\n",
      "FLAVOPIRIDOL 3 3\n",
      "CGP 41251 1 1\n",
      "ATORVASTATIN 1 1\n",
      "LY 293111 1 1\n",
      "IRON 1 1\n",
      "L 868276 1 1\n",
      "APICIDIN 1 1\n",
      "4'-HYDROXYCELECOXIB 2 2\n",
      "EPIMEDIN C 1 1\n",
      "SILIBININ 2 2\n",
      "GLABRIDIN 1 1\n",
      "CVT 313 2 2\n",
      "ARA C 1 1\n",
      "SP600125 2 2\n",
      "SU 9516 1 1\n",
      "PENTAGALLOYLGLUCOSE 2 2\n",
      "2-CYCLOPENTYL-5-(5-ISOQUINOLYLSULFONYL)-6-NITRO-1H-BENZO(D)IMIDAZOLE 1 1\n",
      "3,3-DIINDOLYMETHANE 2 2\n",
      "PNU 112455A 1 1\n",
      "FURANODIENE 1 1\n",
      "ICI 182780 1 1\n",
      "NU2058 1 1\n",
      "NU6102 1 1\n",
      "PACHASTRISSAMINE 1 1\n",
      "3,3',4',5-TETRAHYDROXYSTILBENE 1 1\n",
      "CYCLOOXYGENASE 2 INHIBITORS 1 1\n",
      "AR A014418 1 1\n",
      "AZD5438 1 1\n",
      "GW8510 2 2\n",
      "DEFERASIROX 1 1\n",
      "ANTIGENS, DIFFERENTIATION 1 1\n",
      "PROSTAGLANDINS E 1 1\n",
      "HEXAMETHYLENE BISACETAMIDE 1 1\n",
      "ALKANESULFONATES 1 1\n",
      "ACETYLSALICYLIC ACID 2 2\n",
      "NAPHTHALENE 1 1\n",
      "PORPHYRINS 1 1\n",
      "SALICYLIC ACID 3 3\n",
      "GOSSYPIN 1 1\n",
      "TRITERPENES 1 1\n",
      "GINSENOSIDE RG1 1 1\n",
      "MIZORIBINE 1 1\n",
      "METHYLSELENIC ACID 1 1\n",
      "ERLOTINIB 2 2\n",
      "EPOTHILONE D 1 1\n",
      "INDIRUBIN-5-SULFONATE 1 1\n",
      "BENZENE 1 1\n",
      "EPINEPHRINE 1 1\n",
      "METFORMIN 1 1\n",
      "TOLUENE 1 1\n",
      "ZEARALENONE 1 1\n",
      "GENISTEIN 2 2\n",
      "WORTMANNIN 1 1\n",
      "PD 98059 2 2\n",
      "DES(METHYLPIPERAZINYL) SILDENAFIL ACID 1 1\n",
      "SORAFENIB 3 3\n",
      "AMANTADINE 1 1\n",
      "CARCINOGENS 1 1\n",
      "METHYLNITRONITROSOGUANIDINE 1 1\n",
      ".ALPHA.-ARTEMETHER 1 1\n",
      "BENZAMIDE 1 1\n",
      ".BETA.-IONONE 1 1\n",
      "BRYOSTATIN 2 2\n",
      "CHRYSIN 1 1\n",
      "FISETIN 2 2\n",
      "GERANIOL 1 1\n",
      "GLYCEOLLIN 1 1\n",
      "MAGNOLOL 1 1\n",
      "LEVULINIC ACID PHENYLHYDRAZONE 1 1\n",
      "TANGERETIN 1 1\n",
      ".GAMMA.-SITOSTEROL 1 1\n",
      "2-AMINOPYRIMIDINE 1 1\n",
      "RITONAVIR 1 1\n",
      "AG 1343 1 1\n",
      "AMINOPYRIMIDINE 1 1\n",
      "APIGENIN 1 1\n",
      "BORTEZOMIB 1 1\n",
      "ELATOL 1 1\n",
      "1-METHYL-1-PIPERIDINOMETHANE SULFONATE 1 1\n",
      "PHA-793887 1 1\n",
      "ALOISINE 1 1\n",
      "6-PHENYL[5H]PYRROLO[2,3-B]PYRAZINE 1 1\n",
      "BOHEMINE 1 1\n",
      "BX-795 1 1\n",
      "K-00546 1 1\n",
      "CVT-313 1 1\n",
      "(7S)-2-(2-AMINOPYRIMIDIN-4-YL)-7-(2-FLUOROETHYL)-1,5,6,7-TETRAHYDRO-4H-PYRROLO[3,2-C]PYRIDIN-4-ONE 1 1\n",
      "PENTOBARBITAL 1 1\n",
      "MK-8776 1 1\n",
      "PURVALANOL A 1 1\n",
      "4-[5-(TRANS-4-AMINOCYCLOHEXYLAMINO)-3-ISOPROPYLPYRAZOLO[1,5-A]PYRIMIDIN-7-YLAMINO]-N,N-DIMETHYLBENZENESULFONAMIDE 2 2\n",
      "4-(2,4-DIMETHYL-THIAZOL-5-YL)-PYRIMIDIN-2-YLAMINE 2 2\n",
      "2-AMINO-6-CHLOROPYRAZINE 2 2\n",
      "6-O-CYCLOHEXYLMETHYL GUANINE 2 2\n",
      "N-[4-(2-METHYLIMIDAZO[1,2-A]PYRIDIN-3-YL)-2-PYRIMIDINYL]ACETAMIDE 2 2\n",
      "N-(5-CYCLOPROPYL-1H-PYRAZOL-3-YL)BENZAMIDE 2 2\n",
      "(5R)-5-{[(2-AMINO-3H-PURIN-6-YL)OXY]METHYL}-2-PYRROLIDINONE 2 2\n",
      "4-(2,4-DIMETHYL-1,3-THIAZOL-5-YL)-N-[4-(TRIFLUOROMETHYL)PHENYL]-2-PYRIMIDINAMINE 2 2\n",
      "HYMENIALDISINE 2 2\n",
      "TERFENADINE 1 1\n",
      "4-[3-HYDROXYANILINO]-6,7-DIMETHOXYQUINAZOLINE 2 2\n",
      "3-PYRIDIN-4-YL-2,4-DIHYDRO-INDENO[1,2-.C.]PYRAZOLE 2 2\n",
      "1-[(2-AMINO-6,9-DIHYDRO-1H-PURIN-6-YL)OXY]-3-METHYL-2-BUTANOL 2 2\n",
      "4-((3R,4S,5R)-4-AMINO-3,5-DIHYDROXY-HEX-1-YNYL)-5-FLUORO-3-[1-(3-METHOXY-1H-PYRROL-2-YL)-METH-(Z)-YLIDENE]-1,3-DIHYDRO-INDOL-2-ONE 2 2\n",
      "[2-AMINO-6-(2,6-DIFLUORO-BENZOYL)-IMIDAZO[1,2-A]PYRIDIN-3-YL]-PHENYL-METHANONE 2 2\n",
      "N'-[4-(2,4-DIMETHYL-1,3-THIAZOL-5-YL)-2-PYRIMIDINYL]-N-HYDROXYIMIDOFORMAMIDE 2 2\n",
      "N'-(PYRROLIDINO[2,1-B]ISOINDOLIN-4-ON-8-YL)-N-(PYRIDIN-2-YL)UREA 2 2\n",
      "2-[TRANS-(4-AMINOCYCLOHEXYL)AMINO]-6-(BENZYL-AMINO)-9-CYCLOPENTYLPURINE 2 2\n",
      "4-[4-(4-METHYL-2-METHYLAMINO-THIAZOL-5-YL)-PYRIMIDIN-2-YLAMINO]-PHENOL 2 2\n",
      "3-[4-(2,4-DIMETHYL-THIAZOL-5-YL)-PYRIMIDIN-2-YLAMINO]-PHENOL 2 2\n",
      "PHENYLAMINOIMIDAZO(1,2-ALPHA)PYRIDINE 2 2\n",
      "BOSUTINIB 2 2\n",
      "ADENOSINE DIPHOSPHATE 1 1\n",
      "N-(3-CYCLOPROPYL-1H-PYRAZOL-5-YL)-2-(2-NAPHTHYL)ACETAMIDE 2 2\n",
      "2-ANILINO-6-CYCLOHEXYLMETHOXYPURINE 2 2\n",
      "1-(5-OXO-2,3,5,9B-TETRAHYDRO-1H-PYRROLO[2,1-A]ISOINDOL-9-YL)-3-(5-PYRROLIDIN-2-YL-1H-PYRAZOL-3-YL)-UREA 2 2\n",
      "(5-PHENYL-7-(PYRIDIN-3-YLMETHYLAMINO)PYRAZOLO[1,5-A]PYRIMIDIN-3-YL)METHANOL 2 2\n",
      "2-(3,4-DIHYDROXYPHENYL)-8-(1,1-DIOXIDOISOTHIAZOLIDIN-2-YL)-3-HYDROXY-6-METHYL-4H-CHROMEN-4-ONE 2 2\n",
      "N-CYCLOPROPYL-4-PYRAZOLO[1,5-B]PYRIDAZIN-3-YLPYRIMIDIN-2-AMINE 2 2\n",
      "3-((3-BROMO-5-O-TOLYLPYRAZOLO[1,5-A]PYRIMIDIN-7-YLAMINO)METHYL)PYRIDINE 1-OXIDE 2 2\n",
      "6-CYCLOHEXYLMETHOXY-2-(3'-CHLOROANILINO) PURINE 2 2\n",
      "N-[5-(1,1-DIOXIDOISOTHIAZOLIDIN-2-YL)-1H-INDAZOL-3-YL]-2-(4-PIPERIDIN-1-YLPHENYL)ACETAMIDE 2 2\n",
      "(3R)-3-(AMINOMETHYL)-9-METHOXY-1,2,3,4-TETRAHYDRO-5H-[1]BENZOTHIENO[3,2-E][1,4]DIAZEPIN-5-ONE 2 2\n",
      "5-[5,6-BIS(METHYLOXY)-1H-BENZIMIDAZOL-1-YL]-3-{[1-(2-CHLOROPHENYL)ETHYL]OXY}-2-THIOPHENECARBOXAMIDE 2 2\n",
      "4-{5-[(Z)-(2,4-DIOXO-1,3-THIAZOLIDIN-5-YLIDENE)METHYL]FURAN-2-YL}BENZENESULFONAMIDE 2 2\n",
      "4-{5-[(Z)-(2-IMINO-4-OXO-1,3-THIAZOLIDIN-5-YLIDENE)METHYL]-2-FURYL}-N-METHYLBENZENESULFONAMIDE 2 2\n",
      "4-{5-[(Z)-(2-IMINO-4-OXO-1,3-THIAZOLIDIN-5-YLIDENE)METHYL]FURAN-2-YL}BENZENESULFONAMIDE 2 2\n",
      "4-{5-[(Z)-(2-IMINO-4-OXO-1,3-THIAZOLIDIN-5-YLIDENE)METHYL]FURAN-2-YL}-2-(TRIFLUOROMETHYL)BENZENESULFONAMIDE 2 2\n",
      "4-{5-[(Z)-(2-IMINO-4-OXO-1,3-THIAZOLIDIN-5-YLIDENE)METHYL]FURAN-2-YL}BENZOIC ACID 2 2\n"
     ]
    },
    {
     "name": "stdout",
     "output_type": "stream",
     "text": [
      "4-{5-[(1Z)-1-(2-IMINO-4-OXO-1,3-THIAZOLIDIN-5-YLIDENE)ETHYL]-2-FURYL}BENZENESULFONAMIDE 2 2\n",
      "N-[4-(2,4-DIMETHYL-THIAZOL-5-YL)-PYRIMIDIN-2-YL]-N',N'-DIMETHYL-BENZENE-1,4-DIAMINE 2 2\n",
      "6-(3,4-DIHYDROXYBENZYL)-3-ETHYL-1-(2,4,6-TRICHLOROPHENYL)-1H-PYRAZOLO[3,4-D]PYRIMIDIN-4(5H)-ONE 2 2\n",
      "6-(3-AMINOPHENYL)-N-(TERT-BUTYL)-2-(TRIFLUOROMETHYL)QUINAZOLIN-4-AMINE 2 2\n",
      "2-(4-(AMINOMETHYL)PIPERIDIN-1-YL)-N-(3_CYCLOHEXYL-4-OXO-2,4-DIHYDROINDENO[1,2-C]PYRAZOL-5-YL)ACETAMIDE 2 2\n",
      "1-(3-(2,4-DIMETHYLTHIAZOL-5-YL)-4-OXO-2,4-DIHYDROINDENO[1,2-C]PYRAZOL-5-YL)-3-(4-METHYLPIPERAZIN-1-YL)UREA 2 2\n",
      "4-{[5-(CYCLOHEXYLMETHOXY)[1,2,4]TRIAZOLO[1,5-A]PYRIMIDIN-7-YL]AMINO}BENZENESULFONAMIDE 2 2\n",
      "4-{[5-(CYCLOHEXYLAMINO)[1,2,4]TRIAZOLO[1,5-A]PYRIMIDIN-7-YL]AMINO}BENZENESULFONAMIDE 2 2\n",
      "4-({5-[(4-AMINOCYCLOHEXYL)AMINO][1,2,4]TRIAZOLO[1,5-A]PYRIMIDIN-7-YL}AMINO)BENZENESULFONAMIDE 2 2\n",
      "4-{[5-(CYCLOHEXYLOXY)[1,2,4]TRIAZOLO[1,5-A]PYRIMIDIN-7-YL]AMINO}BENZENESULFONAMIDE 2 2\n",
      "CAN-508 2 2\n",
      "N-[3-(1H-BENZIMIDAZOL-2-YL)-1H-PYRAZOL-4-YL]BENZAMIDE 2 2\n",
      "N-METHYL-4-{[(2-OXO-1,2-DIHYDRO-3H-INDOL-3-YLIDENE)METHYL]AMINO}BENZENESULFONAMIDE 2 2\n",
      "4-{[(2-OXO-1,2-DIHYDRO-3H-INDOL-3-YLIDENE)METHYL]AMINO}-N-(1,3-THIAZOL-2-YL)BENZENESULFONAMIDE 2 2\n",
      "3-{[4-([AMINO(IMINO)METHYL]AMINOSULFONYL)ANILINO]METHYLENE}-2-OXO-2,3-DIHYDRO-1H-INDOLE 2 2\n",
      "5-HYDROXYNAPHTHALENE-1-SULFONAMIDE 2 2\n",
      "N-(4-SULFAMOYLPHENYL)-1H-INDAZOLE-3-CARBOXAMIDE 2 2\n",
      "4-[(6-CHLOROPYRAZIN-2-YL)AMINO]BENZENESULFONAMIDE 2 2\n",
      "N-PHENYL-1H-PYRAZOLE-3-CARBOXAMIDE 2 2\n",
      "4-(ACETYLAMINO)-N-(4-FLUOROPHENYL)-1H-PYRAZOLE-3-CARBOXAMIDE 2 2\n",
      "(4E)-N-(4-FLUOROPHENYL)-4-[(PHENYLCARBONYL)IMINO]-4H-PYRAZOLE-3-CARBOXAMIDE 2 2\n",
      "5-CHLORO-7-[(1-METHYLETHYL)AMINO]PYRAZOLO[1,5-A]PYRIMIDINE-3-CARBONITRILE 2 2\n",
      "5-[(4-AMINOCYCLOHEXYL)AMINO]-7-(PROPAN-2-YLAMINO)PYRAZOLO[1,5-A]PYRIMIDINE-3-CARBONITRILE 2 2\n",
      "4-{[(2,6-DIFLUOROPHENYL)CARBONYL]AMINO}-N-[(3S)-PIPERIDIN-3-YL]-1H-PYRAZOLE-3-CARBOXAMIDE 2 2\n",
      "4-(4-METHOXY-1H-PYRROLO[2,3-B]PYRIDIN-3-YL)PYRIMIDIN-2-AMINE 2 2\n",
      "4-(4-PROPOXY-1H-PYRROLO[2,3-B]PYRIDIN-3-YL)PYRIMIDIN-2-AMINE 2 2\n",
      "6-CYCLOHEXYLMETHYLOXY-2-(4'-HYDROXYANILINO)PURINE 2 2\n",
      "4-(6-CYCLOHEXYLMETHOXY-9H-PURIN-2-YLAMINO)--BENZAMIDE 2 2\n",
      "6-(CYCLOHEXYLMETHOXY)-8-ISOPROPYL-9H-PURIN-2-AMINE 2 2\n",
      "3-(6-CYCLOHEXYLMETHOXY-9H-PURIN-2-YLAMINO)-BENZENESULFONAMIDE 2 2\n",
      "(2R)-2-{[4-(BENZYLAMINO)-8-(1-METHYLETHYL)PYRAZOLO[1,5-A][1,3,5]TRIAZIN-2-YL]AMINO}BUTAN-1-OL 2 2\n",
      "6-CYCLOHEXYLMETHYLOXY-5-NITROSO-PYRIMIDINE-2,4-DIAMINE 2 2\n",
      "1-METHYL-8-(PHENYLAMINO)-4,5-DIHYDRO-1H-PYRAZOLO[4,3-H]QUINAZOLINE-3-CARBOXYLIC ACID 2 2\n",
      "6-BROMO-13-THIA-2,4,8,12,19-PENTAAZATRICYCLO[12.3.1.1~3,7~]NONADECA-1(18),3(19),4,6,14,16-HEXAENE 13,13-DIOXIDE 2 2\n",
      "(2R)-2-({9-(1-METHYLETHYL)-6-[(4-PYRIDIN-2-YLBENZYL)AMINO]-9H-PURIN-2-YL}AMINO)BUTAN-1-OL 2 2\n",
      "1-[4-(AMINOSULFONYL)PHENYL]-1,6-DIHYDROPYRAZOLO[3,4-E]INDAZOLE-3-CARBOXAMIDE 2 2\n",
      "5-(2,3-DICHLOROPHENYL)-N-(PYRIDIN-4-YLMETHYL)PYRAZOLO[1,5-A]PYRIMIDIN-7-AMINE 2 2\n",
      "3-BROMO-5-PHENYL-N-(PYRIDIN-3-YLMETHYL)PYRAZOLO[1,5-A]PYRIMIDIN-7-AMINE 2 2\n",
      "3-CYCLOPROPYL-5-PHENYL-N-(PYRIDIN-3-YLMETHYL)PYRAZOLO[1,5-A]PYRIMIDIN-7-AMINE 2 2\n",
      "4-{[4-AMINO-6-(CYCLOHEXYLMETHOXY)-5-NITROSOPYRIMIDIN-2-YL]AMINO}BENZAMIDE 2 2\n",
      "VARIOLIN B 2 2\n",
      "ENADENINE 2 2\n",
      "ACETACO 1 1\n",
      "O-CHLOROACETYLCARBAMOYLFUMAGILLOL 1 1\n",
      "LAPACHONE 1 1\n",
      "HYDROGEN PEROXIDE 1 1\n",
      "RESVERATROL 1 1\n",
      "ICI D1694 1 1\n",
      "DECADRON PHOSPHATE 1 1\n",
      "17 BETA-HYDROXY-5 BETA-ANDROSTAN-3-ONE 1 1\n",
      "DAUNORUBICIN 1 1\n",
      "APREMILAST 1 1\n",
      "ENMD-981693 1 1\n",
      "ER-086526 1 1\n",
      "(2E,3S)-3-HYDROXY-5'-[(4-HYDROXYPIPERIDIN-1-YL)SULFONYL]-3-METHYL-1,3-DIHYDRO-2,3'-BIINDOL-2'(1'H)-ONE 1 1\n",
      "(2S)-1-[4-({6-[(2,6-DIFLUOROPHENYL)AMINO]-4-PYRIMIDINYL}AMINO)PHENOXY]-3-(DIMETHYLAMINO)-2-PROPANOL 1 1\n",
      "4-[(6-AMINO-4-PYRIMIDINYL)AMINO]BENZENESULFONAMIDE 1 1\n",
      "N-(5-ISOPROPYL-THIAZOL-2-YL)-2-PYRIDIN-3-YL-ACETAMIDE 1 1\n",
      "4-(2,5-DICHLORO-THIOPHEN-3-YL)-PYRIMIDIN-2-YLAMINE 1 1\n",
      "5-(2,3-DICHLOROPHENYL)-N-(PYRIDIN-4-YLMETHYL)-3-THIOCYANATOPYRAZOLO[1,5-A]PYRIMIDIN-7-AMINE 1 1\n",
      "(5Z)-5-(3-BROMOCYCLOHEXA-2,5-DIEN-1-YLIDENE)-N-(PYRIDIN-4-YLMETHYL)-1,5-DIHYDROPYRAZOLO[1,5-A]PYRIMIDIN-7-AMINE 1 1\n",
      "4-(5-BROMO-2-OXO-2H-INDOL-3-YLAZO)-BENZENESULFONAMIDE 1 1\n",
      "5-(2-FLUOROPHENYL)-N-(PYRIDIN-4-YLMETHYL)PYRAZOLO[1,5-A]PYRIMIDIN-7-AMINE 1 1\n",
      "(2R)-1-{4-[(4-ANILINO-5-BROMO-2-PYRIMIDINYL)AMINO]PHENOXY}-3-(DIMETHYLAMINO)-2-PROPANOL 1 1\n",
      "TRIAZOLOPYRIMIDINE 1 1\n",
      "3-BROMO-6-PHENYL-N-(PYRIMIDIN-5-YLMETHYL)IMIDAZO[1,2-A]PYRIDIN-8-AMINE 1 1\n",
      "4-{[4-(1-CYCLOPROPYL-2-METHYL-1H-IMIDAZOL-5-YL)PYRIMIDIN-2-YL]AMINO}-N-METHYLBENZENESULFONAMIDE 1 1\n",
      "(2S)-1-[4-({4-[(2,5-DICHLOROPHENYL)AMINO]-2-PYRIMIDINYL}AMINO)PHENOXY]-3-(DIMETHYLAMINO)-2-PROPANOL 1 1\n",
      "(2R)-1-[4-({4-[(2,5-DICHLOROPHENYL)AMINO]-2-PYRIMIDINYL}AMINO)PHENOXY]-3-(DIMETHYLAMINO)-2-PROPANOL 1 1\n",
      "(13R,15S)-13-METHYL-16-OXA-8,9,12,22,24-PENTAAZAHEXACYCLO[15.6.2.16,9.1,12,15.0,2,7.0,21,25]HEPTACOSA-1(24),2,4,6,17(25),18,20-HEPTAENE-23,26-DIONE 1 1\n",
      "(5-CHLOROPYRAZOLO[1,5-A]PYRIMIDIN-7-YL)-(4-METHANESULFONYLPHENYL)AMINE 1 1\n",
      "5-BROMOINDIRUBIN 1 1\n",
      "(5E)-2-AMINO-5-(2-PYRIDINYLMETHYLENE)-1,3-THIAZOL-4(5H)-ONE 1 1\n",
      "(2S)-1-{4-[(4-ANILINO-5-BROMO-2-PYRIMIDINYL)AMINO]PHENOXY}-3-(DIMETHYLAMINO)-2-PROPANOL 1 1\n",
      "(2R)-1-(DIMETHYLAMINO)-3-{4-[(6-{[2-FLUORO-5-(TRIFLUOROMETHYL)PHENYL]AMINO}PYRIMIDIN-4-YL)AMINO]PHENOXY}PROPAN-2-OL 1 1\n",
      "1-AMINO-6-CYCLOHEX-3-ENYLMETHYLOXYPURINE 1 1\n",
      "6-(2-FLUOROPHENYL)-N-(PYRIDIN-3-YLMETHYL)IMIDAZO[1,2-A]PYRAZIN-8-AMINE 1 1\n",
      "3-BROMO-5-PHENYL-N-(PYRIMIDIN-5-YLMETHYL)PYRAZOLO[1,5-A]PYRIDIN-7-AMINE 1 1\n",
      "4-[(5-ISOPROPYL-1,3-THIAZOL-2-YL)AMINO]BENZENESULFONAMIDE 1 1\n",
      "3-METHYL-N-(PYRIDIN-4-YLMETHYL)IMIDAZO[1,2-A]PYRAZIN-8-AMINE 1 1\n",
      "3-({2-[(4-{[6-(CYCLOHEXYLMETHOXY)-9H-PURIN-2-YL]AMINO}PHENYL)SULFONYL]ETHYL}AMINO)PROPAN-1-OL 1 1\n",
      "N-((2-AMINOPYRIMIDIN-5-YL)METHYL)-5-(2,6-DIFLUOROPHENYL)-3-ETHYLPYRAZOLO[1,5-A]PYRIMIDIN-7-AMINE 1 1\n",
      "(2S)-1-(DIMETHYLAMINO)-3-(4-{[4-(2-METHYLIMIDAZO[1,2-A]PYRIDIN-3-YL)-2-PYRIMIDINYL]AMINO}PHENOXY)-2-PROPANOL 1 1\n",
      "(2R)-1-[4-({6-[(2,6-DIFLUOROPHENYL)AMINO]-4-PYRIMIDINYL}AMINO)PHENOXY]-3-(DIMETHYLAMINO)-2-PROPANOL 1 1\n",
      "(2S)-N-[(3E)-5-CYCLOPROPYL-3H-PYRAZOL-3-YLIDENE]-2-[4-(2-OXO-1-IMIDAZOLIDINYL)PHENYL]PROPANAMIDE 1 1\n",
      "HYDROXY(OXO)(3-{[(2Z)-4-[3-(1H-1,2,4-TRIAZOL-1-YLMETHYL)PHENYL]PYRIMIDIN-2(5H)-YLIDENE]AMINO}PHENYL)AMMONIUM 1 1\n",
      "1-(3,5-DICHLOROPHENYL)-5-METHYL-1H-1,2,4-TRIAZOLE-3-CARBOXYLIC ACID 1 1\n",
      "4-METHYL-5-[(2Z)-2-{[4-(4-MORPHOLINYL)PHENYL]IMINO}-2,5-DIHYDRO-4-PYRIMIDINYL]-1,3-THIAZOL-2-AMINE 1 1\n",
      "4-[(7-OXO-7H-THIAZOLO[5,4-E]INDOL-8-YLMETHYL)-AMINO]-N-PYRIDIN-2-YL-BENZENESULFONAMIDE 1 1\n",
      "INDIRUBIN 1 1\n",
      "LYSINE NZ-CARBOXYLIC ACID 1 1\n",
      "PALBOCICLIB 2 2\n",
      "LAPATINIB 1 1\n",
      "CERITINIB 1 1\n",
      "QUERCETIN 2 2\n",
      "BIBF 1120 1 1\n",
      "DOXYCYCLINE 1 1\n",
      "PHOSPHORYL 1 1\n",
      "LEAD(0) 1 1\n",
      "ENZALUTAMIDE 1 1\n",
      "GALLATE 1 1\n",
      "CELASTROL METHYL ESTER 1 1\n"
     ]
    }
   ],
   "source": [
    "for i in seqd.G.nodes:\n",
    "    print(i, seqd.G.degree(i), seqd.G.number_of_edges('NCBIGene:1017',i))"
   ]
  },
  {
   "cell_type": "markdown",
   "metadata": {},
   "source": [
    "# Filter 1\n",
    "### Filter by number of edges overlapping between nodes"
   ]
  },
  {
   "cell_type": "code",
   "execution_count": 175,
   "metadata": {},
   "outputs": [],
   "source": [
    "def filter_node_degree(G, count=50): #takes input G as networkX graph\n",
    "\n",
    "    degrees = []\n",
    "    for node in G.nodes:\n",
    "        degrees.append(G.degree(node))\n",
    "\n",
    "    data = {'node':G.nodes, 'degree':degrees}\n",
    "    deg_count = pd.DataFrame(data=data)\n",
    "    deg_count.sort_values(by='degree', inplace=True, ascending=False)\n",
    "\n",
    "    filtered = list(deg_count.head(count)['node'])\n",
    "    subG = G.subgraph(filtered)\n",
    "\n",
    "    for i,node in enumerate(filtered):\n",
    "        subG.nodes.data()[node]['filteredBy'] = 'NodeDegree'\n",
    "        subG.nodes.data()[node]['rank'] = i+1\n",
    "\n",
    "    return subG"
   ]
  },
  {
   "cell_type": "code",
   "execution_count": 185,
   "metadata": {
    "scrolled": false
   },
   "outputs": [
    {
     "data": {
      "text/plain": [
       "10"
      ]
     },
     "execution_count": 185,
     "metadata": {},
     "output_type": "execute_result"
    }
   ],
   "source": [
    "x = filter_node_degree(seqd.G,10)\n",
    "len(x.nodes)"
   ]
  },
  {
   "cell_type": "code",
   "execution_count": 210,
   "metadata": {
    "scrolled": true
   },
   "outputs": [
    {
     "name": "stdout",
     "output_type": "stream",
     "text": [
      "0 DINACICLIB 11 5 \n",
      "\n",
      "1 AT-7519 7 9 \n",
      "\n",
      "2 STAUROSPORINE 7 10 \n",
      "\n",
      "3 ALVOCIDIB 38 2 \n",
      "\n",
      "4 OLOMOUCINE 12 4 \n",
      "\n",
      "5 SELICICLIB 9 6 \n",
      "\n",
      "6 NCBIGene:1017 129 1 \n",
      "\n",
      "7 ROSCOVITINE 8 7 \n",
      "\n",
      "8 UCN-01 30 3 \n",
      "\n",
      "9 RONICICLIB 7 8 \n",
      "\n"
     ]
    }
   ],
   "source": [
    "for i,node in enumerate(x.nodes):\n",
    "    print(i,node,x.degree(node),x.nodes.data()[node]['rank'], '\\n')"
   ]
  },
  {
   "cell_type": "code",
   "execution_count": 233,
   "metadata": {},
   "outputs": [
    {
     "data": {
      "text/plain": [
       "['NCBIGene:1017',\n",
       " 'ALVOCIDIB',\n",
       " 'UCN-01',\n",
       " 'OLOMOUCINE',\n",
       " 'DINACICLIB',\n",
       " 'SELICICLIB',\n",
       " 'ROSCOVITINE',\n",
       " 'RONICICLIB',\n",
       " 'AT-7519',\n",
       " 'STAUROSPORINE']"
      ]
     },
     "execution_count": 233,
     "metadata": {},
     "output_type": "execute_result"
    }
   ],
   "source": [
    "l = []\n",
    "for i in range(len(x.nodes)):\n",
    "    for node in x.nodes:\n",
    "        if x.nodes.data()[node]['rank'] == i+1:\n",
    "            l.append(node)\n",
    "l"
   ]
  },
  {
   "cell_type": "code",
   "execution_count": 206,
   "metadata": {},
   "outputs": [
    {
     "data": {
      "text/plain": [
       "NodeDataView({'DINACICLIB': None, 'AT-7519': None, 'STAUROSPORINE': None, 'ALVOCIDIB': None, 'OLOMOUCINE': None, 'SELICICLIB': None, 'NCBIGene:1017': None, 'ROSCOVITINE': None, 'UCN-01': None, 'RONICICLIB': None}, data=3)"
      ]
     },
     "execution_count": 206,
     "metadata": {},
     "output_type": "execute_result"
    }
   ],
   "source": [
    "x.nodes(3)"
   ]
  },
  {
   "cell_type": "code",
   "execution_count": 143,
   "metadata": {},
   "outputs": [],
   "source": [
    "assert seqd.G['NCBIGene:1017']['AT-7519']== x['NCBIGene:1017']['AT-7519']"
   ]
  },
  {
   "cell_type": "code",
   "execution_count": 180,
   "metadata": {},
   "outputs": [],
   "source": [
    "import unittest"
   ]
  },
  {
   "cell_type": "code",
   "execution_count": null,
   "metadata": {},
   "outputs": [],
   "source": [
    "class TestFilterEdges(unittest.TestCase):\n",
    "\n",
    "    # test for count values\n",
    "    def test_count_values(self):\n",
    "        counts = [10, 20, 40, 50, 100, 1050]\n",
    "\n",
    "        seqd = SingleEdgeQeryDispatcher(output_cls='GenomicEntity',\n",
    "                                        input_cls='Gene',\n",
    "                                        input_id='HGNC',\n",
    "                                        values='7890')\n",
    "        seqd.query()\n",
    "        for count in counts:\n",
    "            newG = filter_node_degree(seqd.G, count)\n",
    "            self.assertEqual(len(newG.nodes), 2)"
   ]
  },
  {
   "cell_type": "markdown",
   "metadata": {},
   "source": [
    "# Filter 2\n",
    "### Filter by type of relation\n",
    "\n",
    "Essentially takes in graph input, the relation we are looking for\n",
    "and returns a graph with only the edges with said relation, ordered then by degree?"
   ]
  },
  {
   "cell_type": "code",
   "execution_count": 2,
   "metadata": {},
   "outputs": [],
   "source": [
    "seqd = SingleEdgeQueryDispatcher(input_cls='Gene',\n",
    "                                 output_cls='ChemicalSubstance',\n",
    "                                 input_id='NCBIGene',\n",
    "                                 values='1017')\n",
    "seqd.query()"
   ]
  },
  {
   "cell_type": "code",
   "execution_count": 412,
   "metadata": {
    "scrolled": false
   },
   "outputs": [
    {
     "data": {
      "text/plain": [
       "3"
      ]
     },
     "execution_count": 412,
     "metadata": {},
     "output_type": "execute_result"
    }
   ],
   "source": [
    "x = []\n",
    "for i in seqd.G.edges:\n",
    "    x.append(seqd.G[i[0]][i[1]][0]['label'])\n",
    "    \n",
    "x = set(x)\n",
    "len(seqd.G.nodes)"
   ]
  },
  {
   "cell_type": "code",
   "execution_count": 397,
   "metadata": {
    "scrolled": false
   },
   "outputs": [],
   "source": [
    "def filter_label(G, label, count=50):\n",
    "    \n",
    "    val_edges = []\n",
    "    for edge in G.edges:\n",
    "        if G[edge[0]][edge[1]][edge[2]]['label'] in label:\n",
    "            val_edges.append(edge)\n",
    "    \n",
    "    subG = G.edge_subgraph(val_edges)\n",
    "    subG = filter_node_degree(subG, count)\n",
    "    \n",
    "    for node in subG.nodes:\n",
    "        subG.nodes.data()[node]['filteredBy'] = 'EdgeLabel'\n",
    "        \n",
    "    return subG"
   ]
  },
  {
   "cell_type": "code",
   "execution_count": 411,
   "metadata": {
    "scrolled": false
   },
   "outputs": [],
   "source": [
    "labels = ['related_to', 'negatively_regulated_by']\n",
    "subG = filter_label(seqd.G, labels)\n",
    "\n",
    "subG = filter_label(seqd.G, 'related_to')\n",
    "for edge in subG.edges.data():\n",
    "    assert 'related_to' == edge[2]['label']\n"
   ]
  },
  {
   "cell_type": "code",
   "execution_count": 404,
   "metadata": {},
   "outputs": [
    {
     "data": {
      "text/plain": [
       "1215"
      ]
     },
     "execution_count": 404,
     "metadata": {},
     "output_type": "execute_result"
    }
   ],
   "source": [
    "len(seqd.G.edges)"
   ]
  },
  {
   "cell_type": "code",
   "execution_count": 359,
   "metadata": {
    "scrolled": false
   },
   "outputs": [
    {
     "data": {
      "text/plain": [
       "582"
      ]
     },
     "execution_count": 359,
     "metadata": {},
     "output_type": "execute_result"
    }
   ],
   "source": [
    "val = []\n",
    "label = 'related_to'\n",
    "for edge in seqd.G.edges:\n",
    "    if seqd.G[edge[0]][edge[1]][0]['label'] == label:\n",
    "        val.append(edge)\n",
    "        \n",
    "sG = seqd.G.edge_subgraph(val)\n",
    "\n",
    "len(val)\n"
   ]
  },
  {
   "cell_type": "code",
   "execution_count": 63,
   "metadata": {
    "scrolled": false
   },
   "outputs": [],
   "source": [
    "seqd2 = SingleEdgeQueryDispatcher(output_cls='GenomicEntity',\n",
    "                                         input_cls='ChemicalSubstance',\n",
    "                                         pred=\"related_to\",\n",
    "                                         input_id='CHEBI',\n",
    "                                         values='CHEBI:28640')\n",
    "seqd2.query()"
   ]
  },
  {
   "cell_type": "code",
   "execution_count": null,
   "metadata": {
    "scrolled": false
   },
   "outputs": [],
   "source": []
  },
  {
   "cell_type": "code",
   "execution_count": null,
   "metadata": {},
   "outputs": [],
   "source": []
  },
  {
   "cell_type": "code",
   "execution_count": null,
   "metadata": {},
   "outputs": [],
   "source": []
  },
  {
   "cell_type": "code",
   "execution_count": null,
   "metadata": {},
   "outputs": [],
   "source": []
  },
  {
   "cell_type": "code",
   "execution_count": null,
   "metadata": {},
   "outputs": [],
   "source": []
  },
  {
   "cell_type": "markdown",
   "metadata": {},
   "source": [
    "# Filter 3: Co-occurrence\n",
    "### Using NIH MRCOC co-occurrence files, query MRCOC API"
   ]
  },
  {
   "cell_type": "code",
   "execution_count": 2,
   "metadata": {},
   "outputs": [],
   "source": [
    "import time\n",
    "import requests"
   ]
  },
  {
   "cell_type": "code",
   "execution_count": null,
   "metadata": {},
   "outputs": [],
   "source": []
  },
  {
   "cell_type": "code",
   "execution_count": 12,
   "metadata": {},
   "outputs": [],
   "source": [
    "# helper funcs\n",
    "def get_ids(node):\n",
    "    ids = []\n",
    "    try:\n",
    "        ids.append(seqd.G.nodes[node]['equivalent_ids']['MESH'])\n",
    "        ids.append(seqd.G.nodes[node]['equivalent_ids']['UMLS'])\n",
    "    except:\n",
    "        pass\n",
    "\n",
    "    ids = [i for sub in ids for i in sub] # flatten and get rid of set()\n",
    "\n",
    "    return 0 if len(ids) == 0 else ids\n",
    "    \n",
    "def make_combo(id1, id2):\n",
    "    combos = ['-'.join([i,j]) for i in id1 for j in id2]\n",
    "    combos += ['-'.join([j,i]) for i in id1 for j in id2]\n",
    "    \n",
    "    return combos"
   ]
  },
  {
   "cell_type": "code",
   "execution_count": 233,
   "metadata": {},
   "outputs": [],
   "source": [
    "# takes in networkX graph, outputs networkX graph with ranks\n",
    "# this function finds the mesh/umls pairs, then sends batch queries the mrcoc co-occurrence api \n",
    "# rank is based on ngd score on each EDGE (not node)\n",
    "\n",
    "def filter_co_occur_1(G, count=50):\n",
    "    unique_edges = []\n",
    "    for edge in G.edges:\n",
    "        if [edge[0], edge[1]] in unique_edges:\n",
    "            continue\n",
    "        else:\n",
    "            unique_edges.append([edge[0], edge[1]])\n",
    "\n",
    "    for edge in unique_edges:\n",
    "        id1 = get_ids(edge[0])\n",
    "        id2 = get_ids(edge[1])\n",
    "\n",
    "        if (id1 == 0) | (id2 == 0):\n",
    "            edge.insert(0, 100)\n",
    "        else:\n",
    "            combo = make_combo(id1, id2)\n",
    "            x = requests.post('https://biothings.ncats.io/mrcoc/query', json={'scopes':'combo', 'q': combo}).json()\n",
    "            for query in x:\n",
    "                if not 'notfound' in query:\n",
    "                    edge.insert(0, query['ngd_overall'])\n",
    "                    break\n",
    "            if not isinstance(edge[0], float):\n",
    "                edge.insert(0, 200)\n",
    "\n",
    "    results = sorted(unique_edges)[:count]\n",
    "    filtered = list(set([i[1] for i in results] + [i[2] for i in results]))\n",
    "    subG = G.subgraph(filtered)\n",
    "\n",
    "    for i,res in enumerate(results, start=1):\n",
    "        for edge in subG[res[1]][res[2]]:\n",
    "            subG[res[1]][res[2]][edge]['rank'] = i\n",
    "            subG[res[1]][res[2]][edge]['filteredBy'] = 'CoOccurrence'\n",
    "            subG[res[1]][res[2]][edge]['ngd_overall'] = res[0]\n",
    "\n",
    "    return subG\n"
   ]
  },
  {
   "cell_type": "code",
   "execution_count": 234,
   "metadata": {},
   "outputs": [],
   "source": [
    "def filter_co_occur(G, count=50):\n",
    "    unique_edges = []\n",
    "    for edge in G.edges:\n",
    "        if [edge[0], edge[1]] in unique_edges:\n",
    "            continue\n",
    "        else:\n",
    "            unique_edges.append([edge[0], edge[1]])\n",
    "\n",
    "    num_combs, combos = [], []\n",
    "    for edge in unique_edges:\n",
    "        id1 = get_ids(edge[0])\n",
    "        id2 = get_ids(edge[1])\n",
    "\n",
    "        if (id1 == 0) | (id2 == 0):\n",
    "            edge.insert(0, 100)\n",
    "        else:\n",
    "            combo = make_combo(id1, id2)\n",
    "            combos.append(combo)\n",
    "            num_combs.append(len(combo))\n",
    "\n",
    "    combos = [i for j in combos for i in j]\n",
    "    chunks = [combos[x:x+1000] for x in range(0,len(combos),1000)]\n",
    "    x = []\n",
    "    for chunk in chunks:\n",
    "        x += requests.post('https://biothings.ncats.io/mrcoc/query', json={'scopes':'combo', 'q': chunk}).json()\n",
    "\n",
    "    end, i = 0, 0\n",
    "    for edge in unique_edges:\n",
    "        if isinstance(edge[0],int):\n",
    "            continue\n",
    "        start = end\n",
    "        end += num_combs[i]\n",
    "        for query in x[start:end]:\n",
    "            if not 'notfound' in query:\n",
    "                edge.insert(0, query['ngd_overall'])\n",
    "                break\n",
    "        if not isinstance(edge[0], float):\n",
    "            edge.insert(0, 200)\n",
    "        i+=1\n",
    "\n",
    "    results = sorted(unique_edges)[:count]\n",
    "    filtered = list(set([i[1] for i in results] + [i[2] for i in results]))\n",
    "    subG = G.subgraph(filtered)\n",
    "\n",
    "    for i,res in enumerate(results, start=1):\n",
    "        for edge in subG[res[1]][res[2]]:\n",
    "            subG[res[1]][res[2]][edge]['rank'] = i\n",
    "            subG[res[1]][res[2]][edge]['filteredBy'] = 'CoOccurrence'\n",
    "            subG[res[1]][res[2]][edge]['ngd_overall'] = res[0]\n",
    "\n",
    "    return subG"
   ]
  },
  {
   "cell_type": "code",
   "execution_count": 235,
   "metadata": {},
   "outputs": [],
   "source": [
    "G = filter_co_occur(seqd.G)"
   ]
  },
  {
   "cell_type": "code",
   "execution_count": 236,
   "metadata": {
    "scrolled": false
   },
   "outputs": [
    {
     "data": {
      "text/plain": [
       "OutMultiEdgeDataView([('MESH:D000755', 'BONE DISEASE', {'info': {'@type': 'Disease', 'name': 'Bone Diseases', 'UMLS': 'C0005940', 'pubmed': ['7282730'], '$api': 'SEMMED Disease API', '$source': 'SEMMED'}, 'label': 'coexists_with', 'source': 'SEMMED', 'rank': 25, 'filteredBy': 'CoOccurrence', 'ngd_overall': 0.47739189906836266}), ('MESH:D000755', 'MULTIPLE ORGAN FAILURE', {'info': {'@type': 'Disease', 'name': 'Multiple Organ Failure', 'UMLS': 'C0026766', 'pubmed': ['26283706'], '$api': 'SEMMED Disease API', '$source': 'SEMMED'}, 'label': 'coexists_with', 'source': 'SEMMED', 'rank': 44, 'filteredBy': 'CoOccurrence', 'ngd_overall': 0.5655872915508444}), ('MESH:D000755', 'SPLENIC INFARCTION', {'info': {'@type': 'Disease', 'name': 'Splenic Infarction', 'UMLS': 'C0037998', 'pubmed': ['13409094'], '$api': 'SEMMED Disease API', '$source': 'SEMMED'}, 'label': 'causes', 'source': 'SEMMED', 'rank': 13, 'filteredBy': 'CoOccurrence', 'ngd_overall': 0.41255997965932023}), ('MESH:D000755', 'SPLENIC INFARCTION', {'info': {'@type': 'Disease', 'name': 'Splenic Infarction', 'UMLS': 'C0037998', 'pubmed': ['20928991'], '$api': 'SEMMED Disease API', '$source': 'SEMMED'}, 'label': 'coexists_with', 'source': 'SEMMED', 'rank': 13, 'filteredBy': 'CoOccurrence', 'ngd_overall': 0.41255997965932023}), ('MESH:D000755', 'PULMONARY HYPERTENSION', {'info': {'@type': 'Disease', 'name': 'Pulmonary Hypertension', 'UMLS': 'C0020542', 'pubmed': ['17569101', '18068240', '18212317', '20409257', '20409257', '20578237', '24611951'], '$api': 'SEMMED Disease API', '$source': 'SEMMED'}, 'label': 'causes', 'source': 'SEMMED', 'rank': 22, 'filteredBy': 'CoOccurrence', 'ngd_overall': 0.4658974351897532}), ('MESH:D000755', 'PULMONARY HYPERTENSION', {'info': {'@type': 'Disease', 'name': 'Pulmonary Hypertension', 'UMLS': 'C0020542', 'pubmed': ['17724699', '18470553', '18470553', '20490352', '21973051', '22160068', '27583566', '27726639'], '$api': 'SEMMED Disease API', '$source': 'SEMMED'}, 'label': 'coexists_with', 'source': 'SEMMED', 'rank': 22, 'filteredBy': 'CoOccurrence', 'ngd_overall': 0.4658974351897532}), ('MESH:D000755', 'PULMONARY HYPERTENSION', {'info': {'@type': 'Disease', 'name': 'Pulmonary Hypertension', 'UMLS': 'C0020542', 'pubmed': ['18411415'], '$api': 'SEMMED Disease API', '$source': 'SEMMED'}, 'label': 'affects', 'source': 'SEMMED', 'rank': 22, 'filteredBy': 'CoOccurrence', 'ngd_overall': 0.4658974351897532}), ('MESH:D000755', 'HEMOGLOBIN SC DISEASE', {'info': {'@type': 'Disease', 'name': 'Hemoglobin SC Disease', 'UMLS': 'C0019034', 'pubmed': ['2334206', '6602968'], '$api': 'SEMMED Disease API', '$source': 'SEMMED'}, 'label': 'coexists_with', 'source': 'SEMMED', 'rank': 4, 'filteredBy': 'CoOccurrence', 'ngd_overall': 0.3034697682970486}), ('MESH:D000755', 'SPLENOMEGALY', {'info': {'@type': 'Disease', 'name': 'Splenomegaly', 'UMLS': 'C0038002', 'pubmed': ['24284096'], '$api': 'SEMMED Disease API', '$source': 'SEMMED'}, 'label': 'causes', 'source': 'SEMMED', 'rank': 17, 'filteredBy': 'CoOccurrence', 'ngd_overall': 0.4466686824466349}), ('MESH:D000755', 'ARTHROPATHY', {'info': {'@type': 'Disease', 'name': 'Arthropathy', 'UMLS': 'C0022408', 'pubmed': ['2037633'], '$api': 'SEMMED Disease API', '$source': 'SEMMED'}, 'label': 'causes', 'source': 'SEMMED', 'rank': 49, 'filteredBy': 'CoOccurrence', 'ngd_overall': 0.5729558012094408}), ('MESH:D000755', 'ARTHROPATHY', {'info': {'@type': 'Disease', 'name': 'Arthropathy', 'UMLS': 'C0022408', 'pubmed': ['8498173'], '$api': 'SEMMED Disease API', '$source': 'SEMMED'}, 'label': 'coexists_with', 'source': 'SEMMED', 'rank': 49, 'filteredBy': 'CoOccurrence', 'ngd_overall': 0.5729558012094408}), ('MESH:D000755', 'DEHYDRATION', {'info': {'@type': 'Disease', 'name': 'Dehydration', 'UMLS': 'C0011175', 'pubmed': ['10682780', '20182354'], '$api': 'SEMMED Disease API', '$source': 'SEMMED'}, 'label': 'coexists_with', 'source': 'SEMMED', 'rank': 41, 'filteredBy': 'CoOccurrence', 'ngd_overall': 0.55376544002199}), ('MESH:D000755', 'ACUTE ONSET PAIN', {'info': {'@type': 'Disease', 'name': 'Acute onset pain', 'UMLS': 'C0184567', 'pubmed': ['17443589', '17443589', '22696351', '22696351', '25764071', '25764071', '28759112', '28759112', '7694538'], '$api': 'SEMMED Disease API', '$source': 'SEMMED'}, 'label': 'coexists_with', 'source': 'SEMMED', 'rank': 19, 'filteredBy': 'CoOccurrence', 'ngd_overall': 0.461947085879603}), ('MESH:D000755', 'INTRAHEPATIC CHOLESTASIS', {'info': {'@type': 'Disease', 'name': 'Intrahepatic Cholestasis', 'UMLS': 'C0008372', 'pubmed': ['12352306', '3713167'], '$api': 'SEMMED Disease API', '$source': 'SEMMED'}, 'label': 'coexists_with', 'source': 'SEMMED', 'rank': 42, 'filteredBy': 'CoOccurrence', 'ngd_overall': 0.5569852720519719}), ('MESH:D000755', 'MALARIA', {'info': {'@type': 'Disease', 'name': 'Malaria', 'UMLS': 'C0024530', 'pubmed': ['14962372'], '$api': 'SEMMED Disease API', '$source': 'SEMMED'}, 'label': 'causes', 'source': 'SEMMED', 'rank': 28, 'filteredBy': 'CoOccurrence', 'ngd_overall': 0.4846518073624127}), ('MESH:D000755', 'MALARIA', {'info': {'@type': 'Disease', 'name': 'Malaria', 'UMLS': 'C0024530', 'pubmed': ['12917969', '17054173', '22372205', '23746538'], '$api': 'SEMMED Disease API', '$source': 'SEMMED'}, 'label': 'coexists_with', 'source': 'SEMMED', 'rank': 28, 'filteredBy': 'CoOccurrence', 'ngd_overall': 0.4846518073624127}), ('MESH:D000755', 'MALARIA', {'info': {'@type': 'Disease', 'name': 'Malaria', 'UMLS': 'C0024530', 'pubmed': ['16396876'], '$api': 'SEMMED Disease API', '$source': 'SEMMED'}, 'label': 'affects', 'source': 'SEMMED', 'rank': 28, 'filteredBy': 'CoOccurrence', 'ngd_overall': 0.4846518073624127}), ('MESH:D000755', 'THALASSEMIA', {'info': {'@type': 'Disease', 'name': 'Thalassemia', 'UMLS': 'C0039730', 'pubmed': ['5328679'], '$api': 'SEMMED Disease API', '$source': 'SEMMED'}, 'label': 'causes', 'source': 'SEMMED', 'rank': 1, 'filteredBy': 'CoOccurrence', 'ngd_overall': 0.24283643156899448}), ('MESH:D000755', 'THALASSEMIA', {'info': {'@type': 'Disease', 'name': 'Thalassemia', 'UMLS': 'C0039730', 'pubmed': ['21772051', '23103424', '23103424', '9386828'], '$api': 'SEMMED Disease API', '$source': 'SEMMED'}, 'label': 'coexists_with', 'source': 'SEMMED', 'rank': 1, 'filteredBy': 'CoOccurrence', 'ngd_overall': 0.24283643156899448}), ('MESH:D000755', 'THALASSEMIA', {'info': {'@type': 'Disease', 'name': 'Thalassemia', 'UMLS': 'C0039730', 'pubmed': ['2288216'], '$api': 'SEMMED Disease API', '$source': 'SEMMED'}, 'label': 'affects', 'source': 'SEMMED', 'rank': 1, 'filteredBy': 'CoOccurrence', 'ngd_overall': 0.24283643156899448}), ('MESH:D000755', 'ALPHA-THALASSEMIA', {'info': {'@type': 'Disease', 'name': 'Hemoglobinopathies', 'UMLS': 'C0019045', 'pubmed': ['11400797', '16096527', '25176145'], '$api': 'SEMMED Disease API', '$source': 'SEMMED'}, 'label': 'coexists_with', 'source': 'SEMMED', 'rank': 2, 'filteredBy': 'CoOccurrence', 'ngd_overall': 0.29379813011804257}), ('MESH:D000755', 'ALPHA-THALASSEMIA', {'info': {'@type': 'Disease', 'name': 'Hemoglobinopathies', 'UMLS': 'C0019045', 'pubmed': ['20207263', '3794213'], '$api': 'SEMMED Disease API', '$source': 'SEMMED'}, 'label': 'affects', 'source': 'SEMMED', 'rank': 2, 'filteredBy': 'CoOccurrence', 'ngd_overall': 0.29379813011804257}), ('MESH:D000755', 'CHEST PAIN', {'info': {'@type': 'Disease', 'name': 'Chest Pain', 'UMLS': 'C0008031', 'pubmed': ['2038080'], '$api': 'SEMMED Disease API', '$source': 'SEMMED'}, 'label': 'coexists_with', 'source': 'SEMMED', 'rank': 30, 'filteredBy': 'CoOccurrence', 'ngd_overall': 0.49155141194003193}), ('MESH:D000755', 'HEMATURIA', {'info': {'@type': 'Disease', 'name': 'Hematuria', 'UMLS': 'C0018965', 'pubmed': ['25035790', '25787946', '28341428', '28341428', '4233740'], '$api': 'SEMMED Disease API', '$source': 'SEMMED'}, 'label': 'coexists_with', 'source': 'SEMMED', 'rank': 24, 'filteredBy': 'CoOccurrence', 'ngd_overall': 0.47233201935874874}), ('MESH:D000755', 'KIDNEY PAPILLARY NECROSIS', {'info': {'@type': 'Disease', 'name': 'Kidney Papillary Necrosis', 'UMLS': 'C0022667', 'pubmed': ['28341428', '28341428'], '$api': 'SEMMED Disease API', '$source': 'SEMMED'}, 'label': 'coexists_with', 'source': 'SEMMED', 'rank': 20, 'filteredBy': 'CoOccurrence', 'ngd_overall': 0.4628855758182921}), ('MESH:D000755', 'FUSIFORM ANEURYSM', {'info': {'@type': 'Disease', 'name': 'Vascular Diseases', 'UMLS': 'C0042373', 'pubmed': ['23281161'], '$api': 'SEMMED Disease API', '$source': 'SEMMED'}, 'label': 'coexists_with', 'source': 'SEMMED', 'rank': 23, 'filteredBy': 'CoOccurrence', 'ngd_overall': 0.46805692784945646}), ('MESH:D000755', 'BLOOD COAGULATION DISORDERS', {'info': {'@type': 'Disease', 'name': 'Blood Coagulation Disorders', 'UMLS': 'C0005779', 'pubmed': ['12394969'], '$api': 'SEMMED Disease API', '$source': 'SEMMED'}, 'label': 'coexists_with', 'source': 'SEMMED', 'rank': 46, 'filteredBy': 'CoOccurrence', 'ngd_overall': 0.5689918295221845}), ('MESH:D000755', 'BLOOD COAGULATION DISORDERS', {'info': {'@type': 'Disease', 'name': 'Blood Coagulation Disorders', 'UMLS': 'C0005779', 'pubmed': ['20303465'], '$api': 'SEMMED Disease API', '$source': 'SEMMED'}, 'label': 'affects', 'source': 'SEMMED', 'rank': 46, 'filteredBy': 'CoOccurrence', 'ngd_overall': 0.5689918295221845}), ('MESH:D000755', 'ANEMIA, HEMOLYTIC', {'info': {'@type': 'Disease', 'name': 'Anemia, Hemolytic', 'UMLS': 'C0002878', 'pubmed': ['10861813', '11687042', '17998439', '19445751', '20215064', '20923801', '21415949', '21718552', '21981466', '22258951', '24094945', '24678175', '26405395', '26808098'], '$api': 'SEMMED Disease API', '$source': 'SEMMED'}, 'label': 'causes', 'source': 'SEMMED', 'rank': 14, 'filteredBy': 'CoOccurrence', 'ngd_overall': 0.4193873106695017}), ('MESH:D000755', 'ANEMIA, HEMOLYTIC', {'info': {'@type': 'Disease', 'name': 'Anemia, Hemolytic', 'UMLS': 'C0002878', 'pubmed': ['19700663', '24960379', '27845754'], '$api': 'SEMMED Disease API', '$source': 'SEMMED'}, 'label': 'coexists_with', 'source': 'SEMMED', 'rank': 14, 'filteredBy': 'CoOccurrence', 'ngd_overall': 0.4193873106695017}), ('MESH:D000755', 'THROMBOPHILIA', {'info': {'@type': 'Disease', 'name': 'Thrombophilia', 'UMLS': 'C0398623', 'pubmed': ['17854302'], '$api': 'SEMMED Disease API', '$source': 'SEMMED'}, 'label': 'causes', 'source': 'SEMMED', 'rank': 33, 'filteredBy': 'CoOccurrence', 'ngd_overall': 0.5156394672344365}), ('MESH:D000755', 'THROMBOPHILIA', {'info': {'@type': 'Disease', 'name': 'Thrombophilia', 'UMLS': 'C0398623', 'pubmed': ['12616091', '15765033', '15765033', '22535498'], '$api': 'SEMMED Disease API', '$source': 'SEMMED'}, 'label': 'coexists_with', 'source': 'SEMMED', 'rank': 33, 'filteredBy': 'CoOccurrence', 'ngd_overall': 0.5156394672344365}), ('MESH:D000755', 'THROMBOPHILIA', {'info': {'@type': 'Disease', 'name': 'Thrombophilia', 'UMLS': 'C0398623', 'pubmed': ['18450728'], '$api': 'SEMMED Disease API', '$source': 'SEMMED'}, 'label': 'coexists_with', 'source': 'SEMMED', 'rank': 33, 'filteredBy': 'CoOccurrence', 'ngd_overall': 0.5156394672344365}), ('MESH:D000755', 'HEREDITARY SPHEROCYTOSIS', {'info': {'@type': 'Disease', 'name': 'Hereditary spherocytosis', 'UMLS': 'C0037889', 'pubmed': ['24060729'], '$api': 'SEMMED Disease API', '$source': 'SEMMED'}, 'label': 'coexists_with', 'source': 'SEMMED', 'rank': 10, 'filteredBy': 'CoOccurrence', 'ngd_overall': 0.3978274793847991}), ('MESH:D000755', 'FEVER', {'info': {'@type': 'Disease', 'name': 'Fever', 'UMLS': 'C0015967', 'pubmed': ['10381996', '1569641', '17939320', '19050460', '23755165', '26613743', '27980789', '6691757', '8011527'], '$api': 'SEMMED Disease API', '$source': 'SEMMED'}, 'label': 'coexists_with', 'source': 'SEMMED', 'rank': 39, 'filteredBy': 'CoOccurrence', 'ngd_overall': 0.551686360779538}), ('MESH:D000755', 'CEREBRAL INFARCTION', {'info': {'@type': 'Disease', 'name': 'Cerebral Infarction', 'UMLS': 'C0007785', 'pubmed': ['11096755', '23108767', '6770633'], '$api': 'SEMMED Disease API', '$source': 'SEMMED'}, 'label': 'causes', 'source': 'SEMMED', 'rank': 26, 'filteredBy': 'CoOccurrence', 'ngd_overall': 0.47847706925878947}), ('MESH:D000755', 'CEREBRAL INFARCTION', {'info': {'@type': 'Disease', 'name': 'Cerebrovascular Disorders', 'UMLS': 'C0007820', 'pubmed': ['28742875'], '$api': 'SEMMED Disease API', '$source': 'SEMMED'}, 'label': 'causes', 'source': 'SEMMED', 'rank': 26, 'filteredBy': 'CoOccurrence', 'ngd_overall': 0.47847706925878947}), ('MESH:D000755', 'CEREBRAL INFARCTION', {'info': {'@type': 'Disease', 'name': 'Cerebrovascular Disorders', 'UMLS': 'C0007820', 'pubmed': ['29207881', '9750646'], '$api': 'SEMMED Disease API', '$source': 'SEMMED'}, 'label': 'coexists_with', 'source': 'SEMMED', 'rank': 26, 'filteredBy': 'CoOccurrence', 'ngd_overall': 0.47847706925878947}), ('MESH:D000755', 'CEREBRAL INFARCTION', {'info': {'@type': 'Disease', 'name': 'Cerebrovascular Disorders', 'UMLS': 'C0007820', 'pubmed': ['15755278'], '$api': 'SEMMED Disease API', '$source': 'SEMMED'}, 'label': 'affects', 'source': 'SEMMED', 'rank': 26, 'filteredBy': 'CoOccurrence', 'ngd_overall': 0.47847706925878947}), ('MESH:D000755', 'CEREBRAL INFARCTION', {'info': {'@type': 'Disease', 'pmc': ['PMC6717594'], 'DOID': 'DOID:3526', '$api': 'CORD Disease API', '$source': 'Translator Text Mining Provider'}, 'label': 'related_to', 'source': 'Translator Text Mining Provider', 'rank': 26, 'filteredBy': 'CoOccurrence', 'ngd_overall': 0.47847706925878947}), ('MESH:D000755', 'AUTOSOMAL HEMOPHILIA A', {'info': {'@type': 'Disease', 'name': 'Hemophilia A', 'UMLS': 'C0019069', 'pubmed': ['7718427'], '$api': 'SEMMED Disease API', '$source': 'SEMMED'}, 'label': 'coexists_with', 'source': 'SEMMED', 'rank': 50, 'filteredBy': 'CoOccurrence', 'ngd_overall': 0.5777138221585635}), ('MESH:D000755', 'ANEMIA', {'info': {'@type': 'Disease', 'name': 'Anemia', 'UMLS': 'C0002871', 'pubmed': ['20178010', '21444028', '24226646', '25842524', '26005936', '29280474', '7223771'], '$api': 'SEMMED Disease API', '$source': 'SEMMED'}, 'label': 'causes', 'source': 'SEMMED', 'rank': 6, 'filteredBy': 'CoOccurrence', 'ngd_overall': 0.3520097217194215}), ('MESH:D000755', 'ANEMIA', {'info': {'@type': 'Disease', 'name': 'Anemia', 'UMLS': 'C0002871', 'pubmed': ['11107968', '24319217', '26672916', '2933709', '7064893', '8353318'], '$api': 'SEMMED Disease API', '$source': 'SEMMED'}, 'label': 'coexists_with', 'source': 'SEMMED', 'rank': 6, 'filteredBy': 'CoOccurrence', 'ngd_overall': 0.3520097217194215}), ('MESH:D000755', 'ANEMIA', {'info': {'@type': 'Disease', 'name': 'Anemia', 'UMLS': 'C0002871', 'pubmed': ['19810619', '7507737'], '$api': 'SEMMED Disease API', '$source': 'SEMMED'}, 'label': 'affects', 'source': 'SEMMED', 'rank': 6, 'filteredBy': 'CoOccurrence', 'ngd_overall': 0.3520097217194215}), ('MESH:D000755', 'PAROXYSMAL NOCTURNAL HEMOGLOBINURIA', {'info': {'@type': 'Disease', 'name': 'Paroxysmal nocturnal hemoglobinuria', 'UMLS': 'C0024790', 'pubmed': ['18116227'], '$api': 'SEMMED Disease API', '$source': 'SEMMED'}, 'label': 'coexists_with', 'source': 'SEMMED', 'rank': 35, 'filteredBy': 'CoOccurrence', 'ngd_overall': 0.5364568434521865}), ('MESH:D000755', 'INFARCTION', {'info': {'@type': 'Disease', 'name': 'Infarction', 'UMLS': 'C0021308', 'pubmed': ['16522553', '18754304', '22976572', '27891273'], '$api': 'SEMMED Disease API', '$source': 'SEMMED'}, 'label': 'causes', 'source': 'SEMMED', 'rank': 9, 'filteredBy': 'CoOccurrence', 'ngd_overall': 0.3925935858047931}), ('MESH:D000755', 'INFARCTION', {'info': {'@type': 'Disease', 'name': 'Infarction', 'UMLS': 'C0021308', 'pubmed': ['27891273', '3864254', '5911748'], '$api': 'SEMMED Disease API', '$source': 'SEMMED'}, 'label': 'coexists_with', 'source': 'SEMMED', 'rank': 9, 'filteredBy': 'CoOccurrence', 'ngd_overall': 0.3925935858047931}), ('MESH:D000755', 'RETINAL DISEASE', {'info': {'@type': 'Disease', 'name': 'Retinal Diseases', 'UMLS': 'C0035309', 'pubmed': ['23346429'], '$api': 'SEMMED Disease API', '$source': 'SEMMED'}, 'label': 'causes', 'source': 'SEMMED', 'rank': 15, 'filteredBy': 'CoOccurrence', 'ngd_overall': 0.4267209162040386}), ('MESH:D000755', 'RETINAL DISEASE', {'info': {'@type': 'Disease', 'name': 'Retinal Diseases', 'UMLS': 'C0035309', 'pubmed': ['13180644', '6184997', '9275973'], '$api': 'SEMMED Disease API', '$source': 'SEMMED'}, 'label': 'coexists_with', 'source': 'SEMMED', 'rank': 15, 'filteredBy': 'CoOccurrence', 'ngd_overall': 0.4267209162040386}), ('MESH:D000755', 'ICTERUS', {'info': {'@type': 'Disease', 'name': 'Icterus', 'UMLS': 'C0022346', 'pubmed': ['19803025', '432694'], '$api': 'SEMMED Disease API', '$source': 'SEMMED'}, 'label': 'causes', 'source': 'SEMMED', 'rank': 45, 'filteredBy': 'CoOccurrence', 'ngd_overall': 0.5673786279404808}), ('MESH:D000755', 'ICTERUS', {'info': {'@type': 'Disease', 'name': 'Icterus', 'UMLS': 'C0022346', 'pubmed': ['12883614', '26613743'], '$api': 'SEMMED Disease API', '$source': 'SEMMED'}, 'label': 'coexists_with', 'source': 'SEMMED', 'rank': 45, 'filteredBy': 'CoOccurrence', 'ngd_overall': 0.5673786279404808}), ('MESH:D000755', 'ALPHA THALASSEMIA', {'info': {'@type': 'Disease', 'name': 'alpha-Thalassemia', 'UMLS': 'C0002312', 'pubmed': ['3893275'], '$api': 'SEMMED Disease API', '$source': 'SEMMED'}, 'label': 'causes', 'source': 'SEMMED', 'rank': 8, 'filteredBy': 'CoOccurrence', 'ngd_overall': 0.3786116229133875}), ('MESH:D000755', 'ALPHA THALASSEMIA', {'info': {'@type': 'Disease', 'name': 'alpha-Thalassemia', 'UMLS': 'C0002312', 'pubmed': ['17365008', '3893275'], '$api': 'SEMMED Disease API', '$source': 'SEMMED'}, 'label': 'coexists_with', 'source': 'SEMMED', 'rank': 8, 'filteredBy': 'CoOccurrence', 'ngd_overall': 0.3786116229133875}), ('MESH:D000755', 'ALPHA THALASSEMIA', {'info': {'@type': 'Disease', 'name': 'alpha-Thalassemia', 'UMLS': 'C0002312', 'pubmed': ['22065975', '6639889', '9604545'], '$api': 'SEMMED Disease API', '$source': 'SEMMED'}, 'label': 'affects', 'source': 'SEMMED', 'rank': 8, 'filteredBy': 'CoOccurrence', 'ngd_overall': 0.3786116229133875}), ('MESH:D000755', 'ALPHA THALASSEMIA', {'info': {'@type': 'Disease', 'name': 'alpha-Thalassemia', 'UMLS': 'C0002312', 'pubmed': ['633012'], '$api': 'SEMMED Disease API', '$source': 'SEMMED'}, 'label': 'affects', 'source': 'SEMMED', 'rank': 8, 'filteredBy': 'CoOccurrence', 'ngd_overall': 0.3786116229133875}), ('MESH:D000755', 'ALPHA THALASSEMIA', {'info': {'@type': 'Disease', 'name': 'alpha^+^ Thalassemia', 'UMLS': 'C1456873', 'pubmed': ['2441597'], '$api': 'SEMMED Disease API', '$source': 'SEMMED'}, 'label': 'affects', 'source': 'SEMMED', 'rank': 8, 'filteredBy': 'CoOccurrence', 'ngd_overall': 0.3786116229133875}), ('MESH:D000755', 'CHRONIC PAIN', {'info': {'@type': 'Disease', 'name': 'Chronic pain', 'UMLS': 'C0150055', 'pubmed': ['19416438'], '$api': 'SEMMED Disease API', '$source': 'SEMMED'}, 'label': 'causes', 'source': 'SEMMED', 'rank': 38, 'filteredBy': 'CoOccurrence', 'ngd_overall': 0.550984889051767}), ('MESH:D000755', 'CHRONIC PAIN', {'info': {'@type': 'Disease', 'name': 'Chronic pain', 'UMLS': 'C0150055', 'pubmed': ['11748547', '24315252', '28065813', '28394851', '28570479'], '$api': 'SEMMED Disease API', '$source': 'SEMMED'}, 'label': 'coexists_with', 'source': 'SEMMED', 'rank': 38, 'filteredBy': 'CoOccurrence', 'ngd_overall': 0.550984889051767}), ('MESH:D000755', 'FAMILIAL AVASCULAR NECROSIS OF FEMORAL HEAD', {'info': {'@type': 'Disease', 'name': 'Femur Head Necrosis', 'UMLS': 'C0015814', 'pubmed': ['16280713'], '$api': 'SEMMED Disease API', '$source': 'SEMMED'}, 'label': 'coexists_with', 'source': 'SEMMED', 'rank': 16, 'filteredBy': 'CoOccurrence', 'ngd_overall': 0.43257066646386894}), ('MESH:D000755', 'ABDOMINAL PAIN', {'info': {'@type': 'Disease', 'name': 'Abdominal Pain', 'UMLS': 'C0000737', 'pubmed': ['12394969', '8011527'], '$api': 'SEMMED Disease API', '$source': 'SEMMED'}, 'label': 'coexists_with', 'source': 'SEMMED', 'rank': 48, 'filteredBy': 'CoOccurrence', 'ngd_overall': 0.5726787828476807}), ('MESH:D000755', 'LUNG DISEASES', {'info': {'@type': 'Disease', 'name': 'Lung diseases', 'UMLS': 'C0024115', 'pubmed': ['10516198'], '$api': 'SEMMED Disease API', '$source': 'SEMMED'}, 'label': 'coexists_with', 'source': 'SEMMED', 'rank': 47, 'filteredBy': 'CoOccurrence', 'ngd_overall': 0.5706137819995578}), ('MESH:D000755', 'OSTEOMYELITIS', {'info': {'@type': 'Disease', 'name': 'Osteomyelitis', 'UMLS': 'C0029443', 'pubmed': ['1891241'], '$api': 'SEMMED Disease API', '$source': 'SEMMED'}, 'label': 'causes', 'source': 'SEMMED', 'rank': 12, 'filteredBy': 'CoOccurrence', 'ngd_overall': 0.40351981864823605}), ('MESH:D000755', 'OSTEOMYELITIS', {'info': {'@type': 'Disease', 'name': 'Osteomyelitis', 'UMLS': 'C0029443', 'pubmed': ['12070588', '1918111', '26266184', '28417035', '3107360', '5280456', '8370011', '9030084'], '$api': 'SEMMED Disease API', '$source': 'SEMMED'}, 'label': 'coexists_with', 'source': 'SEMMED', 'rank': 12, 'filteredBy': 'CoOccurrence', 'ngd_overall': 0.40351981864823605}), ('MESH:D000755', 'OSTEOMYELITIS', {'info': {'@type': 'Disease', 'name': 'Osteomyelitis', 'UMLS': 'C0029443', 'pubmed': ['23049406'], '$api': 'SEMMED Disease API', '$source': 'SEMMED'}, 'label': 'affects', 'source': 'SEMMED', 'rank': 12, 'filteredBy': 'CoOccurrence', 'ngd_overall': 0.40351981864823605}), ('MESH:D000755', 'MOYAMOYA DISEASE', {'info': {'@type': 'Disease', 'name': 'Moyamoya Disease', 'UMLS': 'C0026654', 'pubmed': ['24901428', '28616936'], '$api': 'SEMMED Disease API', '$source': 'SEMMED'}, 'label': 'causes', 'source': 'SEMMED', 'rank': 27, 'filteredBy': 'CoOccurrence', 'ngd_overall': 0.4794969611477241}), ('MESH:D000755', 'MOYAMOYA DISEASE', {'info': {'@type': 'Disease', 'name': 'Moyamoya Disease', 'UMLS': 'C0026654', 'pubmed': ['18025932', '19335126', '19335126'], '$api': 'SEMMED Disease API', '$source': 'SEMMED'}, 'label': 'coexists_with', 'source': 'SEMMED', 'rank': 27, 'filteredBy': 'CoOccurrence', 'ngd_overall': 0.4794969611477241}), ('MESH:D000755', 'AUTOSOMAL RECESSIVE INHERITED PSEUDOXANTHOMA ELASTICUM', {'info': {'@type': 'Disease', 'name': 'Pseudoxanthoma Elasticum', 'UMLS': 'C0033847', 'pubmed': ['21281810'], '$api': 'SEMMED Disease API', '$source': 'SEMMED'}, 'label': 'coexists_with', 'source': 'SEMMED', 'rank': 34, 'filteredBy': 'CoOccurrence', 'ngd_overall': 0.532730192199749}), ('MESH:D000755', 'INHERITED GENETIC DISEASE', {'info': {'@type': 'Disease', 'pmc': ['PMC6794261'], 'DOID': 'DOID:630', '$api': 'CORD Disease API', '$source': 'Translator Text Mining Provider'}, 'label': 'related_to', 'source': 'Translator Text Mining Provider', 'rank': 36, 'filteredBy': 'CoOccurrence', 'ngd_overall': 0.5461273543901114}), ('MESH:D000755', 'SALMONELLOSIS', {'info': {'@type': 'Disease', 'name': 'Salmonella infections', 'UMLS': 'C0036117', 'pubmed': ['27171941'], '$api': 'SEMMED Disease API', '$source': 'SEMMED'}, 'label': 'coexists_with', 'source': 'SEMMED', 'rank': 21, 'filteredBy': 'CoOccurrence', 'ngd_overall': 0.4642005135020007}), ('MESH:D000755', 'BETA THALASSEMIA', {'info': {'@type': 'Disease', 'pmc': ['PMC6521475', 'PMC6585407'], 'DOID': 'DOID:12241', '$api': 'CORD Disease API', '$source': 'Translator Text Mining Provider'}, 'label': 'related_to', 'source': 'Translator Text Mining Provider', 'rank': 3, 'filteredBy': 'CoOccurrence', 'ngd_overall': 0.2953707408796542}), ('MESH:D000755', 'HYPOXIA', {'info': {'@type': 'Disease', 'name': 'Hypoxia', 'UMLS': 'C0242184', 'pubmed': ['12714517', '22866669'], '$api': 'SEMMED Disease API', '$source': 'SEMMED'}, 'label': 'causes', 'source': 'SEMMED', 'rank': 37, 'filteredBy': 'CoOccurrence', 'ngd_overall': 0.5496181880541411}), ('MESH:D000755', 'HYPOXIA', {'info': {'@type': 'Disease', 'name': 'Hypoxia', 'UMLS': 'C0242184', 'pubmed': ['24744195'], '$api': 'SEMMED Disease API', '$source': 'SEMMED'}, 'label': 'coexists_with', 'source': 'SEMMED', 'rank': 37, 'filteredBy': 'CoOccurrence', 'ngd_overall': 0.5496181880541411}), ('MESH:D000755', 'HYPOXIA', {'info': {'@type': 'Disease', 'name': 'Hypoxia', 'UMLS': 'C0242184', 'pubmed': ['12955667', '27026725'], '$api': 'SEMMED Disease API', '$source': 'SEMMED'}, 'label': 'affects', 'source': 'SEMMED', 'rank': 37, 'filteredBy': 'CoOccurrence', 'ngd_overall': 0.5496181880541411}), ('MESH:D000755', 'ANGIOID STREAKS', {'info': {'@type': 'Disease', 'name': 'Angioid Streaks', 'UMLS': 'C0002982', 'pubmed': ['19436620', '27116514', '27614462'], '$api': 'SEMMED Disease API', '$source': 'SEMMED'}, 'label': 'coexists_with', 'source': 'SEMMED', 'rank': 29, 'filteredBy': 'CoOccurrence', 'ngd_overall': 0.4862738773806672}), ('MESH:D000755', 'HYPOCHROMIC ANEMIA (DISEASE)', {'info': {'@type': 'Disease', 'name': 'Iron deficiency anemia', 'UMLS': 'C0162316', 'pubmed': ['12836524'], '$api': 'SEMMED Disease API', '$source': 'SEMMED'}, 'label': 'coexists_with', 'source': 'SEMMED', 'rank': 43, 'filteredBy': 'CoOccurrence', 'ngd_overall': 0.5646857120843349}), ('MESH:D000755', 'HEMOLYSIS (DISORDER)', {'info': {'@type': 'Disease', 'name': 'Hemolysis (disorder)', 'UMLS': 'C0019054', 'pubmed': ['16521870', '18461136', '20113285', '21114906', '22409346', '27274608', '28911832', '7507737'], '$api': 'SEMMED Disease API', '$source': 'SEMMED'}, 'label': 'affects', 'source': 'SEMMED', 'rank': 11, 'filteredBy': 'CoOccurrence', 'ngd_overall': 0.40065968926209544}), ('MESH:D000755', 'HEPATOMEGALY', {'info': {'@type': 'Disease', 'name': 'Hepatomegaly', 'UMLS': 'C0019209', 'pubmed': ['12394969'], '$api': 'SEMMED Disease API', '$source': 'SEMMED'}, 'label': 'coexists_with', 'source': 'SEMMED', 'rank': 40, 'filteredBy': 'CoOccurrence', 'ngd_overall': 0.5533042266593873}), ('MESH:D000755', 'RETICULOCYTOSIS', {'info': {'@type': 'Disease', 'name': 'Reticulocytosis', 'UMLS': 'C0206160', 'pubmed': ['6831046', '6831046'], '$api': 'SEMMED Disease API', '$source': 'SEMMED'}, 'label': 'causes', 'source': 'SEMMED', 'rank': 31, 'filteredBy': 'CoOccurrence', 'ngd_overall': 0.49225239664898446}), ('MESH:D000755', 'AVASCULAR NECROSIS', {'info': {'@type': 'Disease', 'name': 'Bone necrosis', 'UMLS': 'C0029445', 'pubmed': ['11685144', '12399710', '1944426', '20099672', '25551782', '26754298', '4028315', '4028315', '6527336', '7773653', '8472404'], '$api': 'SEMMED Disease API', '$source': 'SEMMED'}, 'label': 'causes', 'source': 'SEMMED', 'rank': 18, 'filteredBy': 'CoOccurrence', 'ngd_overall': 0.4584564892145935}), ('MESH:D000755', 'AVASCULAR NECROSIS', {'info': {'@type': 'Disease', 'name': 'Bone necrosis', 'UMLS': 'C0029445', 'pubmed': ['12735623', '12735623'], '$api': 'SEMMED Disease API', '$source': 'SEMMED'}, 'label': 'coexists_with', 'source': 'SEMMED', 'rank': 18, 'filteredBy': 'CoOccurrence', 'ngd_overall': 0.4584564892145935}), ('MESH:D000755', 'AVASCULAR NECROSIS', {'info': {'@type': 'Disease', 'name': 'Bone necrosis', 'UMLS': 'C0029445', 'pubmed': ['23049406'], '$api': 'SEMMED Disease API', '$source': 'SEMMED'}, 'label': 'affects', 'source': 'SEMMED', 'rank': 18, 'filteredBy': 'CoOccurrence', 'ngd_overall': 0.4584564892145935}), ('MESH:D000755', 'ALBUMINURIA', {'info': {'@type': 'Disease', 'name': 'Albuminuria', 'UMLS': 'C0001925', 'pubmed': ['7733120'], '$api': 'SEMMED Disease API', '$source': 'SEMMED'}, 'label': 'coexists_with', 'source': 'SEMMED', 'rank': 32, 'filteredBy': 'CoOccurrence', 'ngd_overall': 0.5140220880286996}), ('MESH:D000755', 'PRIAPISM', {'info': {'@type': 'Disease', 'name': 'Priapism', 'UMLS': 'C0033117', 'pubmed': ['10953801', '11035401', '11337305', '1413361', '15409345', '17175874', '17175874', '17666717', '18903542', '19616292', '23293942', '23293942', '24611951', '24705475', '25104179', '28538505', '490830', '660730', '8307084', '8326584', '8650876'], '$api': 'SEMMED Disease API', '$source': 'SEMMED'}, 'label': 'causes', 'source': 'SEMMED', 'rank': 7, 'filteredBy': 'CoOccurrence', 'ngd_overall': 0.35242510343620204}), ('MESH:D000755', 'PRIAPISM', {'info': {'@type': 'Disease', 'name': 'Priapism', 'UMLS': 'C0033117', 'pubmed': ['12751604', '12751604', '13381009', '13905169', '18312286', '18312286', '2047776', '20490352', '21520650', '21520650', '21520650', '21699659', '21810190', '24680796', '25371242', '25833166', '26142586', '7714988', '7714988', '7714988', '8854068', '9586621'], '$api': 'SEMMED Disease API', '$source': 'SEMMED'}, 'label': 'coexists_with', 'source': 'SEMMED', 'rank': 7, 'filteredBy': 'CoOccurrence', 'ngd_overall': 0.35242510343620204}), ('MESH:D000755', 'PRIAPISM', {'info': {'@type': 'Disease', 'name': 'Priapism', 'UMLS': 'C0033117', 'pubmed': ['2047776'], '$api': 'SEMMED Disease API', '$source': 'SEMMED'}, 'label': 'coexists_with', 'source': 'SEMMED', 'rank': 7, 'filteredBy': 'CoOccurrence', 'ngd_overall': 0.35242510343620204}), ('MESH:D000755', 'PRIAPISM', {'info': {'@type': 'Disease', 'name': 'Priapism', 'UMLS': 'C0033117', 'pubmed': ['20538321'], '$api': 'SEMMED Disease API', '$source': 'SEMMED'}, 'label': 'affects', 'source': 'SEMMED', 'rank': 7, 'filteredBy': 'CoOccurrence', 'ngd_overall': 0.35242510343620204}), ('MESH:D000755', 'ACUTE CHEST SYNDROME', {'info': {'@type': 'Disease', 'name': 'Acute Chest Syndrome', 'UMLS': 'C0742343', 'pubmed': ['10516198', '11673218', '16550522', '19302944', '24319217', '28703372'], '$api': 'SEMMED Disease API', '$source': 'SEMMED'}, 'label': 'coexists_with', 'source': 'SEMMED', 'rank': 5, 'filteredBy': 'CoOccurrence', 'ngd_overall': 0.31477931894698585}), ('MESH:D000755', 'ACUTE CHEST SYNDROME', {'info': {'@type': 'Disease', 'name': 'Acute Chest Syndrome', 'UMLS': 'C0742343', 'pubmed': ['16860119', '1898750', '20644948', '22891585'], '$api': 'SEMMED Disease API', '$source': 'SEMMED'}, 'label': 'affects', 'source': 'SEMMED', 'rank': 5, 'filteredBy': 'CoOccurrence', 'ngd_overall': 0.31477931894698585})])"
      ]
     },
     "execution_count": 236,
     "metadata": {},
     "output_type": "execute_result"
    }
   ],
   "source": [
    "G.edges.data()"
   ]
  },
  {
   "cell_type": "code",
   "execution_count": 218,
   "metadata": {},
   "outputs": [
    {
     "name": "stdout",
     "output_type": "stream",
     "text": [
      "G1 time: 41.207399129867554\t G2 time: 1.273540735244751\n"
     ]
    }
   ],
   "source": [
    "start_1 = time.time()\n",
    "G1 = filter_co_occur(seqd.G)\n",
    "end_1 = time.time()\n",
    "start_2 = time.time()\n",
    "G2 = filter2(seqd.G)\n",
    "end_2 = time.time()\n",
    "\n",
    "print('G1 time: {}\\t G2 time: {}'.format(end_1-start_1, end_2-start_2))"
   ]
  },
  {
   "cell_type": "code",
   "execution_count": 232,
   "metadata": {
    "scrolled": false
   },
   "outputs": [
    {
     "data": {
      "text/plain": [
       "True"
      ]
     },
     "execution_count": 232,
     "metadata": {},
     "output_type": "execute_result"
    }
   ],
   "source": [
    "import networkx as nx\n",
    "nx.is_isomorphic(G1,G2)"
   ]
  },
  {
   "cell_type": "code",
   "execution_count": 228,
   "metadata": {
    "scrolled": true
   },
   "outputs": [
    {
     "data": {
      "text/plain": [
       "OutMultiEdgeDataView([('MESH:D000755', 'BONE DISEASE', {'info': {'@type': 'Disease', 'name': 'Bone Diseases', 'UMLS': 'C0005940', 'pubmed': ['7282730'], '$api': 'SEMMED Disease API', '$source': 'SEMMED'}, 'label': 'coexists_with', 'source': 'SEMMED', 'rank': 25, 'filteredBy': 'CoOccurrence', 'ngd_overall': 0.47739189906836266}), ('MESH:D000755', 'MULTIPLE ORGAN FAILURE', {'info': {'@type': 'Disease', 'name': 'Multiple Organ Failure', 'UMLS': 'C0026766', 'pubmed': ['26283706'], '$api': 'SEMMED Disease API', '$source': 'SEMMED'}, 'label': 'coexists_with', 'source': 'SEMMED', 'rank': 44, 'filteredBy': 'CoOccurrence', 'ngd_overall': 0.5655872915508444}), ('MESH:D000755', 'SPLENIC INFARCTION', {'info': {'@type': 'Disease', 'name': 'Splenic Infarction', 'UMLS': 'C0037998', 'pubmed': ['13409094'], '$api': 'SEMMED Disease API', '$source': 'SEMMED'}, 'label': 'causes', 'source': 'SEMMED', 'rank': 13, 'filteredBy': 'CoOccurrence', 'ngd_overall': 0.41255997965932023}), ('MESH:D000755', 'SPLENIC INFARCTION', {'info': {'@type': 'Disease', 'name': 'Splenic Infarction', 'UMLS': 'C0037998', 'pubmed': ['20928991'], '$api': 'SEMMED Disease API', '$source': 'SEMMED'}, 'label': 'coexists_with', 'source': 'SEMMED', 'rank': 13, 'filteredBy': 'CoOccurrence', 'ngd_overall': 0.41255997965932023}), ('MESH:D000755', 'PULMONARY HYPERTENSION', {'info': {'@type': 'Disease', 'name': 'Pulmonary Hypertension', 'UMLS': 'C0020542', 'pubmed': ['17569101', '18068240', '18212317', '20409257', '20409257', '20578237', '24611951'], '$api': 'SEMMED Disease API', '$source': 'SEMMED'}, 'label': 'causes', 'source': 'SEMMED', 'rank': 22, 'filteredBy': 'CoOccurrence', 'ngd_overall': 0.4658974351897532}), ('MESH:D000755', 'PULMONARY HYPERTENSION', {'info': {'@type': 'Disease', 'name': 'Pulmonary Hypertension', 'UMLS': 'C0020542', 'pubmed': ['17724699', '18470553', '18470553', '20490352', '21973051', '22160068', '27583566', '27726639'], '$api': 'SEMMED Disease API', '$source': 'SEMMED'}, 'label': 'coexists_with', 'source': 'SEMMED', 'rank': 22, 'filteredBy': 'CoOccurrence', 'ngd_overall': 0.4658974351897532}), ('MESH:D000755', 'PULMONARY HYPERTENSION', {'info': {'@type': 'Disease', 'name': 'Pulmonary Hypertension', 'UMLS': 'C0020542', 'pubmed': ['18411415'], '$api': 'SEMMED Disease API', '$source': 'SEMMED'}, 'label': 'affects', 'source': 'SEMMED', 'rank': 22, 'filteredBy': 'CoOccurrence', 'ngd_overall': 0.4658974351897532}), ('MESH:D000755', 'HEMOGLOBIN SC DISEASE', {'info': {'@type': 'Disease', 'name': 'Hemoglobin SC Disease', 'UMLS': 'C0019034', 'pubmed': ['2334206', '6602968'], '$api': 'SEMMED Disease API', '$source': 'SEMMED'}, 'label': 'coexists_with', 'source': 'SEMMED', 'rank': 4, 'filteredBy': 'CoOccurrence', 'ngd_overall': 0.3034697682970486}), ('MESH:D000755', 'SPLENOMEGALY', {'info': {'@type': 'Disease', 'name': 'Splenomegaly', 'UMLS': 'C0038002', 'pubmed': ['24284096'], '$api': 'SEMMED Disease API', '$source': 'SEMMED'}, 'label': 'causes', 'source': 'SEMMED', 'rank': 17, 'filteredBy': 'CoOccurrence', 'ngd_overall': 0.4466686824466349}), ('MESH:D000755', 'ARTHROPATHY', {'info': {'@type': 'Disease', 'name': 'Arthropathy', 'UMLS': 'C0022408', 'pubmed': ['2037633'], '$api': 'SEMMED Disease API', '$source': 'SEMMED'}, 'label': 'causes', 'source': 'SEMMED', 'rank': 49, 'filteredBy': 'CoOccurrence', 'ngd_overall': 0.5729558012094408}), ('MESH:D000755', 'ARTHROPATHY', {'info': {'@type': 'Disease', 'name': 'Arthropathy', 'UMLS': 'C0022408', 'pubmed': ['8498173'], '$api': 'SEMMED Disease API', '$source': 'SEMMED'}, 'label': 'coexists_with', 'source': 'SEMMED', 'rank': 49, 'filteredBy': 'CoOccurrence', 'ngd_overall': 0.5729558012094408}), ('MESH:D000755', 'DEHYDRATION', {'info': {'@type': 'Disease', 'name': 'Dehydration', 'UMLS': 'C0011175', 'pubmed': ['10682780', '20182354'], '$api': 'SEMMED Disease API', '$source': 'SEMMED'}, 'label': 'coexists_with', 'source': 'SEMMED', 'rank': 41, 'filteredBy': 'CoOccurrence', 'ngd_overall': 0.55376544002199}), ('MESH:D000755', 'ACUTE ONSET PAIN', {'info': {'@type': 'Disease', 'name': 'Acute onset pain', 'UMLS': 'C0184567', 'pubmed': ['17443589', '17443589', '22696351', '22696351', '25764071', '25764071', '28759112', '28759112', '7694538'], '$api': 'SEMMED Disease API', '$source': 'SEMMED'}, 'label': 'coexists_with', 'source': 'SEMMED', 'rank': 19, 'filteredBy': 'CoOccurrence', 'ngd_overall': 0.461947085879603}), ('MESH:D000755', 'INTRAHEPATIC CHOLESTASIS', {'info': {'@type': 'Disease', 'name': 'Intrahepatic Cholestasis', 'UMLS': 'C0008372', 'pubmed': ['12352306', '3713167'], '$api': 'SEMMED Disease API', '$source': 'SEMMED'}, 'label': 'coexists_with', 'source': 'SEMMED', 'rank': 42, 'filteredBy': 'CoOccurrence', 'ngd_overall': 0.5569852720519719}), ('MESH:D000755', 'MALARIA', {'info': {'@type': 'Disease', 'name': 'Malaria', 'UMLS': 'C0024530', 'pubmed': ['14962372'], '$api': 'SEMMED Disease API', '$source': 'SEMMED'}, 'label': 'causes', 'source': 'SEMMED', 'rank': 28, 'filteredBy': 'CoOccurrence', 'ngd_overall': 0.4846518073624127}), ('MESH:D000755', 'MALARIA', {'info': {'@type': 'Disease', 'name': 'Malaria', 'UMLS': 'C0024530', 'pubmed': ['12917969', '17054173', '22372205', '23746538'], '$api': 'SEMMED Disease API', '$source': 'SEMMED'}, 'label': 'coexists_with', 'source': 'SEMMED', 'rank': 28, 'filteredBy': 'CoOccurrence', 'ngd_overall': 0.4846518073624127}), ('MESH:D000755', 'MALARIA', {'info': {'@type': 'Disease', 'name': 'Malaria', 'UMLS': 'C0024530', 'pubmed': ['16396876'], '$api': 'SEMMED Disease API', '$source': 'SEMMED'}, 'label': 'affects', 'source': 'SEMMED', 'rank': 28, 'filteredBy': 'CoOccurrence', 'ngd_overall': 0.4846518073624127}), ('MESH:D000755', 'THALASSEMIA', {'info': {'@type': 'Disease', 'name': 'Thalassemia', 'UMLS': 'C0039730', 'pubmed': ['5328679'], '$api': 'SEMMED Disease API', '$source': 'SEMMED'}, 'label': 'causes', 'source': 'SEMMED', 'rank': 1, 'filteredBy': 'CoOccurrence', 'ngd_overall': 0.24283643156899448}), ('MESH:D000755', 'THALASSEMIA', {'info': {'@type': 'Disease', 'name': 'Thalassemia', 'UMLS': 'C0039730', 'pubmed': ['21772051', '23103424', '23103424', '9386828'], '$api': 'SEMMED Disease API', '$source': 'SEMMED'}, 'label': 'coexists_with', 'source': 'SEMMED', 'rank': 1, 'filteredBy': 'CoOccurrence', 'ngd_overall': 0.24283643156899448}), ('MESH:D000755', 'THALASSEMIA', {'info': {'@type': 'Disease', 'name': 'Thalassemia', 'UMLS': 'C0039730', 'pubmed': ['2288216'], '$api': 'SEMMED Disease API', '$source': 'SEMMED'}, 'label': 'affects', 'source': 'SEMMED', 'rank': 1, 'filteredBy': 'CoOccurrence', 'ngd_overall': 0.24283643156899448}), ('MESH:D000755', 'ALPHA-THALASSEMIA', {'info': {'@type': 'Disease', 'name': 'Hemoglobinopathies', 'UMLS': 'C0019045', 'pubmed': ['11400797', '16096527', '25176145'], '$api': 'SEMMED Disease API', '$source': 'SEMMED'}, 'label': 'coexists_with', 'source': 'SEMMED', 'rank': 2, 'filteredBy': 'CoOccurrence', 'ngd_overall': 0.29379813011804257}), ('MESH:D000755', 'ALPHA-THALASSEMIA', {'info': {'@type': 'Disease', 'name': 'Hemoglobinopathies', 'UMLS': 'C0019045', 'pubmed': ['20207263', '3794213'], '$api': 'SEMMED Disease API', '$source': 'SEMMED'}, 'label': 'affects', 'source': 'SEMMED', 'rank': 2, 'filteredBy': 'CoOccurrence', 'ngd_overall': 0.29379813011804257}), ('MESH:D000755', 'CHEST PAIN', {'info': {'@type': 'Disease', 'name': 'Chest Pain', 'UMLS': 'C0008031', 'pubmed': ['2038080'], '$api': 'SEMMED Disease API', '$source': 'SEMMED'}, 'label': 'coexists_with', 'source': 'SEMMED', 'rank': 30, 'filteredBy': 'CoOccurrence', 'ngd_overall': 0.49155141194003193}), ('MESH:D000755', 'HEMATURIA', {'info': {'@type': 'Disease', 'name': 'Hematuria', 'UMLS': 'C0018965', 'pubmed': ['25035790', '25787946', '28341428', '28341428', '4233740'], '$api': 'SEMMED Disease API', '$source': 'SEMMED'}, 'label': 'coexists_with', 'source': 'SEMMED', 'rank': 24, 'filteredBy': 'CoOccurrence', 'ngd_overall': 0.47233201935874874}), ('MESH:D000755', 'KIDNEY PAPILLARY NECROSIS', {'info': {'@type': 'Disease', 'name': 'Kidney Papillary Necrosis', 'UMLS': 'C0022667', 'pubmed': ['28341428', '28341428'], '$api': 'SEMMED Disease API', '$source': 'SEMMED'}, 'label': 'coexists_with', 'source': 'SEMMED', 'rank': 20, 'filteredBy': 'CoOccurrence', 'ngd_overall': 0.4628855758182921}), ('MESH:D000755', 'FUSIFORM ANEURYSM', {'info': {'@type': 'Disease', 'name': 'Vascular Diseases', 'UMLS': 'C0042373', 'pubmed': ['23281161'], '$api': 'SEMMED Disease API', '$source': 'SEMMED'}, 'label': 'coexists_with', 'source': 'SEMMED', 'rank': 23, 'filteredBy': 'CoOccurrence', 'ngd_overall': 0.46805692784945646}), ('MESH:D000755', 'BLOOD COAGULATION DISORDERS', {'info': {'@type': 'Disease', 'name': 'Blood Coagulation Disorders', 'UMLS': 'C0005779', 'pubmed': ['12394969'], '$api': 'SEMMED Disease API', '$source': 'SEMMED'}, 'label': 'coexists_with', 'source': 'SEMMED', 'rank': 46, 'filteredBy': 'CoOccurrence', 'ngd_overall': 0.5689918295221845}), ('MESH:D000755', 'BLOOD COAGULATION DISORDERS', {'info': {'@type': 'Disease', 'name': 'Blood Coagulation Disorders', 'UMLS': 'C0005779', 'pubmed': ['20303465'], '$api': 'SEMMED Disease API', '$source': 'SEMMED'}, 'label': 'affects', 'source': 'SEMMED', 'rank': 46, 'filteredBy': 'CoOccurrence', 'ngd_overall': 0.5689918295221845}), ('MESH:D000755', 'ANEMIA, HEMOLYTIC', {'info': {'@type': 'Disease', 'name': 'Anemia, Hemolytic', 'UMLS': 'C0002878', 'pubmed': ['10861813', '11687042', '17998439', '19445751', '20215064', '20923801', '21415949', '21718552', '21981466', '22258951', '24094945', '24678175', '26405395', '26808098'], '$api': 'SEMMED Disease API', '$source': 'SEMMED'}, 'label': 'causes', 'source': 'SEMMED', 'rank': 14, 'filteredBy': 'CoOccurrence', 'ngd_overall': 0.4193873106695017}), ('MESH:D000755', 'ANEMIA, HEMOLYTIC', {'info': {'@type': 'Disease', 'name': 'Anemia, Hemolytic', 'UMLS': 'C0002878', 'pubmed': ['19700663', '24960379', '27845754'], '$api': 'SEMMED Disease API', '$source': 'SEMMED'}, 'label': 'coexists_with', 'source': 'SEMMED', 'rank': 14, 'filteredBy': 'CoOccurrence', 'ngd_overall': 0.4193873106695017}), ('MESH:D000755', 'THROMBOPHILIA', {'info': {'@type': 'Disease', 'name': 'Thrombophilia', 'UMLS': 'C0398623', 'pubmed': ['17854302'], '$api': 'SEMMED Disease API', '$source': 'SEMMED'}, 'label': 'causes', 'source': 'SEMMED', 'rank': 33, 'filteredBy': 'CoOccurrence', 'ngd_overall': 0.5156394672344365}), ('MESH:D000755', 'THROMBOPHILIA', {'info': {'@type': 'Disease', 'name': 'Thrombophilia', 'UMLS': 'C0398623', 'pubmed': ['12616091', '15765033', '15765033', '22535498'], '$api': 'SEMMED Disease API', '$source': 'SEMMED'}, 'label': 'coexists_with', 'source': 'SEMMED', 'rank': 33, 'filteredBy': 'CoOccurrence', 'ngd_overall': 0.5156394672344365}), ('MESH:D000755', 'THROMBOPHILIA', {'info': {'@type': 'Disease', 'name': 'Thrombophilia', 'UMLS': 'C0398623', 'pubmed': ['18450728'], '$api': 'SEMMED Disease API', '$source': 'SEMMED'}, 'label': 'coexists_with', 'source': 'SEMMED', 'rank': 33, 'filteredBy': 'CoOccurrence', 'ngd_overall': 0.5156394672344365}), ('MESH:D000755', 'HEREDITARY SPHEROCYTOSIS', {'info': {'@type': 'Disease', 'name': 'Hereditary spherocytosis', 'UMLS': 'C0037889', 'pubmed': ['24060729'], '$api': 'SEMMED Disease API', '$source': 'SEMMED'}, 'label': 'coexists_with', 'source': 'SEMMED', 'rank': 10, 'filteredBy': 'CoOccurrence', 'ngd_overall': 0.3978274793847991}), ('MESH:D000755', 'FEVER', {'info': {'@type': 'Disease', 'name': 'Fever', 'UMLS': 'C0015967', 'pubmed': ['10381996', '1569641', '17939320', '19050460', '23755165', '26613743', '27980789', '6691757', '8011527'], '$api': 'SEMMED Disease API', '$source': 'SEMMED'}, 'label': 'coexists_with', 'source': 'SEMMED', 'rank': 39, 'filteredBy': 'CoOccurrence', 'ngd_overall': 0.551686360779538}), ('MESH:D000755', 'CEREBRAL INFARCTION', {'info': {'@type': 'Disease', 'name': 'Cerebral Infarction', 'UMLS': 'C0007785', 'pubmed': ['11096755', '23108767', '6770633'], '$api': 'SEMMED Disease API', '$source': 'SEMMED'}, 'label': 'causes', 'source': 'SEMMED', 'rank': 26, 'filteredBy': 'CoOccurrence', 'ngd_overall': 0.47847706925878947}), ('MESH:D000755', 'CEREBRAL INFARCTION', {'info': {'@type': 'Disease', 'name': 'Cerebrovascular Disorders', 'UMLS': 'C0007820', 'pubmed': ['28742875'], '$api': 'SEMMED Disease API', '$source': 'SEMMED'}, 'label': 'causes', 'source': 'SEMMED', 'rank': 26, 'filteredBy': 'CoOccurrence', 'ngd_overall': 0.47847706925878947}), ('MESH:D000755', 'CEREBRAL INFARCTION', {'info': {'@type': 'Disease', 'name': 'Cerebrovascular Disorders', 'UMLS': 'C0007820', 'pubmed': ['29207881', '9750646'], '$api': 'SEMMED Disease API', '$source': 'SEMMED'}, 'label': 'coexists_with', 'source': 'SEMMED', 'rank': 26, 'filteredBy': 'CoOccurrence', 'ngd_overall': 0.47847706925878947}), ('MESH:D000755', 'CEREBRAL INFARCTION', {'info': {'@type': 'Disease', 'name': 'Cerebrovascular Disorders', 'UMLS': 'C0007820', 'pubmed': ['15755278'], '$api': 'SEMMED Disease API', '$source': 'SEMMED'}, 'label': 'affects', 'source': 'SEMMED', 'rank': 26, 'filteredBy': 'CoOccurrence', 'ngd_overall': 0.47847706925878947}), ('MESH:D000755', 'CEREBRAL INFARCTION', {'info': {'@type': 'Disease', 'pmc': ['PMC6717594'], 'DOID': 'DOID:3526', '$api': 'CORD Disease API', '$source': 'Translator Text Mining Provider'}, 'label': 'related_to', 'source': 'Translator Text Mining Provider', 'rank': 26, 'filteredBy': 'CoOccurrence', 'ngd_overall': 0.47847706925878947}), ('MESH:D000755', 'AUTOSOMAL HEMOPHILIA A', {'info': {'@type': 'Disease', 'name': 'Hemophilia A', 'UMLS': 'C0019069', 'pubmed': ['7718427'], '$api': 'SEMMED Disease API', '$source': 'SEMMED'}, 'label': 'coexists_with', 'source': 'SEMMED', 'rank': 50, 'filteredBy': 'CoOccurrence', 'ngd_overall': 0.5777138221585635}), ('MESH:D000755', 'ANEMIA', {'info': {'@type': 'Disease', 'name': 'Anemia', 'UMLS': 'C0002871', 'pubmed': ['20178010', '21444028', '24226646', '25842524', '26005936', '29280474', '7223771'], '$api': 'SEMMED Disease API', '$source': 'SEMMED'}, 'label': 'causes', 'source': 'SEMMED', 'rank': 6, 'filteredBy': 'CoOccurrence', 'ngd_overall': 0.3520097217194215}), ('MESH:D000755', 'ANEMIA', {'info': {'@type': 'Disease', 'name': 'Anemia', 'UMLS': 'C0002871', 'pubmed': ['11107968', '24319217', '26672916', '2933709', '7064893', '8353318'], '$api': 'SEMMED Disease API', '$source': 'SEMMED'}, 'label': 'coexists_with', 'source': 'SEMMED', 'rank': 6, 'filteredBy': 'CoOccurrence', 'ngd_overall': 0.3520097217194215}), ('MESH:D000755', 'ANEMIA', {'info': {'@type': 'Disease', 'name': 'Anemia', 'UMLS': 'C0002871', 'pubmed': ['19810619', '7507737'], '$api': 'SEMMED Disease API', '$source': 'SEMMED'}, 'label': 'affects', 'source': 'SEMMED', 'rank': 6, 'filteredBy': 'CoOccurrence', 'ngd_overall': 0.3520097217194215}), ('MESH:D000755', 'PAROXYSMAL NOCTURNAL HEMOGLOBINURIA', {'info': {'@type': 'Disease', 'name': 'Paroxysmal nocturnal hemoglobinuria', 'UMLS': 'C0024790', 'pubmed': ['18116227'], '$api': 'SEMMED Disease API', '$source': 'SEMMED'}, 'label': 'coexists_with', 'source': 'SEMMED', 'rank': 35, 'filteredBy': 'CoOccurrence', 'ngd_overall': 0.5364568434521865}), ('MESH:D000755', 'INFARCTION', {'info': {'@type': 'Disease', 'name': 'Infarction', 'UMLS': 'C0021308', 'pubmed': ['16522553', '18754304', '22976572', '27891273'], '$api': 'SEMMED Disease API', '$source': 'SEMMED'}, 'label': 'causes', 'source': 'SEMMED', 'rank': 9, 'filteredBy': 'CoOccurrence', 'ngd_overall': 0.3925935858047931}), ('MESH:D000755', 'INFARCTION', {'info': {'@type': 'Disease', 'name': 'Infarction', 'UMLS': 'C0021308', 'pubmed': ['27891273', '3864254', '5911748'], '$api': 'SEMMED Disease API', '$source': 'SEMMED'}, 'label': 'coexists_with', 'source': 'SEMMED', 'rank': 9, 'filteredBy': 'CoOccurrence', 'ngd_overall': 0.3925935858047931}), ('MESH:D000755', 'RETINAL DISEASE', {'info': {'@type': 'Disease', 'name': 'Retinal Diseases', 'UMLS': 'C0035309', 'pubmed': ['23346429'], '$api': 'SEMMED Disease API', '$source': 'SEMMED'}, 'label': 'causes', 'source': 'SEMMED', 'rank': 15, 'filteredBy': 'CoOccurrence', 'ngd_overall': 0.4267209162040386}), ('MESH:D000755', 'RETINAL DISEASE', {'info': {'@type': 'Disease', 'name': 'Retinal Diseases', 'UMLS': 'C0035309', 'pubmed': ['13180644', '6184997', '9275973'], '$api': 'SEMMED Disease API', '$source': 'SEMMED'}, 'label': 'coexists_with', 'source': 'SEMMED', 'rank': 15, 'filteredBy': 'CoOccurrence', 'ngd_overall': 0.4267209162040386}), ('MESH:D000755', 'ICTERUS', {'info': {'@type': 'Disease', 'name': 'Icterus', 'UMLS': 'C0022346', 'pubmed': ['19803025', '432694'], '$api': 'SEMMED Disease API', '$source': 'SEMMED'}, 'label': 'causes', 'source': 'SEMMED', 'rank': 45, 'filteredBy': 'CoOccurrence', 'ngd_overall': 0.5673786279404808}), ('MESH:D000755', 'ICTERUS', {'info': {'@type': 'Disease', 'name': 'Icterus', 'UMLS': 'C0022346', 'pubmed': ['12883614', '26613743'], '$api': 'SEMMED Disease API', '$source': 'SEMMED'}, 'label': 'coexists_with', 'source': 'SEMMED', 'rank': 45, 'filteredBy': 'CoOccurrence', 'ngd_overall': 0.5673786279404808}), ('MESH:D000755', 'ALPHA THALASSEMIA', {'info': {'@type': 'Disease', 'name': 'alpha-Thalassemia', 'UMLS': 'C0002312', 'pubmed': ['3893275'], '$api': 'SEMMED Disease API', '$source': 'SEMMED'}, 'label': 'causes', 'source': 'SEMMED', 'rank': 8, 'filteredBy': 'CoOccurrence', 'ngd_overall': 0.3786116229133875}), ('MESH:D000755', 'ALPHA THALASSEMIA', {'info': {'@type': 'Disease', 'name': 'alpha-Thalassemia', 'UMLS': 'C0002312', 'pubmed': ['17365008', '3893275'], '$api': 'SEMMED Disease API', '$source': 'SEMMED'}, 'label': 'coexists_with', 'source': 'SEMMED', 'rank': 8, 'filteredBy': 'CoOccurrence', 'ngd_overall': 0.3786116229133875}), ('MESH:D000755', 'ALPHA THALASSEMIA', {'info': {'@type': 'Disease', 'name': 'alpha-Thalassemia', 'UMLS': 'C0002312', 'pubmed': ['22065975', '6639889', '9604545'], '$api': 'SEMMED Disease API', '$source': 'SEMMED'}, 'label': 'affects', 'source': 'SEMMED', 'rank': 8, 'filteredBy': 'CoOccurrence', 'ngd_overall': 0.3786116229133875}), ('MESH:D000755', 'ALPHA THALASSEMIA', {'info': {'@type': 'Disease', 'name': 'alpha-Thalassemia', 'UMLS': 'C0002312', 'pubmed': ['633012'], '$api': 'SEMMED Disease API', '$source': 'SEMMED'}, 'label': 'affects', 'source': 'SEMMED', 'rank': 8, 'filteredBy': 'CoOccurrence', 'ngd_overall': 0.3786116229133875}), ('MESH:D000755', 'ALPHA THALASSEMIA', {'info': {'@type': 'Disease', 'name': 'alpha^+^ Thalassemia', 'UMLS': 'C1456873', 'pubmed': ['2441597'], '$api': 'SEMMED Disease API', '$source': 'SEMMED'}, 'label': 'affects', 'source': 'SEMMED', 'rank': 8, 'filteredBy': 'CoOccurrence', 'ngd_overall': 0.3786116229133875}), ('MESH:D000755', 'CHRONIC PAIN', {'info': {'@type': 'Disease', 'name': 'Chronic pain', 'UMLS': 'C0150055', 'pubmed': ['19416438'], '$api': 'SEMMED Disease API', '$source': 'SEMMED'}, 'label': 'causes', 'source': 'SEMMED', 'rank': 38, 'filteredBy': 'CoOccurrence', 'ngd_overall': 0.550984889051767}), ('MESH:D000755', 'CHRONIC PAIN', {'info': {'@type': 'Disease', 'name': 'Chronic pain', 'UMLS': 'C0150055', 'pubmed': ['11748547', '24315252', '28065813', '28394851', '28570479'], '$api': 'SEMMED Disease API', '$source': 'SEMMED'}, 'label': 'coexists_with', 'source': 'SEMMED', 'rank': 38, 'filteredBy': 'CoOccurrence', 'ngd_overall': 0.550984889051767}), ('MESH:D000755', 'FAMILIAL AVASCULAR NECROSIS OF FEMORAL HEAD', {'info': {'@type': 'Disease', 'name': 'Femur Head Necrosis', 'UMLS': 'C0015814', 'pubmed': ['16280713'], '$api': 'SEMMED Disease API', '$source': 'SEMMED'}, 'label': 'coexists_with', 'source': 'SEMMED', 'rank': 16, 'filteredBy': 'CoOccurrence', 'ngd_overall': 0.43257066646386894}), ('MESH:D000755', 'ABDOMINAL PAIN', {'info': {'@type': 'Disease', 'name': 'Abdominal Pain', 'UMLS': 'C0000737', 'pubmed': ['12394969', '8011527'], '$api': 'SEMMED Disease API', '$source': 'SEMMED'}, 'label': 'coexists_with', 'source': 'SEMMED', 'rank': 48, 'filteredBy': 'CoOccurrence', 'ngd_overall': 0.5726787828476807}), ('MESH:D000755', 'LUNG DISEASES', {'info': {'@type': 'Disease', 'name': 'Lung diseases', 'UMLS': 'C0024115', 'pubmed': ['10516198'], '$api': 'SEMMED Disease API', '$source': 'SEMMED'}, 'label': 'coexists_with', 'source': 'SEMMED', 'rank': 47, 'filteredBy': 'CoOccurrence', 'ngd_overall': 0.5706137819995578}), ('MESH:D000755', 'OSTEOMYELITIS', {'info': {'@type': 'Disease', 'name': 'Osteomyelitis', 'UMLS': 'C0029443', 'pubmed': ['1891241'], '$api': 'SEMMED Disease API', '$source': 'SEMMED'}, 'label': 'causes', 'source': 'SEMMED', 'rank': 12, 'filteredBy': 'CoOccurrence', 'ngd_overall': 0.40351981864823605}), ('MESH:D000755', 'OSTEOMYELITIS', {'info': {'@type': 'Disease', 'name': 'Osteomyelitis', 'UMLS': 'C0029443', 'pubmed': ['12070588', '1918111', '26266184', '28417035', '3107360', '5280456', '8370011', '9030084'], '$api': 'SEMMED Disease API', '$source': 'SEMMED'}, 'label': 'coexists_with', 'source': 'SEMMED', 'rank': 12, 'filteredBy': 'CoOccurrence', 'ngd_overall': 0.40351981864823605}), ('MESH:D000755', 'OSTEOMYELITIS', {'info': {'@type': 'Disease', 'name': 'Osteomyelitis', 'UMLS': 'C0029443', 'pubmed': ['23049406'], '$api': 'SEMMED Disease API', '$source': 'SEMMED'}, 'label': 'affects', 'source': 'SEMMED', 'rank': 12, 'filteredBy': 'CoOccurrence', 'ngd_overall': 0.40351981864823605}), ('MESH:D000755', 'MOYAMOYA DISEASE', {'info': {'@type': 'Disease', 'name': 'Moyamoya Disease', 'UMLS': 'C0026654', 'pubmed': ['24901428', '28616936'], '$api': 'SEMMED Disease API', '$source': 'SEMMED'}, 'label': 'causes', 'source': 'SEMMED', 'rank': 27, 'filteredBy': 'CoOccurrence', 'ngd_overall': 0.4794969611477241}), ('MESH:D000755', 'MOYAMOYA DISEASE', {'info': {'@type': 'Disease', 'name': 'Moyamoya Disease', 'UMLS': 'C0026654', 'pubmed': ['18025932', '19335126', '19335126'], '$api': 'SEMMED Disease API', '$source': 'SEMMED'}, 'label': 'coexists_with', 'source': 'SEMMED', 'rank': 27, 'filteredBy': 'CoOccurrence', 'ngd_overall': 0.4794969611477241}), ('MESH:D000755', 'AUTOSOMAL RECESSIVE INHERITED PSEUDOXANTHOMA ELASTICUM', {'info': {'@type': 'Disease', 'name': 'Pseudoxanthoma Elasticum', 'UMLS': 'C0033847', 'pubmed': ['21281810'], '$api': 'SEMMED Disease API', '$source': 'SEMMED'}, 'label': 'coexists_with', 'source': 'SEMMED', 'rank': 34, 'filteredBy': 'CoOccurrence', 'ngd_overall': 0.532730192199749}), ('MESH:D000755', 'INHERITED GENETIC DISEASE', {'info': {'@type': 'Disease', 'pmc': ['PMC6794261'], 'DOID': 'DOID:630', '$api': 'CORD Disease API', '$source': 'Translator Text Mining Provider'}, 'label': 'related_to', 'source': 'Translator Text Mining Provider', 'rank': 36, 'filteredBy': 'CoOccurrence', 'ngd_overall': 0.5461273543901114}), ('MESH:D000755', 'SALMONELLOSIS', {'info': {'@type': 'Disease', 'name': 'Salmonella infections', 'UMLS': 'C0036117', 'pubmed': ['27171941'], '$api': 'SEMMED Disease API', '$source': 'SEMMED'}, 'label': 'coexists_with', 'source': 'SEMMED', 'rank': 21, 'filteredBy': 'CoOccurrence', 'ngd_overall': 0.4642005135020007}), ('MESH:D000755', 'BETA THALASSEMIA', {'info': {'@type': 'Disease', 'pmc': ['PMC6521475', 'PMC6585407'], 'DOID': 'DOID:12241', '$api': 'CORD Disease API', '$source': 'Translator Text Mining Provider'}, 'label': 'related_to', 'source': 'Translator Text Mining Provider', 'rank': 3, 'filteredBy': 'CoOccurrence', 'ngd_overall': 0.2953707408796542}), ('MESH:D000755', 'HYPOXIA', {'info': {'@type': 'Disease', 'name': 'Hypoxia', 'UMLS': 'C0242184', 'pubmed': ['12714517', '22866669'], '$api': 'SEMMED Disease API', '$source': 'SEMMED'}, 'label': 'causes', 'source': 'SEMMED', 'rank': 37, 'filteredBy': 'CoOccurrence', 'ngd_overall': 0.5496181880541411}), ('MESH:D000755', 'HYPOXIA', {'info': {'@type': 'Disease', 'name': 'Hypoxia', 'UMLS': 'C0242184', 'pubmed': ['24744195'], '$api': 'SEMMED Disease API', '$source': 'SEMMED'}, 'label': 'coexists_with', 'source': 'SEMMED', 'rank': 37, 'filteredBy': 'CoOccurrence', 'ngd_overall': 0.5496181880541411}), ('MESH:D000755', 'HYPOXIA', {'info': {'@type': 'Disease', 'name': 'Hypoxia', 'UMLS': 'C0242184', 'pubmed': ['12955667', '27026725'], '$api': 'SEMMED Disease API', '$source': 'SEMMED'}, 'label': 'affects', 'source': 'SEMMED', 'rank': 37, 'filteredBy': 'CoOccurrence', 'ngd_overall': 0.5496181880541411}), ('MESH:D000755', 'ANGIOID STREAKS', {'info': {'@type': 'Disease', 'name': 'Angioid Streaks', 'UMLS': 'C0002982', 'pubmed': ['19436620', '27116514', '27614462'], '$api': 'SEMMED Disease API', '$source': 'SEMMED'}, 'label': 'coexists_with', 'source': 'SEMMED', 'rank': 29, 'filteredBy': 'CoOccurrence', 'ngd_overall': 0.4862738773806672}), ('MESH:D000755', 'HYPOCHROMIC ANEMIA (DISEASE)', {'info': {'@type': 'Disease', 'name': 'Iron deficiency anemia', 'UMLS': 'C0162316', 'pubmed': ['12836524'], '$api': 'SEMMED Disease API', '$source': 'SEMMED'}, 'label': 'coexists_with', 'source': 'SEMMED', 'rank': 43, 'filteredBy': 'CoOccurrence', 'ngd_overall': 0.5646857120843349}), ('MESH:D000755', 'HEMOLYSIS (DISORDER)', {'info': {'@type': 'Disease', 'name': 'Hemolysis (disorder)', 'UMLS': 'C0019054', 'pubmed': ['16521870', '18461136', '20113285', '21114906', '22409346', '27274608', '28911832', '7507737'], '$api': 'SEMMED Disease API', '$source': 'SEMMED'}, 'label': 'affects', 'source': 'SEMMED', 'rank': 11, 'filteredBy': 'CoOccurrence', 'ngd_overall': 0.40065968926209544}), ('MESH:D000755', 'HEPATOMEGALY', {'info': {'@type': 'Disease', 'name': 'Hepatomegaly', 'UMLS': 'C0019209', 'pubmed': ['12394969'], '$api': 'SEMMED Disease API', '$source': 'SEMMED'}, 'label': 'coexists_with', 'source': 'SEMMED', 'rank': 40, 'filteredBy': 'CoOccurrence', 'ngd_overall': 0.5533042266593873}), ('MESH:D000755', 'RETICULOCYTOSIS', {'info': {'@type': 'Disease', 'name': 'Reticulocytosis', 'UMLS': 'C0206160', 'pubmed': ['6831046', '6831046'], '$api': 'SEMMED Disease API', '$source': 'SEMMED'}, 'label': 'causes', 'source': 'SEMMED', 'rank': 31, 'filteredBy': 'CoOccurrence', 'ngd_overall': 0.49225239664898446}), ('MESH:D000755', 'AVASCULAR NECROSIS', {'info': {'@type': 'Disease', 'name': 'Bone necrosis', 'UMLS': 'C0029445', 'pubmed': ['11685144', '12399710', '1944426', '20099672', '25551782', '26754298', '4028315', '4028315', '6527336', '7773653', '8472404'], '$api': 'SEMMED Disease API', '$source': 'SEMMED'}, 'label': 'causes', 'source': 'SEMMED', 'rank': 18, 'filteredBy': 'CoOccurrence', 'ngd_overall': 0.4584564892145935}), ('MESH:D000755', 'AVASCULAR NECROSIS', {'info': {'@type': 'Disease', 'name': 'Bone necrosis', 'UMLS': 'C0029445', 'pubmed': ['12735623', '12735623'], '$api': 'SEMMED Disease API', '$source': 'SEMMED'}, 'label': 'coexists_with', 'source': 'SEMMED', 'rank': 18, 'filteredBy': 'CoOccurrence', 'ngd_overall': 0.4584564892145935}), ('MESH:D000755', 'AVASCULAR NECROSIS', {'info': {'@type': 'Disease', 'name': 'Bone necrosis', 'UMLS': 'C0029445', 'pubmed': ['23049406'], '$api': 'SEMMED Disease API', '$source': 'SEMMED'}, 'label': 'affects', 'source': 'SEMMED', 'rank': 18, 'filteredBy': 'CoOccurrence', 'ngd_overall': 0.4584564892145935}), ('MESH:D000755', 'ALBUMINURIA', {'info': {'@type': 'Disease', 'name': 'Albuminuria', 'UMLS': 'C0001925', 'pubmed': ['7733120'], '$api': 'SEMMED Disease API', '$source': 'SEMMED'}, 'label': 'coexists_with', 'source': 'SEMMED', 'rank': 32, 'filteredBy': 'CoOccurrence', 'ngd_overall': 0.5140220880286996}), ('MESH:D000755', 'PRIAPISM', {'info': {'@type': 'Disease', 'name': 'Priapism', 'UMLS': 'C0033117', 'pubmed': ['10953801', '11035401', '11337305', '1413361', '15409345', '17175874', '17175874', '17666717', '18903542', '19616292', '23293942', '23293942', '24611951', '24705475', '25104179', '28538505', '490830', '660730', '8307084', '8326584', '8650876'], '$api': 'SEMMED Disease API', '$source': 'SEMMED'}, 'label': 'causes', 'source': 'SEMMED', 'rank': 7, 'filteredBy': 'CoOccurrence', 'ngd_overall': 0.35242510343620204}), ('MESH:D000755', 'PRIAPISM', {'info': {'@type': 'Disease', 'name': 'Priapism', 'UMLS': 'C0033117', 'pubmed': ['12751604', '12751604', '13381009', '13905169', '18312286', '18312286', '2047776', '20490352', '21520650', '21520650', '21520650', '21699659', '21810190', '24680796', '25371242', '25833166', '26142586', '7714988', '7714988', '7714988', '8854068', '9586621'], '$api': 'SEMMED Disease API', '$source': 'SEMMED'}, 'label': 'coexists_with', 'source': 'SEMMED', 'rank': 7, 'filteredBy': 'CoOccurrence', 'ngd_overall': 0.35242510343620204}), ('MESH:D000755', 'PRIAPISM', {'info': {'@type': 'Disease', 'name': 'Priapism', 'UMLS': 'C0033117', 'pubmed': ['2047776'], '$api': 'SEMMED Disease API', '$source': 'SEMMED'}, 'label': 'coexists_with', 'source': 'SEMMED', 'rank': 7, 'filteredBy': 'CoOccurrence', 'ngd_overall': 0.35242510343620204}), ('MESH:D000755', 'PRIAPISM', {'info': {'@type': 'Disease', 'name': 'Priapism', 'UMLS': 'C0033117', 'pubmed': ['20538321'], '$api': 'SEMMED Disease API', '$source': 'SEMMED'}, 'label': 'affects', 'source': 'SEMMED', 'rank': 7, 'filteredBy': 'CoOccurrence', 'ngd_overall': 0.35242510343620204}), ('MESH:D000755', 'ACUTE CHEST SYNDROME', {'info': {'@type': 'Disease', 'name': 'Acute Chest Syndrome', 'UMLS': 'C0742343', 'pubmed': ['10516198', '11673218', '16550522', '19302944', '24319217', '28703372'], '$api': 'SEMMED Disease API', '$source': 'SEMMED'}, 'label': 'coexists_with', 'source': 'SEMMED', 'rank': 5, 'filteredBy': 'CoOccurrence', 'ngd_overall': 0.31477931894698585}), ('MESH:D000755', 'ACUTE CHEST SYNDROME', {'info': {'@type': 'Disease', 'name': 'Acute Chest Syndrome', 'UMLS': 'C0742343', 'pubmed': ['16860119', '1898750', '20644948', '22891585'], '$api': 'SEMMED Disease API', '$source': 'SEMMED'}, 'label': 'affects', 'source': 'SEMMED', 'rank': 5, 'filteredBy': 'CoOccurrence', 'ngd_overall': 0.31477931894698585})])"
      ]
     },
     "execution_count": 228,
     "metadata": {},
     "output_type": "execute_result"
    }
   ],
   "source": [
    "G1.edges.data()"
   ]
  },
  {
   "cell_type": "code",
   "execution_count": 229,
   "metadata": {},
   "outputs": [
    {
     "data": {
      "text/plain": [
       "OutMultiEdgeDataView([('MESH:D000755', 'BONE DISEASE', {'info': {'@type': 'Disease', 'name': 'Bone Diseases', 'UMLS': 'C0005940', 'pubmed': ['7282730'], '$api': 'SEMMED Disease API', '$source': 'SEMMED'}, 'label': 'coexists_with', 'source': 'SEMMED', 'rank': 25, 'filteredBy': 'CoOccurrence', 'ngd_overall': 0.47739189906836266}), ('MESH:D000755', 'MULTIPLE ORGAN FAILURE', {'info': {'@type': 'Disease', 'name': 'Multiple Organ Failure', 'UMLS': 'C0026766', 'pubmed': ['26283706'], '$api': 'SEMMED Disease API', '$source': 'SEMMED'}, 'label': 'coexists_with', 'source': 'SEMMED', 'rank': 44, 'filteredBy': 'CoOccurrence', 'ngd_overall': 0.5655872915508444}), ('MESH:D000755', 'SPLENIC INFARCTION', {'info': {'@type': 'Disease', 'name': 'Splenic Infarction', 'UMLS': 'C0037998', 'pubmed': ['13409094'], '$api': 'SEMMED Disease API', '$source': 'SEMMED'}, 'label': 'causes', 'source': 'SEMMED', 'rank': 13, 'filteredBy': 'CoOccurrence', 'ngd_overall': 0.41255997965932023}), ('MESH:D000755', 'SPLENIC INFARCTION', {'info': {'@type': 'Disease', 'name': 'Splenic Infarction', 'UMLS': 'C0037998', 'pubmed': ['20928991'], '$api': 'SEMMED Disease API', '$source': 'SEMMED'}, 'label': 'coexists_with', 'source': 'SEMMED', 'rank': 13, 'filteredBy': 'CoOccurrence', 'ngd_overall': 0.41255997965932023}), ('MESH:D000755', 'PULMONARY HYPERTENSION', {'info': {'@type': 'Disease', 'name': 'Pulmonary Hypertension', 'UMLS': 'C0020542', 'pubmed': ['17569101', '18068240', '18212317', '20409257', '20409257', '20578237', '24611951'], '$api': 'SEMMED Disease API', '$source': 'SEMMED'}, 'label': 'causes', 'source': 'SEMMED', 'rank': 22, 'filteredBy': 'CoOccurrence', 'ngd_overall': 0.4658974351897532}), ('MESH:D000755', 'PULMONARY HYPERTENSION', {'info': {'@type': 'Disease', 'name': 'Pulmonary Hypertension', 'UMLS': 'C0020542', 'pubmed': ['17724699', '18470553', '18470553', '20490352', '21973051', '22160068', '27583566', '27726639'], '$api': 'SEMMED Disease API', '$source': 'SEMMED'}, 'label': 'coexists_with', 'source': 'SEMMED', 'rank': 22, 'filteredBy': 'CoOccurrence', 'ngd_overall': 0.4658974351897532}), ('MESH:D000755', 'PULMONARY HYPERTENSION', {'info': {'@type': 'Disease', 'name': 'Pulmonary Hypertension', 'UMLS': 'C0020542', 'pubmed': ['18411415'], '$api': 'SEMMED Disease API', '$source': 'SEMMED'}, 'label': 'affects', 'source': 'SEMMED', 'rank': 22, 'filteredBy': 'CoOccurrence', 'ngd_overall': 0.4658974351897532}), ('MESH:D000755', 'HEMOGLOBIN SC DISEASE', {'info': {'@type': 'Disease', 'name': 'Hemoglobin SC Disease', 'UMLS': 'C0019034', 'pubmed': ['2334206', '6602968'], '$api': 'SEMMED Disease API', '$source': 'SEMMED'}, 'label': 'coexists_with', 'source': 'SEMMED', 'rank': 4, 'filteredBy': 'CoOccurrence', 'ngd_overall': 0.3034697682970486}), ('MESH:D000755', 'SPLENOMEGALY', {'info': {'@type': 'Disease', 'name': 'Splenomegaly', 'UMLS': 'C0038002', 'pubmed': ['24284096'], '$api': 'SEMMED Disease API', '$source': 'SEMMED'}, 'label': 'causes', 'source': 'SEMMED', 'rank': 17, 'filteredBy': 'CoOccurrence', 'ngd_overall': 0.4466686824466349}), ('MESH:D000755', 'ARTHROPATHY', {'info': {'@type': 'Disease', 'name': 'Arthropathy', 'UMLS': 'C0022408', 'pubmed': ['2037633'], '$api': 'SEMMED Disease API', '$source': 'SEMMED'}, 'label': 'causes', 'source': 'SEMMED', 'rank': 49, 'filteredBy': 'CoOccurrence', 'ngd_overall': 0.5729558012094408}), ('MESH:D000755', 'ARTHROPATHY', {'info': {'@type': 'Disease', 'name': 'Arthropathy', 'UMLS': 'C0022408', 'pubmed': ['8498173'], '$api': 'SEMMED Disease API', '$source': 'SEMMED'}, 'label': 'coexists_with', 'source': 'SEMMED', 'rank': 49, 'filteredBy': 'CoOccurrence', 'ngd_overall': 0.5729558012094408}), ('MESH:D000755', 'DEHYDRATION', {'info': {'@type': 'Disease', 'name': 'Dehydration', 'UMLS': 'C0011175', 'pubmed': ['10682780', '20182354'], '$api': 'SEMMED Disease API', '$source': 'SEMMED'}, 'label': 'coexists_with', 'source': 'SEMMED', 'rank': 41, 'filteredBy': 'CoOccurrence', 'ngd_overall': 0.55376544002199}), ('MESH:D000755', 'ACUTE ONSET PAIN', {'info': {'@type': 'Disease', 'name': 'Acute onset pain', 'UMLS': 'C0184567', 'pubmed': ['17443589', '17443589', '22696351', '22696351', '25764071', '25764071', '28759112', '28759112', '7694538'], '$api': 'SEMMED Disease API', '$source': 'SEMMED'}, 'label': 'coexists_with', 'source': 'SEMMED', 'rank': 19, 'filteredBy': 'CoOccurrence', 'ngd_overall': 0.461947085879603}), ('MESH:D000755', 'INTRAHEPATIC CHOLESTASIS', {'info': {'@type': 'Disease', 'name': 'Intrahepatic Cholestasis', 'UMLS': 'C0008372', 'pubmed': ['12352306', '3713167'], '$api': 'SEMMED Disease API', '$source': 'SEMMED'}, 'label': 'coexists_with', 'source': 'SEMMED', 'rank': 42, 'filteredBy': 'CoOccurrence', 'ngd_overall': 0.5569852720519719}), ('MESH:D000755', 'MALARIA', {'info': {'@type': 'Disease', 'name': 'Malaria', 'UMLS': 'C0024530', 'pubmed': ['14962372'], '$api': 'SEMMED Disease API', '$source': 'SEMMED'}, 'label': 'causes', 'source': 'SEMMED', 'rank': 28, 'filteredBy': 'CoOccurrence', 'ngd_overall': 0.4846518073624127}), ('MESH:D000755', 'MALARIA', {'info': {'@type': 'Disease', 'name': 'Malaria', 'UMLS': 'C0024530', 'pubmed': ['12917969', '17054173', '22372205', '23746538'], '$api': 'SEMMED Disease API', '$source': 'SEMMED'}, 'label': 'coexists_with', 'source': 'SEMMED', 'rank': 28, 'filteredBy': 'CoOccurrence', 'ngd_overall': 0.4846518073624127}), ('MESH:D000755', 'MALARIA', {'info': {'@type': 'Disease', 'name': 'Malaria', 'UMLS': 'C0024530', 'pubmed': ['16396876'], '$api': 'SEMMED Disease API', '$source': 'SEMMED'}, 'label': 'affects', 'source': 'SEMMED', 'rank': 28, 'filteredBy': 'CoOccurrence', 'ngd_overall': 0.4846518073624127}), ('MESH:D000755', 'THALASSEMIA', {'info': {'@type': 'Disease', 'name': 'Thalassemia', 'UMLS': 'C0039730', 'pubmed': ['5328679'], '$api': 'SEMMED Disease API', '$source': 'SEMMED'}, 'label': 'causes', 'source': 'SEMMED', 'rank': 1, 'filteredBy': 'CoOccurrence', 'ngd_overall': 0.24283643156899448}), ('MESH:D000755', 'THALASSEMIA', {'info': {'@type': 'Disease', 'name': 'Thalassemia', 'UMLS': 'C0039730', 'pubmed': ['21772051', '23103424', '23103424', '9386828'], '$api': 'SEMMED Disease API', '$source': 'SEMMED'}, 'label': 'coexists_with', 'source': 'SEMMED', 'rank': 1, 'filteredBy': 'CoOccurrence', 'ngd_overall': 0.24283643156899448}), ('MESH:D000755', 'THALASSEMIA', {'info': {'@type': 'Disease', 'name': 'Thalassemia', 'UMLS': 'C0039730', 'pubmed': ['2288216'], '$api': 'SEMMED Disease API', '$source': 'SEMMED'}, 'label': 'affects', 'source': 'SEMMED', 'rank': 1, 'filteredBy': 'CoOccurrence', 'ngd_overall': 0.24283643156899448}), ('MESH:D000755', 'ALPHA-THALASSEMIA', {'info': {'@type': 'Disease', 'name': 'Hemoglobinopathies', 'UMLS': 'C0019045', 'pubmed': ['11400797', '16096527', '25176145'], '$api': 'SEMMED Disease API', '$source': 'SEMMED'}, 'label': 'coexists_with', 'source': 'SEMMED', 'rank': 2, 'filteredBy': 'CoOccurrence', 'ngd_overall': 0.29379813011804257}), ('MESH:D000755', 'ALPHA-THALASSEMIA', {'info': {'@type': 'Disease', 'name': 'Hemoglobinopathies', 'UMLS': 'C0019045', 'pubmed': ['20207263', '3794213'], '$api': 'SEMMED Disease API', '$source': 'SEMMED'}, 'label': 'affects', 'source': 'SEMMED', 'rank': 2, 'filteredBy': 'CoOccurrence', 'ngd_overall': 0.29379813011804257}), ('MESH:D000755', 'CHEST PAIN', {'info': {'@type': 'Disease', 'name': 'Chest Pain', 'UMLS': 'C0008031', 'pubmed': ['2038080'], '$api': 'SEMMED Disease API', '$source': 'SEMMED'}, 'label': 'coexists_with', 'source': 'SEMMED', 'rank': 30, 'filteredBy': 'CoOccurrence', 'ngd_overall': 0.49155141194003193}), ('MESH:D000755', 'HEMATURIA', {'info': {'@type': 'Disease', 'name': 'Hematuria', 'UMLS': 'C0018965', 'pubmed': ['25035790', '25787946', '28341428', '28341428', '4233740'], '$api': 'SEMMED Disease API', '$source': 'SEMMED'}, 'label': 'coexists_with', 'source': 'SEMMED', 'rank': 24, 'filteredBy': 'CoOccurrence', 'ngd_overall': 0.47233201935874874}), ('MESH:D000755', 'KIDNEY PAPILLARY NECROSIS', {'info': {'@type': 'Disease', 'name': 'Kidney Papillary Necrosis', 'UMLS': 'C0022667', 'pubmed': ['28341428', '28341428'], '$api': 'SEMMED Disease API', '$source': 'SEMMED'}, 'label': 'coexists_with', 'source': 'SEMMED', 'rank': 20, 'filteredBy': 'CoOccurrence', 'ngd_overall': 0.4628855758182921}), ('MESH:D000755', 'FUSIFORM ANEURYSM', {'info': {'@type': 'Disease', 'name': 'Vascular Diseases', 'UMLS': 'C0042373', 'pubmed': ['23281161'], '$api': 'SEMMED Disease API', '$source': 'SEMMED'}, 'label': 'coexists_with', 'source': 'SEMMED', 'rank': 23, 'filteredBy': 'CoOccurrence', 'ngd_overall': 0.46805692784945646}), ('MESH:D000755', 'BLOOD COAGULATION DISORDERS', {'info': {'@type': 'Disease', 'name': 'Blood Coagulation Disorders', 'UMLS': 'C0005779', 'pubmed': ['12394969'], '$api': 'SEMMED Disease API', '$source': 'SEMMED'}, 'label': 'coexists_with', 'source': 'SEMMED', 'rank': 46, 'filteredBy': 'CoOccurrence', 'ngd_overall': 0.5689918295221845}), ('MESH:D000755', 'BLOOD COAGULATION DISORDERS', {'info': {'@type': 'Disease', 'name': 'Blood Coagulation Disorders', 'UMLS': 'C0005779', 'pubmed': ['20303465'], '$api': 'SEMMED Disease API', '$source': 'SEMMED'}, 'label': 'affects', 'source': 'SEMMED', 'rank': 46, 'filteredBy': 'CoOccurrence', 'ngd_overall': 0.5689918295221845}), ('MESH:D000755', 'ANEMIA, HEMOLYTIC', {'info': {'@type': 'Disease', 'name': 'Anemia, Hemolytic', 'UMLS': 'C0002878', 'pubmed': ['10861813', '11687042', '17998439', '19445751', '20215064', '20923801', '21415949', '21718552', '21981466', '22258951', '24094945', '24678175', '26405395', '26808098'], '$api': 'SEMMED Disease API', '$source': 'SEMMED'}, 'label': 'causes', 'source': 'SEMMED', 'rank': 14, 'filteredBy': 'CoOccurrence', 'ngd_overall': 0.4193873106695017}), ('MESH:D000755', 'ANEMIA, HEMOLYTIC', {'info': {'@type': 'Disease', 'name': 'Anemia, Hemolytic', 'UMLS': 'C0002878', 'pubmed': ['19700663', '24960379', '27845754'], '$api': 'SEMMED Disease API', '$source': 'SEMMED'}, 'label': 'coexists_with', 'source': 'SEMMED', 'rank': 14, 'filteredBy': 'CoOccurrence', 'ngd_overall': 0.4193873106695017}), ('MESH:D000755', 'THROMBOPHILIA', {'info': {'@type': 'Disease', 'name': 'Thrombophilia', 'UMLS': 'C0398623', 'pubmed': ['17854302'], '$api': 'SEMMED Disease API', '$source': 'SEMMED'}, 'label': 'causes', 'source': 'SEMMED', 'rank': 33, 'filteredBy': 'CoOccurrence', 'ngd_overall': 0.5156394672344365}), ('MESH:D000755', 'THROMBOPHILIA', {'info': {'@type': 'Disease', 'name': 'Thrombophilia', 'UMLS': 'C0398623', 'pubmed': ['12616091', '15765033', '15765033', '22535498'], '$api': 'SEMMED Disease API', '$source': 'SEMMED'}, 'label': 'coexists_with', 'source': 'SEMMED', 'rank': 33, 'filteredBy': 'CoOccurrence', 'ngd_overall': 0.5156394672344365}), ('MESH:D000755', 'THROMBOPHILIA', {'info': {'@type': 'Disease', 'name': 'Thrombophilia', 'UMLS': 'C0398623', 'pubmed': ['18450728'], '$api': 'SEMMED Disease API', '$source': 'SEMMED'}, 'label': 'coexists_with', 'source': 'SEMMED', 'rank': 33, 'filteredBy': 'CoOccurrence', 'ngd_overall': 0.5156394672344365}), ('MESH:D000755', 'HEREDITARY SPHEROCYTOSIS', {'info': {'@type': 'Disease', 'name': 'Hereditary spherocytosis', 'UMLS': 'C0037889', 'pubmed': ['24060729'], '$api': 'SEMMED Disease API', '$source': 'SEMMED'}, 'label': 'coexists_with', 'source': 'SEMMED', 'rank': 10, 'filteredBy': 'CoOccurrence', 'ngd_overall': 0.3978274793847991}), ('MESH:D000755', 'FEVER', {'info': {'@type': 'Disease', 'name': 'Fever', 'UMLS': 'C0015967', 'pubmed': ['10381996', '1569641', '17939320', '19050460', '23755165', '26613743', '27980789', '6691757', '8011527'], '$api': 'SEMMED Disease API', '$source': 'SEMMED'}, 'label': 'coexists_with', 'source': 'SEMMED', 'rank': 39, 'filteredBy': 'CoOccurrence', 'ngd_overall': 0.551686360779538}), ('MESH:D000755', 'CEREBRAL INFARCTION', {'info': {'@type': 'Disease', 'name': 'Cerebral Infarction', 'UMLS': 'C0007785', 'pubmed': ['11096755', '23108767', '6770633'], '$api': 'SEMMED Disease API', '$source': 'SEMMED'}, 'label': 'causes', 'source': 'SEMMED', 'rank': 26, 'filteredBy': 'CoOccurrence', 'ngd_overall': 0.47847706925878947}), ('MESH:D000755', 'CEREBRAL INFARCTION', {'info': {'@type': 'Disease', 'name': 'Cerebrovascular Disorders', 'UMLS': 'C0007820', 'pubmed': ['28742875'], '$api': 'SEMMED Disease API', '$source': 'SEMMED'}, 'label': 'causes', 'source': 'SEMMED', 'rank': 26, 'filteredBy': 'CoOccurrence', 'ngd_overall': 0.47847706925878947}), ('MESH:D000755', 'CEREBRAL INFARCTION', {'info': {'@type': 'Disease', 'name': 'Cerebrovascular Disorders', 'UMLS': 'C0007820', 'pubmed': ['29207881', '9750646'], '$api': 'SEMMED Disease API', '$source': 'SEMMED'}, 'label': 'coexists_with', 'source': 'SEMMED', 'rank': 26, 'filteredBy': 'CoOccurrence', 'ngd_overall': 0.47847706925878947}), ('MESH:D000755', 'CEREBRAL INFARCTION', {'info': {'@type': 'Disease', 'name': 'Cerebrovascular Disorders', 'UMLS': 'C0007820', 'pubmed': ['15755278'], '$api': 'SEMMED Disease API', '$source': 'SEMMED'}, 'label': 'affects', 'source': 'SEMMED', 'rank': 26, 'filteredBy': 'CoOccurrence', 'ngd_overall': 0.47847706925878947}), ('MESH:D000755', 'CEREBRAL INFARCTION', {'info': {'@type': 'Disease', 'pmc': ['PMC6717594'], 'DOID': 'DOID:3526', '$api': 'CORD Disease API', '$source': 'Translator Text Mining Provider'}, 'label': 'related_to', 'source': 'Translator Text Mining Provider', 'rank': 26, 'filteredBy': 'CoOccurrence', 'ngd_overall': 0.47847706925878947}), ('MESH:D000755', 'AUTOSOMAL HEMOPHILIA A', {'info': {'@type': 'Disease', 'name': 'Hemophilia A', 'UMLS': 'C0019069', 'pubmed': ['7718427'], '$api': 'SEMMED Disease API', '$source': 'SEMMED'}, 'label': 'coexists_with', 'source': 'SEMMED', 'rank': 50, 'filteredBy': 'CoOccurrence', 'ngd_overall': 0.5777138221585635}), ('MESH:D000755', 'ANEMIA', {'info': {'@type': 'Disease', 'name': 'Anemia', 'UMLS': 'C0002871', 'pubmed': ['20178010', '21444028', '24226646', '25842524', '26005936', '29280474', '7223771'], '$api': 'SEMMED Disease API', '$source': 'SEMMED'}, 'label': 'causes', 'source': 'SEMMED', 'rank': 6, 'filteredBy': 'CoOccurrence', 'ngd_overall': 0.3520097217194215}), ('MESH:D000755', 'ANEMIA', {'info': {'@type': 'Disease', 'name': 'Anemia', 'UMLS': 'C0002871', 'pubmed': ['11107968', '24319217', '26672916', '2933709', '7064893', '8353318'], '$api': 'SEMMED Disease API', '$source': 'SEMMED'}, 'label': 'coexists_with', 'source': 'SEMMED', 'rank': 6, 'filteredBy': 'CoOccurrence', 'ngd_overall': 0.3520097217194215}), ('MESH:D000755', 'ANEMIA', {'info': {'@type': 'Disease', 'name': 'Anemia', 'UMLS': 'C0002871', 'pubmed': ['19810619', '7507737'], '$api': 'SEMMED Disease API', '$source': 'SEMMED'}, 'label': 'affects', 'source': 'SEMMED', 'rank': 6, 'filteredBy': 'CoOccurrence', 'ngd_overall': 0.3520097217194215}), ('MESH:D000755', 'PAROXYSMAL NOCTURNAL HEMOGLOBINURIA', {'info': {'@type': 'Disease', 'name': 'Paroxysmal nocturnal hemoglobinuria', 'UMLS': 'C0024790', 'pubmed': ['18116227'], '$api': 'SEMMED Disease API', '$source': 'SEMMED'}, 'label': 'coexists_with', 'source': 'SEMMED', 'rank': 35, 'filteredBy': 'CoOccurrence', 'ngd_overall': 0.5364568434521865}), ('MESH:D000755', 'INFARCTION', {'info': {'@type': 'Disease', 'name': 'Infarction', 'UMLS': 'C0021308', 'pubmed': ['16522553', '18754304', '22976572', '27891273'], '$api': 'SEMMED Disease API', '$source': 'SEMMED'}, 'label': 'causes', 'source': 'SEMMED', 'rank': 9, 'filteredBy': 'CoOccurrence', 'ngd_overall': 0.3925935858047931}), ('MESH:D000755', 'INFARCTION', {'info': {'@type': 'Disease', 'name': 'Infarction', 'UMLS': 'C0021308', 'pubmed': ['27891273', '3864254', '5911748'], '$api': 'SEMMED Disease API', '$source': 'SEMMED'}, 'label': 'coexists_with', 'source': 'SEMMED', 'rank': 9, 'filteredBy': 'CoOccurrence', 'ngd_overall': 0.3925935858047931}), ('MESH:D000755', 'RETINAL DISEASE', {'info': {'@type': 'Disease', 'name': 'Retinal Diseases', 'UMLS': 'C0035309', 'pubmed': ['23346429'], '$api': 'SEMMED Disease API', '$source': 'SEMMED'}, 'label': 'causes', 'source': 'SEMMED', 'rank': 15, 'filteredBy': 'CoOccurrence', 'ngd_overall': 0.4267209162040386}), ('MESH:D000755', 'RETINAL DISEASE', {'info': {'@type': 'Disease', 'name': 'Retinal Diseases', 'UMLS': 'C0035309', 'pubmed': ['13180644', '6184997', '9275973'], '$api': 'SEMMED Disease API', '$source': 'SEMMED'}, 'label': 'coexists_with', 'source': 'SEMMED', 'rank': 15, 'filteredBy': 'CoOccurrence', 'ngd_overall': 0.4267209162040386}), ('MESH:D000755', 'ICTERUS', {'info': {'@type': 'Disease', 'name': 'Icterus', 'UMLS': 'C0022346', 'pubmed': ['19803025', '432694'], '$api': 'SEMMED Disease API', '$source': 'SEMMED'}, 'label': 'causes', 'source': 'SEMMED', 'rank': 45, 'filteredBy': 'CoOccurrence', 'ngd_overall': 0.5673786279404808}), ('MESH:D000755', 'ICTERUS', {'info': {'@type': 'Disease', 'name': 'Icterus', 'UMLS': 'C0022346', 'pubmed': ['12883614', '26613743'], '$api': 'SEMMED Disease API', '$source': 'SEMMED'}, 'label': 'coexists_with', 'source': 'SEMMED', 'rank': 45, 'filteredBy': 'CoOccurrence', 'ngd_overall': 0.5673786279404808}), ('MESH:D000755', 'ALPHA THALASSEMIA', {'info': {'@type': 'Disease', 'name': 'alpha-Thalassemia', 'UMLS': 'C0002312', 'pubmed': ['3893275'], '$api': 'SEMMED Disease API', '$source': 'SEMMED'}, 'label': 'causes', 'source': 'SEMMED', 'rank': 8, 'filteredBy': 'CoOccurrence', 'ngd_overall': 0.3786116229133875}), ('MESH:D000755', 'ALPHA THALASSEMIA', {'info': {'@type': 'Disease', 'name': 'alpha-Thalassemia', 'UMLS': 'C0002312', 'pubmed': ['17365008', '3893275'], '$api': 'SEMMED Disease API', '$source': 'SEMMED'}, 'label': 'coexists_with', 'source': 'SEMMED', 'rank': 8, 'filteredBy': 'CoOccurrence', 'ngd_overall': 0.3786116229133875}), ('MESH:D000755', 'ALPHA THALASSEMIA', {'info': {'@type': 'Disease', 'name': 'alpha-Thalassemia', 'UMLS': 'C0002312', 'pubmed': ['22065975', '6639889', '9604545'], '$api': 'SEMMED Disease API', '$source': 'SEMMED'}, 'label': 'affects', 'source': 'SEMMED', 'rank': 8, 'filteredBy': 'CoOccurrence', 'ngd_overall': 0.3786116229133875}), ('MESH:D000755', 'ALPHA THALASSEMIA', {'info': {'@type': 'Disease', 'name': 'alpha-Thalassemia', 'UMLS': 'C0002312', 'pubmed': ['633012'], '$api': 'SEMMED Disease API', '$source': 'SEMMED'}, 'label': 'affects', 'source': 'SEMMED', 'rank': 8, 'filteredBy': 'CoOccurrence', 'ngd_overall': 0.3786116229133875}), ('MESH:D000755', 'ALPHA THALASSEMIA', {'info': {'@type': 'Disease', 'name': 'alpha^+^ Thalassemia', 'UMLS': 'C1456873', 'pubmed': ['2441597'], '$api': 'SEMMED Disease API', '$source': 'SEMMED'}, 'label': 'affects', 'source': 'SEMMED', 'rank': 8, 'filteredBy': 'CoOccurrence', 'ngd_overall': 0.3786116229133875}), ('MESH:D000755', 'CHRONIC PAIN', {'info': {'@type': 'Disease', 'name': 'Chronic pain', 'UMLS': 'C0150055', 'pubmed': ['19416438'], '$api': 'SEMMED Disease API', '$source': 'SEMMED'}, 'label': 'causes', 'source': 'SEMMED', 'rank': 38, 'filteredBy': 'CoOccurrence', 'ngd_overall': 0.550984889051767}), ('MESH:D000755', 'CHRONIC PAIN', {'info': {'@type': 'Disease', 'name': 'Chronic pain', 'UMLS': 'C0150055', 'pubmed': ['11748547', '24315252', '28065813', '28394851', '28570479'], '$api': 'SEMMED Disease API', '$source': 'SEMMED'}, 'label': 'coexists_with', 'source': 'SEMMED', 'rank': 38, 'filteredBy': 'CoOccurrence', 'ngd_overall': 0.550984889051767}), ('MESH:D000755', 'FAMILIAL AVASCULAR NECROSIS OF FEMORAL HEAD', {'info': {'@type': 'Disease', 'name': 'Femur Head Necrosis', 'UMLS': 'C0015814', 'pubmed': ['16280713'], '$api': 'SEMMED Disease API', '$source': 'SEMMED'}, 'label': 'coexists_with', 'source': 'SEMMED', 'rank': 16, 'filteredBy': 'CoOccurrence', 'ngd_overall': 0.43257066646386894}), ('MESH:D000755', 'ABDOMINAL PAIN', {'info': {'@type': 'Disease', 'name': 'Abdominal Pain', 'UMLS': 'C0000737', 'pubmed': ['12394969', '8011527'], '$api': 'SEMMED Disease API', '$source': 'SEMMED'}, 'label': 'coexists_with', 'source': 'SEMMED', 'rank': 48, 'filteredBy': 'CoOccurrence', 'ngd_overall': 0.5726787828476807}), ('MESH:D000755', 'LUNG DISEASES', {'info': {'@type': 'Disease', 'name': 'Lung diseases', 'UMLS': 'C0024115', 'pubmed': ['10516198'], '$api': 'SEMMED Disease API', '$source': 'SEMMED'}, 'label': 'coexists_with', 'source': 'SEMMED', 'rank': 47, 'filteredBy': 'CoOccurrence', 'ngd_overall': 0.5706137819995578}), ('MESH:D000755', 'OSTEOMYELITIS', {'info': {'@type': 'Disease', 'name': 'Osteomyelitis', 'UMLS': 'C0029443', 'pubmed': ['1891241'], '$api': 'SEMMED Disease API', '$source': 'SEMMED'}, 'label': 'causes', 'source': 'SEMMED', 'rank': 12, 'filteredBy': 'CoOccurrence', 'ngd_overall': 0.40351981864823605}), ('MESH:D000755', 'OSTEOMYELITIS', {'info': {'@type': 'Disease', 'name': 'Osteomyelitis', 'UMLS': 'C0029443', 'pubmed': ['12070588', '1918111', '26266184', '28417035', '3107360', '5280456', '8370011', '9030084'], '$api': 'SEMMED Disease API', '$source': 'SEMMED'}, 'label': 'coexists_with', 'source': 'SEMMED', 'rank': 12, 'filteredBy': 'CoOccurrence', 'ngd_overall': 0.40351981864823605}), ('MESH:D000755', 'OSTEOMYELITIS', {'info': {'@type': 'Disease', 'name': 'Osteomyelitis', 'UMLS': 'C0029443', 'pubmed': ['23049406'], '$api': 'SEMMED Disease API', '$source': 'SEMMED'}, 'label': 'affects', 'source': 'SEMMED', 'rank': 12, 'filteredBy': 'CoOccurrence', 'ngd_overall': 0.40351981864823605}), ('MESH:D000755', 'MOYAMOYA DISEASE', {'info': {'@type': 'Disease', 'name': 'Moyamoya Disease', 'UMLS': 'C0026654', 'pubmed': ['24901428', '28616936'], '$api': 'SEMMED Disease API', '$source': 'SEMMED'}, 'label': 'causes', 'source': 'SEMMED', 'rank': 27, 'filteredBy': 'CoOccurrence', 'ngd_overall': 0.4794969611477241}), ('MESH:D000755', 'MOYAMOYA DISEASE', {'info': {'@type': 'Disease', 'name': 'Moyamoya Disease', 'UMLS': 'C0026654', 'pubmed': ['18025932', '19335126', '19335126'], '$api': 'SEMMED Disease API', '$source': 'SEMMED'}, 'label': 'coexists_with', 'source': 'SEMMED', 'rank': 27, 'filteredBy': 'CoOccurrence', 'ngd_overall': 0.4794969611477241}), ('MESH:D000755', 'AUTOSOMAL RECESSIVE INHERITED PSEUDOXANTHOMA ELASTICUM', {'info': {'@type': 'Disease', 'name': 'Pseudoxanthoma Elasticum', 'UMLS': 'C0033847', 'pubmed': ['21281810'], '$api': 'SEMMED Disease API', '$source': 'SEMMED'}, 'label': 'coexists_with', 'source': 'SEMMED', 'rank': 34, 'filteredBy': 'CoOccurrence', 'ngd_overall': 0.532730192199749}), ('MESH:D000755', 'INHERITED GENETIC DISEASE', {'info': {'@type': 'Disease', 'pmc': ['PMC6794261'], 'DOID': 'DOID:630', '$api': 'CORD Disease API', '$source': 'Translator Text Mining Provider'}, 'label': 'related_to', 'source': 'Translator Text Mining Provider', 'rank': 36, 'filteredBy': 'CoOccurrence', 'ngd_overall': 0.5461273543901114}), ('MESH:D000755', 'SALMONELLOSIS', {'info': {'@type': 'Disease', 'name': 'Salmonella infections', 'UMLS': 'C0036117', 'pubmed': ['27171941'], '$api': 'SEMMED Disease API', '$source': 'SEMMED'}, 'label': 'coexists_with', 'source': 'SEMMED', 'rank': 21, 'filteredBy': 'CoOccurrence', 'ngd_overall': 0.4642005135020007}), ('MESH:D000755', 'BETA THALASSEMIA', {'info': {'@type': 'Disease', 'pmc': ['PMC6521475', 'PMC6585407'], 'DOID': 'DOID:12241', '$api': 'CORD Disease API', '$source': 'Translator Text Mining Provider'}, 'label': 'related_to', 'source': 'Translator Text Mining Provider', 'rank': 3, 'filteredBy': 'CoOccurrence', 'ngd_overall': 0.2953707408796542}), ('MESH:D000755', 'HYPOXIA', {'info': {'@type': 'Disease', 'name': 'Hypoxia', 'UMLS': 'C0242184', 'pubmed': ['12714517', '22866669'], '$api': 'SEMMED Disease API', '$source': 'SEMMED'}, 'label': 'causes', 'source': 'SEMMED', 'rank': 37, 'filteredBy': 'CoOccurrence', 'ngd_overall': 0.5496181880541411}), ('MESH:D000755', 'HYPOXIA', {'info': {'@type': 'Disease', 'name': 'Hypoxia', 'UMLS': 'C0242184', 'pubmed': ['24744195'], '$api': 'SEMMED Disease API', '$source': 'SEMMED'}, 'label': 'coexists_with', 'source': 'SEMMED', 'rank': 37, 'filteredBy': 'CoOccurrence', 'ngd_overall': 0.5496181880541411}), ('MESH:D000755', 'HYPOXIA', {'info': {'@type': 'Disease', 'name': 'Hypoxia', 'UMLS': 'C0242184', 'pubmed': ['12955667', '27026725'], '$api': 'SEMMED Disease API', '$source': 'SEMMED'}, 'label': 'affects', 'source': 'SEMMED', 'rank': 37, 'filteredBy': 'CoOccurrence', 'ngd_overall': 0.5496181880541411}), ('MESH:D000755', 'ANGIOID STREAKS', {'info': {'@type': 'Disease', 'name': 'Angioid Streaks', 'UMLS': 'C0002982', 'pubmed': ['19436620', '27116514', '27614462'], '$api': 'SEMMED Disease API', '$source': 'SEMMED'}, 'label': 'coexists_with', 'source': 'SEMMED', 'rank': 29, 'filteredBy': 'CoOccurrence', 'ngd_overall': 0.4862738773806672}), ('MESH:D000755', 'HYPOCHROMIC ANEMIA (DISEASE)', {'info': {'@type': 'Disease', 'name': 'Iron deficiency anemia', 'UMLS': 'C0162316', 'pubmed': ['12836524'], '$api': 'SEMMED Disease API', '$source': 'SEMMED'}, 'label': 'coexists_with', 'source': 'SEMMED', 'rank': 43, 'filteredBy': 'CoOccurrence', 'ngd_overall': 0.5646857120843349}), ('MESH:D000755', 'HEMOLYSIS (DISORDER)', {'info': {'@type': 'Disease', 'name': 'Hemolysis (disorder)', 'UMLS': 'C0019054', 'pubmed': ['16521870', '18461136', '20113285', '21114906', '22409346', '27274608', '28911832', '7507737'], '$api': 'SEMMED Disease API', '$source': 'SEMMED'}, 'label': 'affects', 'source': 'SEMMED', 'rank': 11, 'filteredBy': 'CoOccurrence', 'ngd_overall': 0.40065968926209544}), ('MESH:D000755', 'HEPATOMEGALY', {'info': {'@type': 'Disease', 'name': 'Hepatomegaly', 'UMLS': 'C0019209', 'pubmed': ['12394969'], '$api': 'SEMMED Disease API', '$source': 'SEMMED'}, 'label': 'coexists_with', 'source': 'SEMMED', 'rank': 40, 'filteredBy': 'CoOccurrence', 'ngd_overall': 0.5533042266593873}), ('MESH:D000755', 'RETICULOCYTOSIS', {'info': {'@type': 'Disease', 'name': 'Reticulocytosis', 'UMLS': 'C0206160', 'pubmed': ['6831046', '6831046'], '$api': 'SEMMED Disease API', '$source': 'SEMMED'}, 'label': 'causes', 'source': 'SEMMED', 'rank': 31, 'filteredBy': 'CoOccurrence', 'ngd_overall': 0.49225239664898446}), ('MESH:D000755', 'AVASCULAR NECROSIS', {'info': {'@type': 'Disease', 'name': 'Bone necrosis', 'UMLS': 'C0029445', 'pubmed': ['11685144', '12399710', '1944426', '20099672', '25551782', '26754298', '4028315', '4028315', '6527336', '7773653', '8472404'], '$api': 'SEMMED Disease API', '$source': 'SEMMED'}, 'label': 'causes', 'source': 'SEMMED', 'rank': 18, 'filteredBy': 'CoOccurrence', 'ngd_overall': 0.4584564892145935}), ('MESH:D000755', 'AVASCULAR NECROSIS', {'info': {'@type': 'Disease', 'name': 'Bone necrosis', 'UMLS': 'C0029445', 'pubmed': ['12735623', '12735623'], '$api': 'SEMMED Disease API', '$source': 'SEMMED'}, 'label': 'coexists_with', 'source': 'SEMMED', 'rank': 18, 'filteredBy': 'CoOccurrence', 'ngd_overall': 0.4584564892145935}), ('MESH:D000755', 'AVASCULAR NECROSIS', {'info': {'@type': 'Disease', 'name': 'Bone necrosis', 'UMLS': 'C0029445', 'pubmed': ['23049406'], '$api': 'SEMMED Disease API', '$source': 'SEMMED'}, 'label': 'affects', 'source': 'SEMMED', 'rank': 18, 'filteredBy': 'CoOccurrence', 'ngd_overall': 0.4584564892145935}), ('MESH:D000755', 'ALBUMINURIA', {'info': {'@type': 'Disease', 'name': 'Albuminuria', 'UMLS': 'C0001925', 'pubmed': ['7733120'], '$api': 'SEMMED Disease API', '$source': 'SEMMED'}, 'label': 'coexists_with', 'source': 'SEMMED', 'rank': 32, 'filteredBy': 'CoOccurrence', 'ngd_overall': 0.5140220880286996}), ('MESH:D000755', 'PRIAPISM', {'info': {'@type': 'Disease', 'name': 'Priapism', 'UMLS': 'C0033117', 'pubmed': ['10953801', '11035401', '11337305', '1413361', '15409345', '17175874', '17175874', '17666717', '18903542', '19616292', '23293942', '23293942', '24611951', '24705475', '25104179', '28538505', '490830', '660730', '8307084', '8326584', '8650876'], '$api': 'SEMMED Disease API', '$source': 'SEMMED'}, 'label': 'causes', 'source': 'SEMMED', 'rank': 7, 'filteredBy': 'CoOccurrence', 'ngd_overall': 0.35242510343620204}), ('MESH:D000755', 'PRIAPISM', {'info': {'@type': 'Disease', 'name': 'Priapism', 'UMLS': 'C0033117', 'pubmed': ['12751604', '12751604', '13381009', '13905169', '18312286', '18312286', '2047776', '20490352', '21520650', '21520650', '21520650', '21699659', '21810190', '24680796', '25371242', '25833166', '26142586', '7714988', '7714988', '7714988', '8854068', '9586621'], '$api': 'SEMMED Disease API', '$source': 'SEMMED'}, 'label': 'coexists_with', 'source': 'SEMMED', 'rank': 7, 'filteredBy': 'CoOccurrence', 'ngd_overall': 0.35242510343620204}), ('MESH:D000755', 'PRIAPISM', {'info': {'@type': 'Disease', 'name': 'Priapism', 'UMLS': 'C0033117', 'pubmed': ['2047776'], '$api': 'SEMMED Disease API', '$source': 'SEMMED'}, 'label': 'coexists_with', 'source': 'SEMMED', 'rank': 7, 'filteredBy': 'CoOccurrence', 'ngd_overall': 0.35242510343620204}), ('MESH:D000755', 'PRIAPISM', {'info': {'@type': 'Disease', 'name': 'Priapism', 'UMLS': 'C0033117', 'pubmed': ['20538321'], '$api': 'SEMMED Disease API', '$source': 'SEMMED'}, 'label': 'affects', 'source': 'SEMMED', 'rank': 7, 'filteredBy': 'CoOccurrence', 'ngd_overall': 0.35242510343620204}), ('MESH:D000755', 'ACUTE CHEST SYNDROME', {'info': {'@type': 'Disease', 'name': 'Acute Chest Syndrome', 'UMLS': 'C0742343', 'pubmed': ['10516198', '11673218', '16550522', '19302944', '24319217', '28703372'], '$api': 'SEMMED Disease API', '$source': 'SEMMED'}, 'label': 'coexists_with', 'source': 'SEMMED', 'rank': 5, 'filteredBy': 'CoOccurrence', 'ngd_overall': 0.31477931894698585}), ('MESH:D000755', 'ACUTE CHEST SYNDROME', {'info': {'@type': 'Disease', 'name': 'Acute Chest Syndrome', 'UMLS': 'C0742343', 'pubmed': ['16860119', '1898750', '20644948', '22891585'], '$api': 'SEMMED Disease API', '$source': 'SEMMED'}, 'label': 'affects', 'source': 'SEMMED', 'rank': 5, 'filteredBy': 'CoOccurrence', 'ngd_overall': 0.31477931894698585})])"
      ]
     },
     "execution_count": 229,
     "metadata": {},
     "output_type": "execute_result"
    }
   ],
   "source": [
    "G2.edges.data()"
   ]
  },
  {
   "cell_type": "code",
   "execution_count": null,
   "metadata": {},
   "outputs": [],
   "source": []
  },
  {
   "cell_type": "code",
   "execution_count": null,
   "metadata": {},
   "outputs": [],
   "source": []
  },
  {
   "cell_type": "code",
   "execution_count": 208,
   "metadata": {},
   "outputs": [],
   "source": [
    "pre_res = filter_co_occur(seqd.G)"
   ]
  },
  {
   "cell_type": "code",
   "execution_count": 5,
   "metadata": {
    "scrolled": true
   },
   "outputs": [],
   "source": [
    "seqd = SingleEdgeQueryDispatcher(input_cls='Disease', output_cls='Disease', input_id='MESH', values='D000755')\n",
    "seqd.query()"
   ]
  },
  {
   "cell_type": "code",
   "execution_count": 201,
   "metadata": {
    "scrolled": true
   },
   "outputs": [],
   "source": [
    "unique_edges = []\n",
    "for edge in seqd.G.edges:\n",
    "    if [edge[0], edge[1]] in unique_edges:\n",
    "        continue\n",
    "    else:\n",
    "        unique_edges.append([edge[0], edge[1]])"
   ]
  },
  {
   "cell_type": "code",
   "execution_count": 202,
   "metadata": {
    "scrolled": true
   },
   "outputs": [],
   "source": [
    "num_combs, combos = [], []\n",
    "for edge in unique_edges:\n",
    "    id1 = get_ids(edge[0])\n",
    "    id2 = get_ids(edge[1])\n",
    "\n",
    "    if (id1 == 0) | (id2 == 0):\n",
    "        edge.insert(0, 100)\n",
    "    else:\n",
    "        combo = make_combo(id1, id2)\n",
    "        combos.append(combo)\n",
    "        num_combs.append(len(combo))"
   ]
  },
  {
   "cell_type": "code",
   "execution_count": 203,
   "metadata": {},
   "outputs": [],
   "source": [
    "combos = [i for j in combos for i in j]\n",
    "chunks = [combos[x:x+1000] for x in range(0,len(combos),1000)]"
   ]
  },
  {
   "cell_type": "code",
   "execution_count": 204,
   "metadata": {},
   "outputs": [],
   "source": [
    "x = []\n",
    "for chunk in chunks:\n",
    "    x+= requests.post('https://biothings.ncats.io/mrcoc/query', json={'scopes':'combo', 'q': chunk}).json()"
   ]
  },
  {
   "cell_type": "code",
   "execution_count": 205,
   "metadata": {
    "scrolled": true
   },
   "outputs": [
    {
     "name": "stdout",
     "output_type": "stream",
     "text": [
      "[0.3786116229133875, 'MESH:D000755', 'ALPHA THALASSEMIA']\n",
      "[0.3520097217194215, 'MESH:D000755', 'ANEMIA']\n",
      "[0.4193873106695017, 'MESH:D000755', 'ANEMIA, HEMOLYTIC']\n",
      "[0.7189390880973388, 'MESH:D000755', 'ANKYLOSIS']\n",
      "[0.8365177066376366, 'MESH:D000755', 'CARDIAC ARRHYTHMIA']\n",
      "[0.6780323851612118, 'MESH:D000755', 'ARTHRITIS']\n",
      "[0.6750172809472789, 'MESH:D000755', 'ASTHMA']\n",
      "[0.7177989989115081, 'MESH:D000755', 'BACK PAIN']\n",
      "[0.47847706925878947, 'MESH:D000755', 'CEREBRAL INFARCTION']\n",
      "[0.6397025858996038, 'MESH:D000755', 'BENIGN RECURRENT INTRAHEPATIC CHOLESTASIS']\n",
      "[0.7634033302810889, 'MESH:D000755', 'DISEASE OR DISORDER']\n",
      "[0.6320661320820271, 'MESH:D000755', 'BRIGHT DISEASE']\n",
      "[0.6155801802017089, 'MESH:D000755', 'HEADACHE']\n",
      "[0.6029340682160718, 'MESH:D000755', 'NONSYNDROMIC GENETIC DEAFNESS']\n",
      "[0.7488520180595014, 'MESH:D000755', 'HEREDITARY HYPERBILIRUBINEMIA']\n",
      "[0.4658974351897532, 'MESH:D000755', 'PULMONARY HYPERTENSION']\n",
      "[0.7182471219773823, 'MESH:D000755', 'HYPERTROPHY']\n",
      "[0.3925935858047931, 'MESH:D000755', 'INFARCTION']\n",
      "[0.6476960352985502, 'MESH:D000755', 'INFLAMMATION']\n",
      "[0.5925635239963964, 'MESH:D000755', 'ISCHEMIA']\n",
      "[0.5673786279404808, 'MESH:D000755', 'ICTERUS']\n",
      "[0.5729558012094408, 'MESH:D000755', 'ARTHROPATHY']\n",
      "[0.6562303615819053, 'MESH:D000755', 'CHRONIC KIDNEY DISEASE']\n",
      "[0.4846518073624127, 'MESH:D000755', 'MALARIA']\n",
      "[0.4794969611477241, 'MESH:D000755', 'MOYAMOYA DISEASE']\n",
      "[0.6601586543025727, 'MESH:D000755', 'PATHOLOGIC NEOVASCULARIZATION']\n",
      "[0.40351981864823605, 'MESH:D000755', 'OSTEOMYELITIS']\n",
      "[0.4584564892145935, 'MESH:D000755', 'AVASCULAR NECROSIS']\n",
      "[0.6849586875438668, 'MESH:D000755', 'OSTEOPOROSIS']\n",
      "[0.7587875242380346, 'MESH:D000755', 'PANCREATITIS']\n",
      "[0.6667741363816918, 'MESH:D000755', 'PREGNANCY COMPLICATIONS']\n",
      "[0.35242510343620204, 'MESH:D000755', 'PRIAPISM']\n",
      "[0.7226083431702938, 'MESH:D000755', 'KIDNEY FAILURE']\n",
      "[0.6480608036779821, 'MESH:D000755', 'ADULT RESPIRATORY DISTRESS SYNDROME']\n",
      "[0.4267209162040386, 'MESH:D000755', 'RETINAL DISEASE']\n",
      "[0.7852643465924983, 'MESH:D000755', 'SHOCK']\n",
      "[0.41255997965932023, 'MESH:D000755', 'SPLENIC INFARCTION']\n",
      "[0.4466686824466349, 'MESH:D000755', 'SPLENOMEGALY']\n",
      "[0.6094811788884336, 'MESH:D000755', 'ACQUIRED ANEURYSMAL SUBARACHNOID HEMORRHAGE']\n",
      "[0.6118052723763266, 'MESH:D000755', 'SYNDROMIC DISEASE']\n",
      "[0.24283643156899448, 'MESH:D000755', 'THALASSEMIA']\n",
      "[0.6667956897757548, 'MESH:D000755', 'TOOTHACHE']\n",
      "[0.6751412097411063, 'MESH:D000755', 'ULCER']\n",
      "[0.550984889051767, 'MESH:D000755', 'CHRONIC PAIN']\n",
      "[0.6586293432169316, 'MESH:D000755', 'ACUTE LIVER FAILURE']\n",
      "[0.49225239664898446, 'MESH:D000755', 'RETICULOCYTOSIS']\n",
      "[0.5496181880541411, 'MESH:D000755', 'HYPOXIA']\n",
      "[0.6487217656128521, 'MESH:D000755', 'ERECTILE DYSFUNCTION']\n",
      "[0.5156394672344365, 'MESH:D000755', 'THROMBOPHILIA']\n",
      "[0.6321443235653532, 'MESH:D000755', 'OBSTRUCTIVE SLEEP APNEA SYNDROME']\n",
      "[0.5726787828476807, 'MESH:D000755', 'ABDOMINAL PAIN']\n",
      "[0.7793815728661823, 'MESH:D000755', 'CONGENITAL ABNORMALITY']\n",
      "[0.7561807597867042, 'MESH:D000755', 'ACTINOMYCOSIS']\n",
      "[0.5140220880286996, 'MESH:D000755', 'ALBUMINURIA']\n",
      "[0.4862738773806672, 'MESH:D000755', 'ANGIOID STREAKS']\n",
      "[0.7623287075751747, 'MESH:D000755', 'RHEUMATOID ARTHRITIS']\n",
      "[0.5689918295221845, 'MESH:D000755', 'BLOOD COAGULATION DISORDERS']\n",
      "[0.47739189906836266, 'MESH:D000755', 'BONE DISEASE']\n",
      "[0.7825793726850757, 'MESH:D000755', 'BRONCHITIS']\n",
      "[0.7957421848537001, 'MESH:D000755', 'CANCER']\n",
      "[0.8728517603410428, 'MESH:D000755', 'HYPERTROPHIC CARDIOMYOPATHY']\n",
      "[0.7405712678168104, 'MESH:D000755', 'CARDIOVASCULAR DISEASE']\n",
      "[0.49155141194003193, 'MESH:D000755', 'CHEST PAIN']\n",
      "[0.5569852720519719, 'MESH:D000755', 'INTRAHEPATIC CHOLESTASIS']\n",
      "[0.7328061790140051, 'MESH:D000755', 'COMATOSE']\n",
      "[0.7465072097406517, 'MESH:D000755', 'HEARING LOSS, SUDDEN']\n",
      "[0.55376544002199, 'MESH:D000755', 'DEHYDRATION']\n",
      "[0.6426208463885046, 'MESH:D000755', 'DENTAL PULP NECROSIS']\n",
      "[0.6956569571733839, 'MESH:D000755', 'DIABETES MELLITUS']\n",
      "[0.6055241965884812, 'MESH:D000755', 'ACQUIRED PURPURA FULMINANS']\n",
      "[0.7689370357423263, 'MESH:D000755', 'APLASIA CUTIS CONGENITA']\n",
      "[0.6786407090584697, 'MESH:D000755', 'EDEMA']\n",
      "[0.5819205642646622, 'MESH:D000755', 'ENURESIS']\n",
      "[0.43257066646386894, 'MESH:D000755', 'FAMILIAL AVASCULAR NECROSIS OF FEMORAL HEAD']\n",
      "[0.551686360779538, 'MESH:D000755', 'FEVER']\n",
      "[0.6482724283239354, 'MESH:D000755', 'PRIMARY MEMBRANOPROLIFERATIVE GLOMERULONEPHRITIS']\n",
      "[0.6438897483280026, 'MESH:D000755', 'HEART DISEASE']\n",
      "[0.47233201935874874, 'MESH:D000755', 'HEMATURIA']\n",
      "[0.3034697682970486, 'MESH:D000755', 'HEMOGLOBIN SC DISEASE']\n",
      "[0.29379813011804257, 'MESH:D000755', 'ALPHA-THALASSEMIA']\n",
      "[0.5777138221585635, 'MESH:D000755', 'AUTOSOMAL HEMOPHILIA A']\n",
      "[0.6748205177360453, 'MESH:D000755', 'HEMORRHAGE']\n",
      "[0.5533042266593873, 'MESH:D000755', 'HEPATOMEGALY']\n",
      "[0.863130516503845, 'MESH:D000755', 'HAND-SCHULLER-CHRISTIAN DISEASE']\n",
      "[0.7490778774521621, 'MESH:D000755', 'HYPERTENSIVE DISEASE']\n",
      "[0.7224458331787252, 'MESH:D000755', 'HYPERTENSION, PORTAL']\n",
      "[0.6213153768800598, 'MESH:D000755', 'HYPOGONADISM']\n",
      "[0.5797612706571059, 'MESH:D000755', 'KIDNEY DISEASE']\n",
      "[0.4628855758182921, 'MESH:D000755', 'KIDNEY PAPILLARY NECROSIS']\n",
      "[0.6263083286793326, 'MESH:D000755', 'LEUKEMIA']\n",
      "[0.6338526858290899, 'MESH:D000755', 'LIVER DISEASE']\n",
      "[0.5706137819995578, 'MESH:D000755', 'LUNG DISEASES']\n",
      "[0.6583366539635244, 'MESH:D000755', 'LUPUS ERYTHEMATOSUS, SYSTEMIC']\n",
      "[0.8486748605874167, 'MESH:D000755', 'LYMPHOMA, DIFFUSE']\n",
      "[0.5364568434521865, 'MESH:D000755', 'PAROXYSMAL NOCTURNAL HEMOGLOBINURIA']\n",
      "[0.7062023635215944, 'MESH:D000755', 'IGG4-RELATED DACRYOADENITIS AND SIALADENITIS']\n",
      "[0.5655872915508444, 'MESH:D000755', 'MULTIPLE ORGAN FAILURE']\n",
      "[0.750571207286411, 'MESH:D000755', 'MYCOBACTERIUM INFECTIONS, NONTUBERCULOUS']\n",
      "[0.7173994740366684, 'MESH:D000755', 'NEPHRITIS']\n",
      "[0.5805298980267153, 'MESH:D000755', 'NEPHROTIC SYNDROME']\n",
      "[0.8947984015630703, 'MESH:D000755', 'NEURAL CREST TUMOR']\n",
      "[0.6315868007205024, 'MESH:D000755', 'NEUROLOGIC MANIFESTATIONS']\n",
      "[0.9646939792801942, 'MESH:D000755', 'MORBID OBESITY']\n",
      "[0.7290870560417294, 'MESH:D000755', 'HETEROTOPIC OSSIFICATION']\n",
      "[0.8270470998514129, 'MESH:D000755', 'OSTEOMA (DISEASE)']\n",
      "[0.680668050152492, 'MESH:D000755', 'PANCYTOPENIA']\n",
      "[0.724546910317759, 'MESH:D000755', 'ALVEOLAR PYORRHEA']\n",
      "[0.7337774421531517, 'MESH:D000755', 'PEUTZ-JEGHERS SYNDROME']\n",
      "[0.532730192199749, 'MESH:D000755', 'AUTOSOMAL RECESSIVE INHERITED PSEUDOXANTHOMA ELASTICUM']\n",
      "[0.4642005135020007, 'MESH:D000755', 'SALMONELLOSIS']\n",
      "[0.3978274793847991, 'MESH:D000755', 'HEREDITARY SPHEROCYTOSIS']\n",
      "[0.8240548601593832, 'MESH:D000755', 'SUDDEN INFANT DEATH SYNDROME']\n",
      "[0.8124040700382962, 'MESH:D000755', 'TACHYCARDIA']\n",
      "[0.6226648471118633, 'MESH:D000755', 'THROMBOEMBOLISM']\n",
      "[0.8553981194221655, 'MESH:D000755', 'CHAGAS DISEASE']\n",
      "[0.7478672614844534, 'MESH:D000755', 'TUBERCULOMA']\n",
      "[0.46805692784945646, 'MESH:D000755', 'FUSIFORM ANEURYSM']\n",
      "[0.6701588601260496, 'MESH:D000755', 'VENOUS INSUFFICIENCY (DISEASE)']\n",
      "[0.8571807376151074, 'MESH:D000755', 'VITILIGO']\n",
      "[0.6122301201255921, 'MESH:D000755', 'WATERHOUSE-FRIDERICHSEN SYNDROME']\n",
      "[0.7313398213373243, 'MESH:D000755', 'MYOCARDIAL ISCHEMIA']\n",
      "[0.5646857120843349, 'MESH:D000755', 'HYPOCHROMIC ANEMIA (DISEASE)']\n",
      "[0.461947085879603, 'MESH:D000755', 'ACUTE ONSET PAIN']\n",
      "[0.8227697698005187, 'MESH:D000755', 'FIBROUS DYSPLASIA']\n",
      "[0.645410906318909, 'MESH:D000755', 'PALMAR-PLANTAR ERYTHRODYSESTHESIA SYNDROME']\n",
      "[0.7352169100549132, 'MESH:D000755', 'HYPERURICEMIA']\n",
      "[0.31477931894698585, 'MESH:D000755', 'ACUTE CHEST SYNDROME']\n",
      "[0.5910787454765255, 'MESH:D000755', 'THROMBOCYTOSIS']\n",
      "[0.6751364394655843, 'MESH:D000755', 'CARDIOMYOPATHY']\n",
      "[0.7033438080596685, 'MESH:D000755', 'HEARING LOSS']\n",
      "[0.7661567208258142, 'MESH:D000755', 'ARTERIOLOSCLEROSIS']\n",
      "[0.7462778021851303, 'MESH:D000755', 'DENTAL CARIES']\n",
      "[0.40065968926209544, 'MESH:D000755', 'HEMOLYSIS (DISORDER)']\n",
      "[0.7367144804344966, 'MESH:D000755', 'INFLUENZA']\n",
      "[0.5978206322344086, 'MESH:D000755', 'THROMBOTIC DISEASE']\n",
      "[0.2953707408796542, 'MESH:D000755', 'BETA THALASSEMIA']\n",
      "[0.5461273543901114, 'MESH:D000755', 'INHERITED GENETIC DISEASE']\n"
     ]
    }
   ],
   "source": [
    "end, i = 0, 0\n",
    "for edge in unique_edges:   \n",
    "    if isinstance(edge[0],int):\n",
    "        continue\n",
    "        \n",
    "    start = end\n",
    "    end += num_combs[i]\n",
    "    for query in x[start:end]:\n",
    "        if not 'notfound' in query:\n",
    "            edge.insert(0, query['ngd_overall'])\n",
    "            print(edge)\n",
    "            break\n",
    "    if not isinstance(edge[0], float):\n",
    "        edge.insert(0, 200)   \n",
    "    i+=1"
   ]
  },
  {
   "cell_type": "code",
   "execution_count": null,
   "metadata": {
    "scrolled": true
   },
   "outputs": [],
   "source": []
  },
  {
   "cell_type": "code",
   "execution_count": 212,
   "metadata": {
    "scrolled": false
   },
   "outputs": [],
   "source": [
    "for i in range(len(pre_res)):\n",
    "    assert pre_res[i] == unique_edges[i]"
   ]
  },
  {
   "cell_type": "code",
   "execution_count": null,
   "metadata": {
    "scrolled": false
   },
   "outputs": [],
   "source": []
  },
  {
   "cell_type": "code",
   "execution_count": null,
   "metadata": {
    "scrolled": false
   },
   "outputs": [],
   "source": []
  },
  {
   "cell_type": "code",
   "execution_count": null,
   "metadata": {
    "scrolled": true
   },
   "outputs": [],
   "source": []
  },
  {
   "cell_type": "code",
   "execution_count": null,
   "metadata": {
    "scrolled": true
   },
   "outputs": [],
   "source": []
  },
  {
   "cell_type": "code",
   "execution_count": null,
   "metadata": {
    "scrolled": false
   },
   "outputs": [],
   "source": []
  },
  {
   "cell_type": "code",
   "execution_count": null,
   "metadata": {
    "scrolled": true
   },
   "outputs": [],
   "source": [
    "\n"
   ]
  },
  {
   "cell_type": "code",
   "execution_count": 84,
   "metadata": {},
   "outputs": [],
   "source": [
    "x = requests.post('https://biothings.ncats.io/mrcoc/query', json={'scopes':'combo', 'q': comb}).json()"
   ]
  },
  {
   "cell_type": "code",
   "execution_count": null,
   "metadata": {
    "scrolled": false
   },
   "outputs": [],
   "source": []
  },
  {
   "cell_type": "code",
   "execution_count": null,
   "metadata": {},
   "outputs": [],
   "source": []
  },
  {
   "cell_type": "code",
   "execution_count": 101,
   "metadata": {},
   "outputs": [
    {
     "data": {
      "text/plain": [
       "False"
      ]
     },
     "execution_count": 101,
     "metadata": {},
     "output_type": "execute_result"
    }
   ],
   "source": [
    "isinstance('n', int)"
   ]
  },
  {
   "cell_type": "code",
   "execution_count": null,
   "metadata": {},
   "outputs": [],
   "source": []
  },
  {
   "cell_type": "code",
   "execution_count": null,
   "metadata": {},
   "outputs": [],
   "source": []
  },
  {
   "cell_type": "code",
   "execution_count": null,
   "metadata": {
    "scrolled": false
   },
   "outputs": [],
   "source": []
  },
  {
   "cell_type": "code",
   "execution_count": 164,
   "metadata": {
    "scrolled": false
   },
   "outputs": [
    {
     "name": "stdout",
     "output_type": "stream",
     "text": [
      "9\n",
      "2354\n",
      "98\n",
      "2\n",
      "111\n",
      "39\n"
     ]
    }
   ],
   "source": [
    "x = [1,2,7,4,3,9,2354,98,2,111,39]\n",
    "\n",
    "for i in x[5:]:\n",
    "    print(i)"
   ]
  },
  {
   "cell_type": "code",
   "execution_count": 58,
   "metadata": {},
   "outputs": [
    {
     "data": {
      "text/plain": [
       "[1, 2, 2, 3, 4, 7, 9, 39, 98]"
      ]
     },
     "execution_count": 58,
     "metadata": {},
     "output_type": "execute_result"
    }
   ],
   "source": [
    "x"
   ]
  },
  {
   "cell_type": "code",
   "execution_count": null,
   "metadata": {
    "scrolled": false
   },
   "outputs": [],
   "source": []
  },
  {
   "cell_type": "code",
   "execution_count": null,
   "metadata": {},
   "outputs": [],
   "source": []
  },
  {
   "cell_type": "code",
   "execution_count": null,
   "metadata": {},
   "outputs": [],
   "source": []
  }
 ],
 "metadata": {
  "kernelspec": {
   "display_name": "Python 3",
   "language": "python",
   "name": "python3"
  },
  "language_info": {
   "codemirror_mode": {
    "name": "ipython",
    "version": 3
   },
   "file_extension": ".py",
   "mimetype": "text/x-python",
   "name": "python",
   "nbconvert_exporter": "python",
   "pygments_lexer": "ipython3",
   "version": "3.7.6"
  }
 },
 "nbformat": 4,
 "nbformat_minor": 2
}
