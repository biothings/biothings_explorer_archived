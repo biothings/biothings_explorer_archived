{
 "cells": [
  {
   "cell_type": "markdown",
   "metadata": {},
   "source": [
    "# Introduction\n",
    "\n",
    "This notebook demonstrates basic usage of BioThings Explorer, an engine for autonomously querying a distributed knowledge graph of biomedical knowledge.\n",
    "\n",
    "BioThings Explorer can answer two classes of queries -- \"EXPLAIN\" and \"PREDICT\". EXPLAIN queries are described in [EXPLAIN_demo.ipynb](EXPLAIN_demo.ipynb). Here, we describe PREDICT queries and how to use BioThings Explorer to execute them. A more detailed overview of the BioThings Explorer systems is provided in [these slides](https://docs.google.com/presentation/d/1QWQqqQhPD_pzKryh6Wijm4YQswv8pAjleVORCPyJyDE/edit?usp=sharing).\n",
    "\n",
    "EXPLAIN queries are designed to **identify plausible reasoning chains to explain the relationship between two specific biomedical entities (objects or concepts)**.  For example, in this notebook, we explore the question:\n",
    "\n",
    "&nbsp;&nbsp;&nbsp;&nbsp;&nbsp;&nbsp;&nbsp;&nbsp;&nbsp;\"*Why does imatinib have an effect on the treatment of chronic myelogenous leukemia (CML)?*\"  \n",
    "\n",
    "Later, we also compare those results to a similar query looking at imatinib's role in treating gastrointestinal stromal tumors (GIST).\n",
    "\n",
    "**To experiment with an executable version of this notebook, [load it in Google Colaboratory](https://colab.research.google.com/github/biothings/biothings_explorer/blob/master/jupyter%20notebooks/EXPLAIN_demo.ipynb).**"
   ]
  },
  {
   "cell_type": "markdown",
   "metadata": {},
   "source": [
    "## Step 0: Load BioThings Explorer modules"
   ]
  },
  {
   "cell_type": "markdown",
   "metadata": {},
   "source": [
    "First, install the `biothings_explorer` and `biothings_schema` packages, as described in this [README](https://github.com/biothings/biothings_explorer/blob/master/jupyter%20notebooks/README.md#prerequisite).  This only needs to be done once (but it's included here for compability with [Colab](https://colab.research.google.com/))."
   ]
  },
  {
   "cell_type": "code",
   "execution_count": 1,
   "metadata": {},
   "outputs": [],
   "source": [
    "%%capture\n",
    "!pip install git+https://github.com/biothings/biothings_explorer#egg=biothings_explorer"
   ]
  },
  {
   "cell_type": "markdown",
   "metadata": {},
   "source": [
    "Next, import the relevant modules:\n",
    "\n",
    "* **Hint**: Find corresponding BioThings representations to use in BioThings Explorer based on user input (could be any database IDs, symbols, names)\n",
    "* **FindConnection**: Find the relationship(s) between a specific entity and an entity type (PREDICT) or two specific entities (EXPLAIN))"
   ]
  },
  {
   "cell_type": "code",
   "execution_count": 1,
   "metadata": {
    "ExecuteTime": {
     "end_time": "2020-11-27T02:18:35.506828Z",
     "start_time": "2020-11-27T02:18:34.856930Z"
    }
   },
   "outputs": [],
   "source": [
    "# import modules from biothings_explorer\n",
    "from biothings_explorer.hint import Hint\n",
    "from biothings_explorer.user_query_dispatcher import FindConnection"
   ]
  },
  {
   "cell_type": "code",
   "execution_count": 4,
   "metadata": {
    "ExecuteTime": {
     "end_time": "2020-11-27T02:19:52.022837Z",
     "start_time": "2020-11-27T02:19:52.017558Z"
    }
   },
   "outputs": [],
   "source": [
    "## functions to add to modules?\n",
    "def hint_display(query, hint_result):\n",
    "    \"\"\"\n",
    "    show the type, name, number of IDs for all results returned by the query\n",
    "    \n",
    "    :param: query: string used in hint query\n",
    "    :param: hint_result: object returned from hint query, a dictionary of lists of dictionaries\n",
    "    \n",
    "    Returns: None\n",
    "    \"\"\"\n",
    "    ## function needs to be rewritten if it's going to give the exact index of each object within its type \n",
    "    display = ['type', 'name']  ## replace with the parts of the BioThings object you want to see\n",
    "    concise_results = []\n",
    "    for BT_type, result in hint_result.items():\n",
    "        if result:  ## basically if it's not empty\n",
    "            for items in result:\n",
    "                ## number of identifiers per object: number of keys - 4 (name, primary, display, type)\n",
    "                temp = len(items) - 4\n",
    "                concise_results.append((items[display[0]], items[display[1]], \n",
    "                                         str(temp)))\n",
    "                    \n",
    "    print('There are {total} BioThings objects returned for {ht}:'.format(\\\n",
    "                total = len(concise_results), ht = query))\n",
    "    for display_info in concise_results:\n",
    "        print('{0}, {1}, num of IDs: {2}'.format(display_info[0], display_info[1], display_info[2]))"
   ]
  },
  {
   "cell_type": "markdown",
   "metadata": {},
   "source": [
    "## Step 1: Find representations of \"chronic myelogenous leukemia\" and \"imatinib\" in BTE"
   ]
  },
  {
   "cell_type": "markdown",
   "metadata": {},
   "source": [
    "In this step, BioThings Explorer translates our query strings \"chronic myelogenous leukemia\" and \"imatinib\" into BioThings objects, which contain mappings to many common identifiers.  Generally, the top result returned by the `Hint` module will match what you want, but you should confirm that using the identifiers shown. \n",
    "\n",
    "BioThings types correspond to children and descendants of [BiologicalEntity](https://biolink.github.io/biolink-model/docs/BiologicalEntity.html) from the [Biolink Model](https://biolink.github.io/biolink-model/docs/), including `Disease` (e.g., \"lupus\"), `ChemicalSubstance` (e.g., \"acetaminophen\"), `Gene` (e.g., \"CDK2\"), `BiologicalProcess` (e.g., \"T cell differentiation\"), and `Pathway` (e.g., \"Citric acid cycle\"). **However, [only a subset of the Biolink BiologicalEntity children / descendants are currently implemented in BTE](https://smart-api.info/portal/translator/metakg)**. More biomedical object types will be available as more knowledge sources (APIs) are added to the system. \n",
    "\n",
    "**Note that the type `BiologicalEntity` means any BioThings type currently implemented in BTE will be accepted.**"
   ]
  },
  {
   "cell_type": "code",
   "execution_count": 5,
   "metadata": {
    "ExecuteTime": {
     "end_time": "2020-11-27T02:19:55.404567Z",
     "start_time": "2020-11-27T02:19:55.224248Z"
    }
   },
   "outputs": [
    {
     "name": "stdout",
     "output_type": "stream",
     "text": [
      "There are 6 BioThings objects returned for chronic myelogenous leukemia:\n",
      "Disease, chronic myelogenous leukemia, BCR-ABL1 positive, num of IDs: 6\n",
      "Disease, Philadelphia chromosome positive chronic myelogenous leukemia, num of IDs: 2\n",
      "Disease, Philadelphia chromosome negative chronic myelogenous leukemia, num of IDs: 2\n",
      "Disease, Chronic myelogenous leukemia, BCR/ABL positive, num of IDs: 2\n",
      "Disease, blast phase chronic myelogenous leukemia, BCR-ABL1 positive, num of IDs: 3\n",
      "PhenotypicFeature, Chronic myelogenous leukemia, num of IDs: 3\n"
     ]
    }
   ],
   "source": [
    "ht = Hint()\n",
    "cml_str = \"chronic myelogenous leukemia\"\n",
    "# find all potential representations of CML\n",
    "cml_hint = ht.query(cml_str)\n",
    "\n",
    "hint_display(cml_str, cml_hint)"
   ]
  },
  {
   "cell_type": "markdown",
   "metadata": {},
   "source": [
    "Based on the information above, we'll pick the top Disease choice (indexed at 0) for CML for our query. We can look at identifier mappings inside this BioThings object. "
   ]
  },
  {
   "cell_type": "code",
   "execution_count": 6,
   "metadata": {
    "ExecuteTime": {
     "end_time": "2020-11-27T02:20:01.832571Z",
     "start_time": "2020-11-27T02:20:01.821726Z"
    }
   },
   "outputs": [
    {
     "data": {
      "text/plain": [
       "{'MONDO': 'MONDO:0011996',\n",
       " 'DOID': 'DOID:8552',\n",
       " 'UMLS': 'C0023473',\n",
       " 'name': 'chronic myelogenous leukemia, BCR-ABL1 positive',\n",
       " 'MESH': 'D015464',\n",
       " 'OMIM': '608232',\n",
       " 'ORPHANET': '521',\n",
       " 'primary': {'identifier': 'MONDO',\n",
       "  'cls': 'Disease',\n",
       "  'value': 'MONDO:0011996'},\n",
       " 'display': 'MONDO(MONDO:0011996) DOID(DOID:8552) OMIM(608232) ORPHANET(521) UMLS(C0023473) MESH(D015464) name(chronic myelogenous leukemia, BCR-ABL1 positive)',\n",
       " 'type': 'Disease'}"
      ]
     },
     "execution_count": 6,
     "metadata": {},
     "output_type": "execute_result"
    }
   ],
   "source": [
    "# select the first Disease object for our CML query\n",
    "cml = cml_hint['Disease'][0]\n",
    "cml"
   ]
  },
  {
   "cell_type": "code",
   "execution_count": 7,
   "metadata": {
    "ExecuteTime": {
     "end_time": "2020-11-27T02:20:05.418031Z",
     "start_time": "2020-11-27T02:20:05.136217Z"
    }
   },
   "outputs": [
    {
     "name": "stdout",
     "output_type": "stream",
     "text": [
      "There are 5 BioThings objects returned for imatinib:\n",
      "ChemicalSubstance, IMATINIB, num of IDs: 9\n",
      "ChemicalSubstance, Imatinib, num of IDs: 6\n",
      "ChemicalSubstance, IMATINIB MESYLATE, num of IDs: 9\n",
      "Pathway, Imatinib Pathway, Pharmacokinetics/Pharmacodynamics, num of IDs: 1\n",
      "Pathway, Imatinib and Chronic Myeloid Leukemia, num of IDs: 1\n"
     ]
    }
   ],
   "source": [
    "# find all potential representations of imatinib\n",
    "imatinib_str = \"imatinib\"\n",
    "imatinib_hint = ht.query(imatinib_str)\n",
    "\n",
    "hint_display(imatinib_str, imatinib_hint)"
   ]
  },
  {
   "cell_type": "markdown",
   "metadata": {},
   "source": [
    "While multiple results look valid (indexed at 0, 1, 3, 4), for now we'll pick the top ChemicalSubstance choice (indexed at 0) for imatinib for our query. We can look at identifier mappings inside this BioThings object. "
   ]
  },
  {
   "cell_type": "code",
   "execution_count": 8,
   "metadata": {
    "ExecuteTime": {
     "end_time": "2020-11-27T02:20:11.107685Z",
     "start_time": "2020-11-27T02:20:11.103491Z"
    }
   },
   "outputs": [
    {
     "data": {
      "text/plain": [
       "{'CHEMBL.COMPOUND': 'CHEMBL941',\n",
       " 'DRUGBANK': 'DB00619',\n",
       " 'PUBCHEM': 5291,\n",
       " 'CHEBI': 'CHEBI:45783',\n",
       " 'UMLS': 'C0935989',\n",
       " 'MESH': 'D000068877',\n",
       " 'UNII': '8A1O1M485B',\n",
       " 'INCHIKEY': 'KTUFNOKKBVMGRW-UHFFFAOYSA-N',\n",
       " 'INCHI': 'InChI=1S/C29H31N7O/c1-21-5-10-25(18-27(21)34-29-31-13-11-26(33-29)24-4-3-12-30-19-24)32-28(37)23-8-6-22(7-9-23)20-36-16-14-35(2)15-17-36/h3-13,18-19H,14-17,20H2,1-2H3,(H,32,37)(H,31,33,34)',\n",
       " 'name': 'IMATINIB',\n",
       " 'primary': {'identifier': 'CHEBI',\n",
       "  'cls': 'ChemicalSubstance',\n",
       "  'value': 'CHEBI:45783'},\n",
       " 'display': 'CHEBI(CHEBI:45783) CHEMBL.COMPOUND(CHEMBL941) DRUGBANK(DB00619) PUBCHEM(5291) MESH(D000068877) UNII(8A1O1M485B) UMLS(C0935989) name(IMATINIB)',\n",
       " 'type': 'ChemicalSubstance'}"
      ]
     },
     "execution_count": 8,
     "metadata": {},
     "output_type": "execute_result"
    }
   ],
   "source": [
    "# select the correct representation of imatinib\n",
    "imatinib = imatinib_hint['ChemicalSubstance'][0]\n",
    "imatinib"
   ]
  },
  {
   "cell_type": "markdown",
   "metadata": {},
   "source": [
    "## Step 2: Find intermediate nodes connecting imatinib and chronic myelogenous leukemia"
   ]
  },
  {
   "cell_type": "markdown",
   "metadata": {},
   "source": [
    "In this section, we find some paths in the knowledge graph that connect imatinib and chronic myelogenous leukemia.  To do that, we will use `FindConnection`.  This class is a convenient wrapper around two advanced functions for **query path planning** and **query path execution**. More advanced features for both query path planning and query path execution are in development and will be documented in the coming months. \n",
    "\n",
    "The parameters for `FindConnection` are described below:"
   ]
  },
  {
   "cell_type": "code",
   "execution_count": 9,
   "metadata": {
    "ExecuteTime": {
     "end_time": "2020-11-27T02:20:14.868378Z",
     "start_time": "2020-11-27T02:20:14.864962Z"
    }
   },
   "outputs": [
    {
     "name": "stdout",
     "output_type": "stream",
     "text": [
      "Help on function __init__ in module biothings_explorer.user_query_dispatcher:\n",
      "\n",
      "__init__(self, input_obj, output_obj, intermediate_nodes, registry=None)\n",
      "    Find relationships in the Knowledge Graph between an Input Object and an Output Object.\n",
      "    \n",
      "    Args:\n",
      "        input_obj (required): must be an object returned from Hint corresponding to a specific biomedical entity.\n",
      "                            Examples:\n",
      "                Hint().query(\"Fanconi anemia\")['DiseaseOrPhenotypicFeature'][0]\n",
      "                Hint().query(\"acetaminophen\")['ChemicalSubstance'][0]\n",
      "    \n",
      "        output_obj (required): must EITHER be an object returned from Hint corresponding to a specific biomedical\n",
      "                            entity, OR be a string or list of strings corresponding to Biolink Entity classes.\n",
      "                            Examples:\n",
      "                Hint().query(\"acetaminophen\")['ChemicalSubstance'][0]\n",
      "                'Gene'\n",
      "                ['Gene','ChemicalSubstance']\n",
      "    \n",
      "        intermediate_nodes (required): the semantic type(s) of the intermediate node(s).  Examples:\n",
      "                None                         : no intermediate node, find direct connections only\n",
      "                []                           : no intermediate node, find direct connections only\n",
      "                ['BiologicalEntity']         : one intermediate node of any semantic type\n",
      "                ['Gene']                     : one intermediate node that must be a Gene\n",
      "                [('Gene','Pathway')]         : one intermediate node that must be a Gene or a Pathway\n",
      "                ['Gene','Pathway']           : two intermediate nodes, first must be a Gene, second must be a Pathway.\n",
      "                ['Gene',('Pathway','Gene')]  : two intermediate nodes, first must be a Gene, second must be a Pathway or Gene.\n",
      "                                                **NOTE**: queries with more than one intermediate node are currently not supported\n",
      "\n"
     ]
    }
   ],
   "source": [
    "help(FindConnection.__init__)"
   ]
  },
  {
   "cell_type": "markdown",
   "metadata": {},
   "source": [
    "Here, we formulate a `FindConnection` query with CML as the `input_obj`, imatinib as the `output_obj`.  We further specify with the `intermediate_nodes` parameter that we are looking for paths joining chronic myelogenous leukemia and imatinib with *one* intermediate node that is a \"Gene\" (BioThings type).  "
   ]
  },
  {
   "cell_type": "code",
   "execution_count": 10,
   "metadata": {
    "ExecuteTime": {
     "end_time": "2020-11-27T02:20:18.850875Z",
     "start_time": "2020-11-27T02:20:18.786177Z"
    }
   },
   "outputs": [],
   "source": [
    "fc = FindConnection(input_obj = cml, output_obj = imatinib, \\\n",
    "                    intermediate_nodes = 'Gene')"
   ]
  },
  {
   "cell_type": "markdown",
   "metadata": {},
   "source": [
    "We next execute the `connect` method, which performs the **query path planning** and **query path execution** process.  In short, BioThings Explorer is deconstructing the query into individual API calls, executing those API calls, then assembling the results.\n",
    "\n",
    "A verbose log of this process is displayed below:"
   ]
  },
  {
   "cell_type": "code",
   "execution_count": 11,
   "metadata": {
    "ExecuteTime": {
     "end_time": "2020-11-27T02:22:10.067337Z",
     "start_time": "2020-11-27T02:20:24.728728Z"
    },
    "scrolled": true
   },
   "outputs": [
    {
     "name": "stdout",
     "output_type": "stream",
     "text": [
      "==========\n",
      "========== QUERY PARAMETER SUMMARY ==========\n",
      "==========\n",
      "\n",
      "BTE will find paths that join 'chronic myelogenous leukemia, BCR-ABL1 positive' and 'IMATINIB'. Paths will have 1 intermediate node.\n",
      "\n",
      "Intermediate node #1 will have these type constraints: Gene\n",
      "\n",
      "\n",
      "==========\n",
      "========== QUERY #1 -- fetch all Gene entities linked to 'chronic myelogenous leukemia, BCR-ABL1 positive' ==========\n",
      "==========\n",
      "\n",
      "==== Step #1: Query path planning ====\n",
      "\n",
      "Because chronic myelogenous leukemia, BCR-ABL1 positive is of type 'Disease', BTE will query our meta-KG for APIs that can take 'Disease' as input and 'Gene' as output\n",
      "\n",
      "BTE found 10 apis:\n",
      "\n",
      "API 1. scibite(1 API call)\n",
      "API 2. semmed_disease(15 API calls)\n",
      "API 3. pharos(1 API call)\n",
      "API 4. cord_disease(1 API call)\n",
      "API 5. biolink(1 API call)\n",
      "API 6. hetio(1 API call)\n",
      "API 7. mydisease(1 API call)\n",
      "API 8. scigraph(1 API call)\n",
      "API 9. mgi_gene2phenotype(1 API call)\n",
      "API 10. DISEASES(1 API call)\n",
      "\n",
      "\n",
      "==== Step #2: Query path execution ====\n",
      "NOTE: API requests are dispatched in parallel, so the list of APIs below is ordered by query time.\n",
      "\n",
      "API 5.1: https://api.monarchinitiative.org/api/bioentity/disease/MONDO:0011996/genes?rows=200\n",
      "API 7.1: https://mydisease.info/v1/query?fields=disgenet.genes_related_to_disease.gene_id (POST -d q=C0023473&scopes=mondo.xrefs.umls, disgenet.xrefs.umls)\n",
      "API 4.1: https://biothings.ncats.io/cord_disease/query?fields=associated_with (POST -d q=DOID:8552&scopes=doid)\n",
      "API 2.13: https://biothings.ncats.io/semmed/query?fields=disrupts (POST -d q=C0023473&scopes=umls)\n",
      "API 2.3: https://biothings.ncats.io/semmed/query?fields=prevented_by (POST -d q=C0023473&scopes=umls)\n",
      "API 2.4: https://biothings.ncats.io/semmed/query?fields=positively_regulates (POST -d q=C0023473&scopes=umls)\n",
      "API 2.7: https://biothings.ncats.io/semmed/query?fields=positively_regulated_by (POST -d q=C0023473&scopes=umls)\n",
      "API 2.14: https://biothings.ncats.io/semmed/query?fields=caused_by (POST -d q=C0023473&scopes=umls)\n",
      "API 2.15: https://biothings.ncats.io/semmed/query?fields=negatively_regulated_by (POST -d q=C0023473&scopes=umls)\n",
      "API 2.12: https://biothings.ncats.io/semmed/query?fields=related_to (POST -d q=C0023473&scopes=umls)\n",
      "API 2.5: https://biothings.ncats.io/semmed/query?fields=physically_interacts_with (POST -d q=C0023473&scopes=umls)\n",
      "API 2.1: https://biothings.ncats.io/semmed/query?fields=affects (POST -d q=C0023473&scopes=umls)\n",
      "API 2.2: https://biothings.ncats.io/semmed/query?fields=coexists_with (POST -d q=C0023473&scopes=umls)\n",
      "API 2.10: https://biothings.ncats.io/semmed/query?fields=affected_by (POST -d q=C0023473&scopes=umls)\n",
      "API 2.11: https://biothings.ncats.io/semmed/query?fields=negatively_regulates (POST -d q=C0023473&scopes=umls)\n",
      "API 2.9: https://biothings.ncats.io/semmed/query?fields=disrupted_by (POST -d q=C0023473&scopes=umls)\n",
      "API 2.8: https://biothings.ncats.io/semmed/query?fields=derives_from (POST -d q=C0023473&scopes=umls)\n",
      "API 2.6: https://biothings.ncats.io/semmed/query?fields=treated_by (POST -d q=C0023473&scopes=umls)\n",
      "API 10.1: https://pending.biothings.io/DISEASES/query?fields=DISEASES.associatedWith (POST -d q=DOID:8552&scopes=DISEASES.doid)\n",
      "API 9.1: https://pending.biothings.io/mgigene2phenotype/query?fields=_id&size=300 (POST -d q=DOID:8552&scopes=mgi.associated_with_disease.doid)\n",
      "API 1.1: https://automat.renci.org/cord19-scibite/disease/gene/MONDO:0011996\n",
      "API 3.1: https://automat.renci.org/pharos/disease/gene/MONDO:0011996\n",
      "API 6.1: https://automat.renci.org/hetio/disease/gene/MONDO:0011996\n",
      "API 8.1: https://automat.renci.org/cord19-scigraph/disease/gene/MONDO:0011996\n",
      "\n",
      "\n",
      "==== Step #3: Output normalization ====\n",
      "\n",
      "API 9.1 mgi_gene2phenotype: 8 hits\n",
      "API 2.1 semmed_disease: No hits\n",
      "API 2.2 semmed_disease: No hits\n",
      "API 10.1 DISEASES: 2 hits\n",
      "API 2.3 semmed_disease: 7 hits\n",
      "API 2.4 semmed_disease: No hits\n",
      "API 2.5 semmed_disease: No hits\n",
      "API 2.6 semmed_disease: 131 hits\n",
      "API 2.7 semmed_disease: No hits\n",
      "API 8.1 scigraph: 3 hits\n",
      "API 3.1 pharos: 39 hits\n",
      "API 2.8 semmed_disease: No hits\n",
      "API 2.9 semmed_disease: 26 hits\n",
      "API 4.1 cord_disease: 146 hits\n",
      "API 2.10 semmed_disease: 63 hits\n",
      "API 1.1 scibite: 12 hits\n",
      "API 6.1 hetio: No hits\n",
      "API 2.11 semmed_disease: No hits\n",
      "API 2.12 semmed_disease: 537 hits\n",
      "API 7.1 mydisease: 1272 hits\n",
      "API 2.13 semmed_disease: No hits\n",
      "API 2.14 semmed_disease: 90 hits\n",
      "API 5.1 biolink: 4 hits\n",
      "API 2.15 semmed_disease: No hits\n",
      "\n",
      "After id-to-object translation, BTE retrieved 1650 unique objects.\n",
      "\n",
      "\n",
      "==========\n",
      "========== QUERY #2 -- fetch all Gene entities linked to 'IMATINIB' ==========\n",
      "==========\n",
      "\n",
      "==== Step #1: Query path planning ====\n",
      "\n",
      "Because IMATINIB is of type 'ChemicalSubstance', BTE will query our meta-KG for APIs that can take 'ChemicalSubstance' as input and 'Gene' as output\n",
      "\n",
      "BTE found 10 apis:\n",
      "\n",
      "API 1. scibite(1 API call)\n",
      "API 2. pharos(1 API call)\n",
      "API 3. chembio(1 API call)\n",
      "API 4. hmdb(1 API call)\n",
      "API 5. mychem(3 API calls)\n",
      "API 6. dgidb(2 API calls)\n",
      "API 7. ctd(2 API calls)\n",
      "API 8. scigraph(1 API call)\n",
      "API 9. cord_chemical(1 API call)\n",
      "API 10. semmed_chemical(13 API calls)\n",
      "\n",
      "\n",
      "==== Step #2: Query path execution ====\n",
      "NOTE: API requests are dispatched in parallel, so the list of APIs below is ordered by query time.\n",
      "\n",
      "API 10.10: https://biothings.ncats.io/semmedchemical/query?fields=negatively_regulates (POST -d q=C0935989&scopes=umls)\n",
      "API 10.8: https://biothings.ncats.io/semmedchemical/query?fields=produces (POST -d q=C0935989&scopes=umls)\n",
      "API 10.5: https://biothings.ncats.io/semmedchemical/query?fields=related_to (POST -d q=C0935989&scopes=umls)\n",
      "API 10.4: https://biothings.ncats.io/semmedchemical/query?fields=disrupted_by (POST -d q=C0935989&scopes=umls)\n",
      "API 10.3: https://biothings.ncats.io/semmedchemical/query?fields=negatively_regulated_by (POST -d q=C0935989&scopes=umls)\n",
      "API 10.6: https://biothings.ncats.io/semmedchemical/query?fields=disrupts (POST -d q=C0935989&scopes=umls)\n",
      "API 10.2: https://biothings.ncats.io/semmedchemical/query?fields=positively_regulates (POST -d q=C0935989&scopes=umls)\n",
      "API 10.11: https://biothings.ncats.io/semmedchemical/query?fields=affects (POST -d q=C0935989&scopes=umls)\n",
      "API 10.9: https://biothings.ncats.io/semmedchemical/query?fields=produced_by (POST -d q=C0935989&scopes=umls)\n",
      "API 10.1: https://biothings.ncats.io/semmedchemical/query?fields=physically_interacts_with (POST -d q=C0935989&scopes=umls)\n",
      "API 10.13: https://biothings.ncats.io/semmedchemical/query?fields=positively_regulated_by (POST -d q=C0935989&scopes=umls)\n",
      "API 10.12: https://biothings.ncats.io/semmedchemical/query?fields=affected_by (POST -d q=C0935989&scopes=umls)\n",
      "API 10.7: https://biothings.ncats.io/semmedchemical/query?fields=coexists_with (POST -d q=C0935989&scopes=umls)\n",
      "API 9.1: https://biothings.ncats.io/cord_chemical/query?fields=associated_with (POST -d q=CHEBI:45783&scopes=chebi)\n",
      "API 2.1: https://automat.renci.org/pharos/chemical_substance/gene/CHEBI:45783\n",
      "API 1.1: https://automat.renci.org/cord19-scibite/chemical_substance/gene/CHEBI:45783\n",
      "API 4.1: https://automat.renci.org/chembio/chemical_substance/gene/CHEBI:45783\n",
      "API 8.1: https://automat.renci.org/cord19-scigraph/chemical_substance/gene/CHEBI:45783\n",
      "API 3.1: https://automat.renci.org/hmdb/chemical_substance/gene/CHEBI:45783\n",
      "API 6.1: http://dgidb.genome.wustl.edu/api/v2/interactions.json?drugs=CHEMBL941\n",
      "API 6.2: http://dgidb.genome.wustl.edu/api/v2/interactions.json?drugs=CHEMBL1642\n",
      "API 7.2: http://ctdbase.org/tools/batchQuery.go?inputType=chem&report=genes_curated&format=json&inputTerms=C097613\n",
      "API 7.2 ctd failed\n",
      "API 7.1: http://ctdbase.org/tools/batchQuery.go?inputType=chem&report=genes_curated&format=json&inputTerms=D000068877\n",
      "API 7.1 ctd failed\n",
      "\n",
      "\n",
      "==== Step #3: Output normalization ====\n",
      "\n",
      "API 10.1 semmed_chemical: 226 hits\n",
      "API 4.1 chembio: No hits\n",
      "API 1.1 scibite: 8 hits\n",
      "API 5.1 mychem: 9 hits\n",
      "API 5.2 mychem: 80 hits\n",
      "API 5.3 mychem: 9 hits\n",
      "API 2.1 pharos: 21 hits\n",
      "API 10.2 semmed_chemical: 96 hits\n",
      "API 8.1 scigraph: 3 hits\n",
      "API 10.3 semmed_chemical: 36 hits\n",
      "API 10.4 semmed_chemical: No hits\n",
      "API 10.5 semmed_chemical: No hits\n",
      "API 6.1 dgidb: No hits\n",
      "API 6.2 dgidb: No hits\n",
      "API 3.1 hmdb: No hits\n",
      "API 10.6 semmed_chemical: No hits\n",
      "API 10.7 semmed_chemical: 119 hits\n",
      "API 10.8 semmed_chemical: No hits\n",
      "API 10.9 semmed_chemical: 11 hits\n",
      "API 9.1 cord_chemical: 172 hits\n",
      "API 10.10 semmed_chemical: 166 hits\n",
      "API 10.11 semmed_chemical: No hits\n",
      "API 10.12 semmed_chemical: No hits\n",
      "API 10.13 semmed_chemical: 39 hits\n"
     ]
    },
    {
     "name": "stdout",
     "output_type": "stream",
     "text": [
      "\n",
      "After id-to-object translation, BTE retrieved 608 unique objects.\n",
      "\n",
      "==========\n",
      "========== Final assembly of results ==========\n",
      "==========\n",
      "\n",
      "\n",
      "BTE found 328 unique intermediate nodes connecting 'chronic myelogenous leukemia, BCR-ABL1 positive' and 'IMATINIB'\n"
     ]
    }
   ],
   "source": [
    "# set verbose=True will display all steps which BTE takes to find the connection\n",
    "fc.connect(verbose = True)"
   ]
  },
  {
   "cell_type": "markdown",
   "metadata": {},
   "source": [
    "## Step 3: Display and filter results"
   ]
  },
  {
   "cell_type": "markdown",
   "metadata": {},
   "source": [
    "This section demonstrates post-query filtering done in Python. Later, more advanced filtering functions will be added to the **query path execution** module for interleaved filtering, thereby enabling longer query paths. More details to come...\n",
    "\n",
    "First, results can be exported to a data frame. Let's examine a sample of those results."
   ]
  },
  {
   "cell_type": "code",
   "execution_count": 12,
   "metadata": {
    "ExecuteTime": {
     "end_time": "2020-11-27T02:28:05.961212Z",
     "start_time": "2020-11-27T02:28:05.886903Z"
    },
    "scrolled": true
   },
   "outputs": [
    {
     "name": "stdout",
     "output_type": "stream",
     "text": [
      "(1249, 16)\n"
     ]
    },
    {
     "data": {
      "text/html": [
       "<div>\n",
       "<style scoped>\n",
       "    .dataframe tbody tr th:only-of-type {\n",
       "        vertical-align: middle;\n",
       "    }\n",
       "\n",
       "    .dataframe tbody tr th {\n",
       "        vertical-align: top;\n",
       "    }\n",
       "\n",
       "    .dataframe thead th {\n",
       "        text-align: right;\n",
       "    }\n",
       "</style>\n",
       "<table border=\"1\" class=\"dataframe\">\n",
       "  <thead>\n",
       "    <tr style=\"text-align: right;\">\n",
       "      <th></th>\n",
       "      <th>input</th>\n",
       "      <th>input_type</th>\n",
       "      <th>pred1</th>\n",
       "      <th>pred1_source</th>\n",
       "      <th>pred1_api</th>\n",
       "      <th>pred1_pubmed</th>\n",
       "      <th>node1_type</th>\n",
       "      <th>node1_name</th>\n",
       "      <th>node1_id</th>\n",
       "      <th>pred2</th>\n",
       "      <th>pred2_source</th>\n",
       "      <th>pred2_api</th>\n",
       "      <th>pred2_pubmed</th>\n",
       "      <th>output_type</th>\n",
       "      <th>output_name</th>\n",
       "      <th>output_id</th>\n",
       "    </tr>\n",
       "  </thead>\n",
       "  <tbody>\n",
       "    <tr>\n",
       "      <th>663</th>\n",
       "      <td>CHRONIC MYELOGENOUS LEUKEMIA, BCR-ABL1 POSITIVE</td>\n",
       "      <td>Disease</td>\n",
       "      <td>treated_by</td>\n",
       "      <td>SEMMED</td>\n",
       "      <td>SEMMED Disease API</td>\n",
       "      <td>15717993,16205964,16596277,17694264,17891251,2...</td>\n",
       "      <td>Gene</td>\n",
       "      <td>KIT</td>\n",
       "      <td>NCBIGene:3815</td>\n",
       "      <td>physically_interacts_with</td>\n",
       "      <td>SEMMED</td>\n",
       "      <td>SEMMED Chemical API</td>\n",
       "      <td>12481435,12672043,14645423,15689683,15893416,1...</td>\n",
       "      <td>Gene</td>\n",
       "      <td>IMATINIB</td>\n",
       "      <td>name:IMATINIB</td>\n",
       "    </tr>\n",
       "    <tr>\n",
       "      <th>1801</th>\n",
       "      <td>CHRONIC MYELOGENOUS LEUKEMIA, BCR-ABL1 POSITIVE</td>\n",
       "      <td>Disease</td>\n",
       "      <td>treated_by</td>\n",
       "      <td>SEMMED</td>\n",
       "      <td>SEMMED Disease API</td>\n",
       "      <td>29041012</td>\n",
       "      <td>Gene</td>\n",
       "      <td>WT1</td>\n",
       "      <td>NCBIGene:7490</td>\n",
       "      <td>coexists_with</td>\n",
       "      <td>SEMMED</td>\n",
       "      <td>SEMMED Chemical API</td>\n",
       "      <td>19580340</td>\n",
       "      <td>Gene</td>\n",
       "      <td>IMATINIB</td>\n",
       "      <td>name:IMATINIB</td>\n",
       "    </tr>\n",
       "    <tr>\n",
       "      <th>983</th>\n",
       "      <td>CHRONIC MYELOGENOUS LEUKEMIA, BCR-ABL1 POSITIVE</td>\n",
       "      <td>Disease</td>\n",
       "      <td>related_to</td>\n",
       "      <td>SEMMED</td>\n",
       "      <td>SEMMED Disease API</td>\n",
       "      <td>15995325</td>\n",
       "      <td>Gene</td>\n",
       "      <td>FGFR1</td>\n",
       "      <td>NCBIGene:2260</td>\n",
       "      <td>physically_interacts_with</td>\n",
       "      <td>drugcentral</td>\n",
       "      <td>MyChem.info API</td>\n",
       "      <td>None</td>\n",
       "      <td>Gene</td>\n",
       "      <td>IMATINIB</td>\n",
       "      <td>name:IMATINIB</td>\n",
       "    </tr>\n",
       "    <tr>\n",
       "      <th>990</th>\n",
       "      <td>CHRONIC MYELOGENOUS LEUKEMIA, BCR-ABL1 POSITIVE</td>\n",
       "      <td>Disease</td>\n",
       "      <td>related_to</td>\n",
       "      <td>SEMMED</td>\n",
       "      <td>SEMMED Disease API</td>\n",
       "      <td>29096333</td>\n",
       "      <td>Gene</td>\n",
       "      <td>EPHB4</td>\n",
       "      <td>NCBIGene:2050</td>\n",
       "      <td>physically_interacts_with</td>\n",
       "      <td>SEMMED</td>\n",
       "      <td>SEMMED Chemical API</td>\n",
       "      <td>24415355</td>\n",
       "      <td>Gene</td>\n",
       "      <td>IMATINIB</td>\n",
       "      <td>name:IMATINIB</td>\n",
       "    </tr>\n",
       "    <tr>\n",
       "      <th>903</th>\n",
       "      <td>CHRONIC MYELOGENOUS LEUKEMIA, BCR-ABL1 POSITIVE</td>\n",
       "      <td>Disease</td>\n",
       "      <td>related_to</td>\n",
       "      <td>pharos</td>\n",
       "      <td>Automat PHAROS API</td>\n",
       "      <td>None</td>\n",
       "      <td>Gene</td>\n",
       "      <td>ABL1</td>\n",
       "      <td>NCBIGene:25</td>\n",
       "      <td>positively_regulated_by</td>\n",
       "      <td>SEMMED</td>\n",
       "      <td>SEMMED Chemical API</td>\n",
       "      <td>26251899</td>\n",
       "      <td>Gene</td>\n",
       "      <td>IMATINIB</td>\n",
       "      <td>name:IMATINIB</td>\n",
       "    </tr>\n",
       "    <tr>\n",
       "      <th>1468</th>\n",
       "      <td>CHRONIC MYELOGENOUS LEUKEMIA, BCR-ABL1 POSITIVE</td>\n",
       "      <td>Disease</td>\n",
       "      <td>related_to</td>\n",
       "      <td>disgenet</td>\n",
       "      <td>mydisease.info API</td>\n",
       "      <td>None</td>\n",
       "      <td>Gene</td>\n",
       "      <td>CXCR4</td>\n",
       "      <td>NCBIGene:7852</td>\n",
       "      <td>negatively_regulates</td>\n",
       "      <td>SEMMED</td>\n",
       "      <td>SEMMED Chemical API</td>\n",
       "      <td>24502926</td>\n",
       "      <td>Gene</td>\n",
       "      <td>IMATINIB</td>\n",
       "      <td>name:IMATINIB</td>\n",
       "    </tr>\n",
       "    <tr>\n",
       "      <th>1571</th>\n",
       "      <td>CHRONIC MYELOGENOUS LEUKEMIA, BCR-ABL1 POSITIVE</td>\n",
       "      <td>Disease</td>\n",
       "      <td>caused_by</td>\n",
       "      <td>SEMMED</td>\n",
       "      <td>SEMMED Disease API</td>\n",
       "      <td>15833859</td>\n",
       "      <td>Gene</td>\n",
       "      <td>IFI27</td>\n",
       "      <td>NCBIGene:3429</td>\n",
       "      <td>physically_interacts_with</td>\n",
       "      <td>SEMMED</td>\n",
       "      <td>SEMMED Chemical API</td>\n",
       "      <td>18974147</td>\n",
       "      <td>Gene</td>\n",
       "      <td>IMATINIB</td>\n",
       "      <td>name:IMATINIB</td>\n",
       "    </tr>\n",
       "    <tr>\n",
       "      <th>684</th>\n",
       "      <td>CHRONIC MYELOGENOUS LEUKEMIA, BCR-ABL1 POSITIVE</td>\n",
       "      <td>Disease</td>\n",
       "      <td>treated_by</td>\n",
       "      <td>SEMMED</td>\n",
       "      <td>SEMMED Disease API</td>\n",
       "      <td>15717993,16205964,16596277,17694264,17891251,2...</td>\n",
       "      <td>Gene</td>\n",
       "      <td>KIT</td>\n",
       "      <td>NCBIGene:3815</td>\n",
       "      <td>coexists_with</td>\n",
       "      <td>SEMMED</td>\n",
       "      <td>SEMMED Chemical API</td>\n",
       "      <td>16143881,17208434,17372901,18234488,21181476,2...</td>\n",
       "      <td>Gene</td>\n",
       "      <td>IMATINIB</td>\n",
       "      <td>name:IMATINIB</td>\n",
       "    </tr>\n",
       "    <tr>\n",
       "      <th>766</th>\n",
       "      <td>CHRONIC MYELOGENOUS LEUKEMIA, BCR-ABL1 POSITIVE</td>\n",
       "      <td>Disease</td>\n",
       "      <td>related_to</td>\n",
       "      <td>scibite</td>\n",
       "      <td>Automat CORD19 Scibite API</td>\n",
       "      <td>None</td>\n",
       "      <td>Gene</td>\n",
       "      <td>PDGFRA</td>\n",
       "      <td>NCBIGene:5156</td>\n",
       "      <td>physically_interacts_with</td>\n",
       "      <td>drugbank</td>\n",
       "      <td>MyChem.info API</td>\n",
       "      <td>15894928,15921304,15928335,15946589,15995325</td>\n",
       "      <td>Gene</td>\n",
       "      <td>IMATINIB</td>\n",
       "      <td>name:IMATINIB</td>\n",
       "    </tr>\n",
       "    <tr>\n",
       "      <th>1836</th>\n",
       "      <td>CHRONIC MYELOGENOUS LEUKEMIA, BCR-ABL1 POSITIVE</td>\n",
       "      <td>Disease</td>\n",
       "      <td>treated_by</td>\n",
       "      <td>SEMMED</td>\n",
       "      <td>SEMMED Disease API</td>\n",
       "      <td>24574458</td>\n",
       "      <td>Gene</td>\n",
       "      <td>IL2RA</td>\n",
       "      <td>NCBIGene:3559</td>\n",
       "      <td>negatively_regulates</td>\n",
       "      <td>SEMMED</td>\n",
       "      <td>SEMMED Chemical API</td>\n",
       "      <td>18190601</td>\n",
       "      <td>Gene</td>\n",
       "      <td>IMATINIB</td>\n",
       "      <td>name:IMATINIB</td>\n",
       "    </tr>\n",
       "  </tbody>\n",
       "</table>\n",
       "</div>"
      ],
      "text/plain": [
       "                                                input input_type       pred1  \\\n",
       "663   CHRONIC MYELOGENOUS LEUKEMIA, BCR-ABL1 POSITIVE    Disease  treated_by   \n",
       "1801  CHRONIC MYELOGENOUS LEUKEMIA, BCR-ABL1 POSITIVE    Disease  treated_by   \n",
       "983   CHRONIC MYELOGENOUS LEUKEMIA, BCR-ABL1 POSITIVE    Disease  related_to   \n",
       "990   CHRONIC MYELOGENOUS LEUKEMIA, BCR-ABL1 POSITIVE    Disease  related_to   \n",
       "903   CHRONIC MYELOGENOUS LEUKEMIA, BCR-ABL1 POSITIVE    Disease  related_to   \n",
       "1468  CHRONIC MYELOGENOUS LEUKEMIA, BCR-ABL1 POSITIVE    Disease  related_to   \n",
       "1571  CHRONIC MYELOGENOUS LEUKEMIA, BCR-ABL1 POSITIVE    Disease   caused_by   \n",
       "684   CHRONIC MYELOGENOUS LEUKEMIA, BCR-ABL1 POSITIVE    Disease  treated_by   \n",
       "766   CHRONIC MYELOGENOUS LEUKEMIA, BCR-ABL1 POSITIVE    Disease  related_to   \n",
       "1836  CHRONIC MYELOGENOUS LEUKEMIA, BCR-ABL1 POSITIVE    Disease  treated_by   \n",
       "\n",
       "     pred1_source                   pred1_api  \\\n",
       "663        SEMMED          SEMMED Disease API   \n",
       "1801       SEMMED          SEMMED Disease API   \n",
       "983        SEMMED          SEMMED Disease API   \n",
       "990        SEMMED          SEMMED Disease API   \n",
       "903        pharos          Automat PHAROS API   \n",
       "1468     disgenet          mydisease.info API   \n",
       "1571       SEMMED          SEMMED Disease API   \n",
       "684        SEMMED          SEMMED Disease API   \n",
       "766       scibite  Automat CORD19 Scibite API   \n",
       "1836       SEMMED          SEMMED Disease API   \n",
       "\n",
       "                                           pred1_pubmed node1_type node1_name  \\\n",
       "663   15717993,16205964,16596277,17694264,17891251,2...       Gene        KIT   \n",
       "1801                                           29041012       Gene        WT1   \n",
       "983                                            15995325       Gene      FGFR1   \n",
       "990                                            29096333       Gene      EPHB4   \n",
       "903                                                None       Gene       ABL1   \n",
       "1468                                               None       Gene      CXCR4   \n",
       "1571                                           15833859       Gene      IFI27   \n",
       "684   15717993,16205964,16596277,17694264,17891251,2...       Gene        KIT   \n",
       "766                                                None       Gene     PDGFRA   \n",
       "1836                                           24574458       Gene      IL2RA   \n",
       "\n",
       "           node1_id                      pred2 pred2_source  \\\n",
       "663   NCBIGene:3815  physically_interacts_with       SEMMED   \n",
       "1801  NCBIGene:7490              coexists_with       SEMMED   \n",
       "983   NCBIGene:2260  physically_interacts_with  drugcentral   \n",
       "990   NCBIGene:2050  physically_interacts_with       SEMMED   \n",
       "903     NCBIGene:25    positively_regulated_by       SEMMED   \n",
       "1468  NCBIGene:7852       negatively_regulates       SEMMED   \n",
       "1571  NCBIGene:3429  physically_interacts_with       SEMMED   \n",
       "684   NCBIGene:3815              coexists_with       SEMMED   \n",
       "766   NCBIGene:5156  physically_interacts_with     drugbank   \n",
       "1836  NCBIGene:3559       negatively_regulates       SEMMED   \n",
       "\n",
       "                pred2_api                                       pred2_pubmed  \\\n",
       "663   SEMMED Chemical API  12481435,12672043,14645423,15689683,15893416,1...   \n",
       "1801  SEMMED Chemical API                                           19580340   \n",
       "983       MyChem.info API                                               None   \n",
       "990   SEMMED Chemical API                                           24415355   \n",
       "903   SEMMED Chemical API                                           26251899   \n",
       "1468  SEMMED Chemical API                                           24502926   \n",
       "1571  SEMMED Chemical API                                           18974147   \n",
       "684   SEMMED Chemical API  16143881,17208434,17372901,18234488,21181476,2...   \n",
       "766       MyChem.info API       15894928,15921304,15928335,15946589,15995325   \n",
       "1836  SEMMED Chemical API                                           18190601   \n",
       "\n",
       "     output_type output_name      output_id  \n",
       "663         Gene    IMATINIB  name:IMATINIB  \n",
       "1801        Gene    IMATINIB  name:IMATINIB  \n",
       "983         Gene    IMATINIB  name:IMATINIB  \n",
       "990         Gene    IMATINIB  name:IMATINIB  \n",
       "903         Gene    IMATINIB  name:IMATINIB  \n",
       "1468        Gene    IMATINIB  name:IMATINIB  \n",
       "1571        Gene    IMATINIB  name:IMATINIB  \n",
       "684         Gene    IMATINIB  name:IMATINIB  \n",
       "766         Gene    IMATINIB  name:IMATINIB  \n",
       "1836        Gene    IMATINIB  name:IMATINIB  "
      ]
     },
     "execution_count": 12,
     "metadata": {},
     "output_type": "execute_result"
    }
   ],
   "source": [
    "df = fc.display_table_view()\n",
    "\n",
    "# because UMLS is not currently well-integrated in our ID-to-object translation system, removing UMLS-only entries here\n",
    "patternDel = \"^UMLS:C\\d+\"\n",
    "filter = df.node1_id.str.contains(patternDel)\n",
    "df = df[~filter]\n",
    "\n",
    "print(df.shape)\n",
    "df.sample(10)"
   ]
  },
  {
   "cell_type": "markdown",
   "metadata": {},
   "source": [
    "Notice that results give the knowledge source (API) and that many also give the literature source (Pubmed ID). \n",
    "\n",
    "Next, let's look to see which genes are mentioned the most."
   ]
  },
  {
   "cell_type": "code",
   "execution_count": 13,
   "metadata": {
    "ExecuteTime": {
     "end_time": "2020-11-27T02:28:09.753377Z",
     "start_time": "2020-11-27T02:28:09.745838Z"
    }
   },
   "outputs": [
    {
     "data": {
      "text/plain": [
       "BCR      156\n",
       "ABL1      81\n",
       "KIT       80\n",
       "MTTP      42\n",
       "AKT1      30\n",
       "TP53      25\n",
       "JAK2      24\n",
       "ABCB1     21\n",
       "ABCG2     21\n",
       "LYN       20\n",
       "Name: node1_name, dtype: int64"
      ]
     },
     "execution_count": 13,
     "metadata": {},
     "output_type": "execute_result"
    }
   ],
   "source": [
    "df.node1_name.value_counts().head(10)"
   ]
  },
  {
   "cell_type": "markdown",
   "metadata": {},
   "source": [
    "*Note: as of 2020-08-13, the notebook output above matches the description below. As knowledge sources (APIs) and code are updated and added, users may obtain different results.*\n",
    "\n",
    "Not surprisingly, the top two genes that BioThings Explorer found that join imatinib to CML are *ABL1* and *BCR*, the two genes that are fused in the \"Philadelphia chromosome\", the genetic abnormality that underlies CML, *and* the validated target of imatinib.\n",
    "\n",
    "Let's examine some of the PubMed articles linking **CML to *ABL1*** and ***ABL1* to imatinib**."
   ]
  },
  {
   "cell_type": "code",
   "execution_count": 14,
   "metadata": {
    "ExecuteTime": {
     "end_time": "2020-11-27T02:28:13.999221Z",
     "start_time": "2020-11-27T02:28:13.994092Z"
    }
   },
   "outputs": [
    {
     "name": "stdout",
     "output_type": "stream",
     "text": [
      "There are 17 articles supporting the edge between CML and ABL1. Sampling of 10 of those:\n",
      "http://pubmed.gov/24662807\n",
      "http://pubmed.gov/26179066\n",
      "http://pubmed.gov/10498618\n",
      "http://pubmed.gov/10822991\n",
      "http://pubmed.gov/11368359\n",
      "http://pubmed.gov/11979553\n",
      "http://pubmed.gov/18082628\n",
      "http://pubmed.gov/18243808\n",
      "http://pubmed.gov/18406870\n",
      "http://pubmed.gov/20809971\n"
     ]
    }
   ],
   "source": [
    "# fetch all articles connecting 'chronic myelogenous leukemia' and 'ABL1'\n",
    "ABL1_str = 'ABL1'\n",
    "CML_name = cml['name']\n",
    "\n",
    "articles = []\n",
    "for info in fc.display_edge_info(CML_name, ABL1_str).values():\n",
    "    if 'pubmed' in info['info']:\n",
    "        articles += info['info']['pubmed']\n",
    "print(\"There are \"+str(len(articles))+\" articles supporting the edge between CML and ABL1. Sampling of 10 of those:\")\n",
    "x = [print(\"http://pubmed.gov/\" + str(x)) for x in articles[0:10] ]"
   ]
  },
  {
   "cell_type": "code",
   "execution_count": 15,
   "metadata": {
    "ExecuteTime": {
     "end_time": "2020-11-27T02:28:17.142383Z",
     "start_time": "2020-11-27T02:28:17.137553Z"
    }
   },
   "outputs": [
    {
     "name": "stdout",
     "output_type": "stream",
     "text": [
      "There are 11 articles supporting the edge between ABL1 and imatinib. Sampling of 10 of those:\n",
      "http://pubmed.gov/15799618\n",
      "http://pubmed.gov/15917650\n",
      "http://pubmed.gov/15949566\n",
      "http://pubmed.gov/16153117\n",
      "http://pubmed.gov/16205964\n",
      "http://pubmed.gov/15713800\n",
      "http://pubmed.gov/19166098\n",
      "http://pubmed.gov/26030291\n",
      "http://pubmed.gov/26618175\n",
      "http://pubmed.gov/21693657\n"
     ]
    }
   ],
   "source": [
    "# fetch all articles connecting 'ABL1' and 'Imatinib\n",
    "imatinib_name = imatinib['name']\n",
    "\n",
    "articles = []\n",
    "for info in fc.display_edge_info(ABL1_str, imatinib_name).values():\n",
    "    if 'pubmed' in info['info']:\n",
    "        articles += info['info']['pubmed']\n",
    "print(\"There are \"+str(len(articles))+\" articles supporting the edge between ABL1 and imatinib. Sampling of 10 of those:\")\n",
    "x = [print(\"http://pubmed.gov/\" + str(x)) for x in articles[0:10] ]"
   ]
  },
  {
   "cell_type": "markdown",
   "metadata": {},
   "source": [
    "## Comparing results between CML and GIST"
   ]
  },
  {
   "cell_type": "markdown",
   "metadata": {},
   "source": [
    "Let's perform another BioThings Explorer query, this time looking to EXPLAIN the relationship between imatinib and gastrointestinal stromal tumors (GIST), another disease treated by imatinib."
   ]
  },
  {
   "cell_type": "code",
   "execution_count": 16,
   "metadata": {
    "ExecuteTime": {
     "end_time": "2020-11-27T02:28:21.115917Z",
     "start_time": "2020-11-27T02:28:20.875536Z"
    }
   },
   "outputs": [
    {
     "name": "stdout",
     "output_type": "stream",
     "text": [
      "There are 5 BioThings objects returned for gastrointestinal stromal tumor:\n",
      "Disease, gastrointestinal stromal tumor, num of IDs: 6\n",
      "Disease, colorectal gastrointestinal stromal tumor, num of IDs: 2\n",
      "Disease, Gastrointestinal stromal tumor, benign, num of IDs: 2\n",
      "Disease, Childhood Gastrointestinal Stromal Tumor, num of IDs: 2\n",
      "Disease, GASTROINTESTINAL STROMAL TUMOR, FAMILIAL, num of IDs: 2\n"
     ]
    }
   ],
   "source": [
    "ht = Hint()\n",
    "gist_str = \"gastrointestinal stromal tumor\"\n",
    "\n",
    "# find all potential representations of CML\n",
    "gist_hint = ht.query(gist_str)\n",
    "\n",
    "hint_display(gist_str, gist_hint)"
   ]
  },
  {
   "cell_type": "markdown",
   "metadata": {},
   "source": [
    "While all results look valid, for now we'll pick the top Disease choice (indexed at 0) for GIST for our query. We can look at identifier mappings inside this BioThings object. "
   ]
  },
  {
   "cell_type": "code",
   "execution_count": 17,
   "metadata": {
    "ExecuteTime": {
     "end_time": "2020-11-27T02:28:25.947960Z",
     "start_time": "2020-11-27T02:28:25.943812Z"
    }
   },
   "outputs": [
    {
     "data": {
      "text/plain": [
       "{'MONDO': 'MONDO:0011719',\n",
       " 'DOID': 'DOID:9253',\n",
       " 'UMLS': 'C0238198',\n",
       " 'name': 'gastrointestinal stromal tumor',\n",
       " 'MESH': 'D046152',\n",
       " 'OMIM': '606764',\n",
       " 'ORPHANET': '44890',\n",
       " 'primary': {'identifier': 'MONDO',\n",
       "  'cls': 'Disease',\n",
       "  'value': 'MONDO:0011719'},\n",
       " 'display': 'MONDO(MONDO:0011719) DOID(DOID:9253) OMIM(606764) ORPHANET(44890) UMLS(C0238198) MESH(D046152) name(gastrointestinal stromal tumor)',\n",
       " 'type': 'Disease'}"
      ]
     },
     "execution_count": 17,
     "metadata": {},
     "output_type": "execute_result"
    }
   ],
   "source": [
    "# select the correct representation of CML\n",
    "gist = gist_hint['Disease'][0]\n",
    "gist"
   ]
  },
  {
   "cell_type": "markdown",
   "metadata": {},
   "source": [
    "Notice that like before, we are specifying with the `intermediate_nodes` parameter that we are looking for paths joining GIST and imatinib with *one* intermediate node that is a \"Gene\" (BioThings type).  "
   ]
  },
  {
   "cell_type": "code",
   "execution_count": 18,
   "metadata": {
    "ExecuteTime": {
     "end_time": "2020-11-27T02:28:28.345265Z",
     "start_time": "2020-11-27T02:28:28.282591Z"
    }
   },
   "outputs": [],
   "source": [
    "fc2 = FindConnection(input_obj = gist, output_obj = imatinib, \\\n",
    "                     intermediate_nodes = 'Gene')"
   ]
  },
  {
   "cell_type": "code",
   "execution_count": 19,
   "metadata": {
    "ExecuteTime": {
     "end_time": "2020-11-27T02:30:12.531433Z",
     "start_time": "2020-11-27T02:28:29.119382Z"
    }
   },
   "outputs": [
    {
     "name": "stdout",
     "output_type": "stream",
     "text": [
      "==========\n",
      "========== QUERY PARAMETER SUMMARY ==========\n",
      "==========\n",
      "\n",
      "BTE will find paths that join 'gastrointestinal stromal tumor' and 'IMATINIB'. Paths will have 1 intermediate node.\n",
      "\n",
      "Intermediate node #1 will have these type constraints: Gene\n",
      "\n",
      "\n",
      "==========\n",
      "========== QUERY #1 -- fetch all Gene entities linked to 'gastrointestinal stromal tumor' ==========\n",
      "==========\n",
      "\n",
      "==== Step #1: Query path planning ====\n",
      "\n",
      "Because gastrointestinal stromal tumor is of type 'Disease', BTE will query our meta-KG for APIs that can take 'Disease' as input and 'Gene' as output\n",
      "\n",
      "BTE found 10 apis:\n",
      "\n",
      "API 1. scibite(1 API call)\n",
      "API 2. semmed_disease(15 API calls)\n",
      "API 3. pharos(1 API call)\n",
      "API 4. cord_disease(1 API call)\n",
      "API 5. biolink(1 API call)\n",
      "API 6. hetio(1 API call)\n",
      "API 7. mydisease(1 API call)\n",
      "API 8. scigraph(1 API call)\n",
      "API 9. mgi_gene2phenotype(1 API call)\n",
      "API 10. DISEASES(1 API call)\n",
      "\n",
      "\n",
      "==== Step #2: Query path execution ====\n",
      "NOTE: API requests are dispatched in parallel, so the list of APIs below is ordered by query time.\n",
      "\n",
      "API 5.1: https://api.monarchinitiative.org/api/bioentity/disease/MONDO:0011719/genes?rows=200\n",
      "API 7.1: https://mydisease.info/v1/query?fields=disgenet.genes_related_to_disease.gene_id (POST -d q=C0238198,C3179349&scopes=mondo.xrefs.umls, disgenet.xrefs.umls)\n",
      "API 9.1: https://pending.biothings.io/mgigene2phenotype/query?fields=_id&size=300 (POST -d q=DOID:9253&scopes=mgi.associated_with_disease.doid)\n",
      "API 10.1: https://pending.biothings.io/DISEASES/query?fields=DISEASES.associatedWith (POST -d q=DOID:9253&scopes=DISEASES.doid)\n",
      "API 2.14: https://biothings.ncats.io/semmed/query?fields=caused_by (POST -d q=C0238198,C3179349&scopes=umls)\n",
      "API 4.1: https://biothings.ncats.io/cord_disease/query?fields=associated_with (POST -d q=DOID:9253&scopes=doid)\n",
      "API 2.4: https://biothings.ncats.io/semmed/query?fields=positively_regulates (POST -d q=C0238198,C3179349&scopes=umls)\n",
      "API 2.1: https://biothings.ncats.io/semmed/query?fields=affects (POST -d q=C0238198,C3179349&scopes=umls)\n",
      "API 2.11: https://biothings.ncats.io/semmed/query?fields=negatively_regulates (POST -d q=C0238198,C3179349&scopes=umls)\n",
      "API 2.10: https://biothings.ncats.io/semmed/query?fields=affected_by (POST -d q=C0238198,C3179349&scopes=umls)\n",
      "API 2.13: https://biothings.ncats.io/semmed/query?fields=disrupts (POST -d q=C0238198,C3179349&scopes=umls)\n",
      "API 2.6: https://biothings.ncats.io/semmed/query?fields=treated_by (POST -d q=C0238198,C3179349&scopes=umls)\n",
      "API 2.5: https://biothings.ncats.io/semmed/query?fields=physically_interacts_with (POST -d q=C0238198,C3179349&scopes=umls)\n",
      "API 2.7: https://biothings.ncats.io/semmed/query?fields=positively_regulated_by (POST -d q=C0238198,C3179349&scopes=umls)\n",
      "API 2.15: https://biothings.ncats.io/semmed/query?fields=negatively_regulated_by (POST -d q=C0238198,C3179349&scopes=umls)\n",
      "API 2.3: https://biothings.ncats.io/semmed/query?fields=prevented_by (POST -d q=C0238198,C3179349&scopes=umls)\n",
      "API 2.8: https://biothings.ncats.io/semmed/query?fields=derives_from (POST -d q=C0238198,C3179349&scopes=umls)\n",
      "API 2.9: https://biothings.ncats.io/semmed/query?fields=disrupted_by (POST -d q=C0238198,C3179349&scopes=umls)\n",
      "API 2.2: https://biothings.ncats.io/semmed/query?fields=coexists_with (POST -d q=C0238198,C3179349&scopes=umls)\n",
      "API 2.12: https://biothings.ncats.io/semmed/query?fields=related_to (POST -d q=C0238198,C3179349&scopes=umls)\n",
      "API 8.1: https://automat.renci.org/cord19-scigraph/disease/gene/MONDO:0011719\n",
      "API 3.1: https://automat.renci.org/pharos/disease/gene/MONDO:0011719\n",
      "API 1.1: https://automat.renci.org/cord19-scibite/disease/gene/MONDO:0011719\n",
      "API 6.1: https://automat.renci.org/hetio/disease/gene/MONDO:0011719\n",
      "\n",
      "\n",
      "==== Step #3: Output normalization ====\n",
      "\n",
      "API 9.1 mgi_gene2phenotype: 1 hits\n",
      "API 2.1 semmed_disease: No hits\n",
      "API 2.2 semmed_disease: 1 hits\n",
      "API 10.1 DISEASES: 36 hits\n",
      "API 2.3 semmed_disease: 1 hits\n",
      "API 2.4 semmed_disease: No hits\n",
      "API 2.5 semmed_disease: 1 hits\n",
      "API 2.6 semmed_disease: 53 hits\n",
      "API 2.7 semmed_disease: No hits\n",
      "API 8.1 scigraph: No hits\n",
      "API 3.1 pharos: 111 hits\n",
      "API 2.8 semmed_disease: No hits\n",
      "API 2.9 semmed_disease: 4 hits\n",
      "API 4.1 cord_disease: 64 hits\n",
      "API 2.10 semmed_disease: 18 hits\n",
      "API 1.1 scibite: 3 hits\n",
      "API 6.1 hetio: No hits\n",
      "API 2.11 semmed_disease: No hits\n",
      "API 2.12 semmed_disease: 250 hits\n",
      "API 7.1 mydisease: 164 hits\n",
      "API 2.13 semmed_disease: No hits\n",
      "API 2.14 semmed_disease: 17 hits\n",
      "API 5.1 biolink: 5 hits\n",
      "API 2.15 semmed_disease: No hits\n",
      "\n",
      "After id-to-object translation, BTE retrieved 444 unique objects.\n",
      "\n",
      "\n",
      "==========\n",
      "========== QUERY #2 -- fetch all Gene entities linked to 'IMATINIB' ==========\n",
      "==========\n",
      "\n",
      "==== Step #1: Query path planning ====\n",
      "\n",
      "Because IMATINIB is of type 'ChemicalSubstance', BTE will query our meta-KG for APIs that can take 'ChemicalSubstance' as input and 'Gene' as output\n",
      "\n",
      "BTE found 10 apis:\n",
      "\n",
      "API 1. scibite(1 API call)\n",
      "API 2. pharos(1 API call)\n",
      "API 3. chembio(1 API call)\n",
      "API 4. hmdb(1 API call)\n",
      "API 5. mychem(3 API calls)\n",
      "API 6. dgidb(2 API calls)\n",
      "API 7. ctd(2 API calls)\n",
      "API 8. scigraph(1 API call)\n",
      "API 9. cord_chemical(1 API call)\n",
      "API 10. semmed_chemical(13 API calls)\n",
      "\n",
      "\n",
      "==== Step #2: Query path execution ====\n",
      "NOTE: API requests are dispatched in parallel, so the list of APIs below is ordered by query time.\n",
      "\n",
      "API 9.1: https://biothings.ncats.io/cord_chemical/query?fields=associated_with (POST -d q=CHEBI:45783&scopes=chebi)\n",
      "API 10.13: https://biothings.ncats.io/semmedchemical/query?fields=positively_regulated_by (POST -d q=C0935989&scopes=umls)\n",
      "API 10.9: https://biothings.ncats.io/semmedchemical/query?fields=produced_by (POST -d q=C0935989&scopes=umls)\n",
      "API 10.2: https://biothings.ncats.io/semmedchemical/query?fields=positively_regulates (POST -d q=C0935989&scopes=umls)\n",
      "API 10.3: https://biothings.ncats.io/semmedchemical/query?fields=negatively_regulated_by (POST -d q=C0935989&scopes=umls)\n",
      "API 10.10: https://biothings.ncats.io/semmedchemical/query?fields=negatively_regulates (POST -d q=C0935989&scopes=umls)\n",
      "API 10.7: https://biothings.ncats.io/semmedchemical/query?fields=coexists_with (POST -d q=C0935989&scopes=umls)\n",
      "API 10.6: https://biothings.ncats.io/semmedchemical/query?fields=disrupts (POST -d q=C0935989&scopes=umls)\n",
      "API 10.11: https://biothings.ncats.io/semmedchemical/query?fields=affects (POST -d q=C0935989&scopes=umls)\n",
      "API 10.5: https://biothings.ncats.io/semmedchemical/query?fields=related_to (POST -d q=C0935989&scopes=umls)\n",
      "API 10.4: https://biothings.ncats.io/semmedchemical/query?fields=disrupted_by (POST -d q=C0935989&scopes=umls)\n",
      "API 10.12: https://biothings.ncats.io/semmedchemical/query?fields=affected_by (POST -d q=C0935989&scopes=umls)\n",
      "API 10.8: https://biothings.ncats.io/semmedchemical/query?fields=produces (POST -d q=C0935989&scopes=umls)\n",
      "API 10.1: https://biothings.ncats.io/semmedchemical/query?fields=physically_interacts_with (POST -d q=C0935989&scopes=umls)\n",
      "API 4.1: https://automat.renci.org/chembio/chemical_substance/gene/CHEBI:45783\n",
      "API 3.1: https://automat.renci.org/hmdb/chemical_substance/gene/CHEBI:45783\n",
      "API 8.1: https://automat.renci.org/cord19-scigraph/chemical_substance/gene/CHEBI:45783\n",
      "API 1.1: https://automat.renci.org/cord19-scibite/chemical_substance/gene/CHEBI:45783\n",
      "API 2.1: https://automat.renci.org/pharos/chemical_substance/gene/CHEBI:45783\n",
      "API 6.2: http://dgidb.genome.wustl.edu/api/v2/interactions.json?drugs=CHEMBL1642\n",
      "API 6.1: http://dgidb.genome.wustl.edu/api/v2/interactions.json?drugs=CHEMBL941\n",
      "API 7.2: http://ctdbase.org/tools/batchQuery.go?inputType=chem&report=genes_curated&format=json&inputTerms=C097613\n",
      "API 7.2 ctd failed\n",
      "API 7.1: http://ctdbase.org/tools/batchQuery.go?inputType=chem&report=genes_curated&format=json&inputTerms=D000068877\n",
      "API 7.1 ctd failed\n",
      "\n",
      "\n",
      "==== Step #3: Output normalization ====\n",
      "\n",
      "API 10.1 semmed_chemical: 226 hits\n",
      "API 4.1 chembio: No hits\n",
      "API 1.1 scibite: 8 hits\n",
      "API 5.1 mychem: 9 hits\n",
      "API 5.2 mychem: 80 hits\n",
      "API 5.3 mychem: 9 hits\n",
      "API 2.1 pharos: 21 hits\n",
      "API 10.2 semmed_chemical: 96 hits\n",
      "API 8.1 scigraph: 3 hits\n",
      "API 10.3 semmed_chemical: 36 hits\n",
      "API 10.4 semmed_chemical: No hits\n",
      "API 10.5 semmed_chemical: No hits\n",
      "API 6.1 dgidb: No hits\n",
      "API 6.2 dgidb: No hits\n",
      "API 3.1 hmdb: No hits\n",
      "API 10.6 semmed_chemical: No hits\n",
      "API 10.7 semmed_chemical: 119 hits\n",
      "API 10.8 semmed_chemical: No hits\n",
      "API 10.9 semmed_chemical: 11 hits\n",
      "API 9.1 cord_chemical: 172 hits\n",
      "API 10.10 semmed_chemical: 166 hits\n",
      "API 10.11 semmed_chemical: No hits\n",
      "API 10.12 semmed_chemical: No hits\n",
      "API 10.13 semmed_chemical: 39 hits\n"
     ]
    },
    {
     "name": "stdout",
     "output_type": "stream",
     "text": [
      "\n",
      "After id-to-object translation, BTE retrieved 608 unique objects.\n",
      "\n",
      "==========\n",
      "========== Final assembly of results ==========\n",
      "==========\n",
      "\n",
      "\n",
      "BTE found 135 unique intermediate nodes connecting 'gastrointestinal stromal tumor' and 'IMATINIB'\n"
     ]
    }
   ],
   "source": [
    "fc2.connect(verbose = True) "
   ]
  },
  {
   "cell_type": "code",
   "execution_count": 20,
   "metadata": {
    "ExecuteTime": {
     "end_time": "2020-11-27T02:30:27.392938Z",
     "start_time": "2020-11-27T02:30:27.338870Z"
    }
   },
   "outputs": [
    {
     "name": "stdout",
     "output_type": "stream",
     "text": [
      "(790, 16)\n"
     ]
    },
    {
     "data": {
      "text/html": [
       "<div>\n",
       "<style scoped>\n",
       "    .dataframe tbody tr th:only-of-type {\n",
       "        vertical-align: middle;\n",
       "    }\n",
       "\n",
       "    .dataframe tbody tr th {\n",
       "        vertical-align: top;\n",
       "    }\n",
       "\n",
       "    .dataframe thead th {\n",
       "        text-align: right;\n",
       "    }\n",
       "</style>\n",
       "<table border=\"1\" class=\"dataframe\">\n",
       "  <thead>\n",
       "    <tr style=\"text-align: right;\">\n",
       "      <th></th>\n",
       "      <th>input</th>\n",
       "      <th>input_type</th>\n",
       "      <th>pred1</th>\n",
       "      <th>pred1_source</th>\n",
       "      <th>pred1_api</th>\n",
       "      <th>pred1_pubmed</th>\n",
       "      <th>node1_type</th>\n",
       "      <th>node1_name</th>\n",
       "      <th>node1_id</th>\n",
       "      <th>pred2</th>\n",
       "      <th>pred2_source</th>\n",
       "      <th>pred2_api</th>\n",
       "      <th>pred2_pubmed</th>\n",
       "      <th>output_type</th>\n",
       "      <th>output_name</th>\n",
       "      <th>output_id</th>\n",
       "    </tr>\n",
       "  </thead>\n",
       "  <tbody>\n",
       "    <tr>\n",
       "      <th>854</th>\n",
       "      <td>GASTROINTESTINAL STROMAL SARCOMA</td>\n",
       "      <td>Disease</td>\n",
       "      <td>related_to</td>\n",
       "      <td>SEMMED</td>\n",
       "      <td>SEMMED Disease API</td>\n",
       "      <td>18265649,18648736,25525851,28698433</td>\n",
       "      <td>Gene</td>\n",
       "      <td>PDGFRB</td>\n",
       "      <td>NCBIGene:5159</td>\n",
       "      <td>related_to</td>\n",
       "      <td>Translator Text Mining Provider</td>\n",
       "      <td>CORD Chemical API</td>\n",
       "      <td>None</td>\n",
       "      <td>Gene</td>\n",
       "      <td>IMATINIB</td>\n",
       "      <td>name:IMATINIB</td>\n",
       "    </tr>\n",
       "    <tr>\n",
       "      <th>245</th>\n",
       "      <td>GASTROINTESTINAL STROMAL SARCOMA</td>\n",
       "      <td>Disease</td>\n",
       "      <td>prevented_by</td>\n",
       "      <td>SEMMED</td>\n",
       "      <td>SEMMED Disease API</td>\n",
       "      <td>21814597</td>\n",
       "      <td>Gene</td>\n",
       "      <td>KIT</td>\n",
       "      <td>NCBIGene:3815</td>\n",
       "      <td>physically_interacts_with</td>\n",
       "      <td>drugcentral</td>\n",
       "      <td>MyChem.info API</td>\n",
       "      <td>None</td>\n",
       "      <td>Gene</td>\n",
       "      <td>IMATINIB</td>\n",
       "      <td>name:IMATINIB</td>\n",
       "    </tr>\n",
       "    <tr>\n",
       "      <th>1088</th>\n",
       "      <td>GASTROINTESTINAL STROMAL SARCOMA</td>\n",
       "      <td>Disease</td>\n",
       "      <td>related_to</td>\n",
       "      <td>DISEASE</td>\n",
       "      <td>DISEASES API</td>\n",
       "      <td>None</td>\n",
       "      <td>Gene</td>\n",
       "      <td>TP53</td>\n",
       "      <td>NCBIGene:7157</td>\n",
       "      <td>positively_regulated_by</td>\n",
       "      <td>SEMMED</td>\n",
       "      <td>SEMMED Chemical API</td>\n",
       "      <td>19150257</td>\n",
       "      <td>Gene</td>\n",
       "      <td>IMATINIB</td>\n",
       "      <td>name:IMATINIB</td>\n",
       "    </tr>\n",
       "    <tr>\n",
       "      <th>464</th>\n",
       "      <td>GASTROINTESTINAL STROMAL SARCOMA</td>\n",
       "      <td>Disease</td>\n",
       "      <td>related_to</td>\n",
       "      <td>scibite</td>\n",
       "      <td>Automat CORD19 Scibite API</td>\n",
       "      <td>None</td>\n",
       "      <td>Gene</td>\n",
       "      <td>KIT</td>\n",
       "      <td>NCBIGene:3815</td>\n",
       "      <td>positively_regulates</td>\n",
       "      <td>SEMMED</td>\n",
       "      <td>SEMMED Chemical API</td>\n",
       "      <td>28016253</td>\n",
       "      <td>Gene</td>\n",
       "      <td>IMATINIB</td>\n",
       "      <td>name:IMATINIB</td>\n",
       "    </tr>\n",
       "    <tr>\n",
       "      <th>882</th>\n",
       "      <td>GASTROINTESTINAL STROMAL SARCOMA</td>\n",
       "      <td>Disease</td>\n",
       "      <td>related_to</td>\n",
       "      <td>Translator Text Mining Provider</td>\n",
       "      <td>CORD Disease API</td>\n",
       "      <td>None</td>\n",
       "      <td>Gene</td>\n",
       "      <td>EGFR</td>\n",
       "      <td>NCBIGene:1956</td>\n",
       "      <td>positively_regulates</td>\n",
       "      <td>SEMMED</td>\n",
       "      <td>SEMMED Chemical API</td>\n",
       "      <td>15844661</td>\n",
       "      <td>Gene</td>\n",
       "      <td>IMATINIB</td>\n",
       "      <td>name:IMATINIB</td>\n",
       "    </tr>\n",
       "    <tr>\n",
       "      <th>230</th>\n",
       "      <td>GASTROINTESTINAL STROMAL SARCOMA</td>\n",
       "      <td>Disease</td>\n",
       "      <td>related_to</td>\n",
       "      <td>scibite</td>\n",
       "      <td>Automat CORD19 Scibite API</td>\n",
       "      <td>None</td>\n",
       "      <td>Gene</td>\n",
       "      <td>KIT</td>\n",
       "      <td>NCBIGene:3815</td>\n",
       "      <td>physically_interacts_with</td>\n",
       "      <td>drugbank</td>\n",
       "      <td>MyChem.info API</td>\n",
       "      <td>16087693,16865565,17369583,17458563,17559139</td>\n",
       "      <td>Gene</td>\n",
       "      <td>IMATINIB</td>\n",
       "      <td>name:IMATINIB</td>\n",
       "    </tr>\n",
       "    <tr>\n",
       "      <th>605</th>\n",
       "      <td>GASTROINTESTINAL STROMAL SARCOMA</td>\n",
       "      <td>Disease</td>\n",
       "      <td>treated_by</td>\n",
       "      <td>SEMMED</td>\n",
       "      <td>SEMMED Disease API</td>\n",
       "      <td>15717993,16596277,16740027,17064855,17534660,1...</td>\n",
       "      <td>Gene</td>\n",
       "      <td>KIT</td>\n",
       "      <td>NCBIGene:3815</td>\n",
       "      <td>related_to</td>\n",
       "      <td>Translator Text Mining Provider</td>\n",
       "      <td>CORD Chemical API</td>\n",
       "      <td>None</td>\n",
       "      <td>Gene</td>\n",
       "      <td>IMATINIB</td>\n",
       "      <td>name:IMATINIB</td>\n",
       "    </tr>\n",
       "    <tr>\n",
       "      <th>923</th>\n",
       "      <td>GASTROINTESTINAL STROMAL SARCOMA</td>\n",
       "      <td>Disease</td>\n",
       "      <td>affected_by</td>\n",
       "      <td>SEMMED</td>\n",
       "      <td>SEMMED Disease API</td>\n",
       "      <td>18615679</td>\n",
       "      <td>Gene</td>\n",
       "      <td>BRAF</td>\n",
       "      <td>NCBIGene:673</td>\n",
       "      <td>related_to</td>\n",
       "      <td>Translator Text Mining Provider</td>\n",
       "      <td>CORD Chemical API</td>\n",
       "      <td>None</td>\n",
       "      <td>Gene</td>\n",
       "      <td>IMATINIB</td>\n",
       "      <td>name:IMATINIB</td>\n",
       "    </tr>\n",
       "    <tr>\n",
       "      <th>1036</th>\n",
       "      <td>GASTROINTESTINAL STROMAL SARCOMA</td>\n",
       "      <td>Disease</td>\n",
       "      <td>related_to</td>\n",
       "      <td>Translator Text Mining Provider</td>\n",
       "      <td>CORD Disease API</td>\n",
       "      <td>None</td>\n",
       "      <td>Gene</td>\n",
       "      <td>FIP1L1</td>\n",
       "      <td>NCBIGene:81608</td>\n",
       "      <td>related_to</td>\n",
       "      <td>scibite</td>\n",
       "      <td>Automat CORD19 Scibite API</td>\n",
       "      <td>None</td>\n",
       "      <td>Gene</td>\n",
       "      <td>IMATINIB</td>\n",
       "      <td>name:IMATINIB</td>\n",
       "    </tr>\n",
       "    <tr>\n",
       "      <th>781</th>\n",
       "      <td>GASTROINTESTINAL STROMAL SARCOMA</td>\n",
       "      <td>Disease</td>\n",
       "      <td>related_to</td>\n",
       "      <td>pharos</td>\n",
       "      <td>Automat PHAROS API</td>\n",
       "      <td>None</td>\n",
       "      <td>Gene</td>\n",
       "      <td>PDGFRA</td>\n",
       "      <td>NCBIGene:5156</td>\n",
       "      <td>related_to</td>\n",
       "      <td>pharos</td>\n",
       "      <td>Automat PHAROS API</td>\n",
       "      <td>None</td>\n",
       "      <td>Gene</td>\n",
       "      <td>IMATINIB</td>\n",
       "      <td>name:IMATINIB</td>\n",
       "    </tr>\n",
       "  </tbody>\n",
       "</table>\n",
       "</div>"
      ],
      "text/plain": [
       "                                 input input_type         pred1  \\\n",
       "854   GASTROINTESTINAL STROMAL SARCOMA    Disease    related_to   \n",
       "245   GASTROINTESTINAL STROMAL SARCOMA    Disease  prevented_by   \n",
       "1088  GASTROINTESTINAL STROMAL SARCOMA    Disease    related_to   \n",
       "464   GASTROINTESTINAL STROMAL SARCOMA    Disease    related_to   \n",
       "882   GASTROINTESTINAL STROMAL SARCOMA    Disease    related_to   \n",
       "230   GASTROINTESTINAL STROMAL SARCOMA    Disease    related_to   \n",
       "605   GASTROINTESTINAL STROMAL SARCOMA    Disease    treated_by   \n",
       "923   GASTROINTESTINAL STROMAL SARCOMA    Disease   affected_by   \n",
       "1036  GASTROINTESTINAL STROMAL SARCOMA    Disease    related_to   \n",
       "781   GASTROINTESTINAL STROMAL SARCOMA    Disease    related_to   \n",
       "\n",
       "                         pred1_source                   pred1_api  \\\n",
       "854                            SEMMED          SEMMED Disease API   \n",
       "245                            SEMMED          SEMMED Disease API   \n",
       "1088                          DISEASE                DISEASES API   \n",
       "464                           scibite  Automat CORD19 Scibite API   \n",
       "882   Translator Text Mining Provider            CORD Disease API   \n",
       "230                           scibite  Automat CORD19 Scibite API   \n",
       "605                            SEMMED          SEMMED Disease API   \n",
       "923                            SEMMED          SEMMED Disease API   \n",
       "1036  Translator Text Mining Provider            CORD Disease API   \n",
       "781                            pharos          Automat PHAROS API   \n",
       "\n",
       "                                           pred1_pubmed node1_type node1_name  \\\n",
       "854                 18265649,18648736,25525851,28698433       Gene     PDGFRB   \n",
       "245                                            21814597       Gene        KIT   \n",
       "1088                                               None       Gene       TP53   \n",
       "464                                                None       Gene        KIT   \n",
       "882                                                None       Gene       EGFR   \n",
       "230                                                None       Gene        KIT   \n",
       "605   15717993,16596277,16740027,17064855,17534660,1...       Gene        KIT   \n",
       "923                                            18615679       Gene       BRAF   \n",
       "1036                                               None       Gene     FIP1L1   \n",
       "781                                                None       Gene     PDGFRA   \n",
       "\n",
       "            node1_id                      pred2  \\\n",
       "854    NCBIGene:5159                 related_to   \n",
       "245    NCBIGene:3815  physically_interacts_with   \n",
       "1088   NCBIGene:7157    positively_regulated_by   \n",
       "464    NCBIGene:3815       positively_regulates   \n",
       "882    NCBIGene:1956       positively_regulates   \n",
       "230    NCBIGene:3815  physically_interacts_with   \n",
       "605    NCBIGene:3815                 related_to   \n",
       "923     NCBIGene:673                 related_to   \n",
       "1036  NCBIGene:81608                 related_to   \n",
       "781    NCBIGene:5156                 related_to   \n",
       "\n",
       "                         pred2_source                   pred2_api  \\\n",
       "854   Translator Text Mining Provider           CORD Chemical API   \n",
       "245                       drugcentral             MyChem.info API   \n",
       "1088                           SEMMED         SEMMED Chemical API   \n",
       "464                            SEMMED         SEMMED Chemical API   \n",
       "882                            SEMMED         SEMMED Chemical API   \n",
       "230                          drugbank             MyChem.info API   \n",
       "605   Translator Text Mining Provider           CORD Chemical API   \n",
       "923   Translator Text Mining Provider           CORD Chemical API   \n",
       "1036                          scibite  Automat CORD19 Scibite API   \n",
       "781                            pharos          Automat PHAROS API   \n",
       "\n",
       "                                      pred2_pubmed output_type output_name  \\\n",
       "854                                           None        Gene    IMATINIB   \n",
       "245                                           None        Gene    IMATINIB   \n",
       "1088                                      19150257        Gene    IMATINIB   \n",
       "464                                       28016253        Gene    IMATINIB   \n",
       "882                                       15844661        Gene    IMATINIB   \n",
       "230   16087693,16865565,17369583,17458563,17559139        Gene    IMATINIB   \n",
       "605                                           None        Gene    IMATINIB   \n",
       "923                                           None        Gene    IMATINIB   \n",
       "1036                                          None        Gene    IMATINIB   \n",
       "781                                           None        Gene    IMATINIB   \n",
       "\n",
       "          output_id  \n",
       "854   name:IMATINIB  \n",
       "245   name:IMATINIB  \n",
       "1088  name:IMATINIB  \n",
       "464   name:IMATINIB  \n",
       "882   name:IMATINIB  \n",
       "230   name:IMATINIB  \n",
       "605   name:IMATINIB  \n",
       "923   name:IMATINIB  \n",
       "1036  name:IMATINIB  \n",
       "781   name:IMATINIB  "
      ]
     },
     "execution_count": 20,
     "metadata": {},
     "output_type": "execute_result"
    }
   ],
   "source": [
    "df2 = fc2.display_table_view()\n",
    "\n",
    "# because UMLS is not currently well-integrated in our ID-to-object translation system, removing UMLS-only entries here\n",
    "patternDel = \"^UMLS:C\\d+\"\n",
    "filter = df2.node1_id.str.contains(patternDel)\n",
    "df2 = df2[~filter]\n",
    "\n",
    "print(df2.shape)\n",
    "df2.sample(10)"
   ]
  },
  {
   "cell_type": "code",
   "execution_count": 21,
   "metadata": {
    "ExecuteTime": {
     "end_time": "2020-11-27T02:30:31.598222Z",
     "start_time": "2020-11-27T02:30:31.592581Z"
    }
   },
   "outputs": [
    {
     "data": {
      "text/plain": [
       "KIT       288\n",
       "PDGFRA     81\n",
       "BCR        48\n",
       "TP53       30\n",
       "ABL1       27\n",
       "VEGFA      20\n",
       "BRAF       15\n",
       "CD34       15\n",
       "PDGFRB     14\n",
       "MTTP       14\n",
       "Name: node1_name, dtype: int64"
      ]
     },
     "execution_count": 21,
     "metadata": {},
     "output_type": "execute_result"
    }
   ],
   "source": [
    "df2.node1_name.value_counts().head(10)"
   ]
  },
  {
   "cell_type": "markdown",
   "metadata": {},
   "source": [
    "*Note: as of 2020-08-13, the notebook output above matches the description below. As knowledge sources (APIs) and code are updated and added, users may obtain different results.*\n",
    "\n",
    "Here, the top two genes that BioThings Explorer found that join imatinib to GIST are *PDGFRA* and *KIT*, the most commonly mutated genes found in GIST *and* validated targets of imatinib.\n",
    "\n",
    "While several of the listed genes would be considered positive controls, others on the list could be viewed as **testable hypotheses and discovery opportunities** to be evaluated by domain experts."
   ]
  },
  {
   "cell_type": "markdown",
   "metadata": {},
   "source": [
    "## Conclusions and caveats"
   ]
  },
  {
   "cell_type": "markdown",
   "metadata": {},
   "source": [
    "This notebook demonstrated the use of BioThings Explorer in EXPLAIN mode to investigate the relationship between imatinib and two diseases that it treats -- chronic myelogenous leukemia (CML) and gastrointestinal stromal tumors (GIST).  In each case, BioThings Explorer autonomously queried a **distributed knowledge graph of biomedical APIs** to find the most common genes, and in each case the relevant targets were retrieved.\n",
    "\n",
    "There are still many areas for improvement (and some areas in which BioThings Explorer is still buggy).  And of course, BioThings Explorer is dependent on the accessibility of the APIs that comprise the distributed knowledge graph.  Nevertheless, we encourage users to try other variants of the EXPLAIN queries demonstrated in this notebook."
   ]
  },
  {
   "cell_type": "markdown",
   "metadata": {},
   "source": [
    "## More query information for users"
   ]
  },
  {
   "cell_type": "markdown",
   "metadata": {},
   "source": [
    "*Note: as of 2020-08-13, the information below is valid.*\n",
    "\n",
    "The input into the Hint query should be one string with **at least one whole word.** \n",
    "\n",
    "Currently, the user must set the input_obj parameter of FindConnection() as **one specific BioThings object** (ex: one chemical, phenotype, disease, GO term, etc.). To do an EXPLAIN query, the output_obj parameter of FindConnection() must be **another specific BioThings object**. \n",
    "\n",
    "**For an EXPLAIN query, BTE will only accept one intermediate node.** The intermediate node cannot be a specific BioThings object. They must be BioThings type(s), None, or an empty list ([]). \n",
    "\n",
    "The intermediate node parameter can be a single entity type (string, example: 'BiologicalEntity'), a list of acceptable entity types (list of strings, example: ['Gene', 'AnatomicalEntity']), None, or an empty list. **None or an empty list will tell BTE to look for direct connections (no intermediate nodes).** If the intermediate node parameter is a list, BTE will look for knowledge sources that can handle at least one of the types listed.   \n",
    "\n",
    "BTE will query from input_obj -> intermediate and **from output_obj -> intermediate** and then join results based on shared intermediates. The results should therefore be read as **input_obj -> intermediate <- output_obj. This directionality in results should be kept in mind when interpreting them.**"
   ]
  },
  {
   "cell_type": "code",
   "execution_count": null,
   "metadata": {},
   "outputs": [],
   "source": []
  }
 ],
 "metadata": {
  "kernelspec": {
   "display_name": "Python 3",
   "language": "python",
   "name": "python3"
  },
  "language_info": {
   "codemirror_mode": {
    "name": "ipython",
    "version": 3
   },
   "file_extension": ".py",
   "mimetype": "text/x-python",
   "name": "python",
   "nbconvert_exporter": "python",
   "pygments_lexer": "ipython3",
   "version": "3.7.9"
  },
  "toc": {
   "base_numbering": 1,
   "nav_menu": {},
   "number_sections": true,
   "sideBar": true,
   "skip_h1_title": false,
   "title_cell": "Table of Contents",
   "title_sidebar": "Contents",
   "toc_cell": false,
   "toc_position": {},
   "toc_section_display": true,
   "toc_window_display": true
  },
  "varInspector": {
   "cols": {
    "lenName": 16,
    "lenType": 16,
    "lenVar": 40
   },
   "kernels_config": {
    "python": {
     "delete_cmd_postfix": "",
     "delete_cmd_prefix": "del ",
     "library": "var_list.py",
     "varRefreshCmd": "print(var_dic_list())"
    },
    "r": {
     "delete_cmd_postfix": ") ",
     "delete_cmd_prefix": "rm(",
     "library": "var_list.r",
     "varRefreshCmd": "cat(var_dic_list()) "
    }
   },
   "types_to_exclude": [
    "module",
    "function",
    "builtin_function_or_method",
    "instance",
    "_Feature"
   ],
   "window_display": false
  }
 },
 "nbformat": 4,
 "nbformat_minor": 2
}
