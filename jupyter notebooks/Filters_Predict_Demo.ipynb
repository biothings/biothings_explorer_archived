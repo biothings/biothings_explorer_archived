{
 "cells": [
  {
   "cell_type": "markdown",
   "metadata": {},
   "source": [
    "# This is a notebook demo for filter functionality in the Predict class\n",
    "\n",
    "### There are four types of filters supported so far: \n",
    "1. NodeDegree\n",
    "2. EdgeLabel\n",
    "3. Co-occurrence\n",
    "4. UniqueAPIs\n",
    "\n",
    "**Each filter returns target objects labeled with their rankings and the filter used. The filters are called from FindConnection, which takes the \"filters\" parameter as a list of dictionaries whose length MUST be equal to the number of steps in the query process (ie. if you are going directly from input to output, then you would have one filter; if you have one intermediate node, you'd have a filter parameter with a length of 2).  Empty dictionaries may be used as a placeholder if you wish to not have a filter applied at that step. (examples at the end). If not empty, each dictionary must specify the \"name\" key for the name of the filter desired, and the optional \"count\" key which represents the number of target objects returned, and defaults to 50 if not specified.**\n",
    "### Each one will be shown separately, first we import Hint and FindConnection, which calls the Predict class"
   ]
  },
  {
   "cell_type": "code",
   "execution_count": 1,
   "metadata": {},
   "outputs": [],
   "source": [
    "from biothings_explorer.hint import Hint\n",
    "from biothings_explorer.user_query_dispatcher import FindConnection"
   ]
  },
  {
   "cell_type": "markdown",
   "metadata": {},
   "source": [
    "For this demo, we will use the same input and output object for demonstration purposes of the filters"
   ]
  },
  {
   "cell_type": "code",
   "execution_count": 2,
   "metadata": {},
   "outputs": [],
   "source": [
    "ht = Hint()\n",
    "input_obj = ht.query('CDK8')['Gene'][0]\n",
    "output_obj = 'ChemicalSubstance'"
   ]
  },
  {
   "cell_type": "markdown",
   "metadata": {},
   "source": [
    "## Filter 1: NodeDegree\n",
    "This filter takes in the graph returned by BTE and returns the target nodes which have the highest degrees in that graph (number of edges connected to it) and ranks them.  \n",
    "\n",
    "*(note that this filter could potentially produce misleading results, as some concepts that are simply more popular, rather than more relevant, and thus would appear in the graph with more edges and thus have a higher ranking)*"
   ]
  },
  {
   "cell_type": "code",
   "execution_count": 3,
   "metadata": {},
   "outputs": [],
   "source": [
    "filt = [{'name': 'NodeDegree'}]\n",
    "fc = FindConnection(input_obj=input_obj,\n",
    "                    output_obj=output_obj,\n",
    "                    intermediate_nodes=[],\n",
    "                    filters=filt)\n",
    "fc.connect()"
   ]
  },
  {
   "cell_type": "markdown",
   "metadata": {},
   "source": [
    "The input object is not labeled with a ranking:"
   ]
  },
  {
   "cell_type": "code",
   "execution_count": 4,
   "metadata": {
    "scrolled": true
   },
   "outputs": [
    {
     "data": {
      "text/plain": [
       "{'type': 'Gene',\n",
       " 'identifier': 'SYMBOL',\n",
       " 'level': 1,\n",
       " 'equivalent_ids': defaultdict(set,\n",
       "             {'NCBIGene': ['1024'],\n",
       "              'name': ['CYCLIN DEPENDENT KINASE 8'],\n",
       "              'SYMBOL': ['CDK8'],\n",
       "              'UMLS': ['C1413289'],\n",
       "              'HGNC': ['1779'],\n",
       "              'UNIPROTKB': ['P49336'],\n",
       "              'ENSEMBL': ['ENSG00000132964']})}"
      ]
     },
     "execution_count": 4,
     "metadata": {},
     "output_type": "execute_result"
    }
   ],
   "source": [
    "fc.fc.G.nodes(data=True)['CDK8']"
   ]
  },
  {
   "cell_type": "markdown",
   "metadata": {},
   "source": [
    "Because \"count\" wasn't specified, it defaulted to returning 50 target nodes ranked from 1-50:"
   ]
  },
  {
   "cell_type": "code",
   "execution_count": 5,
   "metadata": {
    "scrolled": false
   },
   "outputs": [
    {
     "data": {
      "text/plain": [
       "[[1, 'RONICICLIB'],\n",
       " [2, 'AT-7519'],\n",
       " [3, 'AP24534'],\n",
       " [4, 'SORAFENIB'],\n",
       " [5, 'PHA-793887'],\n",
       " [6, 'AZD-5438'],\n",
       " [7, 'ALVOCIDIB'],\n",
       " [8, 'PHOSPHORYL'],\n",
       " [9, 'MAGNESIUM'],\n",
       " [10, 'LINIFANIB'],\n",
       " [11, 'ISOCHAMAEJASMIN'],\n",
       " [12, 'DINOPROSTONE'],\n",
       " [13, 'CORTISTATIN A'],\n",
       " [14, 'CHEMBL3828689'],\n",
       " [15, 'CHEMBL3828637'],\n",
       " [16, 'CHEMBL3828575'],\n",
       " [17, 'CHEMBL3828572'],\n",
       " [18, 'CHEMBL3828553'],\n",
       " [19, 'CHEMBL3828523'],\n",
       " [20, 'CHEMBL3828503'],\n",
       " [21, 'CHEMBL3828458'],\n",
       " [22, 'CHEMBL3828370'],\n",
       " [23, 'CHEMBL3828286'],\n",
       " [24, 'CHEMBL3828221'],\n",
       " [25, 'CHEMBL3828209'],\n",
       " [26, 'CHEMBL3828120'],\n",
       " [27, 'CHEMBL3828116'],\n",
       " [28, 'CHEMBL3828084'],\n",
       " [29, 'CHEMBL3828071'],\n",
       " [30, 'CHEMBL3828003'],\n",
       " [31, 'CHEMBL3827983'],\n",
       " [32, 'CHEMBL3827944'],\n",
       " [33, 'CHEMBL3827904'],\n",
       " [34, 'CHEMBL3827874'],\n",
       " [35, 'CHEMBL3827799'],\n",
       " [36, 'CHEMBL3827774'],\n",
       " [37, 'CHEMBL3827758'],\n",
       " [38, 'CHEMBL3827678'],\n",
       " [39, 'CHEMBL3827664'],\n",
       " [40, 'CHEMBL3827605'],\n",
       " [41, 'CHEMBL3827586'],\n",
       " [42, 'CHEMBL3827327'],\n",
       " [43, 'CHEMBL3827118'],\n",
       " [44, 'CHEMBL3827053'],\n",
       " [45, 'CHEMBL3827023'],\n",
       " [46, 'CHEMBL3800432'],\n",
       " [47, 'CHEMBL3800311'],\n",
       " [48, 'CHEMBL3800307'],\n",
       " [49, 'CHEMBL3800210'],\n",
       " [50, 'CHEMBL3800105']]"
      ]
     },
     "execution_count": 5,
     "metadata": {},
     "output_type": "execute_result"
    }
   ],
   "source": [
    "ranks = []\n",
    "for i,node in fc.fc.G.nodes(data=True):\n",
    "    if i != input_obj['SYMBOL']:\n",
    "        ranks.append([node['rank'], i])\n",
    "ranks.sort()\n",
    "ranks"
   ]
  },
  {
   "cell_type": "markdown",
   "metadata": {},
   "source": [
    "## Filter 2: EdgeLabel\n",
    "This filter requires an extra parameter \"label\", which is a label OR a list of labels between the source and target that you'd like to be returned (ie. related_to, negatively_regulates, etc.).  It filters out all edges that do not have the labels provided, and ranks those remaining edges based on their NodeDegree (similar to filter 1)"
   ]
  },
  {
   "cell_type": "code",
   "execution_count": 6,
   "metadata": {
    "scrolled": true
   },
   "outputs": [],
   "source": [
    "filt = [{'name': 'EdgeLabel', 'label': ['related_to'], 'count': 15}]\n",
    "fc = FindConnection(input_obj=input_obj,\n",
    "                    output_obj=output_obj,\n",
    "                    intermediate_nodes=[],\n",
    "                    filters=filt)\n",
    "fc.connect()"
   ]
  },
  {
   "cell_type": "markdown",
   "metadata": {},
   "source": [
    "Again, the source node is NOT labeled with a ranking"
   ]
  },
  {
   "cell_type": "code",
   "execution_count": 7,
   "metadata": {
    "scrolled": false
   },
   "outputs": [
    {
     "data": {
      "text/plain": [
       "{'type': 'Gene',\n",
       " 'identifier': 'SYMBOL',\n",
       " 'level': 1,\n",
       " 'equivalent_ids': defaultdict(set,\n",
       "             {'NCBIGene': ['1024'],\n",
       "              'name': ['CYCLIN DEPENDENT KINASE 8'],\n",
       "              'SYMBOL': ['CDK8'],\n",
       "              'UMLS': ['C1413289'],\n",
       "              'HGNC': ['1779'],\n",
       "              'UNIPROTKB': ['P49336'],\n",
       "              'ENSEMBL': ['ENSG00000132964']})}"
      ]
     },
     "execution_count": 7,
     "metadata": {},
     "output_type": "execute_result"
    }
   ],
   "source": [
    "fc.fc.G.nodes(data=True)['CDK8']"
   ]
  },
  {
   "cell_type": "markdown",
   "metadata": {},
   "source": [
    "As we can see here, all edges returned have the label 'related_to'"
   ]
  },
  {
   "cell_type": "code",
   "execution_count": 8,
   "metadata": {
    "scrolled": false
   },
   "outputs": [
    {
     "data": {
      "text/plain": [
       "{'related_to'}"
      ]
     },
     "execution_count": 8,
     "metadata": {},
     "output_type": "execute_result"
    }
   ],
   "source": [
    "label = set()\n",
    "for i in fc.fc.G.edges(data=True):\n",
    "    label.add(i[2]['label'])\n",
    "label"
   ]
  },
  {
   "cell_type": "markdown",
   "metadata": {},
   "source": [
    "And here we see that all non-source nodes are labeled with a rank from 1-15 since the \"count\" key was set to 15"
   ]
  },
  {
   "cell_type": "code",
   "execution_count": 9,
   "metadata": {},
   "outputs": [
    {
     "data": {
      "text/plain": [
       "[[1, 'RONICICLIB'],\n",
       " [2, 'AT-7519'],\n",
       " [3, 'PHOSPHORYL'],\n",
       " [4, 'PHA-793887'],\n",
       " [5, 'MAGNESIUM'],\n",
       " [6, 'ISOCHAMAEJASMIN'],\n",
       " [7, 'DINOPROSTONE'],\n",
       " [8, 'CORTISTATIN A'],\n",
       " [9, 'CHEMBL3828689'],\n",
       " [10, 'CHEMBL3828637'],\n",
       " [11, 'CHEMBL3828575'],\n",
       " [12, 'CHEMBL3828572'],\n",
       " [13, 'CHEMBL3828553'],\n",
       " [14, 'CHEMBL3828523'],\n",
       " [15, 'CHEMBL3828503']]"
      ]
     },
     "execution_count": 9,
     "metadata": {},
     "output_type": "execute_result"
    }
   ],
   "source": [
    "ranks = []\n",
    "for i,node in fc.fc.G.nodes(data=True):\n",
    "    if i != input_obj['SYMBOL']:\n",
    "        ranks.append([node['rank'], i])\n",
    "ranks.sort()\n",
    "ranks"
   ]
  },
  {
   "cell_type": "markdown",
   "metadata": {},
   "source": [
    "## Filter 3: Co-occurrence\n",
    "This filter makes API calls to the NIH MRCOC co-occurrence database located here: https://biothings.ncats.io/mrcoc. The co-occurrence score in the API is calculated with the [normalized google distance formula](https://en.wikipedia.org/wiki/Normalized_Google_distance), and a lower co-occurrence represents a closer proximity/how often two concepts appear together in the academic literature. This filter returns target nodes labeled with the rank as well as their co-occurrence score with the source node.\n",
    "\n",
    "All NGD scores should be between 0 and 1; sometimes errors can occur when querying the API due to errors in UMLS and MESH IDs. A NGD score of 100 means that at least one of the nodes did not have a UMLS or MESH ID in the graph object. A NGD score of 200 means that both nodes had an ID, but the pair was not found in the co-occurrence database. For NGDs of 100 and 200, the rankings are arbitrarily assigned and should not be taken as actual rankings.\n",
    "\n",
    "Here I'm using a different input object because of the error with UMLS IDs associated with the CDK8 Gene."
   ]
  },
  {
   "cell_type": "code",
   "execution_count": 10,
   "metadata": {},
   "outputs": [
    {
     "data": {
      "text/plain": [
       "{'MONDO': 'MONDO:0011382',\n",
       " 'DOID': 'DOID:10923',\n",
       " 'UMLS': 'C0002895',\n",
       " 'name': 'sickle cell anemia',\n",
       " 'MESH': 'D000755',\n",
       " 'OMIM': '603903',\n",
       " 'ORPHANET': '232',\n",
       " 'primary': {'identifier': 'MONDO',\n",
       "  'cls': 'Disease',\n",
       "  'value': 'MONDO:0011382'},\n",
       " 'display': 'MONDO(MONDO:0011382) DOID(DOID:10923) OMIM(603903) ORPHANET(232) UMLS(C0002895) MESH(D000755) name(sickle cell anemia)',\n",
       " 'type': 'Disease'}"
      ]
     },
     "execution_count": 10,
     "metadata": {},
     "output_type": "execute_result"
    }
   ],
   "source": [
    "input_obj = ht.query('D000755')['Disease'][0]\n",
    "input_obj"
   ]
  },
  {
   "cell_type": "code",
   "execution_count": 11,
   "metadata": {},
   "outputs": [
    {
     "name": "stdout",
     "output_type": "stream",
     "text": [
      "API 8.1 pharos failed\n"
     ]
    }
   ],
   "source": [
    "filt = [{'name': 'CoOccurrence', 'count': 30}]\n",
    "fc = FindConnection(input_obj=input_obj,\n",
    "                    output_obj=output_obj,\n",
    "                    intermediate_nodes=[],\n",
    "                    filters=filt)\n",
    "fc.connect()"
   ]
  },
  {
   "cell_type": "markdown",
   "metadata": {},
   "source": [
    "We see again that the source node isn't labeled"
   ]
  },
  {
   "cell_type": "code",
   "execution_count": 12,
   "metadata": {
    "scrolled": false
   },
   "outputs": [
    {
     "data": {
      "text/plain": [
       "{'type': 'Disease',\n",
       " 'identifier': 'name',\n",
       " 'level': 1,\n",
       " 'equivalent_ids': defaultdict(set,\n",
       "             {'MONDO': ['MONDO:0011382'],\n",
       "              'DOID': ['DOID:10923'],\n",
       "              'UMLS': ['C0002895'],\n",
       "              'name': ['ANEMIA, SICKLE CELL', 'SICKLE CELL ANEMIA'],\n",
       "              'MESH': ['D000755'],\n",
       "              'OMIM': ['603903'],\n",
       "              'ORPHANET': ['232']})}"
      ]
     },
     "execution_count": 12,
     "metadata": {},
     "output_type": "execute_result"
    }
   ],
   "source": [
    "fc.fc.G.nodes(data=True)['sickle cell anemia']"
   ]
  },
  {
   "cell_type": "markdown",
   "metadata": {},
   "source": [
    "However the target nodes are ranked from 1-30 and are labeled with their ngd_overall score with the source node. As you can see, the lower the ngd score is, the more closely that node is related to the source node, and the rank is higher."
   ]
  },
  {
   "cell_type": "code",
   "execution_count": 13,
   "metadata": {
    "scrolled": false
   },
   "outputs": [
    {
     "data": {
      "text/plain": [
       "[[1, 0.25220838036931303, 'sickle cell anemia', 'AGENTS, ANTISICKLING'],\n",
       " [2, 0.2755828689683291, 'sickle cell anemia', 'HYDROXYUREA'],\n",
       " [3, 0.45253362434228495, 'sickle cell anemia', 'ISOANTIBODIES'],\n",
       " [4, 0.4741015107491786, 'sickle cell anemia', 'DEFERASIROX'],\n",
       " [5, 0.4860822793121338, 'sickle cell anemia', 'DEFEROXAMINE'],\n",
       " [6, 0.4956393477798813, 'sickle cell anemia', 'PNEUMOCOCCAL VACCINES'],\n",
       " [7, 0.4958887012552885, 'sickle cell anemia', 'BILIRUBIN'],\n",
       " [8, 0.5070849553658439, 'sickle cell anemia', 'AZACITIDINE'],\n",
       " [9, 0.5193080925958051, 'sickle cell anemia', 'ANALGESICS, OPIOID'],\n",
       " [10, 0.5193080925958051, 'sickle cell anemia', 'OPIOIDS'],\n",
       " [11, 0.5215748216397025, 'sickle cell anemia', 'PHOSPHATIDYLSERINE'],\n",
       " [12, 0.5261892846095962, 'sickle cell anemia', 'HEME'],\n",
       " [13, 0.5264381290501562, 'sickle cell anemia', 'DEFERIPRONE'],\n",
       " [14, 0.5365210410927528, 'sickle cell anemia', 'MEPERIDINE'],\n",
       " [15, 0.5462445169123916, 'sickle cell anemia', 'OXYGEN'],\n",
       " [16, 0.5500483936795468, 'sickle cell anemia', 'CLOTRIMAZOLE'],\n",
       " [17, 0.5524186333609876, 'sickle cell anemia', 'PRASUGREL'],\n",
       " [18, 0.5565003050000608, 'sickle cell anemia', 'BUTYRATES'],\n",
       " [19, 0.5591587566730314, 'sickle cell anemia', 'IRON'],\n",
       " [20, 0.5595217574251576, 'sickle cell anemia', 'PIRACETAM'],\n",
       " [21, 0.5595551979737263, 'sickle cell anemia', 'CONTROL REGION, LOCUS'],\n",
       " [22, 0.5614969014698291, 'sickle cell anemia', 'PENTOXIFYLLINE'],\n",
       " [23, 0.5614969014698291, 'sickle cell anemia', 'TRENTAL'],\n",
       " [24, 0.5661231886019269, 'sickle cell anemia', 'FOLATE'],\n",
       " [25, 0.5661231886019269, 'sickle cell anemia', 'FOLIC ACID'],\n",
       " [26, 0.5692451615367711, 'sickle cell anemia', 'LIPIDS, MEMBRANE'],\n",
       " [27, 0.5694919144502653, 'sickle cell anemia', 'BLOOD SUBSTITUTE'],\n",
       " [28, 0.5725266549286255, 'sickle cell anemia', 'PENICILLINS'],\n",
       " [29, 0.5737360080820979, 'sickle cell anemia', 'ANALGESICS'],\n",
       " [30, 0.5751675580743321, 'sickle cell anemia', 'CARBON MONOXIDE']]"
      ]
     },
     "execution_count": 13,
     "metadata": {},
     "output_type": "execute_result"
    }
   ],
   "source": [
    "ranks = []\n",
    "for i,node in fc.fc.G.nodes(data=True):\n",
    "    if i != 'sickle cell anemia':\n",
    "        ranks.append([node['rank'], node['ngd_overall'], node['co_occur_with'], i])\n",
    "ranks.sort()\n",
    "ranks"
   ]
  },
  {
   "cell_type": "markdown",
   "metadata": {},
   "source": [
    "**Additional Note about this filter:**\n",
    "\n",
    "In some nodes, the keys 'rank', 'ngd_overall', and 'co_occurs_with' may be list objects. This only occurs when the CoOccurrence filter is used further in the query process (**see last example**); sometimes a single node will be returned twice, each with a different 'co_occurs_with' attribute and different 'ngd_overall' scores. Because the example above is only the first query from a single source node, all returned target nodes have the same 'co_occurs_with' the source node."
   ]
  },
  {
   "cell_type": "markdown",
   "metadata": {},
   "source": [
    "## Filter 4: UniqueAPIs\n",
    "This filter takes the graph and ranks target nodes based on the number of unique APIs supporting the association between it and the source node. The greater the number of APIs supporting the association between the source and target nodes, the higher the ranking."
   ]
  },
  {
   "cell_type": "code",
   "execution_count": 14,
   "metadata": {},
   "outputs": [],
   "source": [
    "input_obj = ht.query('CDK8')['Gene'][0]\n",
    "\n",
    "filt = [{'name': 'UniqueAPIs'}]\n",
    "fc = FindConnection(input_obj=input_obj,\n",
    "                    output_obj=output_obj,\n",
    "                    intermediate_nodes=[],\n",
    "                    filters=filt)\n",
    "fc.connect()"
   ]
  },
  {
   "cell_type": "markdown",
   "metadata": {},
   "source": [
    "As always, source node isn't labeled with anything"
   ]
  },
  {
   "cell_type": "code",
   "execution_count": 15,
   "metadata": {
    "scrolled": false
   },
   "outputs": [
    {
     "data": {
      "text/plain": [
       "{'type': 'Gene',\n",
       " 'identifier': 'SYMBOL',\n",
       " 'level': 1,\n",
       " 'equivalent_ids': defaultdict(set,\n",
       "             {'NCBIGene': ['1024'],\n",
       "              'name': ['CYCLIN DEPENDENT KINASE 8'],\n",
       "              'SYMBOL': ['CDK8'],\n",
       "              'UMLS': ['C1413289'],\n",
       "              'HGNC': ['1779'],\n",
       "              'UNIPROTKB': ['P49336'],\n",
       "              'ENSEMBL': ['ENSG00000132964']})}"
      ]
     },
     "execution_count": 15,
     "metadata": {},
     "output_type": "execute_result"
    }
   ],
   "source": [
    "fc.fc.G.nodes(data=True)['CDK8']"
   ]
  },
  {
   "cell_type": "markdown",
   "metadata": {},
   "source": [
    "The target nodes are labeled with the rankings.  Since there was no \"count\" specified, it is defaulted to 50 target nodes."
   ]
  },
  {
   "cell_type": "code",
   "execution_count": 16,
   "metadata": {},
   "outputs": [
    {
     "data": {
      "text/plain": [
       "[[1, 'AP24534'],\n",
       " [2, 'SORAFENIB'],\n",
       " [3, 'RONICICLIB'],\n",
       " [4, 'PHA-793887'],\n",
       " [5, 'AZD-5438'],\n",
       " [6, 'AT-7519'],\n",
       " [7, 'ALVOCIDIB'],\n",
       " [8, 'PHOSPHORYL'],\n",
       " [9, 'MAGNESIUM'],\n",
       " [10, 'LINIFANIB'],\n",
       " [11, 'ISOCHAMAEJASMIN'],\n",
       " [12, 'DINOPROSTONE'],\n",
       " [13, 'CORTISTATIN A'],\n",
       " [14, 'CHEMBL3828689'],\n",
       " [15, 'CHEMBL3828637'],\n",
       " [16, 'CHEMBL3828575'],\n",
       " [17, 'CHEMBL3828572'],\n",
       " [18, 'CHEMBL3828553'],\n",
       " [19, 'CHEMBL3828523'],\n",
       " [20, 'CHEMBL3828503'],\n",
       " [21, 'CHEMBL3828458'],\n",
       " [22, 'CHEMBL3828370'],\n",
       " [23, 'CHEMBL3828286'],\n",
       " [24, 'CHEMBL3828221'],\n",
       " [25, 'CHEMBL3828209'],\n",
       " [26, 'CHEMBL3828120'],\n",
       " [27, 'CHEMBL3828116'],\n",
       " [28, 'CHEMBL3828084'],\n",
       " [29, 'CHEMBL3828071'],\n",
       " [30, 'CHEMBL3828003'],\n",
       " [31, 'CHEMBL3827983'],\n",
       " [32, 'CHEMBL3827944'],\n",
       " [33, 'CHEMBL3827904'],\n",
       " [34, 'CHEMBL3827874'],\n",
       " [35, 'CHEMBL3827799'],\n",
       " [36, 'CHEMBL3827774'],\n",
       " [37, 'CHEMBL3827758'],\n",
       " [38, 'CHEMBL3827678'],\n",
       " [39, 'CHEMBL3827664'],\n",
       " [40, 'CHEMBL3827605'],\n",
       " [41, 'CHEMBL3827586'],\n",
       " [42, 'CHEMBL3827327'],\n",
       " [43, 'CHEMBL3827118'],\n",
       " [44, 'CHEMBL3827053'],\n",
       " [45, 'CHEMBL3827023'],\n",
       " [46, 'CHEMBL3800432'],\n",
       " [47, 'CHEMBL3800311'],\n",
       " [48, 'CHEMBL3800307'],\n",
       " [49, 'CHEMBL3800210'],\n",
       " [50, 'CHEMBL3800105']]"
      ]
     },
     "execution_count": 16,
     "metadata": {},
     "output_type": "execute_result"
    }
   ],
   "source": [
    "ranks = []\n",
    "for i,node in fc.fc.G.nodes(data=True):\n",
    "    if i != 'CDK8':\n",
    "        ranks.append([node['rank'], i])\n",
    "ranks.sort()\n",
    "ranks"
   ]
  },
  {
   "cell_type": "markdown",
   "metadata": {},
   "source": [
    "## Filter functionality with intermediate nodes\n",
    "When using intermediate nodes, the filter parameter must have a length of the number of steps of the query process (one more than the number of intermediate nodes), specifying what filters should be applied at what stage of the query.\n",
    "\n",
    "### Using an intermediate node with two filters:\n",
    "Two different filters may be used, and the number of target nodes returned at each stage of the query process in independent of the previous (a count of 30 in the first filter will not constrain the number of results of the second filter). The graph returned will have all the returned target nodes from each stage of the query process.\n",
    "\n",
    "This example uses two different filters. If two of the same filters are used, then the results can be differentiated by 'type' if they're different, or soon the 'level' attribute will differentiate which step of the query process each node belongs to (not yet implemented)."
   ]
  },
  {
   "cell_type": "code",
   "execution_count": 17,
   "metadata": {
    "scrolled": false
   },
   "outputs": [],
   "source": [
    "filt = [{'name': 'NodeDegree', 'count': 30}, \\\n",
    "        {'name': 'UniqueAPIs', 'count': 60}]\n",
    "fc = FindConnection(input_obj=input_obj,\n",
    "                    output_obj=output_obj,\n",
    "                    intermediate_nodes=['Gene'],\n",
    "                    filters=filt)\n",
    "fc.connect()"
   ]
  },
  {
   "cell_type": "markdown",
   "metadata": {},
   "source": [
    "Including the source node, there should be a total of 91 nodes returned:"
   ]
  },
  {
   "cell_type": "code",
   "execution_count": 18,
   "metadata": {
    "scrolled": true
   },
   "outputs": [
    {
     "data": {
      "text/plain": [
       "91"
      ]
     },
     "execution_count": 18,
     "metadata": {},
     "output_type": "execute_result"
    }
   ],
   "source": [
    "fc.fc.G.number_of_nodes()"
   ]
  },
  {
   "cell_type": "markdown",
   "metadata": {},
   "source": [
    "And we can differentiate between the results returned by the first and second steps in the query:"
   ]
  },
  {
   "cell_type": "code",
   "execution_count": 19,
   "metadata": {
    "scrolled": false
   },
   "outputs": [
    {
     "name": "stdout",
     "output_type": "stream",
     "text": [
      "----------------------QUERY 1 RESULTS----------------------\n",
      "FILTER: NodeDegree\n",
      "[[1, 'E2F1', 'Gene'], [2, 'UBE2L3', 'Gene'], [3, 'STAT5A', 'Gene'], [4, 'CCNH', 'Gene'], [5, 'CCNC', 'Gene'], [6, 'C0031686', 'Gene'], [7, 'ZZZ3', 'Gene'], [8, 'ZSCAN21', 'Gene'], [9, 'ZNRD2', 'Gene'], [10, 'ZNF830', 'Gene'], [11, 'ZNF281', 'Gene'], [12, 'ZNF131', 'Gene'], [13, 'ZMYM4', 'Gene'], [14, 'YEATS2', 'Gene'], [15, 'XPO1', 'Gene'], [16, 'XAB2', 'Gene'], [17, 'WWP1', 'Gene'], [18, 'WIZ', 'Gene'], [19, 'WDR77', 'Gene'], [20, 'WDR61', 'Gene'], [21, 'WDR5', 'Gene'], [22, 'WDHD1', 'Gene'], [23, 'WAPL', 'Gene'], [24, 'USP7', 'Gene'], [25, 'UBR2', 'Gene'], [26, 'UBL4A', 'Gene'], [27, 'TSPAN7', 'Gene'], [28, 'TRRAP', 'Gene'], [29, 'TP53BP1', 'Gene'], [30, 'TP53', 'Gene']]\n",
      "----------------------QUERY 2 RESULTS----------------------\n",
      "FILTER: UniqueAPIs\n",
      "[[1, 'ZINC CHLORIDE', 'ChemicalSubstance'], [2, 'TEMOZOLOMIDE', 'ChemicalSubstance'], [3, 'TAMOXIFEN', 'ChemicalSubstance'], [4, 'SELINEXOR', 'ChemicalSubstance'], [5, 'QUERCETIN', 'ChemicalSubstance'], [6, 'OXALIPLATIN', 'ChemicalSubstance'], [7, 'MYCOPHENOLIC ACID', 'ChemicalSubstance'], [8, 'IRINOTECAN', 'ChemicalSubstance'], [9, 'DOXORUBICIN', 'ChemicalSubstance'], [10, 'ACETYLSALICYLIC ACID', 'ChemicalSubstance'], [11, 'ZINC', 'ChemicalSubstance'], [12, 'WATER', 'ChemicalSubstance'], [13, 'VORINOSTAT', 'ChemicalSubstance'], [14, 'TRIFLURIDINE', 'ChemicalSubstance'], [15, 'TRABECTEDIN', 'ChemicalSubstance'], [16, 'TOPOTECAN', 'ChemicalSubstance'], [17, 'TIRAPAZAMINE', 'ChemicalSubstance'], [18, 'TESTOSTERONE', 'ChemicalSubstance'], [19, 'SUPEROXIDE', 'ChemicalSubstance'], [20, 'STREPTONIGRIN', 'ChemicalSubstance'], [21, 'STAUROSPORINE', 'ChemicalSubstance'], [22, 'SORAFENIB', 'ChemicalSubstance'], [23, 'SODIUM URSODEOXYCHOLATE', 'ChemicalSubstance'], [24, 'SIROLIMUS', 'ChemicalSubstance'], [25, 'SELICICLIB', 'ChemicalSubstance'], [26, 'SELENIUM', 'ChemicalSubstance'], [27, 'PYRIDOXAL', 'ChemicalSubstance'], [28, 'PUROMYCIN', 'ChemicalSubstance'], [29, 'PTEROSTILBENE', 'ChemicalSubstance'], [30, 'PROPYLTHIOURACIL', 'ChemicalSubstance'], [31, 'PROGESTERONE', 'ChemicalSubstance'], [32, 'PRODIGIOSIN', 'ChemicalSubstance'], [33, 'OLEIC ACID', 'ChemicalSubstance'], [34, 'NUTLIN-3', 'ChemicalSubstance'], [35, 'NITRIC OXIDE', 'ChemicalSubstance'], [36, 'NICOTINE', 'ChemicalSubstance'], [37, 'MITOMYCIN', 'ChemicalSubstance'], [38, 'MEVALONATE', 'ChemicalSubstance'], [39, 'METHYLPREDNISOLONE', 'ChemicalSubstance'], [40, 'METHOTREXATE', 'ChemicalSubstance'], [41, 'LY-294002', 'ChemicalSubstance'], [42, 'LEPTOMYCIN B', 'ChemicalSubstance'], [43, 'HALOPERIDOL', 'ChemicalSubstance'], [44, 'GEMCITABINE', 'ChemicalSubstance'], [45, 'GEFITINIB', 'ChemicalSubstance'], [46, 'FLUOROURACIL', 'ChemicalSubstance'], [47, 'FISETIN', 'ChemicalSubstance'], [48, 'ETOPOSIDE', 'ChemicalSubstance'], [49, 'ETHYL METHANESULFONATE', 'ChemicalSubstance'], [50, 'ETHYL ESTER', 'ChemicalSubstance'], [51, 'ESTRADIOL', 'ChemicalSubstance'], [52, 'ERLOTINIB', 'ChemicalSubstance'], [53, 'EPIRUBICIN', 'ChemicalSubstance'], [54, 'DOXYCYCLINE', 'ChemicalSubstance'], [55, 'DOPAMINE', 'ChemicalSubstance'], [56, 'DINOPROSTONE', 'ChemicalSubstance'], [57, 'DIETHYLSTILBESTROL', 'ChemicalSubstance'], [58, 'DECITABINE', 'ChemicalSubstance'], [59, 'DAUNORUBICIN', 'ChemicalSubstance'], [60, 'CYTARABINE', 'ChemicalSubstance']]\n"
     ]
    }
   ],
   "source": [
    "q1,q2 = [],[]\n",
    "for i,node in fc.fc.G.nodes(data=True):\n",
    "    if 'filteredBy' in node.keys():\n",
    "        if node['filteredBy'] == 'NodeDegree':\n",
    "            q1.append([node['rank'],i,node['type']])\n",
    "        elif node['filteredBy'] == 'UniqueAPIs':\n",
    "            q2.append([node['rank'],i,node['type']])\n",
    "q1.sort()\n",
    "q2.sort()\n",
    "print('----------------------QUERY 1 RESULTS----------------------')\n",
    "print('FILTER: NodeDegree')\n",
    "print(q1)\n",
    "print('----------------------QUERY 2 RESULTS----------------------')\n",
    "print('FILTER: UniqueAPIs')\n",
    "print(q2)"
   ]
  },
  {
   "cell_type": "markdown",
   "metadata": {},
   "source": [
    "### Using intermediate nodes with one filter\n",
    "If you want to query using intermediate nodes, but only want the filter applied once (either at an intermediate node or at the end of the query process), the length of the filter parameter must still be equal to the number of steps in the query process, using empty dictionaries as placeholders to indicate no filter at a step.\n",
    "\n",
    "Here I demonstrate applying only the EdgeLabel filter at the end of the query. "
   ]
  },
  {
   "cell_type": "code",
   "execution_count": 20,
   "metadata": {
    "scrolled": false
   },
   "outputs": [],
   "source": [
    "filt = [{}, {'name':'EdgeLabel', 'label':'negatively_regulates', 'count':25}]\n",
    "fc = FindConnection(input_obj=input_obj,\n",
    "                    output_obj=output_obj,\n",
    "                    intermediate_nodes=['Gene'],\n",
    "                    filters=filt)\n",
    "fc.connect()"
   ]
  },
  {
   "cell_type": "markdown",
   "metadata": {},
   "source": [
    "When a filter isn't applied, the number of items returned at that step may be large as there isn't a default cut-off at 50. *(these nodes are also NOT labeled with 'filteredBy' or 'rank')*"
   ]
  },
  {
   "cell_type": "code",
   "execution_count": 21,
   "metadata": {},
   "outputs": [
    {
     "data": {
      "text/plain": [
       "279"
      ]
     },
     "execution_count": 21,
     "metadata": {},
     "output_type": "execute_result"
    }
   ],
   "source": [
    "fc.fc.G.number_of_nodes()"
   ]
  },
  {
   "cell_type": "code",
   "execution_count": 22,
   "metadata": {},
   "outputs": [
    {
     "name": "stdout",
     "output_type": "stream",
     "text": [
      "----------------------QUERY FINAL RESULTS----------------------\n",
      "FILTER: EdgeLabel, LABEL: negatively_regulates\n",
      "[[1, 'MESSENGER RNA'], [2, 'C1328819'], [3, 'PHARMACEUTICAL PREPARATIONS'], [4, 'SIROLIMUS'], [5, 'INTERFERING RNA, SMALL'], [6, 'MICRORNA'], [7, 'C0086860'], [8, '3-METHYLADENINE DNA'], [9, '.BETA.-D-GLUCOPYRANOSE'], [10, 'ANDROGENS'], [11, 'ESTROGEN'], [12, 'CHEMOTACTIC FACTORS, MACROPHAGE'], [13, '3,4 METHYLENEDIOXYAMPHETAMINE'], [14, 'CARCINOGENS'], [15, 'OXYGEN SPECIES, REACTIVE'], [16, 'NITRIC OXIDE'], [17, 'LIPIDS'], [18, 'GLUCOCORTICOID'], [19, 'BINDING SITE'], [20, 'UCN 01'], [21, 'TRIGLYCERIDES'], [22, 'MINERALS'], [23, 'EXTRACTS, TISSUE'], [24, 'ANTIOXIDANTS'], [25, 'ZD1839']]\n"
     ]
    }
   ],
   "source": [
    "results = []\n",
    "for i,node in fc.fc.G.nodes(data=True):\n",
    "    if 'filteredBy' in node.keys():\n",
    "        results.append([node['rank'],i])\n",
    "results.sort()\n",
    "print('----------------------QUERY FINAL RESULTS----------------------')\n",
    "print('FILTER: EdgeLabel, LABEL: negatively_regulates')\n",
    "print(results)"
   ]
  },
  {
   "cell_type": "markdown",
   "metadata": {},
   "source": [
    "### Using intermediate nodes with CoOccurrence\n",
    "Using CoOccurrence as the first filter in the query doesn't produce any collisions, but using CoOccurrence at a later step in the query process can sometimes result in a node being returned twice. This is due to the fact that later in the query process, there may be a larger number of source nodes, and there's the possibility of getting multiple hits of the same node from different source nodes. When this happens, that node is labeled with its 'rank', 'ngd_overall', and 'co_occur_with' attributes as a list of values."
   ]
  },
  {
   "cell_type": "code",
   "execution_count": 23,
   "metadata": {},
   "outputs": [],
   "source": [
    "input_obj = ht.query('D000755')['Disease'][0]\n",
    "\n",
    "filt = [{'name': 'CoOccurrence'}, \\\n",
    "        {'name': 'CoOccurrence', 'count': 30}]\n",
    "fc = FindConnection(input_obj=input_obj,\n",
    "                    output_obj=output_obj,\n",
    "                    intermediate_nodes=['Gene'],\n",
    "                    filters=filt)\n",
    "fc.connect()"
   ]
  },
  {
   "cell_type": "markdown",
   "metadata": {},
   "source": [
    "We would expect there to be 81 nodes returned from this query (1 source node, 50 from step 1, 30 from step 2); however, there are only 79 nodes in the graph."
   ]
  },
  {
   "cell_type": "code",
   "execution_count": 24,
   "metadata": {},
   "outputs": [
    {
     "data": {
      "text/plain": [
       "79"
      ]
     },
     "execution_count": 24,
     "metadata": {},
     "output_type": "execute_result"
    }
   ],
   "source": [
    "fc.fc.G.number_of_nodes()"
   ]
  },
  {
   "cell_type": "markdown",
   "metadata": {},
   "source": [
    "The results from the first query are 50, as expected, and the 'co_occur_with' attribute is the original source node in all of the nodes:"
   ]
  },
  {
   "cell_type": "code",
   "execution_count": 25,
   "metadata": {},
   "outputs": [
    {
     "name": "stdout",
     "output_type": "stream",
     "text": [
      "----------------------QUERY 1 RESULTS----------------------\n",
      "FILTER: CoOccurrence\n",
      "[[1, 'HPX', 0.5112235575925955, 'sickle cell anemia'], [2, 'G6PD', 0.5325824584711736, 'sickle cell anemia'], [3, 'HBD', 0.5553791540387418, 'sickle cell anemia'], [4, 'C0538674', 0.5567833684638404, 'sickle cell anemia'], [5, 'MTHFR', 0.5721842571302228, 'sickle cell anemia'], [6, 'C0034348', 0.5810876857696439, 'sickle cell anemia'], [7, 'C0003762', 0.5814807673615766, 'sickle cell anemia'], [8, 'C0041560', 0.5817780755057473, 'sickle cell anemia'], [9, 'C0022917', 0.5978365030406605, 'sickle cell anemia'], [10, 'C0017337', 0.6118640200533215, 'sickle cell anemia'], [11, 'C0002085', 0.6249431726478171, 'sickle cell anemia'], [12, 'CD34', 0.6305284964409009, 'sickle cell anemia'], [13, 'C0004002', 0.6309184775651431, 'sickle cell anemia'], [14, 'MYB', 0.6357187273191623, 'sickle cell anemia'], [15, 'C0678933', 0.6563331310991332, 'sickle cell anemia'], [16, 'C0597336', 0.6594965221768638, 'sickle cell anemia'], [17, 'NPPB', 0.6638281590701307, 'sickle cell anemia'], [18, 'C0068355', 0.6737376207516895, 'sickle cell anemia'], [19, 'C0132555', 0.6741459985892465, 'sickle cell anemia'], [20, 'CSF3', 0.6810320023997137, 'sickle cell anemia'], [21, 'C0023194', 0.6828102946320003, 'sickle cell anemia'], [22, 'C0031667', 0.6893566755112652, 'sickle cell anemia'], [23, 'C0002059', 0.6894090377156658, 'sickle cell anemia'], [24, 'C0043317', 0.6900513952713218, 'sickle cell anemia'], [25, 'C0017822', 0.6966679540974592, 'sickle cell anemia'], [26, 'MPO', 0.698067266856361, 'sickle cell anemia'], [27, 'C0002651', 0.7014403839624762, 'sickle cell anemia'], [28, 'C0001479', 0.7077647545821089, 'sickle cell anemia'], [29, 'C0017824', 0.7083942888041488, 'sickle cell anemia'], [30, 'C0017429', 0.7126307595697287, 'sickle cell anemia'], [31, 'CAT', 0.7350621260268105, 'sickle cell anemia'], [32, 'C0017837', 0.7522136377091464, 'sickle cell anemia'], [33, 'C0001473', 0.75294307840305, 'sickle cell anemia'], [34, 'C0002594', 0.7788607026418999, 'sickle cell anemia'], [35, 'C0072354', 0.8106613318522441, 'sickle cell anemia'], [36, 'C0014442', 0.8170263044745503, 'sickle cell anemia'], [37, 'C0017040', 0.8180742977866293, 'sickle cell anemia'], [38, 'C0030016', 0.8181828784769114, 'sickle cell anemia'], [39, 'C0001492', 0.8189573419239273, 'sickle cell anemia'], [40, 'C0001044', 0.821785014616082, 'sickle cell anemia'], [41, 'C0033640', 0.8354984120600151, 'sickle cell anemia'], [42, 'CD14', 0.8767928194079473, 'sickle cell anemia'], [43, 'C0017428', 0.9010985557591265, 'sickle cell anemia'], [44, 'C1564139', 0.9105575779677556, 'sickle cell anemia'], [45, 'FYB', 100, 'sickle cell anemia'], [46, 'LOC102724020', 100, 'sickle cell anemia'], [47, 'MGI:98385', 100, 'sickle cell anemia'], [48, 'ABCB11', 200, 'sickle cell anemia'], [49, 'ABCC6', 200, 'sickle cell anemia'], [50, 'ACKR1', 200, 'sickle cell anemia']]\n"
     ]
    }
   ],
   "source": [
    "q1 = []\n",
    "for i,node in fc.fc.G.nodes(data=True):\n",
    "    if 'filteredBy' in node.keys():\n",
    "        if node['type'] == 'Gene':\n",
    "            q1.append([node['rank'],i,node['ngd_overall'],node['co_occur_with']])\n",
    "q1.sort()\n",
    "print('----------------------QUERY 1 RESULTS----------------------')\n",
    "print('FILTER: CoOccurrence')\n",
    "print(q1)"
   ]
  },
  {
   "cell_type": "markdown",
   "metadata": {},
   "source": [
    "The second query only returned 28 unique nodes rather than 30, which is because some nodes are returned multiple times in relation to different source nodes. In this case, \"HYDROGEN PEROXIDE\" has a ranking of both 2 and 30, and \"REPEAT, SHORT TANDEM\" has a ranking of both 11 and 14. For those two nodes, they are labeled with lists of two 'ngd_overall' and 'co_occur_with' keys whose index in the list correspond respectively with the rankings."
   ]
  },
  {
   "cell_type": "code",
   "execution_count": 26,
   "metadata": {},
   "outputs": [
    {
     "name": "stdout",
     "output_type": "stream",
     "text": [
      "----------------------QUERY 2 RESULTS----------------------\n",
      "FILTER: CoOccurrence\n",
      "[1] \t ['MALONALDEHYDE', 0.21251560775008138, 'CAT']\n",
      "[2, 30] \t ['HYDROGEN PEROXIDE', [0.24003656287789266, 0.33731308976984803], ['CAT', 'MPO']]\n",
      "[3] \t ['GLUTATHIONE', 0.24501186079620108, 'CAT']\n",
      "[4] \t ['ETHENO-NADP', 0.2510543137449706, 'G6PD']\n",
      "[5] \t ['NADIDE PHOSPHATE', 0.2510543137449706, 'G6PD']\n",
      "[6] \t ['FOLATE', 0.26233217293567596, 'MTHFR']\n",
      "[7] \t ['FOLIC ACID', 0.26233217293567596, 'MTHFR']\n",
      "[8] \t ['ANTIOXIDANTS', 0.2689715013147896, 'CAT']\n",
      "[9] \t ['THIOBARBITURIC ACID REACTIVE SUBSTANCES', 0.2758508988246635, 'CAT']\n",
      "[10] \t ['CYTARABINE', 0.2979298796499426, 'CSF3']\n",
      "[11, 14] \t ['REPEAT, SHORT TANDEM', [0.30302170157600283, 0.31252505373380207], ['C0002085', 'C0597336']]\n",
      "[12] \t ['HYPOCHLOROUS ACID', 0.3077517981418732, 'MPO']\n",
      "[13] \t ['FREE RADICALS', 0.30788463327790966, 'CAT']\n",
      "[15] \t ['OXYGEN SPECIES, REACTIVE', 0.31656277135111954, 'CAT']\n",
      "[16] \t ['CPG ISLAND', 0.32108993304705813, 'C0017429']\n",
      "[17] \t ['AMITROLE', 0.3213427736058962, 'CAT']\n",
      "[18] \t ['SUPEROXIDE', 0.32160158058224864, 'CAT']\n",
      "[19] \t ['LIPOPOLYSACCHARIDES', 0.32302539292583976, 'CD14']\n",
      "[20] \t ['EPISOME', 0.3278868696076875, 'C0017337']\n",
      "[21] \t ['PLASMID', 0.3278868696076875, 'C0017337']\n",
      "[22] \t ['HEME', 0.3284367506216848, 'HPX']\n",
      "[23] \t ['LIPID A', 0.3322694799730301, 'CD14']\n",
      "[24] \t ['B 12, VITAMIN', 0.33432435728338833, 'MTHFR']\n",
      "[25] \t ['CYANOCOB(III)ALAMIN', 0.33432435728338833, 'MTHFR']\n",
      "[26] \t ['CYANOCOBALAMIN', 0.33432435728338833, 'MTHFR']\n",
      "[27] \t ['EXON', 0.33438424418666374, 'C0017337']\n",
      "[28] \t ['C0079381', 0.33478480043293013, 'CAT']\n",
      "[29] \t ['INTRON', 0.3347859169225962, 'C0017337']\n"
     ]
    }
   ],
   "source": [
    "q2 = []\n",
    "for i,node in fc.fc.G.nodes(data=True):\n",
    "    if 'filteredBy' in node.keys():\n",
    "        if node['type'] == 'ChemicalSubstance':\n",
    "            if not isinstance(node['rank'],list):\n",
    "                node['rank'] = [node['rank']]\n",
    "            q2.append([node['rank'],i,node['ngd_overall'],node['co_occur_with']])\n",
    "q2.sort()\n",
    "print('----------------------QUERY 2 RESULTS----------------------')\n",
    "print('FILTER: CoOccurrence')\n",
    "for i in q2:\n",
    "    print(i[0],'\\t',i[1:])"
   ]
  },
  {
   "cell_type": "code",
   "execution_count": null,
   "metadata": {},
   "outputs": [],
   "source": []
  }
 ],
 "metadata": {
  "kernelspec": {
   "display_name": "Python 3",
   "language": "python",
   "name": "python3"
  },
  "language_info": {
   "codemirror_mode": {
    "name": "ipython",
    "version": 3
   },
   "file_extension": ".py",
   "mimetype": "text/x-python",
   "name": "python",
   "nbconvert_exporter": "python",
   "pygments_lexer": "ipython3",
   "version": "3.7.6"
  }
 },
 "nbformat": 4,
 "nbformat_minor": 4
}
