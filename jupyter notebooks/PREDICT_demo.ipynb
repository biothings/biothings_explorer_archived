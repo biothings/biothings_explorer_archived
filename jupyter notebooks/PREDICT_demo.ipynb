{
 "cells": [
  {
   "cell_type": "markdown",
   "metadata": {},
   "source": [
    "# Introduction\n",
    "\n",
    "This notebook demonstrates basic usage of BioThings Explorer, an engine for autonomously querying a distributed knowledge graph of biomedical knowledge.\n",
    "\n",
    "BioThings Explorer can answer two classes of queries -- \"EXPLAIN\" and \"PREDICT\". EXPLAIN queries are described in [EXPLAIN_demo.ipynb](EXPLAIN_demo.ipynb). Here, we describe PREDICT queries and how to use BioThings Explorer to execute them. A more detailed overview of the BioThings Explorer systems is provided in [these slides](https://docs.google.com/presentation/d/1QWQqqQhPD_pzKryh6Wijm4YQswv8pAjleVORCPyJyDE/edit?usp=sharing).\n",
    "\n",
    "PREDICT queries are designed to **predict plausible relationships between one specific biomedical entity (an object or a concept) and one biomedical entity type**.  For example, in this notebook, we explore the question:\n",
    "\n",
    "&nbsp;&nbsp;&nbsp;&nbsp;&nbsp;&nbsp;&nbsp;&nbsp;&nbsp;*\"What drugs might be used to treat hyperphenylalaninemia?\"*\n",
    "\n",
    "**To experiment with an executable version of this notebook, [load it in Google Colaboratory](https://colab.research.google.com/github/biothings/biothings_explorer/blob/master/jupyter%20notebooks/PREDICT_demo.ipynb).**"
   ]
  },
  {
   "cell_type": "markdown",
   "metadata": {},
   "source": [
    "## Step 0: Load BioThings Explorer modules"
   ]
  },
  {
   "cell_type": "markdown",
   "metadata": {},
   "source": [
    "First, install the `biothings_explorer` and `biothings_schema` packages, as described in this [README](https://github.com/biothings/biothings_explorer/blob/master/jupyter%20notebooks/README.md#prerequisite).  This only needs to be done once (but it's included here for compability with [Colab](https://colab.research.google.com/))."
   ]
  },
  {
   "cell_type": "code",
   "execution_count": 1,
   "metadata": {},
   "outputs": [],
   "source": [
    "%%capture\n",
    "!pip install git+https://github.com/biothings/biothings_explorer#egg=biothings_explorer"
   ]
  },
  {
   "cell_type": "markdown",
   "metadata": {},
   "source": [
    "Next, import the relevant modules:\n",
    "\n",
    "* **Hint**: Find corresponding BioThings representations to use in BioThings Explorer based on user input (could be any database IDs, symbols, names)\n",
    "* **FindConnection**: Find the relationship(s) between a specific entity and an entity type (PREDICT) or two specific entities (EXPLAIN))"
   ]
  },
  {
   "cell_type": "code",
   "execution_count": 1,
   "metadata": {
    "ExecuteTime": {
     "end_time": "2020-11-27T02:29:30.219141Z",
     "start_time": "2020-11-27T02:29:29.560149Z"
    }
   },
   "outputs": [],
   "source": [
    "## import modules from biothings_explorer\n",
    "from biothings_explorer.hint import Hint\n",
    "from biothings_explorer.user_query_dispatcher import FindConnection"
   ]
  },
  {
   "cell_type": "code",
   "execution_count": 2,
   "metadata": {
    "ExecuteTime": {
     "end_time": "2020-11-27T02:29:40.484131Z",
     "start_time": "2020-11-27T02:29:40.478475Z"
    }
   },
   "outputs": [],
   "source": [
    "## functions to add to modules?\n",
    "def hint_display(query, hint_result):\n",
    "    \"\"\"\n",
    "    show the type, name, number of IDs for all results returned by the query\n",
    "    \n",
    "    :param: query: string used in hint query\n",
    "    :param: hint_result: object returned from hint query, a dictionary of lists of dictionaries\n",
    "    \n",
    "    Returns: None\n",
    "    \"\"\"\n",
    "    ## function needs to be rewritten if it's going to give the exact index of each object within its type \n",
    "    display = ['type', 'name']  ## replace with the parts of the BioThings object you want to see\n",
    "    concise_results = []\n",
    "    for BT_type, result in hint_result.items():\n",
    "        if result:  ## basically if it's not empty\n",
    "            for items in result:\n",
    "                ## number of identifiers per object: number of keys - 4 (name, primary, display, type)\n",
    "                temp = len(items) - 4\n",
    "                concise_results.append((items[display[0]], items[display[1]], \n",
    "                                         str(temp)))\n",
    "                    \n",
    "    print('There are {total} BioThings objects returned for {ht}:'.format(\\\n",
    "                total = len(concise_results), ht = query))\n",
    "    for display_info in concise_results:\n",
    "        print('{0}, {1}, num of IDs: {2}'.format(display_info[0], display_info[1], display_info[2]))"
   ]
  },
  {
   "cell_type": "markdown",
   "metadata": {},
   "source": [
    "## Step 1: Find representation of \"hyperphenylalaninemia\" in BTE"
   ]
  },
  {
   "cell_type": "markdown",
   "metadata": {},
   "source": [
    "In this step, BioThings Explorer translates our query string \"hyperphenylalaninemia\"  into BioThings objects, which contain mappings to many common identifiers.  Generally, the top result returned by the `Hint` module will match what you want, but you should confirm that using the identifiers shown. \n",
    "\n",
    "BioThings types correspond to children and descendants of [BiologicalEntity](https://biolink.github.io/biolink-model/docs/BiologicalEntity.html) from the [Biolink Model](https://biolink.github.io/biolink-model/docs/), including `Disease` (e.g., \"lupus\"), `ChemicalSubstance` (e.g., \"acetaminophen\"), `Gene` (e.g., \"CDK2\"), `BiologicalProcess` (e.g., \"T cell differentiation\"), and `Pathway` (e.g., \"Citric acid cycle\"). **However, [only a subset of the Biolink BiologicalEntity children / descendants are currently implemented in BTE](https://smart-api.info/portal/translator/metakg)**. More biomedical object types will be available as more knowledge sources (APIs) are added to the system. \n",
    "\n",
    "**Note that the type `BiologicalEntity` means any BioThings type currently implemented in BTE will be accepted.**"
   ]
  },
  {
   "cell_type": "code",
   "execution_count": 3,
   "metadata": {
    "ExecuteTime": {
     "end_time": "2020-11-27T02:29:44.625534Z",
     "start_time": "2020-11-27T02:29:44.366509Z"
    }
   },
   "outputs": [
    {
     "name": "stdout",
     "output_type": "stream",
     "text": [
      "There are 11 BioThings objects returned for hyperphenylalaninemia:\n",
      "Disease, mild hyperphenylalaninemia, num of IDs: 2\n",
      "Disease, Transient hyperphenylalaninemia, num of IDs: 2\n",
      "Disease, Maternal hyperphenylalaninemia, num of IDs: 2\n",
      "Disease, Atypical hyperphenylalaninemia, num of IDs: 2\n",
      "Disease, hyperphenylalaninemia due to tetrahydrobiopterin deficiency, num of IDs: 3\n",
      "PhenotypicFeature, Hyperphenylalaninemia, num of IDs: 3\n",
      "PhenotypicFeature, Atypical hyperphenylalaninemia, num of IDs: 2\n",
      "PhenotypicFeature, Transient hyperphenylalaninemia, num of IDs: 2\n",
      "PhenotypicFeature, Maternal hyperphenylalaninemia, num of IDs: 2\n",
      "Pathway, Hyperphenylalaninemia due to dhpr-deficiency, num of IDs: 0\n",
      "Pathway, Hyperphenylalaninemia due to 6-pyruvoyltetrahydropterin synthase deficiency (ptps), num of IDs: 0\n"
     ]
    }
   ],
   "source": [
    "ht = Hint()\n",
    "object1 = 'hyperphenylalaninemia'\n",
    "## find all potential representations of hyperphenylalaninemia\n",
    "hyperphenylalaninemia_hint = ht.query(object1)\n",
    "\n",
    "hint_display(object1, hyperphenylalaninemia_hint)"
   ]
  },
  {
   "cell_type": "markdown",
   "metadata": {},
   "source": [
    "Based on the information above, we'll pick the top Disease choice (indexed at 0) for hyperphenylalaninemia for our query. We can look at identifier mappings inside this BioThings object. "
   ]
  },
  {
   "cell_type": "code",
   "execution_count": 4,
   "metadata": {
    "ExecuteTime": {
     "end_time": "2020-11-27T02:29:55.742606Z",
     "start_time": "2020-11-27T02:29:55.732085Z"
    }
   },
   "outputs": [
    {
     "data": {
      "text/plain": [
       "{'MONDO': 'MONDO:0019335',\n",
       " 'name': 'mild hyperphenylalaninemia',\n",
       " 'ORPHANET': '79651',\n",
       " 'primary': {'identifier': 'MONDO',\n",
       "  'cls': 'Disease',\n",
       "  'value': 'MONDO:0019335'},\n",
       " 'display': 'MONDO(MONDO:0019335) ORPHANET(79651) name(mild hyperphenylalaninemia)',\n",
       " 'type': 'Disease'}"
      ]
     },
     "execution_count": 4,
     "metadata": {},
     "output_type": "execute_result"
    }
   ],
   "source": [
    "## select the first Disease object for our hyperphenylalaninemia query\n",
    "hyperphenylalaninemia = hyperphenylalaninemia_hint['Disease'][0]\n",
    "hyperphenylalaninemia"
   ]
  },
  {
   "cell_type": "markdown",
   "metadata": {},
   "source": [
    "## Step 2: Find drugs associated with the genes involved in hyperphenylalaninemia"
   ]
  },
  {
   "cell_type": "markdown",
   "metadata": {},
   "source": [
    "In this section, we find some paths in the knowledge graph that connect hyperphenylalaninemia to chemical compounds (nodes with the biomedical object type \"Chemical Substance\"). \n",
    "\n",
    "To do that, we will use `FindConnection`.  This class is a convenient wrapper around two advanced functions for **query path planning** and **query path execution**. More advanced features for both query path planning and query path execution are in development and will be documented in the coming months. \n",
    "\n",
    "The parameters for `FindConnection` are described below:"
   ]
  },
  {
   "cell_type": "code",
   "execution_count": 5,
   "metadata": {
    "ExecuteTime": {
     "end_time": "2020-11-27T02:30:00.024968Z",
     "start_time": "2020-11-27T02:30:00.021597Z"
    },
    "scrolled": true
   },
   "outputs": [
    {
     "name": "stdout",
     "output_type": "stream",
     "text": [
      "Help on function __init__ in module biothings_explorer.user_query_dispatcher:\n",
      "\n",
      "__init__(self, input_obj, output_obj, intermediate_nodes, registry=None)\n",
      "    Find relationships in the Knowledge Graph between an Input Object and an Output Object.\n",
      "    \n",
      "    Args:\n",
      "        input_obj (required): must be an object returned from Hint corresponding to a specific biomedical entity.\n",
      "                            Examples:\n",
      "                Hint().query(\"Fanconi anemia\")['DiseaseOrPhenotypicFeature'][0]\n",
      "                Hint().query(\"acetaminophen\")['ChemicalSubstance'][0]\n",
      "    \n",
      "        output_obj (required): must EITHER be an object returned from Hint corresponding to a specific biomedical\n",
      "                            entity, OR be a string or list of strings corresponding to Biolink Entity classes.\n",
      "                            Examples:\n",
      "                Hint().query(\"acetaminophen\")['ChemicalSubstance'][0]\n",
      "                'Gene'\n",
      "                ['Gene','ChemicalSubstance']\n",
      "    \n",
      "        intermediate_nodes (required): the semantic type(s) of the intermediate node(s).  Examples:\n",
      "                None                         : no intermediate node, find direct connections only\n",
      "                []                           : no intermediate node, find direct connections only\n",
      "                ['BiologicalEntity']         : one intermediate node of any semantic type\n",
      "                ['Gene']                     : one intermediate node that must be a Gene\n",
      "                [('Gene','Pathway')]         : one intermediate node that must be a Gene or a Pathway\n",
      "                ['Gene','Pathway']           : two intermediate nodes, first must be a Gene, second must be a Pathway.\n",
      "                ['Gene',('Pathway','Gene')]  : two intermediate nodes, first must be a Gene, second must be a Pathway or Gene.\n",
      "                                                **NOTE**: queries with more than one intermediate node are currently not supported\n",
      "\n"
     ]
    }
   ],
   "source": [
    "help(FindConnection.__init__)"
   ]
  },
  {
   "cell_type": "markdown",
   "metadata": {},
   "source": [
    "Here, we formulate a `FindConnection` query with \"hyperphenylalaninemia\" as the `input_obj`, \"ChemicalSubstance\" as the `output_obj` (which corresponds to a BioThings type).  We further specify with the `intermediate_nodes` parameter that we are looking for paths joining hyperphenylalaninemia and chemical compounds with *one* intermediate node that is a \"Gene\" (BioThings type).  "
   ]
  },
  {
   "cell_type": "code",
   "execution_count": 6,
   "metadata": {
    "ExecuteTime": {
     "end_time": "2020-11-27T02:30:03.247855Z",
     "start_time": "2020-11-27T02:30:03.183766Z"
    }
   },
   "outputs": [],
   "source": [
    "fc = FindConnection(input_obj = hyperphenylalaninemia, \\\n",
    "                    output_obj = 'ChemicalSubstance', \\\n",
    "                    intermediate_nodes = ['Gene'])"
   ]
  },
  {
   "cell_type": "markdown",
   "metadata": {},
   "source": [
    "We next execute the `connect` method, which performs the **query path planning** and **query path execution** process.  In short, BioThings Explorer is deconstructing the query into individual API calls, executing those API calls, and then assembling the results.\n",
    "\n",
    "A verbose log of this process is displayed below:"
   ]
  },
  {
   "cell_type": "code",
   "execution_count": 7,
   "metadata": {
    "ExecuteTime": {
     "end_time": "2020-11-27T02:30:09.308108Z",
     "start_time": "2020-11-27T02:30:04.971086Z"
    },
    "scrolled": true
   },
   "outputs": [
    {
     "name": "stdout",
     "output_type": "stream",
     "text": [
      "==========\n",
      "========== QUERY PARAMETER SUMMARY ==========\n",
      "==========\n",
      "\n",
      "BTE will find paths that join 'mild hyperphenylalaninemia' and 'ChemicalSubstance'.                   Paths will have 1 intermediate node.\n",
      "\n",
      "Intermediate node #1 will have these type constraints: Gene\n",
      "\n",
      "\n",
      "\n",
      "========== QUERY #1 -- fetch all Gene entities linked to mild hyperphenylalaninemia ==========\n",
      "==========\n",
      "\n",
      "==== Step #1: Query path planning ====\n",
      "\n",
      "Because mild hyperphenylalaninemia is of type 'Disease', BTE will query our meta-KG for APIs that can take 'Disease' as input and 'Gene' as output\n",
      "\n",
      "BTE found 5 apis:\n",
      "\n",
      "API 1. scigraph(1 API call)\n",
      "API 2. biolink(1 API call)\n",
      "API 3. pharos(1 API call)\n",
      "API 4. hetio(1 API call)\n",
      "API 5. scibite(1 API call)\n",
      "\n",
      "\n",
      "==== Step #2: Query path execution ====\n",
      "NOTE: API requests are dispatched in parallel, so the list of APIs below is ordered by query time.\n",
      "\n",
      "API 2.1: https://api.monarchinitiative.org/api/bioentity/disease/MONDO:0019335/genes?rows=200\n",
      "API 1.1: https://automat.renci.org/cord19-scigraph/disease/gene/MONDO:0019335\n",
      "API 3.1: https://automat.renci.org/pharos/disease/gene/MONDO:0019335\n",
      "API 5.1: https://automat.renci.org/cord19-scibite/disease/gene/MONDO:0019335\n",
      "API 4.1: https://automat.renci.org/hetio/disease/gene/MONDO:0019335\n",
      "\n",
      "\n",
      "==== Step #3: Output normalization ====\n",
      "\n",
      "API 1.1 scigraph: No hits\n",
      "API 3.1 pharos: No hits\n",
      "API 5.1 scibite: No hits\n",
      "API 4.1 hetio: No hits\n",
      "API 2.1 biolink: 1 hits\n",
      "\n",
      "After id-to-object translation, BTE retrieved 1 unique objects.\n",
      "\n",
      "\n",
      "========== QUERY #2.1 -- fetch all ChemicalSubstance entities linked to Gene entites ==========\n",
      "==========\n",
      "\n",
      "==== Step #1: Query path planning ====\n",
      "\n",
      "Because None is of type 'Gene', BTE will query our meta-KG for APIs that can take 'Gene' as input and 'ChemicalSubstance' as output\n",
      "\n",
      "BTE found 10 apis:\n",
      "\n",
      "API 1. cord_gene(1 API call)\n",
      "API 2. scigraph(1 API call)\n",
      "API 3. mychem(3 API calls)\n",
      "API 4. pharos(1 API call)\n",
      "API 5. dgidb(1 API call)\n",
      "API 6. opentarget(1 API call)\n",
      "API 7. scibite(1 API call)\n",
      "API 8. chembio(1 API call)\n",
      "API 9. hmdb(1 API call)\n",
      "API 10. semmed_gene(10 API calls)\n",
      "\n",
      "\n",
      "==== Step #2: Query path execution ====\n",
      "NOTE: API requests are dispatched in parallel, so the list of APIs below is ordered by query time.\n",
      "\n",
      "API 10.5: https://biothings.ncats.io/semmedgene/query?fields=related_to (POST -d q=C1418251&scopes=umls)\n",
      "API 10.4: https://biothings.ncats.io/semmedgene/query?fields=affected_by (POST -d q=C1418251&scopes=umls)\n",
      "API 10.8: https://biothings.ncats.io/semmedgene/query?fields=disrupts (POST -d q=C1418251&scopes=umls)\n",
      "API 10.3: https://biothings.ncats.io/semmedgene/query?fields=affects (POST -d q=C1418251&scopes=umls)\n",
      "API 10.2: https://biothings.ncats.io/semmedgene/query?fields=physically_interacts_with (POST -d q=C1418251&scopes=umls)\n",
      "API 10.7: https://biothings.ncats.io/semmedgene/query?fields=negatively_regulated_by (POST -d q=C1418251&scopes=umls)\n",
      "API 10.9: https://biothings.ncats.io/semmedgene/query?fields=disrupted_by (POST -d q=C1418251&scopes=umls)\n",
      "API 10.10: https://biothings.ncats.io/semmedgene/query?fields=positively_regulates (POST -d q=C1418251&scopes=umls)\n",
      "API 10.6: https://biothings.ncats.io/semmedgene/query?fields=positively_regulated_by (POST -d q=C1418251&scopes=umls)\n",
      "API 10.1: https://biothings.ncats.io/semmedgene/query?fields=negatively_regulates (POST -d q=C1418251&scopes=umls)\n",
      "API 1.1: https://biothings.ncats.io/cord_gene/query?fields=associated_with (POST -d q=8582&scopes=hgnc)\n",
      "API 6.1: https://platform-api.opentargets.io/v3/platform/public/evidence/filter?target=ENSG00000171759&datasource=chembl&size=100&fields=drug\n",
      "API 7.1: https://automat.renci.org/cord19-scibite/gene/chemical_substance/NCBIGene:5053\n",
      "API 8.1: https://automat.renci.org/chembio/gene/chemical_substance/NCBIGene:5053\n",
      "API 9.1: https://automat.renci.org/hmdb/gene/chemical_substance/NCBIGene:5053\n",
      "API 4.1: https://automat.renci.org/pharos/gene/chemical_substance/NCBIGene:5053\n",
      "API 2.1: https://automat.renci.org/cord19-scigraph/gene/chemical_substance/NCBIGene:5053\n",
      "API 5.1: http://dgidb.genome.wustl.edu/api/v2/interactions.json?genes=PAH\n",
      "\n",
      "\n",
      "==== Step #3: Output normalization ====\n",
      "\n",
      "API 6.1 opentarget: 42 hits\n",
      "API 10.1 semmed_gene: 6 hits\n",
      "API 10.2 semmed_gene: 53 hits\n",
      "API 10.3 semmed_gene: No hits\n",
      "API 10.4 semmed_gene: No hits\n",
      "API 10.5 semmed_gene: No hits\n",
      "API 5.1 dgidb: No hits\n",
      "API 7.1 scibite: 1 hits\n",
      "API 10.6 semmed_gene: 11 hits\n",
      "API 3.1 mychem: 8 hits\n",
      "API 2.1 scigraph: 52 hits\n",
      "API 1.1 cord_gene: 135 hits\n",
      "API 10.7 semmed_gene: 15 hits\n",
      "API 4.1 pharos: 2 hits\n",
      "API 10.8 semmed_gene: No hits\n",
      "API 8.1 chembio: 1 hits\n",
      "API 3.2 mychem: 1 hits\n",
      "API 10.9 semmed_gene: No hits\n",
      "API 9.1 hmdb: 11 hits\n",
      "API 3.3 mychem: 1 hits\n",
      "API 10.10 semmed_gene: 7 hits\n",
      "\n",
      "After id-to-object translation, BTE retrieved 262 unique objects.\n",
      "\n",
      "==========\n",
      "========== Final assembly of results ==========\n",
      "==========\n",
      "\n",
      "\n",
      "In the #1 query, BTE found 1 unique Gene nodes\n",
      "In the #2 query, BTE found 262 unique ChemicalSubstance nodes\n"
     ]
    }
   ],
   "source": [
    "## set verbose=True will display all steps which BTE takes to find the connection\n",
    "fc.connect(verbose = True)"
   ]
  },
  {
   "cell_type": "markdown",
   "metadata": {},
   "source": [
    "## Step 3: Display and filter results"
   ]
  },
  {
   "cell_type": "markdown",
   "metadata": {},
   "source": [
    "This section demonstrates post-query filtering done in Python. Later, more advanced filtering functions will be added to the **query path execution** module for interleaved filtering, thereby enabling longer query paths. More details to come...\n",
    "\n",
    "First, results can be exported to a data frame. Let's examine a sample of those results."
   ]
  },
  {
   "cell_type": "code",
   "execution_count": 8,
   "metadata": {
    "ExecuteTime": {
     "end_time": "2020-11-27T02:32:16.050233Z",
     "start_time": "2020-11-27T02:32:16.006562Z"
    },
    "scrolled": true
   },
   "outputs": [
    {
     "name": "stdout",
     "output_type": "stream",
     "text": [
      "(289, 16)\n"
     ]
    },
    {
     "data": {
      "text/html": [
       "<div>\n",
       "<style scoped>\n",
       "    .dataframe tbody tr th:only-of-type {\n",
       "        vertical-align: middle;\n",
       "    }\n",
       "\n",
       "    .dataframe tbody tr th {\n",
       "        vertical-align: top;\n",
       "    }\n",
       "\n",
       "    .dataframe thead th {\n",
       "        text-align: right;\n",
       "    }\n",
       "</style>\n",
       "<table border=\"1\" class=\"dataframe\">\n",
       "  <thead>\n",
       "    <tr style=\"text-align: right;\">\n",
       "      <th></th>\n",
       "      <th>input</th>\n",
       "      <th>input_type</th>\n",
       "      <th>pred1</th>\n",
       "      <th>pred1_source</th>\n",
       "      <th>pred1_api</th>\n",
       "      <th>pred1_pubmed</th>\n",
       "      <th>node1_type</th>\n",
       "      <th>node1_name</th>\n",
       "      <th>node1_id</th>\n",
       "      <th>pred2</th>\n",
       "      <th>pred2_source</th>\n",
       "      <th>pred2_api</th>\n",
       "      <th>pred2_pubmed</th>\n",
       "      <th>output_type</th>\n",
       "      <th>output_name</th>\n",
       "      <th>output_id</th>\n",
       "    </tr>\n",
       "  </thead>\n",
       "  <tbody>\n",
       "    <tr>\n",
       "      <th>343</th>\n",
       "      <td>MILD HYPERPHENYLALANINEMIA</td>\n",
       "      <td>Disease</td>\n",
       "      <td>related_to</td>\n",
       "      <td>None</td>\n",
       "      <td>BioLink API</td>\n",
       "      <td>None</td>\n",
       "      <td>Gene</td>\n",
       "      <td>PAH</td>\n",
       "      <td>NCBIGene:5053</td>\n",
       "      <td>related_to</td>\n",
       "      <td>Translator Text Mining Provider</td>\n",
       "      <td>CORD Gene API</td>\n",
       "      <td>None</td>\n",
       "      <td>ChemicalSubstance</td>\n",
       "      <td>AP24534</td>\n",
       "      <td>name:AP24534</td>\n",
       "    </tr>\n",
       "    <tr>\n",
       "      <th>330</th>\n",
       "      <td>MILD HYPERPHENYLALANINEMIA</td>\n",
       "      <td>Disease</td>\n",
       "      <td>related_to</td>\n",
       "      <td>None</td>\n",
       "      <td>BioLink API</td>\n",
       "      <td>None</td>\n",
       "      <td>Gene</td>\n",
       "      <td>PAH</td>\n",
       "      <td>NCBIGene:5053</td>\n",
       "      <td>related_to</td>\n",
       "      <td>Translator Text Mining Provider</td>\n",
       "      <td>CORD Gene API</td>\n",
       "      <td>None</td>\n",
       "      <td>ChemicalSubstance</td>\n",
       "      <td>GLYOXYLATE</td>\n",
       "      <td>name:GLYOXYLATE</td>\n",
       "    </tr>\n",
       "    <tr>\n",
       "      <th>153</th>\n",
       "      <td>MILD HYPERPHENYLALANINEMIA</td>\n",
       "      <td>Disease</td>\n",
       "      <td>related_to</td>\n",
       "      <td>None</td>\n",
       "      <td>BioLink API</td>\n",
       "      <td>None</td>\n",
       "      <td>Gene</td>\n",
       "      <td>PAH</td>\n",
       "      <td>NCBIGene:5053</td>\n",
       "      <td>physically_interacts_with</td>\n",
       "      <td>SEMMED</td>\n",
       "      <td>SEMMED Gene API</td>\n",
       "      <td>11386853</td>\n",
       "      <td>ChemicalSubstance</td>\n",
       "      <td>GLYCERIN</td>\n",
       "      <td>name:GLYCERIN</td>\n",
       "    </tr>\n",
       "    <tr>\n",
       "      <th>321</th>\n",
       "      <td>MILD HYPERPHENYLALANINEMIA</td>\n",
       "      <td>Disease</td>\n",
       "      <td>related_to</td>\n",
       "      <td>None</td>\n",
       "      <td>BioLink API</td>\n",
       "      <td>None</td>\n",
       "      <td>Gene</td>\n",
       "      <td>PAH</td>\n",
       "      <td>NCBIGene:5053</td>\n",
       "      <td>related_to</td>\n",
       "      <td>Translator Text Mining Provider</td>\n",
       "      <td>CORD Gene API</td>\n",
       "      <td>None</td>\n",
       "      <td>ChemicalSubstance</td>\n",
       "      <td>PYRROLIDINE DITHIOCARBAMATE</td>\n",
       "      <td>name:PYRROLIDINE DITHIOCARBAMATE</td>\n",
       "    </tr>\n",
       "    <tr>\n",
       "      <th>163</th>\n",
       "      <td>MILD HYPERPHENYLALANINEMIA</td>\n",
       "      <td>Disease</td>\n",
       "      <td>related_to</td>\n",
       "      <td>None</td>\n",
       "      <td>BioLink API</td>\n",
       "      <td>None</td>\n",
       "      <td>Gene</td>\n",
       "      <td>PAH</td>\n",
       "      <td>NCBIGene:5053</td>\n",
       "      <td>positively_regulated_by</td>\n",
       "      <td>SEMMED</td>\n",
       "      <td>SEMMED Gene API</td>\n",
       "      <td>10964764</td>\n",
       "      <td>ChemicalSubstance</td>\n",
       "      <td>OCHRATOXINS</td>\n",
       "      <td>name:OCHRATOXINS</td>\n",
       "    </tr>\n",
       "    <tr>\n",
       "      <th>59</th>\n",
       "      <td>MILD HYPERPHENYLALANINEMIA</td>\n",
       "      <td>Disease</td>\n",
       "      <td>related_to</td>\n",
       "      <td>None</td>\n",
       "      <td>BioLink API</td>\n",
       "      <td>None</td>\n",
       "      <td>Gene</td>\n",
       "      <td>PAH</td>\n",
       "      <td>NCBIGene:5053</td>\n",
       "      <td>related_to</td>\n",
       "      <td>Translator Text Mining Provider</td>\n",
       "      <td>CORD Gene API</td>\n",
       "      <td>None</td>\n",
       "      <td>ChemicalSubstance</td>\n",
       "      <td>CHEBI:50904</td>\n",
       "      <td>CHEBI:CHEBI:50904</td>\n",
       "    </tr>\n",
       "    <tr>\n",
       "      <th>209</th>\n",
       "      <td>MILD HYPERPHENYLALANINEMIA</td>\n",
       "      <td>Disease</td>\n",
       "      <td>related_to</td>\n",
       "      <td>None</td>\n",
       "      <td>BioLink API</td>\n",
       "      <td>None</td>\n",
       "      <td>Gene</td>\n",
       "      <td>PAH</td>\n",
       "      <td>NCBIGene:5053</td>\n",
       "      <td>negatively_regulated_by</td>\n",
       "      <td>SEMMED</td>\n",
       "      <td>SEMMED Gene API</td>\n",
       "      <td>10839989</td>\n",
       "      <td>ChemicalSubstance</td>\n",
       "      <td>BIOPTERIN</td>\n",
       "      <td>name:BIOPTERIN</td>\n",
       "    </tr>\n",
       "    <tr>\n",
       "      <th>244</th>\n",
       "      <td>MILD HYPERPHENYLALANINEMIA</td>\n",
       "      <td>Disease</td>\n",
       "      <td>related_to</td>\n",
       "      <td>None</td>\n",
       "      <td>BioLink API</td>\n",
       "      <td>None</td>\n",
       "      <td>Gene</td>\n",
       "      <td>PAH</td>\n",
       "      <td>NCBIGene:5053</td>\n",
       "      <td>related_to</td>\n",
       "      <td>scigraph</td>\n",
       "      <td>Automat CORD19 Scigraph API</td>\n",
       "      <td>None</td>\n",
       "      <td>ChemicalSubstance</td>\n",
       "      <td>PYRENE</td>\n",
       "      <td>name:PYRENE</td>\n",
       "    </tr>\n",
       "    <tr>\n",
       "      <th>58</th>\n",
       "      <td>MILD HYPERPHENYLALANINEMIA</td>\n",
       "      <td>Disease</td>\n",
       "      <td>related_to</td>\n",
       "      <td>None</td>\n",
       "      <td>BioLink API</td>\n",
       "      <td>None</td>\n",
       "      <td>Gene</td>\n",
       "      <td>PAH</td>\n",
       "      <td>NCBIGene:5053</td>\n",
       "      <td>related_to</td>\n",
       "      <td>Translator Text Mining Provider</td>\n",
       "      <td>CORD Gene API</td>\n",
       "      <td>None</td>\n",
       "      <td>ChemicalSubstance</td>\n",
       "      <td>CHEBI:50112</td>\n",
       "      <td>CHEBI:CHEBI:50112</td>\n",
       "    </tr>\n",
       "    <tr>\n",
       "      <th>42</th>\n",
       "      <td>MILD HYPERPHENYLALANINEMIA</td>\n",
       "      <td>Disease</td>\n",
       "      <td>related_to</td>\n",
       "      <td>None</td>\n",
       "      <td>BioLink API</td>\n",
       "      <td>None</td>\n",
       "      <td>Gene</td>\n",
       "      <td>PAH</td>\n",
       "      <td>NCBIGene:5053</td>\n",
       "      <td>related_to</td>\n",
       "      <td>scigraph</td>\n",
       "      <td>Automat CORD19 Scigraph API</td>\n",
       "      <td>None</td>\n",
       "      <td>ChemicalSubstance</td>\n",
       "      <td>CHEBI:76413</td>\n",
       "      <td>CHEBI:CHEBI:76413</td>\n",
       "    </tr>\n",
       "  </tbody>\n",
       "</table>\n",
       "</div>"
      ],
      "text/plain": [
       "                          input input_type       pred1 pred1_source  \\\n",
       "343  MILD HYPERPHENYLALANINEMIA    Disease  related_to         None   \n",
       "330  MILD HYPERPHENYLALANINEMIA    Disease  related_to         None   \n",
       "153  MILD HYPERPHENYLALANINEMIA    Disease  related_to         None   \n",
       "321  MILD HYPERPHENYLALANINEMIA    Disease  related_to         None   \n",
       "163  MILD HYPERPHENYLALANINEMIA    Disease  related_to         None   \n",
       "59   MILD HYPERPHENYLALANINEMIA    Disease  related_to         None   \n",
       "209  MILD HYPERPHENYLALANINEMIA    Disease  related_to         None   \n",
       "244  MILD HYPERPHENYLALANINEMIA    Disease  related_to         None   \n",
       "58   MILD HYPERPHENYLALANINEMIA    Disease  related_to         None   \n",
       "42   MILD HYPERPHENYLALANINEMIA    Disease  related_to         None   \n",
       "\n",
       "       pred1_api pred1_pubmed node1_type node1_name       node1_id  \\\n",
       "343  BioLink API         None       Gene        PAH  NCBIGene:5053   \n",
       "330  BioLink API         None       Gene        PAH  NCBIGene:5053   \n",
       "153  BioLink API         None       Gene        PAH  NCBIGene:5053   \n",
       "321  BioLink API         None       Gene        PAH  NCBIGene:5053   \n",
       "163  BioLink API         None       Gene        PAH  NCBIGene:5053   \n",
       "59   BioLink API         None       Gene        PAH  NCBIGene:5053   \n",
       "209  BioLink API         None       Gene        PAH  NCBIGene:5053   \n",
       "244  BioLink API         None       Gene        PAH  NCBIGene:5053   \n",
       "58   BioLink API         None       Gene        PAH  NCBIGene:5053   \n",
       "42   BioLink API         None       Gene        PAH  NCBIGene:5053   \n",
       "\n",
       "                         pred2                     pred2_source  \\\n",
       "343                 related_to  Translator Text Mining Provider   \n",
       "330                 related_to  Translator Text Mining Provider   \n",
       "153  physically_interacts_with                           SEMMED   \n",
       "321                 related_to  Translator Text Mining Provider   \n",
       "163    positively_regulated_by                           SEMMED   \n",
       "59                  related_to  Translator Text Mining Provider   \n",
       "209    negatively_regulated_by                           SEMMED   \n",
       "244                 related_to                         scigraph   \n",
       "58                  related_to  Translator Text Mining Provider   \n",
       "42                  related_to                         scigraph   \n",
       "\n",
       "                       pred2_api pred2_pubmed        output_type  \\\n",
       "343                CORD Gene API         None  ChemicalSubstance   \n",
       "330                CORD Gene API         None  ChemicalSubstance   \n",
       "153              SEMMED Gene API     11386853  ChemicalSubstance   \n",
       "321                CORD Gene API         None  ChemicalSubstance   \n",
       "163              SEMMED Gene API     10964764  ChemicalSubstance   \n",
       "59                 CORD Gene API         None  ChemicalSubstance   \n",
       "209              SEMMED Gene API     10839989  ChemicalSubstance   \n",
       "244  Automat CORD19 Scigraph API         None  ChemicalSubstance   \n",
       "58                 CORD Gene API         None  ChemicalSubstance   \n",
       "42   Automat CORD19 Scigraph API         None  ChemicalSubstance   \n",
       "\n",
       "                     output_name                         output_id  \n",
       "343                      AP24534                      name:AP24534  \n",
       "330                   GLYOXYLATE                   name:GLYOXYLATE  \n",
       "153                     GLYCERIN                     name:GLYCERIN  \n",
       "321  PYRROLIDINE DITHIOCARBAMATE  name:PYRROLIDINE DITHIOCARBAMATE  \n",
       "163                  OCHRATOXINS                  name:OCHRATOXINS  \n",
       "59                   CHEBI:50904                 CHEBI:CHEBI:50904  \n",
       "209                    BIOPTERIN                    name:BIOPTERIN  \n",
       "244                       PYRENE                       name:PYRENE  \n",
       "58                   CHEBI:50112                 CHEBI:CHEBI:50112  \n",
       "42                   CHEBI:76413                 CHEBI:CHEBI:76413  "
      ]
     },
     "execution_count": 8,
     "metadata": {},
     "output_type": "execute_result"
    }
   ],
   "source": [
    "df = fc.display_table_view()\n",
    "\n",
    "## because UMLS is not currently well-integrated in our ID-to-object \n",
    "##      translation system, removing UMLS-only outputs here\n",
    "patternDel = \"^UMLS:C\\d+\"\n",
    "filter = df.output_id.str.contains(patternDel)\n",
    "df = df[~filter]\n",
    "\n",
    "patternDel2 = \"^InChI=\"\n",
    "filter2 = df.output_name.str.contains(patternDel2)\n",
    "df = df[~filter2]\n",
    "\n",
    "patternDel3 = \"^umls:C\\d+\"\n",
    "filter3 = df.node1_id.str.contains(patternDel3)\n",
    "df = df[~filter3]\n",
    "\n",
    "# df[df.output_id.str.contains(patternDel)]\n",
    "print(df.shape)\n",
    "df.sample(10)"
   ]
  },
  {
   "cell_type": "markdown",
   "metadata": {},
   "source": [
    "Notice that results give the knowledge source (API) and that many also give the literature source (Pubmed ID). \n",
    "\n",
    "Next, let's examine which chemical compounds were most frequently mentioned."
   ]
  },
  {
   "cell_type": "code",
   "execution_count": 9,
   "metadata": {
    "ExecuteTime": {
     "end_time": "2020-11-27T02:32:19.695329Z",
     "start_time": "2020-11-27T02:32:19.689600Z"
    }
   },
   "outputs": [
    {
     "data": {
      "text/plain": [
       "SAPROPTERIN          4\n",
       "(R)-NORADRENALINE    4\n",
       "CORTISOL             3\n",
       "PTERINS              3\n",
       "DIOXYGEN             3\n",
       "(R)-ADRENALINE       3\n",
       "WATER                3\n",
       "BENZO(A)PYRENE       2\n",
       "CHEBI:24632          2\n",
       "CHEBI:59659          2\n",
       "Name: output_name, dtype: int64"
      ]
     },
     "execution_count": 9,
     "metadata": {},
     "output_type": "execute_result"
    }
   ],
   "source": [
    "df.output_name.value_counts().head(10)"
   ]
  },
  {
   "cell_type": "markdown",
   "metadata": {},
   "source": [
    "*Note: as of 2020-08-13, the notebook output above matches the description below. As knowledge sources (APIs) and code are updated and added, users may obtain different results.*\n",
    "\n",
    "Hyperphenylalaninemia is a condition characterized by elevated levels of phenylalanine in the blood. This phenotype is strongly associated with phenylketonuria (PKU), an inherited, genetic disorder that affects the ability to metabolize phenylalanine.  **Sapropterin** is a naturally-occurring cofactor associated with several enzymatic processes, including the metabolism of phenylalanine to tyrosine. It has been [FDA-approved](https://www.centerwatch.com/drug-information/fda-approved-drugs/drug/972/kuvan-sapropterin-dihydrochloride) as a treatment for PKU patients.  Tyrosine is also a precursor to several neurotransmitters, including **norepinephrine** and dopamine.\n",
    "\n",
    "While several of the listed compounds would be considered positive controls, others on the list could be viewed as **testable hypotheses and discovery opportunities** to be evaluated by domain experts. For example, let's examine which genes link hyperphenylalaninemia to nitric oxide."
   ]
  },
  {
   "cell_type": "code",
   "execution_count": 10,
   "metadata": {
    "ExecuteTime": {
     "end_time": "2020-11-27T02:32:22.441639Z",
     "start_time": "2020-11-27T02:32:22.426233Z"
    }
   },
   "outputs": [
    {
     "data": {
      "text/html": [
       "<div>\n",
       "<style scoped>\n",
       "    .dataframe tbody tr th:only-of-type {\n",
       "        vertical-align: middle;\n",
       "    }\n",
       "\n",
       "    .dataframe tbody tr th {\n",
       "        vertical-align: top;\n",
       "    }\n",
       "\n",
       "    .dataframe thead th {\n",
       "        text-align: right;\n",
       "    }\n",
       "</style>\n",
       "<table border=\"1\" class=\"dataframe\">\n",
       "  <thead>\n",
       "    <tr style=\"text-align: right;\">\n",
       "      <th></th>\n",
       "      <th>input</th>\n",
       "      <th>input_type</th>\n",
       "      <th>pred1</th>\n",
       "      <th>pred1_source</th>\n",
       "      <th>pred1_api</th>\n",
       "      <th>pred1_pubmed</th>\n",
       "      <th>node1_type</th>\n",
       "      <th>node1_name</th>\n",
       "      <th>node1_id</th>\n",
       "      <th>pred2</th>\n",
       "      <th>pred2_source</th>\n",
       "      <th>pred2_api</th>\n",
       "      <th>pred2_pubmed</th>\n",
       "      <th>output_type</th>\n",
       "      <th>output_name</th>\n",
       "      <th>output_id</th>\n",
       "    </tr>\n",
       "  </thead>\n",
       "  <tbody>\n",
       "    <tr>\n",
       "      <th>328</th>\n",
       "      <td>MILD HYPERPHENYLALANINEMIA</td>\n",
       "      <td>Disease</td>\n",
       "      <td>related_to</td>\n",
       "      <td>None</td>\n",
       "      <td>BioLink API</td>\n",
       "      <td>None</td>\n",
       "      <td>Gene</td>\n",
       "      <td>PAH</td>\n",
       "      <td>NCBIGene:5053</td>\n",
       "      <td>related_to</td>\n",
       "      <td>Translator Text Mining Provider</td>\n",
       "      <td>CORD Gene API</td>\n",
       "      <td>None</td>\n",
       "      <td>ChemicalSubstance</td>\n",
       "      <td>NITRIC OXIDE</td>\n",
       "      <td>name:NITRIC OXIDE</td>\n",
       "    </tr>\n",
       "  </tbody>\n",
       "</table>\n",
       "</div>"
      ],
      "text/plain": [
       "                          input input_type       pred1 pred1_source  \\\n",
       "328  MILD HYPERPHENYLALANINEMIA    Disease  related_to         None   \n",
       "\n",
       "       pred1_api pred1_pubmed node1_type node1_name       node1_id  \\\n",
       "328  BioLink API         None       Gene        PAH  NCBIGene:5053   \n",
       "\n",
       "          pred2                     pred2_source      pred2_api pred2_pubmed  \\\n",
       "328  related_to  Translator Text Mining Provider  CORD Gene API         None   \n",
       "\n",
       "           output_type   output_name          output_id  \n",
       "328  ChemicalSubstance  NITRIC OXIDE  name:NITRIC OXIDE  "
      ]
     },
     "execution_count": 10,
     "metadata": {},
     "output_type": "execute_result"
    }
   ],
   "source": [
    "df[df.output_name == \"NITRIC OXIDE\"]"
   ]
  },
  {
   "cell_type": "markdown",
   "metadata": {},
   "source": [
    "*Note: as of 2020-08-13, the notebook output above matches the description below. As knowledge sources (APIs) and code are updated and added, users may obtain different results.*\n",
    "\n",
    "BTE identifies [PAH](https://www.ncbi.nlm.nih.gov/gene/5053) as being a gene connecting hyperphenylalaninemia and nitric oxide."
   ]
  },
  {
   "cell_type": "markdown",
   "metadata": {},
   "source": [
    "## Conclusions and caveats"
   ]
  },
  {
   "cell_type": "markdown",
   "metadata": {},
   "source": [
    "This notebook demonstrates the use of BioThings Explorer (PREDICT queries) to identify chemical compounds related to hyperphenylalaninemia. BioThings Explorer autonomously queried a **distributed knowledge graph of biomedical APIs** to find the most common compounds, and several of the top hits had a clear biochemical and clinical relevance to hyperphenylalaninemia.\n",
    "\n",
    "There are still many areas for improvement (and some areas in which BioThings Explorer is still buggy).  And of course, BioThings Explorer is dependent on the accessibility of the APIs that comprise the distributed knowledge graph.  Nevertheless, we encourage users to try other variants of the PREDICT queries demonstrated in this notebook."
   ]
  },
  {
   "cell_type": "markdown",
   "metadata": {},
   "source": [
    "## More query information for users"
   ]
  },
  {
   "cell_type": "markdown",
   "metadata": {},
   "source": [
    "*Note: as of 2020-08-13, the information below is valid.*\n",
    "\n",
    "The input into the Hint query should be one string with **at least one whole word.** \n",
    "\n",
    "Currently, the user must set the input_obj parameter of FindConnection() as **one specific BioThings object** (ex: one chemical, phenotype, disease, GO term, etc.). To do a PREDICT query, the output_obj parameter of FindConnection() must be **one BioThings type**. \n",
    "\n",
    "For a PREDICT query, BTE will accept one or more intermediate nodes (example: the chain of queries is then A -> B -> C -> D). **However, having more than one intermediate node currently leads to slow performance and an overwhelming number of results so it is discouraged.**  \n",
    "\n",
    "Intermediate nodes cannot be specific biomedical entities. They must be BioThings type(s), None, or an empty list ([]). \n",
    "\n",
    "The intermediate node parameter can be a list or None. **None or an empty list will tell BTE to look for direct connections (no intermediate nodes).** For a non-empty list, each element is a string (one acceptable entity type) or a tuple of strings (describing the acceptable types) for one node. \n",
    "* [('AnatomicalEntity, 'CellularComponent')] means one intermediate node that can be an anatomical entity or a cellular component (GO term)\n",
    "* [('AnatomicalEntity, 'CellularComponent'), 'CellularComponent'] means two intermediate nodes so the chain of queries is A -> B -> C -> D. The first intermediate node (B) can be either of the two types, while the second intermediate node (C) MUST be a cellular-component (GO term). \n",
    "\n",
    "BTE will query from input_obj -> intermediate and from intermediate -> output_obj and then join results based on shared intermediates. The results should therefore be read as input_obj -> intermediate -> output_obj. \n",
    "\n",
    "If **an intermediate node has a tuple of acceptable types**, BTE will look for knowledge sources that can handle at least one of the types listed.   "
   ]
  },
  {
   "cell_type": "code",
   "execution_count": null,
   "metadata": {},
   "outputs": [],
   "source": []
  }
 ],
 "metadata": {
  "kernelspec": {
   "display_name": "Python 3",
   "language": "python",
   "name": "python3"
  },
  "language_info": {
   "codemirror_mode": {
    "name": "ipython",
    "version": 3
   },
   "file_extension": ".py",
   "mimetype": "text/x-python",
   "name": "python",
   "nbconvert_exporter": "python",
   "pygments_lexer": "ipython3",
   "version": "3.7.9"
  },
  "toc": {
   "base_numbering": 1,
   "nav_menu": {},
   "number_sections": true,
   "sideBar": true,
   "skip_h1_title": false,
   "title_cell": "Table of Contents",
   "title_sidebar": "Contents",
   "toc_cell": false,
   "toc_position": {},
   "toc_section_display": true,
   "toc_window_display": false
  },
  "varInspector": {
   "cols": {
    "lenName": 16,
    "lenType": 16,
    "lenVar": 40
   },
   "kernels_config": {
    "python": {
     "delete_cmd_postfix": "",
     "delete_cmd_prefix": "del ",
     "library": "var_list.py",
     "varRefreshCmd": "print(var_dic_list())"
    },
    "r": {
     "delete_cmd_postfix": ") ",
     "delete_cmd_prefix": "rm(",
     "library": "var_list.r",
     "varRefreshCmd": "cat(var_dic_list()) "
    }
   },
   "types_to_exclude": [
    "module",
    "function",
    "builtin_function_or_method",
    "instance",
    "_Feature"
   ],
   "window_display": false
  }
 },
 "nbformat": 4,
 "nbformat_minor": 2
}
