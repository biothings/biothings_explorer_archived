{
 "cells": [
  {
   "cell_type": "markdown",
   "metadata": {},
   "source": [
    "# CX Work-In-Progress (WIP) Notebook\n",
    "\n",
    "There is where I play with BioThings Explorer (BTE) features, troubleshoot issues, and build functions. Other notebooks in this folder include specific use cases (drafts of chained query logic, result post-processing, corroborating evidence for results) and demos. \n",
    "\n",
    "Note: are there still issues with interpreting ULMS results? I notice in the PREDICT and EXPLAIN demo notebooks, output objects with ULMS IDs are removed. "
   ]
  },
  {
   "cell_type": "markdown",
   "metadata": {},
   "source": [
    "## Documentation (demo intro?):         "
   ]
  },
  {
   "cell_type": "markdown",
   "metadata": {},
   "source": [
    "BioThings Explorer is an engine for autonomously querying a distributed knowledge graph of biomedical knowledge.\n",
    "\n",
    "Currently, the user must set the input_obj parameter of FindConnection() as **one specific BioThings object** (ex: one chemical, phenotype, disease, GO term, etc.). The output_obj parameter of FindConnection can be one specific BioThings object (for EXPLAIN class queries) OR one BioThings type (for PREDICT class queries). See EXPLAIN vs PREDICT below.  \n",
    "\n",
    "BioThings types correspond to children and descendants of [BiologicalEntity](https://biolink.github.io/biolink-model/docs/BiologicalEntity.html) from the [Biolink Model](https://biolink.github.io/biolink-model/docs/), including `Disease` (e.g., \"lupus\"), `ChemicalSubstance` (e.g., \"acetaminophen\"), `Gene` (e.g., \"CDK2\"), `BiologicalProcess` (e.g., \"T cell differentiation\"), and `Pathway` (e.g., \"Citric acid cycle\"). **However, [only a subset of the Biolink BiologicalEntity children / descendants are currently implemented in BTE](https://smart-api.info/portal/translator/metakg)**. More biomedical object types will be available as more knowledge sources (APIs) are added to the system. \n",
    "\n",
    "**Note that the type `BiologicalEntity` means any BioThings type currently implemented in BTE will be accepted.**"
   ]
  },
  {
   "cell_type": "markdown",
   "metadata": {},
   "source": [
    "## Overview of a basic query"
   ]
  },
  {
   "cell_type": "markdown",
   "metadata": {},
   "source": [
    "Import the relevant modules:\n",
    "* **Hint**: Find corresponding BioThings representations to use in BioThings Explorer based on user input (could be any database IDs, symbols, names)\n",
    "* **FindConnection**: Find the relationship(s) between a specific entity and an entity type (PREDICT) or two specific entities (EXPLAIN))\n",
    "\n",
    "The steps for one query currently are (current for master version as of 2020-08-13):  \n",
    "1. **Use Hint module**: Find corresponding BioThings representations to use in BioThings Explorer based on user input (could be any database IDs, symbols, names). The input into the Hint query should be one string with at least one whole word. The BioThings objects includes identifiers (IDs) that will help with querying knowledge sources (APIs). \n",
    "2. **Use FindConnection module**: BTE then finds ways to chain knowledge-source searches (API calls) to find the relationship(s) between a specific entity and an entity type (PREDICT) or two specific entities (EXPLAIN))\n",
    "    * BTE may be able to find direct connections between objects. All of these are one-way/directed connections (input_obj -> output_obj). \n",
    "        - Example: the input_obj is \"chronic myelogenous leukemia\" (a disease), and the output_obj is \"PhenotypicFeature\" (a biomedical entity type). BTE will find knowledge sources with disease (input) -> phenotype (output). \n",
    "        - **Done by setting the intermediate_node parameter to None or [] (empty list)**\n",
    "    * The user can set intermediate node(s), chaining queries and finding indirect connections between objects. Note that this behavior is very different depending on whether the output_obj is a specific biomedical entity or an entity type (see EXPLAIN vs PREDICT below).\n",
    "3. BTE constructs the knowledge-source searches (queries the APIs), sends out the queries, receives the results, and does some pre-processing. \n",
    "4. The results can be explored by in a table (pandas dataframe object) or exported as a graph (graphml file) or JSON file (normal or ReasonerStdAPI format). "
   ]
  },
  {
   "cell_type": "markdown",
   "metadata": {},
   "source": [
    "## EXPLAIN vs PREDICT"
   ]
  },
  {
   "cell_type": "markdown",
   "metadata": {},
   "source": [
    "As mentioned above, relationships between objects are one way (example: disease -> phenotype, if BTE puts a specific disease's name into this knowledge source, can it retrieve phenotypic information?). \n",
    "\n",
    "But what happens if only indirect relationships exist and BTE has to chain queries together? This is the current situation:\n",
    "\n",
    "### Intermediate nodes cannot be specific biomedical entities. They must be entity type(s). The acceptable format to specify this depends on what the output_obj is."
   ]
  },
  {
   "cell_type": "markdown",
   "metadata": {},
   "source": [
    "### EXPLAIN: If your output_obj is a specific biomedical entity too"
   ]
  },
  {
   "cell_type": "markdown",
   "metadata": {},
   "source": [
    "This is known as an \"Explain\"-type query. \n",
    "\n",
    "BTE will only accept one intermediate node. The intermediate node parameter can be a single entity type (string, example: 'BiologicalEntity') or a list of acceptable entity types (list of strings, example: ['Gene', 'AnatomicalEntity']). \n",
    "\n",
    "BTE will query from input_obj -> intermediate and from output_obj -> intermediate, then join results based on shared intermediates. The results should therefore be read as input_obj -> intermediate <- output_obj.  \n",
    "\n",
    "If the intermediate node parameter is a list of acceptable types, BTE will look for knowledge sources that can handle at least one of the types listed.   "
   ]
  },
  {
   "cell_type": "markdown",
   "metadata": {},
   "source": [
    "### PREDICT: If your output_obj is an entity type"
   ]
  },
  {
   "cell_type": "markdown",
   "metadata": {},
   "source": [
    "This is known as a \"Predict\"-type query. \n",
    "\n",
    "Currently, the user must set the input_obj parameter of FindConnection() as **one specific BioThings object** (ex: one chemical, phenotype, disease, GO term, etc.). To do a Predict-type query, the output_obj parameter of FindConnection() must be **one BioThings type**. \n",
    "\n",
    "BTE will accept one or more intermediate nodes (example: the chain of queries is then A -> B -> C -> D). **However, having more than one intermediate node currently (as-of 8/12/2020) leads to slow performance and an overwhelming number of results.**  \n",
    "\n",
    "Intermediate nodes cannot be specific biomedical entities. They must be BioThings type(s). The **intermediate node parameter** is a list, where each element is a string (one acceptable entity type) or a tuple of strings (describing the acceptable types) for one node. \n",
    "* [('AnatomicalEntity, 'CellularComponent')] means one intermediate node that can be an anatomical entity or a cellular component (GO term)\n",
    "* [('AnatomicalEntity, 'CellularComponent'), 'CellularComponent'] means two intermediate nodes so the chain of queries is A -> B -> C -> D. The first intermediate node (B) can be either of the two types, while the second intermediate node (C) MUST be a cellular-component (GO term). \n",
    "\n",
    "BTE will query from input_object -> intermediate and from intermediate -> output_object, then join results based on shared intermediates. The results should therefore be read as input_object -> intermediate -> output_object. \n",
    "\n",
    "If **an intermediate node has a tuple of acceptable types**, BTE will look for knowledge sources that can handle at least one of the types listed.   "
   ]
  },
  {
   "cell_type": "markdown",
   "metadata": {},
   "source": [
    "### What if I find multiple specific biomedical objects that are valid in step 1? "
   ]
  },
  {
   "cell_type": "markdown",
   "metadata": {},
   "source": [
    "This can happen due to different IDs, slightly different contexts or definitions, etc. The problem of object and identifier resolution is an on-going issue in knowledge integration.   \n",
    "\n",
    "Currently there is no way to combine them into one object for one query. The user has to run multiple / parallel queries for each BioThings object that is valid to their question.  \n",
    "\n",
    "Below is code blocks in prep for showing issues. "
   ]
  },
  {
   "cell_type": "code",
   "execution_count": 1,
   "metadata": {},
   "outputs": [],
   "source": [
    "## Setup \n",
    "## CX: make it so multiple lines of code can print from one code block\n",
    "from IPython.core.interactiveshell import InteractiveShell\n",
    "InteractiveShell.ast_node_interactivity = \"all\"\n",
    "\n",
    "# import modules from biothings_explorer\n",
    "from biothings_explorer.hint import Hint\n",
    "from biothings_explorer.user_query_dispatcher import FindConnection"
   ]
  },
  {
   "cell_type": "code",
   "execution_count": 2,
   "metadata": {},
   "outputs": [],
   "source": [
    "def hint_display(query, hint_result):\n",
    "    \"\"\"\n",
    "    input: query (string used in hint query), hint_result (object returned from hint query)\n",
    "    hint_result is a dictionary of lists of dictionaries\n",
    "    returns: None\n",
    "    show the name and type of all results returned by the query\n",
    "    \"\"\"\n",
    "    display = ['name', 'type']  ## replace with the parts of the BioThings object you want to see\n",
    "    concise_results = []\n",
    "    for BT_type, result in hint_result.items():\n",
    "        if result:  ## basically if it's not empty\n",
    "            for items in result:\n",
    "                concise_results.append((items[display[0]], items[display[1]]))\n",
    "    print('There are {total} BioThings objects returned for {ht}:'.format(\\\n",
    "                total = len(concise_results), ht = query))\n",
    "    for (idx, display_info) in enumerate(concise_results):\n",
    "        print('{i}: {val}'.format(\\\n",
    "                 i = idx, val = display_info))"
   ]
  },
  {
   "cell_type": "markdown",
   "metadata": {},
   "source": [
    "## Issues with Hint module()"
   ]
  },
  {
   "cell_type": "markdown",
   "metadata": {},
   "source": [
    "### Synonyms don't work"
   ]
  },
  {
   "cell_type": "code",
   "execution_count": 3,
   "metadata": {},
   "outputs": [
    {
     "name": "stdout",
     "output_type": "stream",
     "text": [
      "There are 0 BioThings objects returned for GIST:\n"
     ]
    }
   ],
   "source": [
    "Synonym_str = \"GIST\"\n",
    "SynonymLook = Hint().query(Synonym_str)\n",
    "hint_display(Synonym_str, SynonymLook)"
   ]
  },
  {
   "cell_type": "markdown",
   "metadata": {},
   "source": [
    "### Partial words don't work"
   ]
  },
  {
   "cell_type": "code",
   "execution_count": 4,
   "metadata": {},
   "outputs": [
    {
     "name": "stdout",
     "output_type": "stream",
     "text": [
      "There are 7 BioThings objects returned for gastro:\n",
      "0: ('Drugs For Peptic Ulcer And Gastro-oesophageal Reflux Disease (gord)', 'ChemicalSubstance')\n",
      "1: ('Other drugs for peptic ulcer and gastro-oesophageal reflux disease (GORD)', 'ChemicalSubstance')\n",
      "2: ('genetic gastro-esophageal disease', 'Disease')\n",
      "3: ('obsolete gastro-enteropancreatic neuroendocrine tumor', 'Disease')\n",
      "4: ('Gastro-esophageal reflux disease with esophagitis', 'Disease')\n",
      "5: ('gastro-intestinal system smooth muscle contraction', 'BiologicalProcess')\n",
      "6: ('positive regulation of gastro-intestinal system smooth muscle contraction', 'BiologicalProcess')\n",
      "\n",
      "\n",
      "There are 0 BioThings objects returned for contract:\n"
     ]
    }
   ],
   "source": [
    "## notice that this works for hyphenated words, but doesn't return names with 'gastrointestinal'\n",
    "PartialWorks_str = \"gastro\"\n",
    "PartialWorksLook = Hint().query(PartialWorks_str)\n",
    "hint_display(PartialWorks_str, PartialWorksLook)\n",
    "\n",
    "print('\\n')\n",
    "\n",
    "## looking for contractures (phenotype)\n",
    "PartialNoWork_str = \"contract\"\n",
    "PartialNoWorkLook = Hint().query(PartialNoWork_str)\n",
    "hint_display(PartialNoWork_str, PartialNoWorkLook)"
   ]
  },
  {
   "cell_type": "markdown",
   "metadata": {},
   "source": [
    "### Singular vs Plural queries behave in unexpected ways\n",
    "\n",
    "Different results:"
   ]
  },
  {
   "cell_type": "code",
   "execution_count": 5,
   "metadata": {},
   "outputs": [
    {
     "name": "stdout",
     "output_type": "stream",
     "text": [
      "There are 4 BioThings objects returned for gastrointestinal stromal tumor:\n",
      "0: ('gastrointestinal stromal tumor', 'Disease')\n",
      "1: ('GASTROINTESTINAL STROMAL TUMOR, FAMILIAL', 'Disease')\n",
      "2: ('Gastric Gastrointestinal Stromal Tumor', 'Disease')\n",
      "3: ('colorectal gastrointestinal stromal tumor', 'Disease')\n",
      "\n",
      "\n",
      "There are 1 BioThings objects returned for gastrointestinal stromal tumors:\n",
      "0: ('gastrointestinal stromal tumor', 'Disease')\n"
     ]
    }
   ],
   "source": [
    "## notice that this gives 4 objects\n",
    "SingularGIST = \"gastrointestinal stromal tumor\"\n",
    "SingularLook = Hint().query(SingularGIST)\n",
    "hint_display(SingularGIST, SingularLook)\n",
    "\n",
    "print('\\n')\n",
    "\n",
    "## notice that this gives 1 object\n",
    "PluralGIST = \"gastrointestinal stromal tumors\"\n",
    "PluralLook = Hint().query(PluralGIST)\n",
    "hint_display(PluralGIST, PluralLook)"
   ]
  },
  {
   "cell_type": "markdown",
   "metadata": {},
   "source": [
    "## Issues with FindConnection() module  \n",
    "\n",
    "compare the help for FindConnection() compared to the errors or verbose output below**"
   ]
  },
  {
   "cell_type": "code",
   "execution_count": 6,
   "metadata": {},
   "outputs": [
    {
     "name": "stdout",
     "output_type": "stream",
     "text": [
      "Help on function __init__ in module biothings_explorer.user_query_dispatcher:\n",
      "\n",
      "__init__(self, input_obj, output_obj, intermediate_nodes, registry=None)\n",
      "    Find relationships in the Knowledge Graph between an Input Object and an Output Object.\n",
      "    \n",
      "    Args:\n",
      "        input_obj (required): must be an object returned from Hint corresponding to a specific biomedical entity.\n",
      "                            Examples:\n",
      "                Hint().query(\"Fanconi anemia\")['DiseaseOrPhenotypicFeature'][0]\n",
      "                Hint().query(\"acetaminophen\")['ChemicalSubstance'][0]\n",
      "    \n",
      "        output_obj (required): must EITHER be an object returned from Hint corresponding to a specific biomedical\n",
      "                            entity, OR be a string or list of strings corresponding to Biolink Entity classes.\n",
      "                            Examples:\n",
      "                Hint().query(\"acetaminophen\")['ChemicalSubstance'][0]\n",
      "                'Gene'\n",
      "                ['Gene','ChemicalSubstance']\n",
      "    \n",
      "        intermediate_nodes (required): the semantic type(s) of the intermediate node(s).  Examples:\n",
      "                None                         : no intermediate node, find direct connections only\n",
      "                []                           : no intermediate node, find direct connections only\n",
      "                ['BiologicalEntity']         : one intermediate node of any semantic type\n",
      "                ['Gene']                     : one intermediate node that must be a Gene\n",
      "                [('Gene','Pathway')]         : one intermediate node that must be a Gene or a Pathway\n",
      "                ['Gene','Pathway']           : two intermediate nodes, first must be a Gene, second must be a Pathway.\n",
      "                ['Gene',('Pathway','Gene')]  : two intermediate nodes, first must be a Gene, second must be a Pathway or Gene.\n",
      "                                                **NOTE**: queries with more than one intermediate node are currently not supported\n",
      "\n"
     ]
    }
   ],
   "source": [
    "help(FindConnection.__init__)"
   ]
  },
  {
   "cell_type": "markdown",
   "metadata": {},
   "source": [
    "Some example objects to use as input and output in later queries. This is from Step 1 of the *Overview of the basic query* above."
   ]
  },
  {
   "cell_type": "code",
   "execution_count": 7,
   "metadata": {},
   "outputs": [
    {
     "data": {
      "text/plain": [
       "dict_keys(['Gene', 'SequenceVariant', 'ChemicalSubstance', 'Disease', 'MolecularActivity', 'BiologicalProcess', 'CellularComponent', 'Pathway', 'AnatomicalEntity', 'PhenotypicFeature'])"
      ]
     },
     "execution_count": 7,
     "metadata": {},
     "output_type": "execute_result"
    },
    {
     "name": "stdout",
     "output_type": "stream",
     "text": [
      "There are 4 BioThings objects returned for Lafora:\n",
      "0: ('Lafora disease', 'Disease')\n",
      "1: ('early-onset Lafora body disease', 'Disease')\n",
      "2: ('Lafora body', 'CellularComponent')\n",
      "3: ('Myoclonic epilepsy of Lafora', 'Pathway')\n",
      "\n",
      "\n",
      "There are 2 BioThings objects returned for Dravet:\n",
      "0: ('Dravet syndrome', 'Disease')\n",
      "1: ('obsolete Dravet syndrome', 'Disease')\n"
     ]
    }
   ],
   "source": [
    "## looking through the options here: pick the first disease option\n",
    "\n",
    "LaforaString = 'Lafora'\n",
    "LaforaLookup = Hint().query(LaforaString)\n",
    "LaforaLookup.keys()\n",
    "hint_display(LaforaString, LaforaLookup)\n",
    "LaforaInput = LaforaLookup['Disease'][0]\n",
    "\n",
    "print('\\n')\n",
    "\n",
    "DravetString = 'Dravet'\n",
    "DravetLookup = Hint().query(DravetString)\n",
    "hint_display(DravetString, DravetLookup)\n",
    "DravetOutput = DravetLookup['Disease'][0]"
   ]
  },
  {
   "cell_type": "markdown",
   "metadata": {},
   "source": [
    "### Intermediate node cannot be a specific biomedical entity (BioThings object) "
   ]
  },
  {
   "cell_type": "markdown",
   "metadata": {},
   "source": [
    "Confirms what the FindConnection() help says. "
   ]
  },
  {
   "cell_type": "code",
   "execution_count": 8,
   "metadata": {},
   "outputs": [
    {
     "name": "stdout",
     "output_type": "stream",
     "text": [
      "==========\n",
      "========== QUERY PARAMETER SUMMARY ==========\n",
      "==========\n",
      "\n",
      "BTE will find paths that join 'Lafora disease' and 'PhenotypicFeature'.                   Paths will have 1 intermediate node.\n",
      "\n",
      "Intermediate node #1 will have these type constraints: {'MONDO': 'MONDO:0100135', 'DOID': 'DOID:0060171', 'UMLS': 'C0751122', 'name': 'Dravet syndrome', 'primary': {'identifier': 'MONDO', 'cls': 'Disease', 'value': 'MONDO:0100135'}, 'display': 'MONDO(MONDO:0100135) DOID(DOID:0060171) UMLS(C0751122) name(Dravet syndrome)', 'type': 'Disease'}\n",
      "\n"
     ]
    },
    {
     "ename": "TypeError",
     "evalue": "sequence item 0: expected str instance, dict found",
     "output_type": "error",
     "traceback": [
      "\u001b[0;31m---------------------------------------------------------------------------\u001b[0m",
      "\u001b[0;31mTypeError\u001b[0m                                 Traceback (most recent call last)",
      "\u001b[0;32m<ipython-input-8-b37387aad588>\u001b[0m in \u001b[0;36m<module>\u001b[0;34m\u001b[0m\n\u001b[1;32m      1\u001b[0m fc1 = FindConnection(input_obj = LaforaInput, output_obj = 'PhenotypicFeature', \\\n\u001b[1;32m      2\u001b[0m                     intermediate_nodes = DravetOutput)\n\u001b[0;32m----> 3\u001b[0;31m \u001b[0mfc1\u001b[0m\u001b[0;34m.\u001b[0m\u001b[0mconnect\u001b[0m\u001b[0;34m(\u001b[0m\u001b[0mverbose\u001b[0m \u001b[0;34m=\u001b[0m \u001b[0;32mTrue\u001b[0m\u001b[0;34m)\u001b[0m\u001b[0;34m\u001b[0m\u001b[0;34m\u001b[0m\u001b[0m\n\u001b[0m",
      "\u001b[0;32m~/miniconda3/envs/BTE/lib/python3.7/site-packages/biothings_explorer/user_query_dispatcher.py\u001b[0m in \u001b[0;36mconnect\u001b[0;34m(self, verbose)\u001b[0m\n\u001b[1;32m   1156\u001b[0m \u001b[0;34m\u001b[0m\u001b[0m\n\u001b[1;32m   1157\u001b[0m     \u001b[0;32mdef\u001b[0m \u001b[0mconnect\u001b[0m\u001b[0;34m(\u001b[0m\u001b[0mself\u001b[0m\u001b[0;34m,\u001b[0m \u001b[0mverbose\u001b[0m\u001b[0;34m=\u001b[0m\u001b[0;32mFalse\u001b[0m\u001b[0;34m)\u001b[0m\u001b[0;34m:\u001b[0m\u001b[0;34m\u001b[0m\u001b[0;34m\u001b[0m\u001b[0m\n\u001b[0;32m-> 1158\u001b[0;31m         \u001b[0mself\u001b[0m\u001b[0;34m.\u001b[0m\u001b[0mfc\u001b[0m\u001b[0;34m.\u001b[0m\u001b[0mconnect\u001b[0m\u001b[0;34m(\u001b[0m\u001b[0mverbose\u001b[0m\u001b[0;34m=\u001b[0m\u001b[0mverbose\u001b[0m\u001b[0;34m)\u001b[0m\u001b[0;34m\u001b[0m\u001b[0;34m\u001b[0m\u001b[0m\n\u001b[0m\u001b[1;32m   1159\u001b[0m \u001b[0;34m\u001b[0m\u001b[0m\n\u001b[1;32m   1160\u001b[0m     \u001b[0;32mdef\u001b[0m \u001b[0mto_json\u001b[0m\u001b[0;34m(\u001b[0m\u001b[0mself\u001b[0m\u001b[0;34m)\u001b[0m\u001b[0;34m:\u001b[0m\u001b[0;34m\u001b[0m\u001b[0;34m\u001b[0m\u001b[0m\n",
      "\u001b[0;32m~/miniconda3/envs/BTE/lib/python3.7/site-packages/biothings_explorer/user_query_dispatcher.py\u001b[0m in \u001b[0;36mconnect\u001b[0;34m(self, verbose)\u001b[0m\n\u001b[1;32m    885\u001b[0m                     ):\n\u001b[1;32m    886\u001b[0m                         \u001b[0moutput_cls\u001b[0m \u001b[0;34m=\u001b[0m \u001b[0;34m[\u001b[0m\u001b[0moutput_cls\u001b[0m\u001b[0;34m]\u001b[0m\u001b[0;34m\u001b[0m\u001b[0;34m\u001b[0m\u001b[0m\n\u001b[0;32m--> 887\u001b[0;31m                     \u001b[0m_output\u001b[0m \u001b[0;34m=\u001b[0m \u001b[0;34m\" AND \"\u001b[0m\u001b[0;34m.\u001b[0m\u001b[0mjoin\u001b[0m\u001b[0;34m(\u001b[0m\u001b[0moutput_cls\u001b[0m\u001b[0;34m)\u001b[0m \u001b[0;34m+\u001b[0m \u001b[0;34m\" entities\"\u001b[0m\u001b[0;34m\u001b[0m\u001b[0;34m\u001b[0m\u001b[0m\n\u001b[0m\u001b[1;32m    888\u001b[0m                 \u001b[0mself\u001b[0m\u001b[0;34m.\u001b[0m\u001b[0moutput_ids\u001b[0m\u001b[0;34m[\u001b[0m\u001b[0mstr\u001b[0m\u001b[0;34m(\u001b[0m\u001b[0mi\u001b[0m \u001b[0;34m+\u001b[0m \u001b[0;36m1\u001b[0m\u001b[0;34m)\u001b[0m\u001b[0;34m]\u001b[0m \u001b[0;34m=\u001b[0m \u001b[0;34m{\u001b[0m\u001b[0;34m}\u001b[0m\u001b[0;34m\u001b[0m\u001b[0;34m\u001b[0m\u001b[0m\n\u001b[1;32m    889\u001b[0m                 \u001b[0;32mif\u001b[0m \u001b[0mequivalent_ids\u001b[0m\u001b[0;34m:\u001b[0m\u001b[0;34m\u001b[0m\u001b[0;34m\u001b[0m\u001b[0m\n",
      "\u001b[0;31mTypeError\u001b[0m: sequence item 0: expected str instance, dict found"
     ]
    }
   ],
   "source": [
    "fc1 = FindConnection(input_obj = LaforaInput, output_obj = 'PhenotypicFeature', \\\n",
    "                    intermediate_nodes = DravetOutput)\n",
    "fc1.connect(verbose = True)"
   ]
  },
  {
   "cell_type": "markdown",
   "metadata": {},
   "source": [
    "### Output_obj can't be a list of entities - not matching the FindConnection() help"
   ]
  },
  {
   "cell_type": "code",
   "execution_count": 9,
   "metadata": {},
   "outputs": [
    {
     "name": "stdout",
     "output_type": "stream",
     "text": [
      "==========\n",
      "========== QUERY PARAMETER SUMMARY ==========\n",
      "==========\n",
      "\n",
      "BTE will find paths that join 'Lafora disease' and '['CellularComponent', 'AnatomicalFeature']'.                   Paths will have 0 intermediate node.\n",
      "\n"
     ]
    },
    {
     "ename": "TypeError",
     "evalue": "sequence item 0: expected str instance, list found",
     "output_type": "error",
     "traceback": [
      "\u001b[0;31m---------------------------------------------------------------------------\u001b[0m",
      "\u001b[0;31mTypeError\u001b[0m                                 Traceback (most recent call last)",
      "\u001b[0;32m<ipython-input-9-4ff628b99934>\u001b[0m in \u001b[0;36m<module>\u001b[0;34m\u001b[0m\n\u001b[1;32m      2\u001b[0m                      \u001b[0moutput_obj\u001b[0m \u001b[0;34m=\u001b[0m \u001b[0;34m[\u001b[0m\u001b[0;34m'CellularComponent'\u001b[0m\u001b[0;34m,\u001b[0m \u001b[0;34m'AnatomicalFeature'\u001b[0m\u001b[0;34m]\u001b[0m\u001b[0;34m,\u001b[0m\u001b[0;31m \u001b[0m\u001b[0;31m\\\u001b[0m\u001b[0;34m\u001b[0m\u001b[0;34m\u001b[0m\u001b[0m\n\u001b[1;32m      3\u001b[0m                     intermediate_nodes = None)\n\u001b[0;32m----> 4\u001b[0;31m \u001b[0mfc2\u001b[0m\u001b[0;34m.\u001b[0m\u001b[0mconnect\u001b[0m\u001b[0;34m(\u001b[0m\u001b[0mverbose\u001b[0m \u001b[0;34m=\u001b[0m \u001b[0;32mTrue\u001b[0m\u001b[0;34m)\u001b[0m\u001b[0;34m\u001b[0m\u001b[0;34m\u001b[0m\u001b[0m\n\u001b[0m",
      "\u001b[0;32m~/miniconda3/envs/BTE/lib/python3.7/site-packages/biothings_explorer/user_query_dispatcher.py\u001b[0m in \u001b[0;36mconnect\u001b[0;34m(self, verbose)\u001b[0m\n\u001b[1;32m   1156\u001b[0m \u001b[0;34m\u001b[0m\u001b[0m\n\u001b[1;32m   1157\u001b[0m     \u001b[0;32mdef\u001b[0m \u001b[0mconnect\u001b[0m\u001b[0;34m(\u001b[0m\u001b[0mself\u001b[0m\u001b[0;34m,\u001b[0m \u001b[0mverbose\u001b[0m\u001b[0;34m=\u001b[0m\u001b[0;32mFalse\u001b[0m\u001b[0;34m)\u001b[0m\u001b[0;34m:\u001b[0m\u001b[0;34m\u001b[0m\u001b[0;34m\u001b[0m\u001b[0m\n\u001b[0;32m-> 1158\u001b[0;31m         \u001b[0mself\u001b[0m\u001b[0;34m.\u001b[0m\u001b[0mfc\u001b[0m\u001b[0;34m.\u001b[0m\u001b[0mconnect\u001b[0m\u001b[0;34m(\u001b[0m\u001b[0mverbose\u001b[0m\u001b[0;34m=\u001b[0m\u001b[0mverbose\u001b[0m\u001b[0;34m)\u001b[0m\u001b[0;34m\u001b[0m\u001b[0;34m\u001b[0m\u001b[0m\n\u001b[0m\u001b[1;32m   1159\u001b[0m \u001b[0;34m\u001b[0m\u001b[0m\n\u001b[1;32m   1160\u001b[0m     \u001b[0;32mdef\u001b[0m \u001b[0mto_json\u001b[0m\u001b[0;34m(\u001b[0m\u001b[0mself\u001b[0m\u001b[0;34m)\u001b[0m\u001b[0;34m:\u001b[0m\u001b[0;34m\u001b[0m\u001b[0;34m\u001b[0m\u001b[0m\n",
      "\u001b[0;32m~/miniconda3/envs/BTE/lib/python3.7/site-packages/biothings_explorer/user_query_dispatcher.py\u001b[0m in \u001b[0;36mconnect\u001b[0;34m(self, verbose)\u001b[0m\n\u001b[1;32m    885\u001b[0m                     ):\n\u001b[1;32m    886\u001b[0m                         \u001b[0moutput_cls\u001b[0m \u001b[0;34m=\u001b[0m \u001b[0;34m[\u001b[0m\u001b[0moutput_cls\u001b[0m\u001b[0;34m]\u001b[0m\u001b[0;34m\u001b[0m\u001b[0;34m\u001b[0m\u001b[0m\n\u001b[0;32m--> 887\u001b[0;31m                     \u001b[0m_output\u001b[0m \u001b[0;34m=\u001b[0m \u001b[0;34m\" AND \"\u001b[0m\u001b[0;34m.\u001b[0m\u001b[0mjoin\u001b[0m\u001b[0;34m(\u001b[0m\u001b[0moutput_cls\u001b[0m\u001b[0;34m)\u001b[0m \u001b[0;34m+\u001b[0m \u001b[0;34m\" entities\"\u001b[0m\u001b[0;34m\u001b[0m\u001b[0;34m\u001b[0m\u001b[0m\n\u001b[0m\u001b[1;32m    888\u001b[0m                 \u001b[0mself\u001b[0m\u001b[0;34m.\u001b[0m\u001b[0moutput_ids\u001b[0m\u001b[0;34m[\u001b[0m\u001b[0mstr\u001b[0m\u001b[0;34m(\u001b[0m\u001b[0mi\u001b[0m \u001b[0;34m+\u001b[0m \u001b[0;36m1\u001b[0m\u001b[0;34m)\u001b[0m\u001b[0;34m]\u001b[0m \u001b[0;34m=\u001b[0m \u001b[0;34m{\u001b[0m\u001b[0;34m}\u001b[0m\u001b[0;34m\u001b[0m\u001b[0;34m\u001b[0m\u001b[0m\n\u001b[1;32m    889\u001b[0m                 \u001b[0;32mif\u001b[0m \u001b[0mequivalent_ids\u001b[0m\u001b[0;34m:\u001b[0m\u001b[0;34m\u001b[0m\u001b[0;34m\u001b[0m\u001b[0m\n",
      "\u001b[0;31mTypeError\u001b[0m: sequence item 0: expected str instance, list found"
     ]
    }
   ],
   "source": [
    "fc2 = FindConnection(input_obj = LaforaInput,\\\n",
    "                     output_obj = ['CellularComponent', 'AnatomicalFeature'], \\\n",
    "                    intermediate_nodes = None)\n",
    "fc2.connect(verbose = True)"
   ]
  },
  {
   "cell_type": "markdown",
   "metadata": {},
   "source": [
    "### EXPLAIN: unexpected behavior when trying for > 1 intermediate node "
   ]
  },
  {
   "cell_type": "markdown",
   "metadata": {},
   "source": [
    "If the output_obj is a specific biomedical entity ('Explain' type query), there can only be one intermediate node - not matching the FindConnection() help. \n",
    "\n",
    "Notice now the parameter syntax gets resolved unexpectedly...and the contradicting/erroneous verbose output. The result matches this workflow: Lafora disease -> Phenotypic feature or gene <- Dravet syndrome. The table output has a wrong column (output_type being Gene rather than Disease). "
   ]
  },
  {
   "cell_type": "code",
   "execution_count": 10,
   "metadata": {},
   "outputs": [
    {
     "name": "stdout",
     "output_type": "stream",
     "text": [
      "==========\n",
      "========== QUERY PARAMETER SUMMARY ==========\n",
      "==========\n",
      "\n",
      "BTE will find paths that join 'Lafora disease' and 'Dravet syndrome'. Paths will have 2 intermediate node.\n",
      "\n",
      "Intermediate node #1 will have these type constraints: PhenotypicFeature,Gene\n",
      "\n",
      "\n",
      "Intermediate node #2 will have these type constraints: PhenotypicFeature,Gene\n",
      "\n",
      "\n",
      "==========\n",
      "========== QUERY #1 -- fetch all PhenotypicFeature AND Gene entities linked to 'Lafora disease' ==========\n",
      "==========\n",
      "\n",
      "==== Step #1: Query path planning ====\n",
      "\n",
      "Because Lafora disease is of type 'Disease', BTE will query our meta-KG for APIs that can take 'Disease' as input and 'PhenotypicFeature AND Gene' as output\n",
      "\n",
      "BTE found 10 apis:\n",
      "\n",
      "API 1. cord_disease(1 API call)\n",
      "API 2. DISEASES(1 API call)\n",
      "API 3. mgi_gene2phenotype(1 API call)\n",
      "API 4. pharos(1 API call)\n",
      "API 5. semmed_disease(15 API calls)\n",
      "API 6. scigraph(1 API call)\n",
      "API 7. mydisease(2 API calls)\n",
      "API 8. scibite(1 API call)\n",
      "API 9. biolink(2 API calls)\n",
      "API 10. hetio(1 API call)\n",
      "\n",
      "\n",
      "==== Step #2: Query path execution ====\n",
      "NOTE: API requests are dispatched in parallel, so the list of APIs below is ordered by query time.\n",
      "\n",
      "API 7.2: https://mydisease.info/v1/query?fields=disgenet.genes_related_to_disease.gene_id (POST -d q=C0751784,C0751783&scopes=mondo.xrefs.umls, disgenet.xrefs.umls)\n",
      "API 7.1: https://mydisease.info/v1/query?fields=hpo.phenotype_related_to_disease (POST -d q=254780&scopes=hpo.omim)\n",
      "API 9.1: https://biothings.ncats.io/cord_disease/query?fields=associated_with (POST -d q=DOID:3534&scopes=doid)\n",
      "API 5.5: https://biothings.ncats.io/semmed/query?fields=disrupted_by (POST -d q=C0751784,C0751783&scopes=umls)\n",
      "API 5.1: https://biothings.ncats.io/semmed/query?fields=affected_by (POST -d q=C0751784,C0751783&scopes=umls)\n",
      "API 5.9: https://biothings.ncats.io/semmed/query?fields=treated_by (POST -d q=C0751784,C0751783&scopes=umls)\n",
      "API 5.10: https://biothings.ncats.io/semmed/query?fields=positively_regulated_by (POST -d q=C0751784,C0751783&scopes=umls)\n",
      "API 5.2: https://biothings.ncats.io/semmed/query?fields=affects (POST -d q=C0751784,C0751783&scopes=umls)\n",
      "API 5.14: https://biothings.ncats.io/semmed/query?fields=disrupts (POST -d q=C0751784,C0751783&scopes=umls)\n",
      "API 5.11: https://biothings.ncats.io/semmed/query?fields=derives_from (POST -d q=C0751784,C0751783&scopes=umls)\n",
      "API 5.6: https://biothings.ncats.io/semmed/query?fields=positively_regulates (POST -d q=C0751784,C0751783&scopes=umls)\n",
      "API 5.8: https://biothings.ncats.io/semmed/query?fields=caused_by (POST -d q=C0751784,C0751783&scopes=umls)\n",
      "API 5.13: https://biothings.ncats.io/semmed/query?fields=related_to (POST -d q=C0751784,C0751783&scopes=umls)\n",
      "API 5.7: https://biothings.ncats.io/semmed/query?fields=physically_interacts_with (POST -d q=C0751784,C0751783&scopes=umls)\n",
      "API 5.12: https://biothings.ncats.io/semmed/query?fields=negatively_regulates (POST -d q=C0751784,C0751783&scopes=umls)\n",
      "API 5.4: https://biothings.ncats.io/semmed/query?fields=prevented_by (POST -d q=C0751784,C0751783&scopes=umls)\n",
      "API 5.3: https://biothings.ncats.io/semmed/query?fields=coexists_with (POST -d q=C0751784,C0751783&scopes=umls)\n",
      "API 1.1: https://pending.biothings.io/DISEASES/query?fields=DISEASES.associatedWith (POST -d q=DOID:3534&scopes=DISEASES.doid)\n",
      "API 5.15: https://biothings.ncats.io/semmed/query?fields=negatively_regulated_by (POST -d q=C0751784,C0751783&scopes=umls)\n",
      "API 2.1: https://pending.biothings.io/mgigene2phenotype/query?fields=_id&size=300 (POST -d q=DOID:3534&scopes=mgi.associated_with_disease.doid)\n",
      "API 4.2: https://api.monarchinitiative.org/api/bioentity/disease/MONDO:0009697/genes?rows=200\n",
      "API 4.1: https://api.monarchinitiative.org/api/bioentity/disease/MONDO:0009697/phenotypes?rows=200\n",
      "API 8.1: https://automat.renci.org/cord19_scibite_v2/disease/gene/MONDO:0009697\n",
      "API 8.1 scibite failed\n",
      "API 6.1: https://automat.renci.org/cord19_scigraph_v2/disease/gene/MONDO:0009697\n",
      "API 6.1 scigraph failed\n",
      "API 3.1: https://automat.renci.org/pharos/disease/gene/MONDO:0009697\n",
      "API 10.1: https://automat.renci.org/hetio/disease/gene/MONDO:0009697\n",
      "\n",
      "\n",
      "==== Step #3: Output normalization ====\n",
      "\n",
      "API 2.1 mgi_gene2phenotype: 2 hits\n",
      "API 5.1 semmed_disease: 1 hits\n",
      "API 5.2 semmed_disease: No hits\n",
      "API 5.3 semmed_disease: No hits\n",
      "API 1.1 DISEASES: 15 hits\n",
      "API 5.4 semmed_disease: No hits\n",
      "API 5.5 semmed_disease: No hits\n",
      "API 5.6 semmed_disease: No hits\n",
      "API 5.7 semmed_disease: No hits\n",
      "API 5.8 semmed_disease: 8 hits\n",
      "API 5.9 semmed_disease: 5 hits\n",
      "API 5.10 semmed_disease: No hits\n",
      "API 3.1 pharos: 5 hits\n",
      "API 4.1 biolink: 40 hits\n",
      "API 5.11 semmed_disease: No hits\n",
      "API 7.1 mydisease: 20 hits\n",
      "API 9.1 cord_disease: No hits\n",
      "API 10.1 hetio: No hits\n",
      "API 5.12 semmed_disease: No hits\n",
      "API 5.13 semmed_disease: 12 hits\n",
      "API 7.2 mydisease: 4 hits\n",
      "API 5.14 semmed_disease: No hits\n",
      "API 4.2 biolink: 2 hits\n",
      "API 5.15 semmed_disease: No hits\n",
      "\n",
      "After id-to-object translation, BTE retrieved 79 unique objects.\n",
      "\n",
      "\n",
      "==========\n",
      "========== QUERY #2 -- fetch all PhenotypicFeature AND Gene entities linked to 'Dravet syndrome' ==========\n",
      "==========\n",
      "\n",
      "==== Step #1: Query path planning ====\n",
      "\n",
      "Because Dravet syndrome is of type 'Disease', BTE will query our meta-KG for APIs that can take 'Disease' as input and 'PhenotypicFeature AND Gene' as output\n",
      "\n",
      "BTE found 10 apis:\n",
      "\n",
      "API 1. cord_disease(1 API call)\n",
      "API 2. DISEASES(1 API call)\n",
      "API 3. mgi_gene2phenotype(1 API call)\n",
      "API 4. pharos(1 API call)\n",
      "API 5. semmed_disease(15 API calls)\n",
      "API 6. scigraph(1 API call)\n",
      "API 7. mydisease(1 API call)\n",
      "API 8. scibite(1 API call)\n",
      "API 9. biolink(2 API calls)\n",
      "API 10. hetio(1 API call)\n",
      "\n",
      "\n",
      "==== Step #2: Query path execution ====\n",
      "NOTE: API requests are dispatched in parallel, so the list of APIs below is ordered by query time.\n",
      "\n",
      "API 7.1: https://mydisease.info/v1/query?fields=disgenet.genes_related_to_disease.gene_id (POST -d q=C0751122&scopes=mondo.xrefs.umls, disgenet.xrefs.umls)\n",
      "API 4.2: https://api.monarchinitiative.org/api/bioentity/disease/MONDO:0100135/genes?rows=200\n",
      "API 2.1: https://pending.biothings.io/mgigene2phenotype/query?fields=_id&size=300 (POST -d q=DOID:0060171&scopes=mgi.associated_with_disease.doid)\n",
      "API 4.1: https://api.monarchinitiative.org/api/bioentity/disease/MONDO:0100135/phenotypes?rows=200\n",
      "API 9.1: https://biothings.ncats.io/cord_disease/query?fields=associated_with (POST -d q=DOID:0060171&scopes=doid)\n",
      "API 5.12: https://biothings.ncats.io/semmed/query?fields=negatively_regulates (POST -d q=C0751122&scopes=umls)\n",
      "API 5.4: https://biothings.ncats.io/semmed/query?fields=prevented_by (POST -d q=C0751122&scopes=umls)\n",
      "API 5.6: https://biothings.ncats.io/semmed/query?fields=positively_regulates (POST -d q=C0751122&scopes=umls)\n",
      "API 5.7: https://biothings.ncats.io/semmed/query?fields=physically_interacts_with (POST -d q=C0751122&scopes=umls)\n",
      "API 5.14: https://biothings.ncats.io/semmed/query?fields=disrupts (POST -d q=C0751122&scopes=umls)\n",
      "API 5.9: https://biothings.ncats.io/semmed/query?fields=treated_by (POST -d q=C0751122&scopes=umls)\n",
      "API 5.11: https://biothings.ncats.io/semmed/query?fields=derives_from (POST -d q=C0751122&scopes=umls)\n",
      "API 5.13: https://biothings.ncats.io/semmed/query?fields=related_to (POST -d q=C0751122&scopes=umls)\n",
      "API 5.2: https://biothings.ncats.io/semmed/query?fields=affects (POST -d q=C0751122&scopes=umls)\n",
      "API 1.1: https://pending.biothings.io/DISEASES/query?fields=DISEASES.associatedWith (POST -d q=DOID:0060171&scopes=DISEASES.doid)\n",
      "API 5.15: https://biothings.ncats.io/semmed/query?fields=negatively_regulated_by (POST -d q=C0751122&scopes=umls)\n",
      "API 5.10: https://biothings.ncats.io/semmed/query?fields=positively_regulated_by (POST -d q=C0751122&scopes=umls)\n",
      "API 5.3: https://biothings.ncats.io/semmed/query?fields=coexists_with (POST -d q=C0751122&scopes=umls)\n",
      "API 5.5: https://biothings.ncats.io/semmed/query?fields=disrupted_by (POST -d q=C0751122&scopes=umls)\n",
      "API 5.8: https://biothings.ncats.io/semmed/query?fields=caused_by (POST -d q=C0751122&scopes=umls)\n",
      "API 5.1: https://biothings.ncats.io/semmed/query?fields=affected_by (POST -d q=C0751122&scopes=umls)\n",
      "API 8.1: https://automat.renci.org/cord19_scibite_v2/disease/gene/MONDO:0100135\n",
      "API 8.1 scibite failed\n",
      "API 6.1: https://automat.renci.org/cord19_scigraph_v2/disease/gene/MONDO:0100135\n",
      "API 6.1 scigraph failed\n",
      "API 3.1: https://automat.renci.org/pharos/disease/gene/MONDO:0100135\n",
      "API 10.1: https://automat.renci.org/hetio/disease/gene/MONDO:0100135\n",
      "\n",
      "\n",
      "==== Step #3: Output normalization ====\n",
      "\n",
      "API 2.1 mgi_gene2phenotype: No hits\n",
      "API 5.1 semmed_disease: No hits\n",
      "API 5.2 semmed_disease: No hits\n",
      "API 5.3 semmed_disease: No hits\n",
      "API 1.1 DISEASES: No hits\n",
      "API 5.4 semmed_disease: No hits\n",
      "API 5.5 semmed_disease: No hits\n",
      "API 5.6 semmed_disease: No hits\n",
      "API 5.7 semmed_disease: No hits\n",
      "API 5.8 semmed_disease: 2 hits\n",
      "API 5.9 semmed_disease: 2 hits\n",
      "API 5.10 semmed_disease: No hits\n",
      "API 3.1 pharos: No hits\n",
      "API 4.1 biolink: No hits\n",
      "API 5.11 semmed_disease: No hits\n",
      "API 9.1 cord_disease: No hits\n",
      "API 10.1 hetio: No hits\n",
      "API 5.12 semmed_disease: No hits\n",
      "API 5.13 semmed_disease: 2 hits\n",
      "API 7.1 mydisease: No hits\n",
      "API 5.14 semmed_disease: No hits\n",
      "API 4.2 biolink: No hits\n",
      "API 5.15 semmed_disease: No hits\n"
     ]
    },
    {
     "name": "stdout",
     "output_type": "stream",
     "text": [
      "\n",
      "After id-to-object translation, BTE retrieved 4 unique objects.\n",
      "\n",
      "==========\n",
      "========== Final assembly of results ==========\n",
      "==========\n",
      "\n",
      "\n",
      "BTE found 3 unique intermediate nodes connecting 'Lafora disease' and 'Dravet syndrome'\n"
     ]
    },
    {
     "data": {
      "text/html": [
       "<div>\n",
       "<style scoped>\n",
       "    .dataframe tbody tr th:only-of-type {\n",
       "        vertical-align: middle;\n",
       "    }\n",
       "\n",
       "    .dataframe tbody tr th {\n",
       "        vertical-align: top;\n",
       "    }\n",
       "\n",
       "    .dataframe thead th {\n",
       "        text-align: right;\n",
       "    }\n",
       "</style>\n",
       "<table border=\"1\" class=\"dataframe\">\n",
       "  <thead>\n",
       "    <tr style=\"text-align: right;\">\n",
       "      <th></th>\n",
       "      <th>input</th>\n",
       "      <th>input_type</th>\n",
       "      <th>pred1</th>\n",
       "      <th>pred1_source</th>\n",
       "      <th>pred1_api</th>\n",
       "      <th>pred1_pubmed</th>\n",
       "      <th>node1_type</th>\n",
       "      <th>node1_name</th>\n",
       "      <th>node1_id</th>\n",
       "      <th>pred2</th>\n",
       "      <th>pred2_source</th>\n",
       "      <th>pred2_api</th>\n",
       "      <th>pred2_pubmed</th>\n",
       "      <th>output_type</th>\n",
       "      <th>output_name</th>\n",
       "      <th>output_id</th>\n",
       "    </tr>\n",
       "  </thead>\n",
       "  <tbody>\n",
       "    <tr>\n",
       "      <th>0</th>\n",
       "      <td>LAFORA BODY DISEASE, LATE ONSET</td>\n",
       "      <td>Disease</td>\n",
       "      <td>treated_by</td>\n",
       "      <td>SEMMED</td>\n",
       "      <td>SEMMED Disease API</td>\n",
       "      <td>11354978,9989632</td>\n",
       "      <td>Gene</td>\n",
       "      <td>C0017337</td>\n",
       "      <td>UMLS:C0017337</td>\n",
       "      <td>caused_by</td>\n",
       "      <td>SEMMED</td>\n",
       "      <td>SEMMED Disease API</td>\n",
       "      <td>12821740</td>\n",
       "      <td>Gene</td>\n",
       "      <td>DRAVET SYNDROME</td>\n",
       "      <td>MONDO:MONDO:0100135</td>\n",
       "    </tr>\n",
       "    <tr>\n",
       "      <th>1</th>\n",
       "      <td>LAFORA BODY DISEASE, LATE ONSET</td>\n",
       "      <td>Disease</td>\n",
       "      <td>related_to</td>\n",
       "      <td>SEMMED</td>\n",
       "      <td>SEMMED Disease API</td>\n",
       "      <td>11175283,18617530,23922729</td>\n",
       "      <td>Gene</td>\n",
       "      <td>C0017337</td>\n",
       "      <td>UMLS:C0017337</td>\n",
       "      <td>caused_by</td>\n",
       "      <td>SEMMED</td>\n",
       "      <td>SEMMED Disease API</td>\n",
       "      <td>12821740</td>\n",
       "      <td>Gene</td>\n",
       "      <td>DRAVET SYNDROME</td>\n",
       "      <td>MONDO:MONDO:0100135</td>\n",
       "    </tr>\n",
       "    <tr>\n",
       "      <th>2</th>\n",
       "      <td>LAFORA BODY DISEASE, LATE ONSET</td>\n",
       "      <td>Disease</td>\n",
       "      <td>treated_by</td>\n",
       "      <td>SEMMED</td>\n",
       "      <td>SEMMED Disease API</td>\n",
       "      <td>11354978,9989632</td>\n",
       "      <td>Gene</td>\n",
       "      <td>C0017337</td>\n",
       "      <td>UMLS:C0017337</td>\n",
       "      <td>treated_by</td>\n",
       "      <td>SEMMED</td>\n",
       "      <td>SEMMED Disease API</td>\n",
       "      <td>11940708</td>\n",
       "      <td>Gene</td>\n",
       "      <td>DRAVET SYNDROME</td>\n",
       "      <td>MONDO:MONDO:0100135</td>\n",
       "    </tr>\n",
       "    <tr>\n",
       "      <th>3</th>\n",
       "      <td>LAFORA BODY DISEASE, LATE ONSET</td>\n",
       "      <td>Disease</td>\n",
       "      <td>related_to</td>\n",
       "      <td>SEMMED</td>\n",
       "      <td>SEMMED Disease API</td>\n",
       "      <td>11175283,18617530,23922729</td>\n",
       "      <td>Gene</td>\n",
       "      <td>C0017337</td>\n",
       "      <td>UMLS:C0017337</td>\n",
       "      <td>treated_by</td>\n",
       "      <td>SEMMED</td>\n",
       "      <td>SEMMED Disease API</td>\n",
       "      <td>11940708</td>\n",
       "      <td>Gene</td>\n",
       "      <td>DRAVET SYNDROME</td>\n",
       "      <td>MONDO:MONDO:0100135</td>\n",
       "    </tr>\n",
       "  </tbody>\n",
       "</table>\n",
       "</div>"
      ],
      "text/plain": [
       "                             input input_type       pred1 pred1_source  \\\n",
       "0  LAFORA BODY DISEASE, LATE ONSET    Disease  treated_by       SEMMED   \n",
       "1  LAFORA BODY DISEASE, LATE ONSET    Disease  related_to       SEMMED   \n",
       "2  LAFORA BODY DISEASE, LATE ONSET    Disease  treated_by       SEMMED   \n",
       "3  LAFORA BODY DISEASE, LATE ONSET    Disease  related_to       SEMMED   \n",
       "\n",
       "            pred1_api                pred1_pubmed node1_type node1_name  \\\n",
       "0  SEMMED Disease API            11354978,9989632       Gene   C0017337   \n",
       "1  SEMMED Disease API  11175283,18617530,23922729       Gene   C0017337   \n",
       "2  SEMMED Disease API            11354978,9989632       Gene   C0017337   \n",
       "3  SEMMED Disease API  11175283,18617530,23922729       Gene   C0017337   \n",
       "\n",
       "        node1_id       pred2 pred2_source           pred2_api pred2_pubmed  \\\n",
       "0  UMLS:C0017337   caused_by       SEMMED  SEMMED Disease API     12821740   \n",
       "1  UMLS:C0017337   caused_by       SEMMED  SEMMED Disease API     12821740   \n",
       "2  UMLS:C0017337  treated_by       SEMMED  SEMMED Disease API     11940708   \n",
       "3  UMLS:C0017337  treated_by       SEMMED  SEMMED Disease API     11940708   \n",
       "\n",
       "  output_type      output_name            output_id  \n",
       "0        Gene  DRAVET SYNDROME  MONDO:MONDO:0100135  \n",
       "1        Gene  DRAVET SYNDROME  MONDO:MONDO:0100135  \n",
       "2        Gene  DRAVET SYNDROME  MONDO:MONDO:0100135  \n",
       "3        Gene  DRAVET SYNDROME  MONDO:MONDO:0100135  "
      ]
     },
     "execution_count": 10,
     "metadata": {},
     "output_type": "execute_result"
    }
   ],
   "source": [
    "fc3 = FindConnection(input_obj = LaforaInput, output_obj = DravetOutput, \\\n",
    "                    intermediate_nodes = ['PhenotypicFeature', 'Gene'])  \n",
    "## trying to get two intermediate nodes\n",
    "fc3.connect(verbose=True)\n",
    "df3 = fc3.display_table_view()\n",
    "df3"
   ]
  },
  {
   "cell_type": "markdown",
   "metadata": {},
   "source": [
    "Notice that the only results were shared genes and not shared phenotypes, even though both are seizure-related disorders. I believe that this is because of [an issue with MONDO where Dravet Syndrome has no phenotypes](https://monarchinitiative.org/disease/MONDO:0100135) but [another more general disease term with Dravet Syndrome in the description does have phenotypes](https://monarchinitiative.org/disease/MONDO:0018214)."
   ]
  },
  {
   "cell_type": "code",
   "execution_count": null,
   "metadata": {},
   "outputs": [],
   "source": []
  }
 ],
 "metadata": {
  "kernelspec": {
   "display_name": "Python 3",
   "language": "python",
   "name": "python3"
  },
  "language_info": {
   "codemirror_mode": {
    "name": "ipython",
    "version": 3
   },
   "file_extension": ".py",
   "mimetype": "text/x-python",
   "name": "python",
   "nbconvert_exporter": "python",
   "pygments_lexer": "ipython3",
   "version": "3.7.8"
  },
  "toc": {
   "base_numbering": 1,
   "nav_menu": {},
   "number_sections": true,
   "sideBar": true,
   "skip_h1_title": true,
   "title_cell": "Table of Contents",
   "title_sidebar": "Contents",
   "toc_cell": false,
   "toc_position": {
    "height": "calc(100% - 180px)",
    "left": "10px",
    "top": "150px",
    "width": "218.4px"
   },
   "toc_section_display": true,
   "toc_window_display": true
  },
  "varInspector": {
   "cols": {
    "lenName": 16,
    "lenType": 16,
    "lenVar": 40
   },
   "kernels_config": {
    "python": {
     "delete_cmd_postfix": "",
     "delete_cmd_prefix": "del ",
     "library": "var_list.py",
     "varRefreshCmd": "print(var_dic_list())"
    },
    "r": {
     "delete_cmd_postfix": ") ",
     "delete_cmd_prefix": "rm(",
     "library": "var_list.r",
     "varRefreshCmd": "cat(var_dic_list()) "
    }
   },
   "types_to_exclude": [
    "module",
    "function",
    "builtin_function_or_method",
    "instance",
    "_Feature"
   ],
   "window_display": false
  }
 },
 "nbformat": 4,
 "nbformat_minor": 4
}
